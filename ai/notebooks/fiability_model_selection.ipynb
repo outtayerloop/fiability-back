{
 "cells": [
  {
   "cell_type": "markdown",
   "source": [
    "# FIAbility fake news classification"
   ],
   "metadata": {
    "id": "GOwD6pxK3rkw",
    "cell_id": "e927ec1a-4d57-4fe6-831e-bb8c9e636352",
    "deepnote_cell_type": "markdown"
   }
  },
  {
   "cell_type": "markdown",
   "source": [
    "# Clean & Save Data"
   ],
   "metadata": {
    "id": "NFTwYDnf3rk8",
    "cell_id": "00018-70b3b648-0064-48ef-8fee-c4b66064d5fa",
    "deepnote_cell_type": "markdown"
   }
  },
  {
   "cell_type": "code",
   "metadata": {
    "colab": {
     "base_uri": "https://localhost:8080/"
    },
    "id": "n2OLEHpx3rk5",
    "scrolled": true,
    "outputId": "611814b3-77f1-4211-941c-f318f3e2891e",
    "cell_id": "00017-5eda043b-388b-4424-9c18-14ac75541230",
    "deepnote_to_be_reexecuted": false,
    "source_hash": "d1257e83",
    "execution_start": 1643886039505,
    "execution_millis": 10,
    "deepnote_cell_type": "code"
   },
   "source": [
    "## This file has all imports and helper functions used throughout the notebook\n",
    "%run ai/python_helper.py\n",
    "%matplotlib inline"
   ],
   "execution_count": 33,
   "outputs": [
    {
     "name": "stderr",
     "text": "[nltk_data] Downloading package averaged_perceptron_tagger to\n[nltk_data]     /root/nltk_data...\n[nltk_data]   Package averaged_perceptron_tagger is already up-to-\n[nltk_data]       date!\n",
     "output_type": "stream"
    }
   ]
  },
  {
   "cell_type": "markdown",
   "source": [
    "Inspecting the data files, we noticed several issues for processing the traning dataset correctly. Using Regular Expression, we convert all commas between quotations to a pipe, so the CSV parsing works correctly with all values in their correct columns."
   ],
   "metadata": {
    "id": "SlsUXDH13rk9",
    "cell_id": "00019-d6f93f05-95b7-468d-9f7f-c2cd0914aa21",
    "deepnote_cell_type": "markdown"
   }
  },
  {
   "cell_type": "code",
   "metadata": {
    "id": "beuLbCpi3rk-",
    "colab": {
     "base_uri": "https://localhost:8080/",
     "height": 234
    },
    "outputId": "c04808e3-e7dc-4142-b50d-aa810081b183",
    "cell_id": "00020-59d4cfda-4c85-4417-a293-b886f051a082",
    "deepnote_to_be_reexecuted": false,
    "source_hash": "31869e7",
    "execution_start": 1643886039526,
    "execution_millis": 2337,
    "deepnote_cell_type": "code"
   },
   "source": [
    "input_str = open('ai/dataset/fiability_train.csv', encoding= 'utf-8')\n",
    "\n",
    "# Remove all new lines\n",
    "noNewLines = re.sub('\\n', '', input_str.read())\n",
    "\n",
    "# re-add new line at end of each row\n",
    "noNewLines = re.sub('X1,X2', 'X1,X2\\n', noNewLines)\n",
    "  \n",
    "\n",
    "noNewLines = re.sub(',FAKE[,]+', ',FAKE,,\\n', noNewLines)\n",
    "  \n",
    "noNewLines = re.sub(',REAL[,]+', ',REAL,,\\n', noNewLines)\n",
    "  \n",
    "\n",
    "# Replace any commas between two quotes with |\n",
    "lines = noNewLines.split('\\n')\n",
    "\n",
    "def removeComma(g):\n",
    "      t = g.groups()\n",
    "      t = [t[0], t[1].replace(',', ' |'), t[2], t[3]]\n",
    "      return \"\".join(t)\n",
    "\n",
    "betweenQuotes = lambda line: re.sub(r'(.*,\")(.*)(\",)(.*)', lambda x: removeComma(x), line)\n",
    "\n",
    "secondCol = lambda line: re.sub(r'^([0-9]+,)(.*,.*)(,\\\")(.*)$', lambda x: removeComma(x), line, 1)\n",
    "\n",
    "\n",
    "lines = [betweenQuotes(l) for l in lines]\n",
    "lines = [secondCol(l) for l in lines]\n",
    "\n",
    "finalString = '\\n'.join(lines)"
   ],
   "execution_count": 34,
   "outputs": []
  },
  {
   "cell_type": "markdown",
   "source": [
    "### Save cleaned file"
   ],
   "metadata": {
    "id": "PI3dRe5u3rlA",
    "cell_id": "00021-f61cc7e2-83c5-44dd-b695-edc9a680497d",
    "deepnote_cell_type": "markdown"
   }
  },
  {
   "cell_type": "code",
   "metadata": {
    "id": "EcZ77rWV3rlB",
    "cell_id": "00022-c062771d-db68-4353-b213-b492f0e83ce9",
    "deepnote_to_be_reexecuted": false,
    "source_hash": "13603f03",
    "execution_start": 1643886041873,
    "execution_millis": 123,
    "deepnote_cell_type": "code"
   },
   "source": [
    "file = open('ai/dataset/fiability_train_cleaned.csv', 'w',encoding= 'utf-8')\n",
    "file.write(finalString)\n",
    "file.close()"
   ],
   "execution_count": 35,
   "outputs": []
  },
  {
   "cell_type": "markdown",
   "source": [
    "# Data Preparation"
   ],
   "metadata": {
    "id": "LBqvq2Px3rlD",
    "cell_id": "00023-2ab95d59-0971-4b8e-bd10-e1fe521ce11a",
    "deepnote_cell_type": "markdown"
   }
  },
  {
   "cell_type": "code",
   "metadata": {
    "id": "dO9UQA9h3rlE",
    "cell_id": "00024-86a4b561-8e3f-40e8-b0c3-070feb1f2fc6",
    "deepnote_to_be_reexecuted": false,
    "source_hash": "e4212859",
    "execution_start": 1643886042023,
    "execution_millis": 641,
    "deepnote_cell_type": "code"
   },
   "source": [
    "train = pd.read_csv('ai/dataset/fiability_train_cleaned.csv')\n",
    "test = pd.read_csv('ai/dataset/fiability_test.csv')"
   ],
   "execution_count": 36,
   "outputs": []
  },
  {
   "cell_type": "code",
   "metadata": {
    "colab": {
     "base_uri": "https://localhost:8080/"
    },
    "id": "C_z94n2e3rlG",
    "outputId": "dc7cc63d-a41a-4cc7-e1bc-4d947c45792d",
    "cell_id": "00025-f3e1beca-f543-4edd-ae4c-d4a20f31b37c",
    "deepnote_output_heights": [
     21.1875
    ],
    "deepnote_to_be_reexecuted": false,
    "source_hash": "4495cc77",
    "execution_start": 1643886042692,
    "execution_millis": 3,
    "deepnote_cell_type": "code"
   },
   "source": [
    "len(train)"
   ],
   "execution_count": 37,
   "outputs": [
    {
     "output_type": "execute_result",
     "execution_count": 37,
     "data": {
      "text/plain": "3997"
     },
     "metadata": {}
    }
   ]
  },
  {
   "cell_type": "code",
   "metadata": {
    "colab": {
     "base_uri": "https://localhost:8080/"
    },
    "id": "AFoTi_k73rlH",
    "outputId": "561688ff-fdcf-4c59-b64e-17fa463d3ce1",
    "cell_id": "00026-f8704f07-a0ba-4fd1-b480-23e95b3f0cbd",
    "deepnote_output_heights": [
     21.1875
    ],
    "deepnote_to_be_reexecuted": false,
    "source_hash": "f941954a",
    "execution_start": 1643886042728,
    "execution_millis": 1795558,
    "deepnote_cell_type": "code"
   },
   "source": [
    "len(test)"
   ],
   "execution_count": 38,
   "outputs": [
    {
     "output_type": "execute_result",
     "execution_count": 38,
     "data": {
      "text/plain": "2321"
     },
     "metadata": {}
    }
   ]
  },
  {
   "cell_type": "code",
   "metadata": {
    "colab": {
     "base_uri": "https://localhost:8080/",
     "height": 206
    },
    "id": "TqV-yjPY3rlI",
    "outputId": "36ed050b-7722-4ecf-82df-cb116b70f2df",
    "cell_id": "00027-1a97c202-de2e-4254-9d8d-212c7bca0cda",
    "deepnote_output_heights": [
     177
    ],
    "deepnote_to_be_reexecuted": false,
    "source_hash": "e1f0b45",
    "execution_start": 1643886042759,
    "execution_millis": 85,
    "deepnote_cell_type": "code"
   },
   "source": [
    "train.head()"
   ],
   "execution_count": 39,
   "outputs": [
    {
     "output_type": "execute_result",
     "execution_count": 39,
     "data": {
      "application/vnd.deepnote.dataframe.v3+json": {
       "column_count": 6,
       "row_count": 5,
       "columns": [
        {
         "name": "ID",
         "dtype": "int64",
         "stats": {
          "unique_count": 5,
          "nan_count": 0,
          "min": "875",
          "max": "10294",
          "histogram": [
           {
            "bin_start": 875,
            "bin_end": 1816.9,
            "count": 1
           },
           {
            "bin_start": 1816.9,
            "bin_end": 2758.8,
            "count": 0
           },
           {
            "bin_start": 2758.8,
            "bin_end": 3700.7,
            "count": 1
           },
           {
            "bin_start": 3700.7,
            "bin_end": 4642.6,
            "count": 0
           },
           {
            "bin_start": 4642.6,
            "bin_end": 5584.5,
            "count": 0
           },
           {
            "bin_start": 5584.5,
            "bin_end": 6526.4,
            "count": 0
           },
           {
            "bin_start": 6526.4,
            "bin_end": 7468.3,
            "count": 0
           },
           {
            "bin_start": 7468.3,
            "bin_end": 8410.2,
            "count": 0
           },
           {
            "bin_start": 8410.2,
            "bin_end": 9352.1,
            "count": 1
           },
           {
            "bin_start": 9352.1,
            "bin_end": 10294,
            "count": 2
           }
          ]
         }
        },
        {
         "name": "title",
         "dtype": "object",
         "stats": {
          "unique_count": 5,
          "nan_count": 0,
          "categories": [
           {
            "name": "You Can Smell Hillary’s Fear",
            "count": 1
           },
           {
            "name": "Watch The Exact Moment Paul Ryan Committed Political Suicide At A Trump Rally (VIDEO)",
            "count": 1
           },
           {
            "name": "3 others",
            "count": 3
           }
          ]
         }
        },
        {
         "name": "text",
         "dtype": "object",
         "stats": {
          "unique_count": 5,
          "nan_count": 0,
          "categories": [
           {
            "name": "Daniel Greenfield | a Shillman Journalism Fellow at the Freedom Center | is a New York writer focusing on radical Islam. In the final stretch of the election | Hillary Rodham Clinton has gone to war with the FBI. The word “unprecedented” has been thrown around so often this election that it ought to be retired. But it’s still unprecedented for the nominee of a major political party to go war with the FBI. But that’s exactly what Hillary and her people have done. Coma patients just waking up now and watching an hour of CNN from their hospital beds would assume that FBI Director James Comey is Hillary’s opponent in this election. The FBI is under attack by everyone from Obama to CNN. Hillary’s people have circulated a letter attacking Comey. There are currently more media hit pieces lambasting him than targeting Trump. It wouldn’t be too surprising if the Clintons or their allies were to start running attack ads against the FBI. The FBI’s leadership is being warned that the entire left-wing establishment will form a lynch mob if they continue going after Hillary. And the FBI’s credibility is being attacked by the media and the Democrats to preemptively head off the results of the investigation of the Clinton Foundation and Hillary Clinton. The covert struggle between FBI agents and Obama’s DOJ people has gone explosively public. The New York Times has compared Comey to J. Edgar Hoover. Its bizarre headline | “James Comey Role Recalls Hoover’s FBI | Fairly or Not” practically admits up front that it’s spouting nonsense. The Boston Globe has published a column calling for Comey’s resignation. Not to be outdone | Time has an editorial claiming that the scandal is really an attack on all women. James Carville appeared on MSNBC to remind everyone that he was still alive and insane. He accused Comey of coordinating with House Republicans and the KGB. And you thought the “vast right wing conspiracy” was a stretch. Countless media stories charge Comey with violating procedure. Do you know what’s a procedural violation? Emailing classified information stored on your bathroom server. Senator Harry Reid has sent Comey a letter accusing him of violating the Hatch Act. The Hatch Act is a nice idea that has as much relevance in the age of Obama as the Tenth Amendment. But the cable news spectrum quickly filled with media hacks glancing at the Wikipedia article on the Hatch Act under the table while accusing the FBI director of one of the most awkward conspiracies against Hillary ever. If James Comey is really out to hurt Hillary | he picked one hell of a strange way to do it. Not too long ago Democrats were breathing a sigh of relief when he gave Hillary Clinton a pass in a prominent public statement. If he really were out to elect Trump by keeping the email scandal going | why did he trash the investigation? Was he on the payroll of House Republicans and the KGB back then and playing it coy or was it a sudden development where Vladimir Putin and Paul Ryan talked him into taking a look at Anthony Weiner’s computer? Either Comey is the most cunning FBI director that ever lived or he’s just awkwardly trying to navigate a political mess that has trapped him between a DOJ leadership whose political futures are tied to Hillary’s victory and his own bureau whose apolitical agents just want to be allowed to do their jobs. The only truly mysterious thing is why Hillary and her associates decided to go to war with a respected Federal agency. Most Americans like the FBI while Hillary Clinton enjoys a 60% unfavorable rating. And it’s an interesting question. Hillary’s old strategy was to lie and deny that the FBI even had a criminal investigation underway. Instead her associates insisted that it was a security review. The FBI corrected her and she shrugged it off. But the old breezy denial approach has given way to a savage assault on the FBI. Pretending that nothing was wrong was a bad strategy | but it was a better one that picking a fight with the FBI while lunatic Clinton associates try to claim that the FBI is really the KGB. There are two possible explanations. Hillary Clinton might be arrogant enough to lash out at the FBI now that she believes that victory is near. The same kind of hubris that led her to plan her victory fireworks display could lead her to declare a war on the FBI for irritating her during the final miles of her campaign. But the other explanation is that her people panicked. Going to war with the FBI is not the behavior of a smart and focused presidential campaign. It’s an act of desperation. When a presidential candidate decides that her only option is to try and destroy the credibility of the FBI | that’s not hubris | it’s fear of what the FBI might be about to reveal about her. During the original FBI investigation | Hillary Clinton was confident that she could ride it out. And she had good reason for believing that. But that Hillary Clinton is gone. In her place is a paranoid wreck. Within a short space of time the “positive” Clinton campaign promising to unite the country has been replaced by a desperate and flailing operation that has focused all its energy on fighting the FBI. There’s only one reason for such bizarre behavior. The Clinton campaign has decided that an FBI investigation of the latest batch of emails poses a threat to its survival. And so it’s gone all in on fighting the FBI. It’s an unprecedented step born of fear. It’s hard to know whether that fear is justified. But the existence of that fear already tells us a whole lot. Clinton loyalists rigged the old investigation. They knew the outcome ahead of time as well as they knew the debate questions. Now suddenly they are no longer in control. And they are afraid. You can smell the fear. The FBI has wiretaps from the investigation of the Clinton Foundation. It’s finding new emails all the time. And Clintonworld panicked. The spinmeisters of Clintonworld have claimed that the email scandal is just so much smoke without fire. All that’s here is the appearance of impropriety without any of the substance. But this isn’t how you react to smoke. It’s how you respond to a fire. The misguided assault on the FBI tells us that Hillary Clinton and her allies are afraid of a revelation bigger than the fundamental illegality of her email setup. The email setup was a preemptive cover up. The Clinton campaign has panicked badly out of the belief | right or wrong | that whatever crime the illegal setup was meant to cover up is at risk of being exposed. The Clintons have weathered countless scandals over the years. Whatever they are protecting this time around is bigger than the usual corruption | bribery | sexual assaults and abuses of power that have followed them around throughout the years. This is bigger and more damaging than any of the allegations that have already come out. And they don’t want FBI investigators anywhere near it. The campaign against Comey is pure intimidation. It’s also a warning. Any senior FBI people who value their careers are being warned to stay away. The Democrats are closing ranks around their nominee against the FBI. It’s an ugly and unprecedented scene. It may also be their last stand. Hillary Clinton has awkwardly wound her way through numerous scandals in just this election cycle. But she’s never shown fear or desperation before. Now that has changed. Whatever she is afraid of | it lies buried in her emails with Huma Abedin. And it can bring her down like nothing else has.  ",
            "count": 1
           },
           {
            "name": "Google Pinterest Digg Linkedin Reddit Stumbleupon Print Delicious Pocket Tumblr There are two fundamental truths in this world: Paul Ryan desperately wants to be president. And Paul Ryan will never be president. Today proved it. In a particularly staggering example of political cowardice | Paul Ryan re-re-re-reversed course and announced that he was back on the Trump Train after all. This was an aboutface from where he was a few weeks ago. He had previously declared he would not be supporting or defending Trump after a tape was made public in which Trump bragged about assaulting women. Suddenly | Ryan was appearing at a pro-Trump rally and boldly declaring that he already sent in his vote to make him President of the United States. It was a surreal moment. The figurehead of the Republican Party dosed himself in gasoline | got up on a stage on a chilly afternoon in Wisconsin | and lit a match. . @SpeakerRyan says he voted for @realDonaldTrump : “Republicans | it is time to come home” https://t.co/VyTT49YvoE pic.twitter.com/wCvSCg4a5I — ABC News Politics (@ABCPolitics) November 5 | 2016 The Democratic Party couldn’t have asked for a better moment of film. Ryan’s chances of ever becoming president went down to zero in an instant. In the wreckage Trump is to leave behind in his wake | those who cravenly backed his campaign will not recover. If Ryan’s career manages to limp all the way to 2020 | then the DNC will have this tape locked and loaded to be used in every ad until Election Day. The ringing endorsement of the man he clearly hates on a personal level speaks volumes about his own spinelessness. Ryan has postured himself as a “principled” conservative | and one uncomfortable with Trump’s unapologetic bigotry and sexism. However | when push came to shove | Paul Ryan – like many of his colleagues – turned into a sniveling appeaser. After all his lofty tak about conviction | his principles were a house of cards and collapsed with the slightest breeze. What’s especially bizarre is how close Ryan came to making it through unscathed. For months the Speaker of the House refused to comment on Trump at all. His strategy seemed to be to keep his head down | pretend Trump didn’t exist | and hope that nobody remembered what happened in 2016. Now | just days away from the election | he screwed it all up. If 2016’s very ugly election has done any good it’s by exposing the utter cowardice of the Republicans who once feigned moral courage. A reality television star spit on them | hijacked their party | insulted their wives | and got every last one of them to kneel before him. What a turn of events. Featured image via Twitter",
            "count": 1
           },
           {
            "name": "3 others",
            "count": 3
           }
          ]
         }
        },
        {
         "name": "label",
         "dtype": "object",
         "stats": {
          "unique_count": 2,
          "nan_count": 0,
          "categories": [
           {
            "name": "FAKE",
            "count": 3
           },
           {
            "name": "REAL",
            "count": 2
           }
          ]
         }
        },
        {
         "name": "X1",
         "dtype": "float64",
         "stats": {
          "unique_count": 0,
          "nan_count": 5,
          "min": null,
          "max": null,
          "histogram": [
           {
            "bin_start": 0,
            "bin_end": 0.1,
            "count": 0
           },
           {
            "bin_start": 0.1,
            "bin_end": 0.2,
            "count": 0
           },
           {
            "bin_start": 0.2,
            "bin_end": 0.30000000000000004,
            "count": 0
           },
           {
            "bin_start": 0.30000000000000004,
            "bin_end": 0.4,
            "count": 0
           },
           {
            "bin_start": 0.4,
            "bin_end": 0.5,
            "count": 0
           },
           {
            "bin_start": 0.5,
            "bin_end": 0.6000000000000001,
            "count": 0
           },
           {
            "bin_start": 0.6000000000000001,
            "bin_end": 0.7000000000000001,
            "count": 0
           },
           {
            "bin_start": 0.7000000000000001,
            "bin_end": 0.8,
            "count": 0
           },
           {
            "bin_start": 0.8,
            "bin_end": 0.9,
            "count": 0
           },
           {
            "bin_start": 0.9,
            "bin_end": 1,
            "count": 0
           }
          ]
         }
        },
        {
         "name": "X2",
         "dtype": "float64",
         "stats": {
          "unique_count": 0,
          "nan_count": 5,
          "min": null,
          "max": null,
          "histogram": [
           {
            "bin_start": 0,
            "bin_end": 0.1,
            "count": 0
           },
           {
            "bin_start": 0.1,
            "bin_end": 0.2,
            "count": 0
           },
           {
            "bin_start": 0.2,
            "bin_end": 0.30000000000000004,
            "count": 0
           },
           {
            "bin_start": 0.30000000000000004,
            "bin_end": 0.4,
            "count": 0
           },
           {
            "bin_start": 0.4,
            "bin_end": 0.5,
            "count": 0
           },
           {
            "bin_start": 0.5,
            "bin_end": 0.6000000000000001,
            "count": 0
           },
           {
            "bin_start": 0.6000000000000001,
            "bin_end": 0.7000000000000001,
            "count": 0
           },
           {
            "bin_start": 0.7000000000000001,
            "bin_end": 0.8,
            "count": 0
           },
           {
            "bin_start": 0.8,
            "bin_end": 0.9,
            "count": 0
           },
           {
            "bin_start": 0.9,
            "bin_end": 1,
            "count": 0
           }
          ]
         }
        },
        {
         "name": "_deepnote_index_column",
         "dtype": "int64"
        }
       ],
       "rows": [
        {
         "ID": 8476,
         "title": "You Can Smell Hillary’s Fear",
         "text": "Daniel Greenfield | a Shillman Journalism Fellow at the Freedom Center | is a New York writer focus…",
         "label": "FAKE",
         "X1": "nan",
         "X2": "nan",
         "_deepnote_index_column": 0
        },
        {
         "ID": 10294,
         "title": "Watch The Exact Moment Paul Ryan Committed Political Suicide At A Trump Rally (VIDEO)",
         "text": "Google Pinterest Digg Linkedin Reddit Stumbleupon Print Delicious Pocket Tumblr There are two funda…",
         "label": "FAKE",
         "X1": "nan",
         "X2": "nan",
         "_deepnote_index_column": 1
        },
        {
         "ID": 3608,
         "title": "Kerry to go to Paris in gesture of sympathy",
         "text": "U.S. Secretary of State John F. Kerry said Monday that he will stop in Paris later this week | amid…",
         "label": "REAL",
         "X1": "nan",
         "X2": "nan",
         "_deepnote_index_column": 2
        },
        {
         "ID": 10142,
         "title": "Bernie supporters on Twitter erupt in anger against the DNC: 'We tried to warn you!'",
         "text": "— Kaydee King (@KaydeeKing) November 9 | 2016 The lesson from tonight's Dem losses: Time for Democr…",
         "label": "FAKE",
         "X1": "nan",
         "X2": "nan",
         "_deepnote_index_column": 3
        },
        {
         "ID": 875,
         "title": "The Battle of New York: Why This Primary Matters |\"It's primary day in New York and front-runners H…",
         "text": " Cruz promised his supporters. \"\"We're beating Hillary in the key swing states | we're beating Hill…",
         "label": "REAL",
         "X1": "nan",
         "X2": "nan",
         "_deepnote_index_column": 4
        }
       ]
      },
      "text/plain": "      ID                                              title  \\\n0   8476                       You Can Smell Hillary’s Fear   \n1  10294  Watch The Exact Moment Paul Ryan Committed Pol...   \n2   3608        Kerry to go to Paris in gesture of sympathy   \n3  10142  Bernie supporters on Twitter erupt in anger ag...   \n4    875  The Battle of New York: Why This Primary Matte...   \n\n                                                text label  X1  X2  \n0  Daniel Greenfield | a Shillman Journalism Fell...  FAKE NaN NaN  \n1  Google Pinterest Digg Linkedin Reddit Stumbleu...  FAKE NaN NaN  \n2  U.S. Secretary of State John F. Kerry said Mon...  REAL NaN NaN  \n3  — Kaydee King (@KaydeeKing) November 9 | 2016 ...  FAKE NaN NaN  \n4   Cruz promised his supporters. \"\"We're beating...  REAL NaN NaN  ",
      "text/html": "<div>\n<style scoped>\n    .dataframe tbody tr th:only-of-type {\n        vertical-align: middle;\n    }\n\n    .dataframe tbody tr th {\n        vertical-align: top;\n    }\n\n    .dataframe thead th {\n        text-align: right;\n    }\n</style>\n<table border=\"1\" class=\"dataframe\">\n  <thead>\n    <tr style=\"text-align: right;\">\n      <th></th>\n      <th>ID</th>\n      <th>title</th>\n      <th>text</th>\n      <th>label</th>\n      <th>X1</th>\n      <th>X2</th>\n    </tr>\n  </thead>\n  <tbody>\n    <tr>\n      <th>0</th>\n      <td>8476</td>\n      <td>You Can Smell Hillary’s Fear</td>\n      <td>Daniel Greenfield | a Shillman Journalism Fell...</td>\n      <td>FAKE</td>\n      <td>NaN</td>\n      <td>NaN</td>\n    </tr>\n    <tr>\n      <th>1</th>\n      <td>10294</td>\n      <td>Watch The Exact Moment Paul Ryan Committed Pol...</td>\n      <td>Google Pinterest Digg Linkedin Reddit Stumbleu...</td>\n      <td>FAKE</td>\n      <td>NaN</td>\n      <td>NaN</td>\n    </tr>\n    <tr>\n      <th>2</th>\n      <td>3608</td>\n      <td>Kerry to go to Paris in gesture of sympathy</td>\n      <td>U.S. Secretary of State John F. Kerry said Mon...</td>\n      <td>REAL</td>\n      <td>NaN</td>\n      <td>NaN</td>\n    </tr>\n    <tr>\n      <th>3</th>\n      <td>10142</td>\n      <td>Bernie supporters on Twitter erupt in anger ag...</td>\n      <td>— Kaydee King (@KaydeeKing) November 9 | 2016 ...</td>\n      <td>FAKE</td>\n      <td>NaN</td>\n      <td>NaN</td>\n    </tr>\n    <tr>\n      <th>4</th>\n      <td>875</td>\n      <td>The Battle of New York: Why This Primary Matte...</td>\n      <td>Cruz promised his supporters. \"\"We're beating...</td>\n      <td>REAL</td>\n      <td>NaN</td>\n      <td>NaN</td>\n    </tr>\n  </tbody>\n</table>\n</div>"
     },
     "metadata": {}
    }
   ]
  },
  {
   "cell_type": "code",
   "metadata": {
    "id": "Odewtl-r3rlJ",
    "cell_id": "00028-29a9d327-fe44-403c-9451-da2153f3c62e",
    "deepnote_to_be_reexecuted": false,
    "source_hash": "f801c968",
    "execution_start": 1643886042857,
    "execution_millis": 24,
    "deepnote_cell_type": "code"
   },
   "source": [
    "train = train.drop(['X1', 'X2'], axis=1)"
   ],
   "execution_count": 40,
   "outputs": []
  },
  {
   "cell_type": "markdown",
   "source": [
    "We study if the dataset is unbalanced. From the plot we see this is not the case, as there is a similar amount of Fake and Real news articles. No further actions have to be taken."
   ],
   "metadata": {
    "id": "7_4h9fdi3rlK",
    "cell_id": "00029-6f4e53ec-0a48-45de-ab6a-aae033f81d1f",
    "deepnote_cell_type": "markdown"
   }
  },
  {
   "cell_type": "code",
   "metadata": {
    "colab": {
     "base_uri": "https://localhost:8080/",
     "height": 295
    },
    "id": "zv7SmAwV3rlM",
    "outputId": "84acb28c-239c-47d9-a6d1-8ba9d3b169e8",
    "cell_id": "00030-9bb0e6be-5f43-4596-b7e1-f959f1757b79",
    "deepnote_output_heights": [
     280
    ],
    "deepnote_to_be_reexecuted": false,
    "source_hash": "32c3070c",
    "execution_start": 1643886042895,
    "execution_millis": 522,
    "deepnote_cell_type": "code"
   },
   "source": [
    "from collections import Counter\n",
    "ax = sns.countplot(train.label, order=[x for x, count in sorted(Counter(train.label).items(), key=lambda x: -x[1])])\n",
    "\n",
    "\n",
    "for p in ax.patches:\n",
    "    height = p.get_height()\n",
    "    ax.text(p.get_x()+p.get_width()/2.,\n",
    "            height + 3,\n",
    "            '{:1.2f}%'.format(height/len(train)*100),\n",
    "            ha='center') \n",
    "ax.set_title('Test dataset target')\n",
    "show()"
   ],
   "execution_count": 41,
   "outputs": [
    {
     "data": {
      "text/plain": "<Figure size 432x288 with 1 Axes>",
      "image/png": "[encoded data removed]"
     },
     "metadata": {
      "needs_background": "light",
      "image/png": {
       "width": 395,
       "height": 278
      }
     },
     "output_type": "display_data"
    }
   ]
  },
  {
   "cell_type": "code",
   "metadata": {
    "colab": {
     "base_uri": "https://localhost:8080/",
     "height": 206
    },
    "id": "_E2ZtgJQ3rlN",
    "outputId": "2f256b59-e112-4fac-827b-58627dec5fc0",
    "cell_id": "00031-95a2bd12-edf7-4766-8061-93808ca5a3b4",
    "deepnote_output_heights": [
     177
    ],
    "deepnote_to_be_reexecuted": false,
    "source_hash": "476785e4",
    "execution_start": 1643886043443,
    "execution_millis": 48,
    "deepnote_cell_type": "code"
   },
   "source": [
    "test.head()"
   ],
   "execution_count": 42,
   "outputs": [
    {
     "output_type": "execute_result",
     "execution_count": 42,
     "data": {
      "application/vnd.deepnote.dataframe.v3+json": {
       "column_count": 3,
       "row_count": 5,
       "columns": [
        {
         "name": "ID",
         "dtype": "int64",
         "stats": {
          "unique_count": 5,
          "nan_count": 0,
          "min": "662",
          "max": "10498",
          "histogram": [
           {
            "bin_start": 662,
            "bin_end": 1645.6,
            "count": 2
           },
           {
            "bin_start": 1645.6,
            "bin_end": 2629.2,
            "count": 1
           },
           {
            "bin_start": 2629.2,
            "bin_end": 3612.8,
            "count": 0
           },
           {
            "bin_start": 3612.8,
            "bin_end": 4596.4,
            "count": 1
           },
           {
            "bin_start": 4596.4,
            "bin_end": 5580,
            "count": 0
           },
           {
            "bin_start": 5580,
            "bin_end": 6563.6,
            "count": 0
           },
           {
            "bin_start": 6563.6,
            "bin_end": 7547.2,
            "count": 0
           },
           {
            "bin_start": 7547.2,
            "bin_end": 8530.8,
            "count": 0
           },
           {
            "bin_start": 8530.8,
            "bin_end": 9514.4,
            "count": 0
           },
           {
            "bin_start": 9514.4,
            "bin_end": 10498,
            "count": 1
           }
          ]
         }
        },
        {
         "name": "title",
         "dtype": "object",
         "stats": {
          "unique_count": 5,
          "nan_count": 0,
          "categories": [
           {
            "name": "September New Homes Sales Rise——-Back To 1992 Level!",
            "count": 1
           },
           {
            "name": "Why The Obamacare Doomsday Cult Can't Admit It's Wrong",
            "count": 1
           },
           {
            "name": "3 others",
            "count": 3
           }
          ]
         }
        },
        {
         "name": "text",
         "dtype": "object",
         "stats": {
          "unique_count": 5,
          "nan_count": 0,
          "categories": [
           {
            "name": "September New Homes Sales Rise Back To 1992 Level! By David Stockman. Posted On Wednesday, October 26th, 2016 \n\nDavid Stockman's Contra Corner is the only place where mainstream delusions and cant about the Warfare State, the Bailout State, Bubble Finance and Beltway Banditry are ripped, refuted and rebuked. Subscribe now to receive David Stockman’s latest posts by email each day as well as his model portfolio, Lee Adler’s Daily Data Dive and David’s personally curated insights and analysis from leading contrarian thinkers.",
            "count": 1
           },
           {
            "name": "But when Congress debated and passed the Patient Protection and Affordable Care Act in 2009 and 2010, opponents were nearly unified in offering grim Keech-like predictions. With Obamacare now in full effect, and the economy on a decided upswing, the dour prognostications are starting to look like Keech's flying saucers. At least if you believe the data. A look at Festinger's theories, though, can explain why that won't matter, and why Americans can expect a continued drumbeat of doom, even as the prophecies fail.\n\n“It certainly has not had the baleful effects the critics were predicting,” said Paul Van de Water, a senior fellow at the Center on Budget and Policy Priorities who supports the law, but never thought it would have much economic impact. “On balance it may be a modest plus, to the extent that it has contributed to the slowdown of growth in health care costs.”\n\nBut that's not how Capitol Hill’s gloomsday cult sees it. Indeed, try getting any of them to admit the Affordable Care Act jobs slaughter has not happened, and they sound like the punchline to the old joke where a spouse gets caught in the act cheating: “Who are you going to believe -- me, or your lying eyes?”\n\n\"With politicians, you can’t be sure that what comes out of their mouths is really what’s in their head,\" said Elliot Aronson, one of Festinger’s former students who is regarded as the foremost expert on cognitive dissonance alive today. \"When it comes to politics, we have to really look closely.\"\n\nThe way cognitive dissonance works is that when people are confronted with information that contradicts either their beliefs or actions, they feel discomfort. To feel better, they either have to modify their beliefs and actions, or find some way to discount the disconfirming information. And the more effort someone invests in a particular action or idea, the greater the lengths they will go in crafting justifications to ease their discomfort.\n\nAronson and co-author Carol Tavris looked closely at that phenomenon in their 2007 book, Mistakes Were Made (but not by me). Among the examples are prosecutors who insist that people cleared by DNA evidence are still guilty; scientists who insist results that agree with funders’ interests could not have been swayed, and people who like an idea from their political party, but dislike the same idea if told it came from the opposition party.\n\nIndeed, committing to a specific ideology can make it much harder to see facts clearly, let alone acknowledge them. Aronson noted that it’s especially hard for people who spent the last five years opposing a specific policy. “These guys are so committed to the belief that Obama can’t do anything right, and that Obamacare is socialism, that it would be very, very difficult for them to examine the data objectively,\" he said. \"I think that’s what’s wrong with politics, that’s what’s wrong with ideology, that’s what’s wrong with politics that are ideologically driven.”\n\n“One could create some line of argument that the economy would be much, much stronger without the ACA, but that really seems to be a stretch,” said Van de Water, the economist. “We have a very large economy. Even as important as the Affordable Care Act is, it’s working on a major sector of the economy, but only at the margins. Even in advance, one would have thought it wasn’t going to have a huge effect.”",
            "count": 1
           },
           {
            "name": "3 others",
            "count": 3
           }
          ]
         }
        },
        {
         "name": "_deepnote_index_column",
         "dtype": "int64"
        }
       ],
       "rows": [
        {
         "ID": 10498,
         "title": "September New Homes Sales Rise——-Back To 1992 Level!",
         "text": "September New Homes Sales Rise Back To 1992 Level! By David Stockman. Posted On Wednesday, October …",
         "_deepnote_index_column": 0
        },
        {
         "ID": 2439,
         "title": "Why The Obamacare Doomsday Cult Can't Admit It's Wrong",
         "text": "But when Congress debated and passed the Patient Protection and Affordable Care Act in 2009 and 201…",
         "_deepnote_index_column": 1
        },
        {
         "ID": 864,
         "title": "Sanders, Cruz resist pressure after NY losses, vow to fight to conventions",
         "text": "The Bernie Sanders and Ted Cruz campaigns vowed to fight all the way to their respective party conv…",
         "_deepnote_index_column": 2
        },
        {
         "ID": 4128,
         "title": "Surviving escaped prisoner likely fatigued and prone to mistakes, police say",
         "text": "Police searching for the second of two escaped prisoners who pulled off an elaborate breakout from …",
         "_deepnote_index_column": 3
        },
        {
         "ID": 662,
         "title": "Clinton and Sanders neck and neck in California primary",
         "text": "No matter who wins California's 475 delegates on Tuesday, Clinton may have to woo the state's Sande…",
         "_deepnote_index_column": 4
        }
       ]
      },
      "text/plain": "      ID                                              title  \\\n0  10498  September New Homes Sales Rise——-Back To 1992 ...   \n1   2439  Why The Obamacare Doomsday Cult Can't Admit It...   \n2    864  Sanders, Cruz resist pressure after NY losses,...   \n3   4128  Surviving escaped prisoner likely fatigued and...   \n4    662  Clinton and Sanders neck and neck in Californi...   \n\n                                                text  \n0  September New Homes Sales Rise Back To 1992 Le...  \n1  But when Congress debated and passed the Patie...  \n2  The Bernie Sanders and Ted Cruz campaigns vowe...  \n3  Police searching for the second of two escaped...  \n4  No matter who wins California's 475 delegates ...  ",
      "text/html": "<div>\n<style scoped>\n    .dataframe tbody tr th:only-of-type {\n        vertical-align: middle;\n    }\n\n    .dataframe tbody tr th {\n        vertical-align: top;\n    }\n\n    .dataframe thead th {\n        text-align: right;\n    }\n</style>\n<table border=\"1\" class=\"dataframe\">\n  <thead>\n    <tr style=\"text-align: right;\">\n      <th></th>\n      <th>ID</th>\n      <th>title</th>\n      <th>text</th>\n    </tr>\n  </thead>\n  <tbody>\n    <tr>\n      <th>0</th>\n      <td>10498</td>\n      <td>September New Homes Sales Rise——-Back To 1992 ...</td>\n      <td>September New Homes Sales Rise Back To 1992 Le...</td>\n    </tr>\n    <tr>\n      <th>1</th>\n      <td>2439</td>\n      <td>Why The Obamacare Doomsday Cult Can't Admit It...</td>\n      <td>But when Congress debated and passed the Patie...</td>\n    </tr>\n    <tr>\n      <th>2</th>\n      <td>864</td>\n      <td>Sanders, Cruz resist pressure after NY losses,...</td>\n      <td>The Bernie Sanders and Ted Cruz campaigns vowe...</td>\n    </tr>\n    <tr>\n      <th>3</th>\n      <td>4128</td>\n      <td>Surviving escaped prisoner likely fatigued and...</td>\n      <td>Police searching for the second of two escaped...</td>\n    </tr>\n    <tr>\n      <th>4</th>\n      <td>662</td>\n      <td>Clinton and Sanders neck and neck in Californi...</td>\n      <td>No matter who wins California's 475 delegates ...</td>\n    </tr>\n  </tbody>\n</table>\n</div>"
     },
     "metadata": {}
    }
   ]
  },
  {
   "cell_type": "markdown",
   "source": [
    "In order to not do double work by doing operations on our train and testset and to analyze general distributions of our data, we stack train and test in df."
   ],
   "metadata": {
    "id": "7JaGY1jJ3rlO",
    "cell_id": "00032-fddb0700-f3c0-44a2-8d5e-1b69f2ea16a0",
    "deepnote_cell_type": "markdown"
   }
  },
  {
   "cell_type": "code",
   "metadata": {
    "id": "FArC2QvQ3rlO",
    "cell_id": "00033-add694ff-6f84-4734-9c14-c1703c2cd060",
    "deepnote_to_be_reexecuted": false,
    "source_hash": "c91d264c",
    "execution_start": 1643886043549,
    "execution_millis": 53920522,
    "deepnote_cell_type": "code"
   },
   "source": [
    "test['label'] = None  # empty label for test\n",
    "\n",
    "df = pd.concat([train, test])"
   ],
   "execution_count": 43,
   "outputs": []
  },
  {
   "cell_type": "code",
   "metadata": {
    "colab": {
     "base_uri": "https://localhost:8080/"
    },
    "id": "euPE-MTS3rlP",
    "outputId": "50ba84b8-b591-4364-d174-c7861aadcdc0",
    "cell_id": "00034-9f6bb2da-a634-4292-b900-51243ef7af17",
    "deepnote_output_heights": [
     1
    ],
    "deepnote_to_be_reexecuted": false,
    "source_hash": "2f88c77a",
    "execution_start": 1643886043606,
    "execution_millis": 53910092,
    "deepnote_cell_type": "code"
   },
   "source": [
    "len(df)"
   ],
   "execution_count": 44,
   "outputs": [
    {
     "output_type": "execute_result",
     "execution_count": 44,
     "data": {
      "text/plain": "6318"
     },
     "metadata": {}
    }
   ]
  },
  {
   "cell_type": "code",
   "metadata": {
    "colab": {
     "base_uri": "https://localhost:8080/",
     "height": 206
    },
    "id": "81xogpLM3rlQ",
    "outputId": "fb325380-d0e4-4538-ec36-19b4f49b1089",
    "cell_id": "00035-f93c8588-0ee5-4034-a21c-5267356f7243",
    "deepnote_output_heights": [
     177
    ],
    "deepnote_to_be_reexecuted": false,
    "source_hash": "838c0c28",
    "execution_start": 1643886043607,
    "execution_millis": 40,
    "deepnote_cell_type": "code"
   },
   "source": [
    "df.tail()"
   ],
   "execution_count": 45,
   "outputs": [
    {
     "output_type": "execute_result",
     "execution_count": 45,
     "data": {
      "application/vnd.deepnote.dataframe.v3+json": {
       "column_count": 4,
       "row_count": 5,
       "columns": [
        {
         "name": "ID",
         "dtype": "int64",
         "stats": {
          "unique_count": 5,
          "nan_count": 0,
          "min": "4021",
          "max": "8622",
          "histogram": [
           {
            "bin_start": 4021,
            "bin_end": 4481.1,
            "count": 2
           },
           {
            "bin_start": 4481.1,
            "bin_end": 4941.2,
            "count": 1
           },
           {
            "bin_start": 4941.2,
            "bin_end": 5401.3,
            "count": 0
           },
           {
            "bin_start": 5401.3,
            "bin_end": 5861.4,
            "count": 0
           },
           {
            "bin_start": 5861.4,
            "bin_end": 6321.5,
            "count": 0
           },
           {
            "bin_start": 6321.5,
            "bin_end": 6781.6,
            "count": 0
           },
           {
            "bin_start": 6781.6,
            "bin_end": 7241.700000000001,
            "count": 0
           },
           {
            "bin_start": 7241.700000000001,
            "bin_end": 7701.8,
            "count": 0
           },
           {
            "bin_start": 7701.8,
            "bin_end": 8161.900000000001,
            "count": 1
           },
           {
            "bin_start": 8161.900000000001,
            "bin_end": 8622,
            "count": 1
           }
          ]
         }
        },
        {
         "name": "title",
         "dtype": "object",
         "stats": {
          "unique_count": 5,
          "nan_count": 0,
          "categories": [
           {
            "name": "State Department says it can't find emails from Clinton IT specialist",
            "count": 1
           },
           {
            "name": "The ‘P’ in PBS Should Stand for ‘Plutocratic’ or ‘Pentagon’",
            "count": 1
           },
           {
            "name": "3 others",
            "count": 3
           }
          ]
         }
        },
        {
         "name": "text",
         "dtype": "object",
         "stats": {
          "unique_count": 5,
          "nan_count": 0,
          "categories": [
           {
            "name": "The State Department told the Republican National Committee that it could not find any emails to or from Hillary Clinton's former IT specialist, who managed her private email server during her tenure as secretary of state before going on to work for the agency, according to a court filing made public Monday.\n\n\n\nThe government's revelation in U.S. District Court in Washington came in answer to a lawsuit by the Republican National Committee. The RNC had sued over its public records request for all work-related emails sent to or received by Clinton's former aide, Bryan Pagliano, between 2009 and 2013, the years of Clinton's tenure as America's top diplomat. The lawsuit also pressed for other State Department records from the Clinton era.\n\nThe RNC's filing said lawyers for the agency had informed them in discussions that \"the State Department has represented that no responsive records exist\" for any Pagliano emails. Pagliano was hired at the agency after reportedly setting up Clinton's server in 2009, but the lack of any official State Department emails raises the question whether he limited his email traffic using a private account, much like Clinton did during her four years as secretary, or whether his government emails were deleted.\n\n\n\nA State Department official said Monday that the agency possessed emails from Pagliano from the period after Clinton's term had ended, when he continued to work as a technology contractor.\n\nAgency spokeswoman Elizabeth Trudeau then added Monday evening that some Pagliano emails dating from Clinton's tenure had been recovered from agency officials' files and turned over to other organizations, including Senate investigators.\n\n\n\n\"We have previously produced through FOIA and to Congress emails sent and received by Mr. Pagliano during Secretary Clinton's tenure,\" Trudeau said in a public statement. At least one email, which was sent in November 2012 to Clinton from Pagliano -- but possibly from his private email address -- was released as part of 30,000 Clinton emails made public by the agency over the past year.\n\n\n\nA spokesman for the RNC said the organization stood by its description of the discussions with lawyers for the State Department. The group said in its filing that \"the State Department has represented that no responsive records exist.\"\n\n\n\nRaj Shah, the RNC spokesman, added, \"It's hard to believe that an IT staffer who set up Hillary Clinton's reckless email server never sent or received a single work-related email in the four years he worked at the State Department.\" Clinton's campaign officials declined to comment in response to questions from The Associated Press.\n\n\n\nTrudeau said the State Department is working with Congress and several public records requesters to provide relevant material. She also said agency officials continue to search for \"Mr. Pagliano's emails, which the department may have otherwise retained.\" Trudeau also said the department would respond further to the RNC in court.\n\n\n\nState Department officials told Senate investigators last year they could not find a file containing Pagliano's work emails during Clinton's tenure, an assertion first reported by Politico.\n\n\n\nFox News reported in March that Pagliano has revealed several details about Clinton's personal email system to investigators, including who had access to it– as well as when and what devices were used. An intelligence source close to the case told Fox News that Pagliano has been a \"devastating witness\" to Clinton.\n\nThe one email sent by Pagliano that surfaced among Clinton's 30,000 emails was sent to Clinton was a November 2012 birthday greeting. He wished her \"Happy Birthday Madam Secretary. To many more!\"\n\n\n\nPagliano's email address was censored, unlike numerous official State Department addresses that are listed in Clinton's emails -- suggesting he may have sent the message from a private address.\n\nClinton did not reply directly to Pagliano. Instead, she sent a copy of an email to an aide with the instruction \"Pls respond.\"\n\n \n\n The Associated Press contributed to this report.",
            "count": 1
           },
           {
            "name": "The ‘P’ in PBS Should Stand for ‘Plutocratic’ or ‘Pentagon’ Posted on Oct 27, 2016 ( WikiMedia ) \nIn a television commercial that the Public Broadcasting System (PBS) ran for years, “PBS NewsHour” host Gwen Ifill declared that she loved her job because it allowed her to “ask not only all of my questions but also and more importantly all of your questions .” This assertion was and remains absurd, just like her network’s regular fundraising claim to be free of corporate sponsors. \nThe claim has long been contradicted by the string of corporate-image commercials (purchased by leading financial, defense, auto, insurance and rail corporations) that appear before the network’s nightly “NewsHour” broadcast—along with a list of corporate-sponsored foundations and superwealthy individuals who pay for the show, along with “regular viewers like you.” \nConsistent with those commercials and despite its name, the news and commentary one finds on PBS is in rich tune with the narrow capitalist parameters of acceptable coverage and debate that typify the more fully and explicitly for-profit and commercialized corporate media. As progressive journalist David Sirota suggested two years ago , reflecting on recent investigations showing that supermoneyed, right-wing capitalists such as the Koch brothers and Texas billionaire John Arnold had (along with more liberal software mogul Bill Gates) influenced PBS content through multimillion-dollar donations, the “P” in PBS often seems to more properly stand for “Plutocratic,” not “Public.” \nAdvertisement Square, Site wide \nNone of this should be surprising to anyone familiar with the distinctively big-business-dominated history of U.S. broadcast media . Because the United States fails to provide anything like adequate funding for public broadcasting, both PBS and National Public Radio (a regular vehicle for neoliberal business ideology) depend upon foundations, corporations and wealthy individuals to pay for much of their programming. Beneath their standard claims to have no interest in shaping public media content, these private funders have bottom-line agendas, meaning that their contributions come with strings attached—strings that undermine the integrity of the “independent” journalism they bankroll. (For what it’s worth, between 1994 and 2014, the “NewsHour” was primarily owned by the for-profit firm Liberty Media . Liberty Media was run by the conservative and politically active billionaire John Malone, who had a majority stake in MacNeil/Lehrer Productions, the show’s producer.) \nThe Pentagon Broadcasting System? \nWhat might seem more surprising, perhaps, is the remarkable extent to which the “P” in PBS often seems to stand for “Pentagon,” or perhaps “Presidential,” when it comes to foreign policy content. Whatever the global issue of the day or week, “NewsHour” anchors and their invited “experts” can be counted on to report and reflect in accord with the doctrinal assumption that Washington always operates with the best of intentions. They almost uniformly treat the U.S. as a great, benevolent and indispensable force for freedom, democracy, security, peace and order in a dangerous world full of evil and deadly actors. \nThe show’s invited commentators are drawn primarily from the nation’s imperial establishment. They are commonly current or retired insiders from within the Pentagon, the White House, the “intelligence community” and/or the nation’s elite network of foreign policy think tanks: the Council on Foreign Relations (the granddaddy of all U.S. ruling-class think tanks ), the Carnegie Endowment for International Peace, the Aspen Institute, the Atlantic Council, the Rand Corp. and the Hoover Institution, to name a handful. “NewsHour” anchors and guests generally agree that the United States’ officially designated enemies are malevolent bad guys who need to be contained, controlled and even attacked by the ultimate good guy, Uncle Sam. \nNot surprisingly, the long and ongoing record of U.S. imperial arrogance and criminality (more on that below) is swept down George Orwell’s memory hole even as new entries are added to the ugly registry. When reported by the “NewsHour,” horrific crimes committed by the U.S. military are always treated as well-intended mistakes. Along with the rest of the mainstream U.S. media, the “NewsHour” “insist[s] that Russia deliberately bombs hospitals, etc., whereas if we do it, it is, of course, an accident .” \nThere’s some room for disagreement between and among the show’s invited experts—including the show’s semi-loopy foreign policy authority, Margaret Warner—about specific U.S. foreign policy tactics, strategies and actions. There’s no space for serious debate about the immorality, lawlessness or imperial nature of that policy. On the rare occasions “NewsHour” anchors seem to challenge guests from the White House or Pentagon on foreign policy matters, it is generally to ask why the U.S. isn’t going harder at the officially certified bad guys. \nAmerica as Umpire, Not Empire \nThe foreign policy coverage and commentary doesn’t get much better in the documentary division of PBS. A recent documentary (first aired nationally last week) shown by PBS bears the risible title “American Umpire”—an obvious World Series season play on what the filmmakers see as the preposterous notion of an American empire. It is narrated by ex-Marine and former “NewsHour” host and producer Jim Lehrer. Developed by the right-wing Hoover Institution and “targeted for PBS” (the organization’s own revealing phrase), “American Umpire” takes the doctrinal “American exceptionalist,” U.S.-good-and-civilized-rest-of-world-dangerous-and-bad narrative to absurd lengths. \nIt provides extensive “expert” commentary from such former imperial operatives as Madeline Albright (the onetime U.S. secretary of state who led the charge to criminally bomb Serbia and who went on CBS’ “60 Minutes” to say that the death of more than half a million Iraqi children killed by Washington-led “economic sanctions” was “a price worth paying” for the advance of U.S. foreign policy goals), Condoleezza Rice (George W. Bush’s neoconservative national security adviser before and during the arch-criminal U.S. invasion of Iraq), Gen. Jim “Mad Dog” Mattis (an Iraq invasion commander and a former chief of the U.S. Central Command, who two years ago told a San Diego audience that “it’s fun to shoot people”), George Schultz (the Reagan-era secretary of state who called the Sandinista government in Nicaragua “a cancer in our own land mass” that must be “cut out”) and Karl Eikenberry (a retired Army lieutenant general who commanded U.S. forces in Afghanistan 10 years ago). \nWith further commentary from a handful of mostly conservative academicians—above all the nationalist Texas A&M historian Elizabeth Cobbs ( author of a book on which the documentary is based), “American Umpire” portrays 20th and 21st century U.S. foreign policy as nothing more than a noble effort to selflessly provide welcome and fair rules and discipline on the rest of a childish, dangerous and reckless planet (think “Lord of the Flies”) that lacks the exceptional historical experience bequeathed to U.S. leaders by the nation’s far-seeing Founding Fathers. The only substantive criticism of U.S. foreign policy in “American Umpire” is the complaint, voiced by numerous interview subjects, that America harms itself to the benefit of others (the Europeans above all) by taking upon its shoulders too much of the burden of benevolently policing the planet. We are just too good for our own good. \nOur Real Task \nThere is not space here to discuss in responsible detail the epic historical deletions and distortions this narrative imposes. The omissions are staggering. They range from the slaughter of hundreds of thousands of Filipinos resisting U.S. imperial invasion and occupation at the last century’s outset to the restoration of de facto slavery in Haiti and the Dominican Republic after World War I; the unnecessary atom bombing of Hiroshima and, even worse, of Nagasaki (really the first shots of the Cold War ); the toppling of more than 50 governments by U.S. coups and invasions since the end of World War II; the liquidation of perhaps as many as 5 million Southeast Asians in the so-called Vietnam War between 1962 and 1975; the Cold War-era sponsorship of Third World fascism from Chile to South Africa and Indonesia; the attempted assassinations of Fidel Castro and numerous CIA-directed terror bombings in socialist Cuba; the near instigation of global thermonuclear war on at least three occasions; the development and sponsorship of Osama bin Laden and other radically arch-reactionary, jihadist Muslim, paramilitary forces to fight the Cold War against the Soviet Union in Afghanistan; the “Highway of Death,” when U.S. warplanes engaged in an aerial traffic jam as they rushed to slaughter tens of thousands of surrendered Iraqi troops retreating from Iraq in 1991; the coordination and sponsorship of a mass-murderous civil war on peasants, workers and intellectuals (with a death toll well into the many hundreds of thousands) in Central America during the 1970s and 1980s; the disastrous U.S. invasion of Iraq (responsible for at least 1 million Iraqi deaths); the calamitous U.S. toppling of the Libyan Gadhafi regime; the calamitous destabilization of the Syrian regime; the U.S. funding and encouragement of civil war in central Africa; the enablement and protection of a vicious right-wing coup in Honduras in the spring and summer of 2009; the criminal U.S. global war of terror, replete with rampant “targeted assassinations,” torture, illegal renditions, endless drone war and special-forces killing operations across the Muslim world and other places as well. \n“American Umpire” hides these horrific transgressions and the imperial calculations behind much of U.S. foreign policy past and present. As numerous key U.S. planning documents reveal over and over, the goal of that policy was to maintain and, if necessary, install governments that “favor[ed] private investment of domestic and foreign capital, production for export, and the right to bring profits out of the country.” Given the United States’ remarkable possession of half the world’s capital after World War II, Washington elites had no doubt that U.S. investors and corporations would profit the most. Internally, the basic, selfish, national and imperial objectives were openly and candidly discussed. As the “liberal” and “dovish” imperialist, top State Department planner and key Cold War architect George F. Kennan explained in Policy Planning Study 23, a critical 1948 document: “We have about 50% of the world’s wealth, but only 6.3% of its population. … In this situation, we cannot fail to be the object of envy and resentment. Our real task in the coming period is to devise a pattern of relationships which will permit us to maintain this position of disparity. … To do so, we will have to dispense with all sentimentality and day-dreaming. ... The less we are then hampered by idealistic slogans, the better.” \nThe necessity of dispensing with “human rights” and other “sentimental” and “unreal objectives” was especially pressing in the “global south.” Washington assigned the vast periphery of the world economic (capitalist) system—Africa, Latin America, Southeast Asia and the energy-rich and thus strategically hypersignificant Middle East—a less than flattering role. It was to “fulfill its major function as a source of raw materials and a market” ( actual State Department language ) for the great industrial (capitalist) nations (excluding “socialist” Russia and its satellites). It was to be exploited both for the benefit of U.S. corporations/investors and for the reconstruction of Europe and Japan as prosperous U.S. trading and investment partners organized on properly capitalist principles that were hostile to the Soviet bloc. \n“Democracy” was fine as a slogan and benevolent, idealistic-sounding mission statement when it came to marketing this core, underlying, ultra-imperialist U.S. policy at home and abroad. Because most people in the “Third World” had no interest in neocolonial subordination and subscribed to what U.S. intelligence officials considered the heretical “idea that government has direct responsibility for the welfare of its people” (what post-World War II U.S. planners called “communism”), Washington’s real-life commitment to popular governance abroad was strictly qualified, to say the least. “Democracy” was suitable to the U.S. as long as its outcomes comported with the interests of U.S. investors/corporations and related U.S. geopolitical objectives. It had to be abandoned, undermined and/or crushed when it threatened those investors/corporations and the broader imperatives of business rule to any significant degree. As President Richard Nixon’s coldblooded National Security Adviser Henry Kissinger explained in June 1970, three years before the U.S. sponsored a fascist coup that overthrew Chile’s democratically elected leftist President Salvador Allende, “I don’t see why we need to stand by and watch a country go Communist because of the irresponsibility of its own people.” \nThe selfish imperial cynicism of U.S. foreign policy continues to this day, into the post-Cold War and post-9/11 era. As leading Dutch political scientists Bastiaann van Apeldoorn and Nana de Graaff write in their important new volume , “American Grand Strategy and Corporate Elite Networks: The Open Door Since the End of the Cold War,” “From the end of the 19th nineteenth century onward, American grand strategy has pursued a liberal expansionism aimed at the creation of a global hegemony premised upon open, “free” markets, to which global capital—and, above all, U.S. transnational capital—has full access. … The global Open Door has continued to define the ends of the American grand strategy throughout the post-Cold War era.” Because—as during and before—the Cold War’s end, Washington’s commitment to “democracy” and “human rights” is conditional and hypocritical: The noble principles are fine insofar as they serve the free-market hegemony of global and especially U.S. transnational capital. They are dispensed with, even as U.S. policymakers trumpet them, when they do not.",
            "count": 1
           },
           {
            "name": "3 others",
            "count": 3
           }
          ]
         }
        },
        {
         "name": "label",
         "dtype": "object",
         "stats": {
          "unique_count": 0,
          "nan_count": 5,
          "categories": [
           {
            "name": "Missing",
            "count": 5
           }
          ]
         }
        },
        {
         "name": "_deepnote_index_column",
         "dtype": "int64"
        }
       ],
       "rows": [
        {
         "ID": 4490,
         "title": "State Department says it can't find emails from Clinton IT specialist",
         "text": "The State Department told the Republican National Committee that it could not find any emails to or…",
         "label": "None",
         "_deepnote_index_column": 2316
        },
        {
         "ID": 8062,
         "title": "The ‘P’ in PBS Should Stand for ‘Plutocratic’ or ‘Pentagon’",
         "text": "The ‘P’ in PBS Should Stand for ‘Plutocratic’ or ‘Pentagon’ Posted on Oct 27, 2016 ( WikiMedia ) \nI…",
         "label": "None",
         "_deepnote_index_column": 2317
        },
        {
         "ID": 8622,
         "title": "Anti-Trump Protesters Are Tools of the Oligarchy     : Information",
         "text": " Anti-Trump Protesters Are Tools of the Oligarchy Reform always provokes rage on the part of those…",
         "label": "None",
         "_deepnote_index_column": 2318
        },
        {
         "ID": 4021,
         "title": "In Ethiopia, Obama seeks progress on peace, security in East Africa",
         "text": "ADDIS ABABA, Ethiopia —President Obama convened a meeting with the leaders of several East African …",
         "label": "None",
         "_deepnote_index_column": 2319
        },
        {
         "ID": 4330,
         "title": "Jeb Bush Is Suddenly Attacking Trump. Here's Why That Matters",
         "text": "Jeb Bush Is Suddenly Attacking Trump. Here's Why That Matters\n\nJeb Bush isn't pulling punches anymo…",
         "label": "None",
         "_deepnote_index_column": 2320
        }
       ]
      },
      "text/plain": "        ID                                              title  \\\n2316  4490  State Department says it can't find emails fro...   \n2317  8062  The ‘P’ in PBS Should Stand for ‘Plutocratic’ ...   \n2318  8622  Anti-Trump Protesters Are Tools of the Oligarc...   \n2319  4021  In Ethiopia, Obama seeks progress on peace, se...   \n2320  4330  Jeb Bush Is Suddenly Attacking Trump. Here's W...   \n\n                                                   text label  \n2316  The State Department told the Republican Natio...  None  \n2317  The ‘P’ in PBS Should Stand for ‘Plutocratic’ ...  None  \n2318   Anti-Trump Protesters Are Tools of the Oligar...  None  \n2319  ADDIS ABABA, Ethiopia —President Obama convene...  None  \n2320  Jeb Bush Is Suddenly Attacking Trump. Here's W...  None  ",
      "text/html": "<div>\n<style scoped>\n    .dataframe tbody tr th:only-of-type {\n        vertical-align: middle;\n    }\n\n    .dataframe tbody tr th {\n        vertical-align: top;\n    }\n\n    .dataframe thead th {\n        text-align: right;\n    }\n</style>\n<table border=\"1\" class=\"dataframe\">\n  <thead>\n    <tr style=\"text-align: right;\">\n      <th></th>\n      <th>ID</th>\n      <th>title</th>\n      <th>text</th>\n      <th>label</th>\n    </tr>\n  </thead>\n  <tbody>\n    <tr>\n      <th>2316</th>\n      <td>4490</td>\n      <td>State Department says it can't find emails fro...</td>\n      <td>The State Department told the Republican Natio...</td>\n      <td>None</td>\n    </tr>\n    <tr>\n      <th>2317</th>\n      <td>8062</td>\n      <td>The ‘P’ in PBS Should Stand for ‘Plutocratic’ ...</td>\n      <td>The ‘P’ in PBS Should Stand for ‘Plutocratic’ ...</td>\n      <td>None</td>\n    </tr>\n    <tr>\n      <th>2318</th>\n      <td>8622</td>\n      <td>Anti-Trump Protesters Are Tools of the Oligarc...</td>\n      <td>Anti-Trump Protesters Are Tools of the Oligar...</td>\n      <td>None</td>\n    </tr>\n    <tr>\n      <th>2319</th>\n      <td>4021</td>\n      <td>In Ethiopia, Obama seeks progress on peace, se...</td>\n      <td>ADDIS ABABA, Ethiopia —President Obama convene...</td>\n      <td>None</td>\n    </tr>\n    <tr>\n      <th>2320</th>\n      <td>4330</td>\n      <td>Jeb Bush Is Suddenly Attacking Trump. Here's W...</td>\n      <td>Jeb Bush Is Suddenly Attacking Trump. Here's W...</td>\n      <td>None</td>\n    </tr>\n  </tbody>\n</table>\n</div>"
     },
     "metadata": {}
    }
   ]
  },
  {
   "cell_type": "markdown",
   "source": [
    "# Data Preprocessing"
   ],
   "metadata": {
    "id": "bobflqPO3rlQ",
    "cell_id": "00036-ae485ea2-9338-452c-9c22-ba275fb1823a",
    "deepnote_cell_type": "markdown"
   }
  },
  {
   "cell_type": "markdown",
   "source": [
    "In this part we will be cleaning the articles with the help of different NLP techniques, of which we will first explain the concept and its importance."
   ],
   "metadata": {
    "id": "_gFg-F2d3rlR",
    "cell_id": "00037-e3b8b764-af81-4996-9500-50b90408fcc8",
    "deepnote_cell_type": "markdown"
   }
  },
  {
   "cell_type": "markdown",
   "source": [
    "In order to take into account the title in our accuracy prediction, we created an extra column that combines text and title. We will not do separate predictions on the title since these might classify as e.g. Fake news, whether the actual text with more explanation tells a Real story."
   ],
   "metadata": {
    "id": "CLS2o4Xd3rlR",
    "cell_id": "00038-24c631da-b916-4cac-8eb0-f6dbd3d85caa",
    "deepnote_cell_type": "markdown"
   }
  },
  {
   "cell_type": "code",
   "metadata": {
    "colab": {
     "base_uri": "https://localhost:8080/",
     "height": 285
    },
    "id": "xvkJtg0o3rlS",
    "outputId": "16e07b2d-86ca-47de-bbc2-006cf3305a41",
    "cell_id": "00039-0234a337-5c79-42c4-86b5-aa0978655d73",
    "deepnote_output_heights": [
     177
    ],
    "deepnote_to_be_reexecuted": false,
    "source_hash": "4e4dfcde",
    "execution_start": 1643886043657,
    "execution_millis": 160,
    "deepnote_cell_type": "code"
   },
   "source": [
    "df['title_and_text'] = df['title'] +' '+ df['text']\n",
    "df.tail()"
   ],
   "execution_count": 46,
   "outputs": [
    {
     "output_type": "execute_result",
     "execution_count": 46,
     "data": {
      "application/vnd.deepnote.dataframe.v3+json": {
       "column_count": 5,
       "row_count": 5,
       "columns": [
        {
         "name": "ID",
         "dtype": "int64",
         "stats": {
          "unique_count": 5,
          "nan_count": 0,
          "min": "4021",
          "max": "8622",
          "histogram": [
           {
            "bin_start": 4021,
            "bin_end": 4481.1,
            "count": 2
           },
           {
            "bin_start": 4481.1,
            "bin_end": 4941.2,
            "count": 1
           },
           {
            "bin_start": 4941.2,
            "bin_end": 5401.3,
            "count": 0
           },
           {
            "bin_start": 5401.3,
            "bin_end": 5861.4,
            "count": 0
           },
           {
            "bin_start": 5861.4,
            "bin_end": 6321.5,
            "count": 0
           },
           {
            "bin_start": 6321.5,
            "bin_end": 6781.6,
            "count": 0
           },
           {
            "bin_start": 6781.6,
            "bin_end": 7241.700000000001,
            "count": 0
           },
           {
            "bin_start": 7241.700000000001,
            "bin_end": 7701.8,
            "count": 0
           },
           {
            "bin_start": 7701.8,
            "bin_end": 8161.900000000001,
            "count": 1
           },
           {
            "bin_start": 8161.900000000001,
            "bin_end": 8622,
            "count": 1
           }
          ]
         }
        },
        {
         "name": "title",
         "dtype": "object",
         "stats": {
          "unique_count": 5,
          "nan_count": 0,
          "categories": [
           {
            "name": "State Department says it can't find emails from Clinton IT specialist",
            "count": 1
           },
           {
            "name": "The ‘P’ in PBS Should Stand for ‘Plutocratic’ or ‘Pentagon’",
            "count": 1
           },
           {
            "name": "3 others",
            "count": 3
           }
          ]
         }
        },
        {
         "name": "text",
         "dtype": "object",
         "stats": {
          "unique_count": 5,
          "nan_count": 0,
          "categories": [
           {
            "name": "The State Department told the Republican National Committee that it could not find any emails to or from Hillary Clinton's former IT specialist, who managed her private email server during her tenure as secretary of state before going on to work for the agency, according to a court filing made public Monday.\n\n\n\nThe government's revelation in U.S. District Court in Washington came in answer to a lawsuit by the Republican National Committee. The RNC had sued over its public records request for all work-related emails sent to or received by Clinton's former aide, Bryan Pagliano, between 2009 and 2013, the years of Clinton's tenure as America's top diplomat. The lawsuit also pressed for other State Department records from the Clinton era.\n\nThe RNC's filing said lawyers for the agency had informed them in discussions that \"the State Department has represented that no responsive records exist\" for any Pagliano emails. Pagliano was hired at the agency after reportedly setting up Clinton's server in 2009, but the lack of any official State Department emails raises the question whether he limited his email traffic using a private account, much like Clinton did during her four years as secretary, or whether his government emails were deleted.\n\n\n\nA State Department official said Monday that the agency possessed emails from Pagliano from the period after Clinton's term had ended, when he continued to work as a technology contractor.\n\nAgency spokeswoman Elizabeth Trudeau then added Monday evening that some Pagliano emails dating from Clinton's tenure had been recovered from agency officials' files and turned over to other organizations, including Senate investigators.\n\n\n\n\"We have previously produced through FOIA and to Congress emails sent and received by Mr. Pagliano during Secretary Clinton's tenure,\" Trudeau said in a public statement. At least one email, which was sent in November 2012 to Clinton from Pagliano -- but possibly from his private email address -- was released as part of 30,000 Clinton emails made public by the agency over the past year.\n\n\n\nA spokesman for the RNC said the organization stood by its description of the discussions with lawyers for the State Department. The group said in its filing that \"the State Department has represented that no responsive records exist.\"\n\n\n\nRaj Shah, the RNC spokesman, added, \"It's hard to believe that an IT staffer who set up Hillary Clinton's reckless email server never sent or received a single work-related email in the four years he worked at the State Department.\" Clinton's campaign officials declined to comment in response to questions from The Associated Press.\n\n\n\nTrudeau said the State Department is working with Congress and several public records requesters to provide relevant material. She also said agency officials continue to search for \"Mr. Pagliano's emails, which the department may have otherwise retained.\" Trudeau also said the department would respond further to the RNC in court.\n\n\n\nState Department officials told Senate investigators last year they could not find a file containing Pagliano's work emails during Clinton's tenure, an assertion first reported by Politico.\n\n\n\nFox News reported in March that Pagliano has revealed several details about Clinton's personal email system to investigators, including who had access to it– as well as when and what devices were used. An intelligence source close to the case told Fox News that Pagliano has been a \"devastating witness\" to Clinton.\n\nThe one email sent by Pagliano that surfaced among Clinton's 30,000 emails was sent to Clinton was a November 2012 birthday greeting. He wished her \"Happy Birthday Madam Secretary. To many more!\"\n\n\n\nPagliano's email address was censored, unlike numerous official State Department addresses that are listed in Clinton's emails -- suggesting he may have sent the message from a private address.\n\nClinton did not reply directly to Pagliano. Instead, she sent a copy of an email to an aide with the instruction \"Pls respond.\"\n\n \n\n The Associated Press contributed to this report.",
            "count": 1
           },
           {
            "name": "The ‘P’ in PBS Should Stand for ‘Plutocratic’ or ‘Pentagon’ Posted on Oct 27, 2016 ( WikiMedia ) \nIn a television commercial that the Public Broadcasting System (PBS) ran for years, “PBS NewsHour” host Gwen Ifill declared that she loved her job because it allowed her to “ask not only all of my questions but also and more importantly all of your questions .” This assertion was and remains absurd, just like her network’s regular fundraising claim to be free of corporate sponsors. \nThe claim has long been contradicted by the string of corporate-image commercials (purchased by leading financial, defense, auto, insurance and rail corporations) that appear before the network’s nightly “NewsHour” broadcast—along with a list of corporate-sponsored foundations and superwealthy individuals who pay for the show, along with “regular viewers like you.” \nConsistent with those commercials and despite its name, the news and commentary one finds on PBS is in rich tune with the narrow capitalist parameters of acceptable coverage and debate that typify the more fully and explicitly for-profit and commercialized corporate media. As progressive journalist David Sirota suggested two years ago , reflecting on recent investigations showing that supermoneyed, right-wing capitalists such as the Koch brothers and Texas billionaire John Arnold had (along with more liberal software mogul Bill Gates) influenced PBS content through multimillion-dollar donations, the “P” in PBS often seems to more properly stand for “Plutocratic,” not “Public.” \nAdvertisement Square, Site wide \nNone of this should be surprising to anyone familiar with the distinctively big-business-dominated history of U.S. broadcast media . Because the United States fails to provide anything like adequate funding for public broadcasting, both PBS and National Public Radio (a regular vehicle for neoliberal business ideology) depend upon foundations, corporations and wealthy individuals to pay for much of their programming. Beneath their standard claims to have no interest in shaping public media content, these private funders have bottom-line agendas, meaning that their contributions come with strings attached—strings that undermine the integrity of the “independent” journalism they bankroll. (For what it’s worth, between 1994 and 2014, the “NewsHour” was primarily owned by the for-profit firm Liberty Media . Liberty Media was run by the conservative and politically active billionaire John Malone, who had a majority stake in MacNeil/Lehrer Productions, the show’s producer.) \nThe Pentagon Broadcasting System? \nWhat might seem more surprising, perhaps, is the remarkable extent to which the “P” in PBS often seems to stand for “Pentagon,” or perhaps “Presidential,” when it comes to foreign policy content. Whatever the global issue of the day or week, “NewsHour” anchors and their invited “experts” can be counted on to report and reflect in accord with the doctrinal assumption that Washington always operates with the best of intentions. They almost uniformly treat the U.S. as a great, benevolent and indispensable force for freedom, democracy, security, peace and order in a dangerous world full of evil and deadly actors. \nThe show’s invited commentators are drawn primarily from the nation’s imperial establishment. They are commonly current or retired insiders from within the Pentagon, the White House, the “intelligence community” and/or the nation’s elite network of foreign policy think tanks: the Council on Foreign Relations (the granddaddy of all U.S. ruling-class think tanks ), the Carnegie Endowment for International Peace, the Aspen Institute, the Atlantic Council, the Rand Corp. and the Hoover Institution, to name a handful. “NewsHour” anchors and guests generally agree that the United States’ officially designated enemies are malevolent bad guys who need to be contained, controlled and even attacked by the ultimate good guy, Uncle Sam. \nNot surprisingly, the long and ongoing record of U.S. imperial arrogance and criminality (more on that below) is swept down George Orwell’s memory hole even as new entries are added to the ugly registry. When reported by the “NewsHour,” horrific crimes committed by the U.S. military are always treated as well-intended mistakes. Along with the rest of the mainstream U.S. media, the “NewsHour” “insist[s] that Russia deliberately bombs hospitals, etc., whereas if we do it, it is, of course, an accident .” \nThere’s some room for disagreement between and among the show’s invited experts—including the show’s semi-loopy foreign policy authority, Margaret Warner—about specific U.S. foreign policy tactics, strategies and actions. There’s no space for serious debate about the immorality, lawlessness or imperial nature of that policy. On the rare occasions “NewsHour” anchors seem to challenge guests from the White House or Pentagon on foreign policy matters, it is generally to ask why the U.S. isn’t going harder at the officially certified bad guys. \nAmerica as Umpire, Not Empire \nThe foreign policy coverage and commentary doesn’t get much better in the documentary division of PBS. A recent documentary (first aired nationally last week) shown by PBS bears the risible title “American Umpire”—an obvious World Series season play on what the filmmakers see as the preposterous notion of an American empire. It is narrated by ex-Marine and former “NewsHour” host and producer Jim Lehrer. Developed by the right-wing Hoover Institution and “targeted for PBS” (the organization’s own revealing phrase), “American Umpire” takes the doctrinal “American exceptionalist,” U.S.-good-and-civilized-rest-of-world-dangerous-and-bad narrative to absurd lengths. \nIt provides extensive “expert” commentary from such former imperial operatives as Madeline Albright (the onetime U.S. secretary of state who led the charge to criminally bomb Serbia and who went on CBS’ “60 Minutes” to say that the death of more than half a million Iraqi children killed by Washington-led “economic sanctions” was “a price worth paying” for the advance of U.S. foreign policy goals), Condoleezza Rice (George W. Bush’s neoconservative national security adviser before and during the arch-criminal U.S. invasion of Iraq), Gen. Jim “Mad Dog” Mattis (an Iraq invasion commander and a former chief of the U.S. Central Command, who two years ago told a San Diego audience that “it’s fun to shoot people”), George Schultz (the Reagan-era secretary of state who called the Sandinista government in Nicaragua “a cancer in our own land mass” that must be “cut out”) and Karl Eikenberry (a retired Army lieutenant general who commanded U.S. forces in Afghanistan 10 years ago). \nWith further commentary from a handful of mostly conservative academicians—above all the nationalist Texas A&M historian Elizabeth Cobbs ( author of a book on which the documentary is based), “American Umpire” portrays 20th and 21st century U.S. foreign policy as nothing more than a noble effort to selflessly provide welcome and fair rules and discipline on the rest of a childish, dangerous and reckless planet (think “Lord of the Flies”) that lacks the exceptional historical experience bequeathed to U.S. leaders by the nation’s far-seeing Founding Fathers. The only substantive criticism of U.S. foreign policy in “American Umpire” is the complaint, voiced by numerous interview subjects, that America harms itself to the benefit of others (the Europeans above all) by taking upon its shoulders too much of the burden of benevolently policing the planet. We are just too good for our own good. \nOur Real Task \nThere is not space here to discuss in responsible detail the epic historical deletions and distortions this narrative imposes. The omissions are staggering. They range from the slaughter of hundreds of thousands of Filipinos resisting U.S. imperial invasion and occupation at the last century’s outset to the restoration of de facto slavery in Haiti and the Dominican Republic after World War I; the unnecessary atom bombing of Hiroshima and, even worse, of Nagasaki (really the first shots of the Cold War ); the toppling of more than 50 governments by U.S. coups and invasions since the end of World War II; the liquidation of perhaps as many as 5 million Southeast Asians in the so-called Vietnam War between 1962 and 1975; the Cold War-era sponsorship of Third World fascism from Chile to South Africa and Indonesia; the attempted assassinations of Fidel Castro and numerous CIA-directed terror bombings in socialist Cuba; the near instigation of global thermonuclear war on at least three occasions; the development and sponsorship of Osama bin Laden and other radically arch-reactionary, jihadist Muslim, paramilitary forces to fight the Cold War against the Soviet Union in Afghanistan; the “Highway of Death,” when U.S. warplanes engaged in an aerial traffic jam as they rushed to slaughter tens of thousands of surrendered Iraqi troops retreating from Iraq in 1991; the coordination and sponsorship of a mass-murderous civil war on peasants, workers and intellectuals (with a death toll well into the many hundreds of thousands) in Central America during the 1970s and 1980s; the disastrous U.S. invasion of Iraq (responsible for at least 1 million Iraqi deaths); the calamitous U.S. toppling of the Libyan Gadhafi regime; the calamitous destabilization of the Syrian regime; the U.S. funding and encouragement of civil war in central Africa; the enablement and protection of a vicious right-wing coup in Honduras in the spring and summer of 2009; the criminal U.S. global war of terror, replete with rampant “targeted assassinations,” torture, illegal renditions, endless drone war and special-forces killing operations across the Muslim world and other places as well. \n“American Umpire” hides these horrific transgressions and the imperial calculations behind much of U.S. foreign policy past and present. As numerous key U.S. planning documents reveal over and over, the goal of that policy was to maintain and, if necessary, install governments that “favor[ed] private investment of domestic and foreign capital, production for export, and the right to bring profits out of the country.” Given the United States’ remarkable possession of half the world’s capital after World War II, Washington elites had no doubt that U.S. investors and corporations would profit the most. Internally, the basic, selfish, national and imperial objectives were openly and candidly discussed. As the “liberal” and “dovish” imperialist, top State Department planner and key Cold War architect George F. Kennan explained in Policy Planning Study 23, a critical 1948 document: “We have about 50% of the world’s wealth, but only 6.3% of its population. … In this situation, we cannot fail to be the object of envy and resentment. Our real task in the coming period is to devise a pattern of relationships which will permit us to maintain this position of disparity. … To do so, we will have to dispense with all sentimentality and day-dreaming. ... The less we are then hampered by idealistic slogans, the better.” \nThe necessity of dispensing with “human rights” and other “sentimental” and “unreal objectives” was especially pressing in the “global south.” Washington assigned the vast periphery of the world economic (capitalist) system—Africa, Latin America, Southeast Asia and the energy-rich and thus strategically hypersignificant Middle East—a less than flattering role. It was to “fulfill its major function as a source of raw materials and a market” ( actual State Department language ) for the great industrial (capitalist) nations (excluding “socialist” Russia and its satellites). It was to be exploited both for the benefit of U.S. corporations/investors and for the reconstruction of Europe and Japan as prosperous U.S. trading and investment partners organized on properly capitalist principles that were hostile to the Soviet bloc. \n“Democracy” was fine as a slogan and benevolent, idealistic-sounding mission statement when it came to marketing this core, underlying, ultra-imperialist U.S. policy at home and abroad. Because most people in the “Third World” had no interest in neocolonial subordination and subscribed to what U.S. intelligence officials considered the heretical “idea that government has direct responsibility for the welfare of its people” (what post-World War II U.S. planners called “communism”), Washington’s real-life commitment to popular governance abroad was strictly qualified, to say the least. “Democracy” was suitable to the U.S. as long as its outcomes comported with the interests of U.S. investors/corporations and related U.S. geopolitical objectives. It had to be abandoned, undermined and/or crushed when it threatened those investors/corporations and the broader imperatives of business rule to any significant degree. As President Richard Nixon’s coldblooded National Security Adviser Henry Kissinger explained in June 1970, three years before the U.S. sponsored a fascist coup that overthrew Chile’s democratically elected leftist President Salvador Allende, “I don’t see why we need to stand by and watch a country go Communist because of the irresponsibility of its own people.” \nThe selfish imperial cynicism of U.S. foreign policy continues to this day, into the post-Cold War and post-9/11 era. As leading Dutch political scientists Bastiaann van Apeldoorn and Nana de Graaff write in their important new volume , “American Grand Strategy and Corporate Elite Networks: The Open Door Since the End of the Cold War,” “From the end of the 19th nineteenth century onward, American grand strategy has pursued a liberal expansionism aimed at the creation of a global hegemony premised upon open, “free” markets, to which global capital—and, above all, U.S. transnational capital—has full access. … The global Open Door has continued to define the ends of the American grand strategy throughout the post-Cold War era.” Because—as during and before—the Cold War’s end, Washington’s commitment to “democracy” and “human rights” is conditional and hypocritical: The noble principles are fine insofar as they serve the free-market hegemony of global and especially U.S. transnational capital. They are dispensed with, even as U.S. policymakers trumpet them, when they do not.",
            "count": 1
           },
           {
            "name": "3 others",
            "count": 3
           }
          ]
         }
        },
        {
         "name": "label",
         "dtype": "object",
         "stats": {
          "unique_count": 0,
          "nan_count": 5,
          "categories": [
           {
            "name": "Missing",
            "count": 5
           }
          ]
         }
        },
        {
         "name": "title_and_text",
         "dtype": "object",
         "stats": {
          "unique_count": 5,
          "nan_count": 0,
          "categories": [
           {
            "name": "State Department says it can't find emails from Clinton IT specialist The State Department told the Republican National Committee that it could not find any emails to or from Hillary Clinton's former IT specialist, who managed her private email server during her tenure as secretary of state before going on to work for the agency, according to a court filing made public Monday.\n\n\n\nThe government's revelation in U.S. District Court in Washington came in answer to a lawsuit by the Republican National Committee. The RNC had sued over its public records request for all work-related emails sent to or received by Clinton's former aide, Bryan Pagliano, between 2009 and 2013, the years of Clinton's tenure as America's top diplomat. The lawsuit also pressed for other State Department records from the Clinton era.\n\nThe RNC's filing said lawyers for the agency had informed them in discussions that \"the State Department has represented that no responsive records exist\" for any Pagliano emails. Pagliano was hired at the agency after reportedly setting up Clinton's server in 2009, but the lack of any official State Department emails raises the question whether he limited his email traffic using a private account, much like Clinton did during her four years as secretary, or whether his government emails were deleted.\n\n\n\nA State Department official said Monday that the agency possessed emails from Pagliano from the period after Clinton's term had ended, when he continued to work as a technology contractor.\n\nAgency spokeswoman Elizabeth Trudeau then added Monday evening that some Pagliano emails dating from Clinton's tenure had been recovered from agency officials' files and turned over to other organizations, including Senate investigators.\n\n\n\n\"We have previously produced through FOIA and to Congress emails sent and received by Mr. Pagliano during Secretary Clinton's tenure,\" Trudeau said in a public statement. At least one email, which was sent in November 2012 to Clinton from Pagliano -- but possibly from his private email address -- was released as part of 30,000 Clinton emails made public by the agency over the past year.\n\n\n\nA spokesman for the RNC said the organization stood by its description of the discussions with lawyers for the State Department. The group said in its filing that \"the State Department has represented that no responsive records exist.\"\n\n\n\nRaj Shah, the RNC spokesman, added, \"It's hard to believe that an IT staffer who set up Hillary Clinton's reckless email server never sent or received a single work-related email in the four years he worked at the State Department.\" Clinton's campaign officials declined to comment in response to questions from The Associated Press.\n\n\n\nTrudeau said the State Department is working with Congress and several public records requesters to provide relevant material. She also said agency officials continue to search for \"Mr. Pagliano's emails, which the department may have otherwise retained.\" Trudeau also said the department would respond further to the RNC in court.\n\n\n\nState Department officials told Senate investigators last year they could not find a file containing Pagliano's work emails during Clinton's tenure, an assertion first reported by Politico.\n\n\n\nFox News reported in March that Pagliano has revealed several details about Clinton's personal email system to investigators, including who had access to it– as well as when and what devices were used. An intelligence source close to the case told Fox News that Pagliano has been a \"devastating witness\" to Clinton.\n\nThe one email sent by Pagliano that surfaced among Clinton's 30,000 emails was sent to Clinton was a November 2012 birthday greeting. He wished her \"Happy Birthday Madam Secretary. To many more!\"\n\n\n\nPagliano's email address was censored, unlike numerous official State Department addresses that are listed in Clinton's emails -- suggesting he may have sent the message from a private address.\n\nClinton did not reply directly to Pagliano. Instead, she sent a copy of an email to an aide with the instruction \"Pls respond.\"\n\n \n\n The Associated Press contributed to this report.",
            "count": 1
           },
           {
            "name": "The ‘P’ in PBS Should Stand for ‘Plutocratic’ or ‘Pentagon’ The ‘P’ in PBS Should Stand for ‘Plutocratic’ or ‘Pentagon’ Posted on Oct 27, 2016 ( WikiMedia ) \nIn a television commercial that the Public Broadcasting System (PBS) ran for years, “PBS NewsHour” host Gwen Ifill declared that she loved her job because it allowed her to “ask not only all of my questions but also and more importantly all of your questions .” This assertion was and remains absurd, just like her network’s regular fundraising claim to be free of corporate sponsors. \nThe claim has long been contradicted by the string of corporate-image commercials (purchased by leading financial, defense, auto, insurance and rail corporations) that appear before the network’s nightly “NewsHour” broadcast—along with a list of corporate-sponsored foundations and superwealthy individuals who pay for the show, along with “regular viewers like you.” \nConsistent with those commercials and despite its name, the news and commentary one finds on PBS is in rich tune with the narrow capitalist parameters of acceptable coverage and debate that typify the more fully and explicitly for-profit and commercialized corporate media. As progressive journalist David Sirota suggested two years ago , reflecting on recent investigations showing that supermoneyed, right-wing capitalists such as the Koch brothers and Texas billionaire John Arnold had (along with more liberal software mogul Bill Gates) influenced PBS content through multimillion-dollar donations, the “P” in PBS often seems to more properly stand for “Plutocratic,” not “Public.” \nAdvertisement Square, Site wide \nNone of this should be surprising to anyone familiar with the distinctively big-business-dominated history of U.S. broadcast media . Because the United States fails to provide anything like adequate funding for public broadcasting, both PBS and National Public Radio (a regular vehicle for neoliberal business ideology) depend upon foundations, corporations and wealthy individuals to pay for much of their programming. Beneath their standard claims to have no interest in shaping public media content, these private funders have bottom-line agendas, meaning that their contributions come with strings attached—strings that undermine the integrity of the “independent” journalism they bankroll. (For what it’s worth, between 1994 and 2014, the “NewsHour” was primarily owned by the for-profit firm Liberty Media . Liberty Media was run by the conservative and politically active billionaire John Malone, who had a majority stake in MacNeil/Lehrer Productions, the show’s producer.) \nThe Pentagon Broadcasting System? \nWhat might seem more surprising, perhaps, is the remarkable extent to which the “P” in PBS often seems to stand for “Pentagon,” or perhaps “Presidential,” when it comes to foreign policy content. Whatever the global issue of the day or week, “NewsHour” anchors and their invited “experts” can be counted on to report and reflect in accord with the doctrinal assumption that Washington always operates with the best of intentions. They almost uniformly treat the U.S. as a great, benevolent and indispensable force for freedom, democracy, security, peace and order in a dangerous world full of evil and deadly actors. \nThe show’s invited commentators are drawn primarily from the nation’s imperial establishment. They are commonly current or retired insiders from within the Pentagon, the White House, the “intelligence community” and/or the nation’s elite network of foreign policy think tanks: the Council on Foreign Relations (the granddaddy of all U.S. ruling-class think tanks ), the Carnegie Endowment for International Peace, the Aspen Institute, the Atlantic Council, the Rand Corp. and the Hoover Institution, to name a handful. “NewsHour” anchors and guests generally agree that the United States’ officially designated enemies are malevolent bad guys who need to be contained, controlled and even attacked by the ultimate good guy, Uncle Sam. \nNot surprisingly, the long and ongoing record of U.S. imperial arrogance and criminality (more on that below) is swept down George Orwell’s memory hole even as new entries are added to the ugly registry. When reported by the “NewsHour,” horrific crimes committed by the U.S. military are always treated as well-intended mistakes. Along with the rest of the mainstream U.S. media, the “NewsHour” “insist[s] that Russia deliberately bombs hospitals, etc., whereas if we do it, it is, of course, an accident .” \nThere’s some room for disagreement between and among the show’s invited experts—including the show’s semi-loopy foreign policy authority, Margaret Warner—about specific U.S. foreign policy tactics, strategies and actions. There’s no space for serious debate about the immorality, lawlessness or imperial nature of that policy. On the rare occasions “NewsHour” anchors seem to challenge guests from the White House or Pentagon on foreign policy matters, it is generally to ask why the U.S. isn’t going harder at the officially certified bad guys. \nAmerica as Umpire, Not Empire \nThe foreign policy coverage and commentary doesn’t get much better in the documentary division of PBS. A recent documentary (first aired nationally last week) shown by PBS bears the risible title “American Umpire”—an obvious World Series season play on what the filmmakers see as the preposterous notion of an American empire. It is narrated by ex-Marine and former “NewsHour” host and producer Jim Lehrer. Developed by the right-wing Hoover Institution and “targeted for PBS” (the organization’s own revealing phrase), “American Umpire” takes the doctrinal “American exceptionalist,” U.S.-good-and-civilized-rest-of-world-dangerous-and-bad narrative to absurd lengths. \nIt provides extensive “expert” commentary from such former imperial operatives as Madeline Albright (the onetime U.S. secretary of state who led the charge to criminally bomb Serbia and who went on CBS’ “60 Minutes” to say that the death of more than half a million Iraqi children killed by Washington-led “economic sanctions” was “a price worth paying” for the advance of U.S. foreign policy goals), Condoleezza Rice (George W. Bush’s neoconservative national security adviser before and during the arch-criminal U.S. invasion of Iraq), Gen. Jim “Mad Dog” Mattis (an Iraq invasion commander and a former chief of the U.S. Central Command, who two years ago told a San Diego audience that “it’s fun to shoot people”), George Schultz (the Reagan-era secretary of state who called the Sandinista government in Nicaragua “a cancer in our own land mass” that must be “cut out”) and Karl Eikenberry (a retired Army lieutenant general who commanded U.S. forces in Afghanistan 10 years ago). \nWith further commentary from a handful of mostly conservative academicians—above all the nationalist Texas A&M historian Elizabeth Cobbs ( author of a book on which the documentary is based), “American Umpire” portrays 20th and 21st century U.S. foreign policy as nothing more than a noble effort to selflessly provide welcome and fair rules and discipline on the rest of a childish, dangerous and reckless planet (think “Lord of the Flies”) that lacks the exceptional historical experience bequeathed to U.S. leaders by the nation’s far-seeing Founding Fathers. The only substantive criticism of U.S. foreign policy in “American Umpire” is the complaint, voiced by numerous interview subjects, that America harms itself to the benefit of others (the Europeans above all) by taking upon its shoulders too much of the burden of benevolently policing the planet. We are just too good for our own good. \nOur Real Task \nThere is not space here to discuss in responsible detail the epic historical deletions and distortions this narrative imposes. The omissions are staggering. They range from the slaughter of hundreds of thousands of Filipinos resisting U.S. imperial invasion and occupation at the last century’s outset to the restoration of de facto slavery in Haiti and the Dominican Republic after World War I; the unnecessary atom bombing of Hiroshima and, even worse, of Nagasaki (really the first shots of the Cold War ); the toppling of more than 50 governments by U.S. coups and invasions since the end of World War II; the liquidation of perhaps as many as 5 million Southeast Asians in the so-called Vietnam War between 1962 and 1975; the Cold War-era sponsorship of Third World fascism from Chile to South Africa and Indonesia; the attempted assassinations of Fidel Castro and numerous CIA-directed terror bombings in socialist Cuba; the near instigation of global thermonuclear war on at least three occasions; the development and sponsorship of Osama bin Laden and other radically arch-reactionary, jihadist Muslim, paramilitary forces to fight the Cold War against the Soviet Union in Afghanistan; the “Highway of Death,” when U.S. warplanes engaged in an aerial traffic jam as they rushed to slaughter tens of thousands of surrendered Iraqi troops retreating from Iraq in 1991; the coordination and sponsorship of a mass-murderous civil war on peasants, workers and intellectuals (with a death toll well into the many hundreds of thousands) in Central America during the 1970s and 1980s; the disastrous U.S. invasion of Iraq (responsible for at least 1 million Iraqi deaths); the calamitous U.S. toppling of the Libyan Gadhafi regime; the calamitous destabilization of the Syrian regime; the U.S. funding and encouragement of civil war in central Africa; the enablement and protection of a vicious right-wing coup in Honduras in the spring and summer of 2009; the criminal U.S. global war of terror, replete with rampant “targeted assassinations,” torture, illegal renditions, endless drone war and special-forces killing operations across the Muslim world and other places as well. \n“American Umpire” hides these horrific transgressions and the imperial calculations behind much of U.S. foreign policy past and present. As numerous key U.S. planning documents reveal over and over, the goal of that policy was to maintain and, if necessary, install governments that “favor[ed] private investment of domestic and foreign capital, production for export, and the right to bring profits out of the country.” Given the United States’ remarkable possession of half the world’s capital after World War II, Washington elites had no doubt that U.S. investors and corporations would profit the most. Internally, the basic, selfish, national and imperial objectives were openly and candidly discussed. As the “liberal” and “dovish” imperialist, top State Department planner and key Cold War architect George F. Kennan explained in Policy Planning Study 23, a critical 1948 document: “We have about 50% of the world’s wealth, but only 6.3% of its population. … In this situation, we cannot fail to be the object of envy and resentment. Our real task in the coming period is to devise a pattern of relationships which will permit us to maintain this position of disparity. … To do so, we will have to dispense with all sentimentality and day-dreaming. ... The less we are then hampered by idealistic slogans, the better.” \nThe necessity of dispensing with “human rights” and other “sentimental” and “unreal objectives” was especially pressing in the “global south.” Washington assigned the vast periphery of the world economic (capitalist) system—Africa, Latin America, Southeast Asia and the energy-rich and thus strategically hypersignificant Middle East—a less than flattering role. It was to “fulfill its major function as a source of raw materials and a market” ( actual State Department language ) for the great industrial (capitalist) nations (excluding “socialist” Russia and its satellites). It was to be exploited both for the benefit of U.S. corporations/investors and for the reconstruction of Europe and Japan as prosperous U.S. trading and investment partners organized on properly capitalist principles that were hostile to the Soviet bloc. \n“Democracy” was fine as a slogan and benevolent, idealistic-sounding mission statement when it came to marketing this core, underlying, ultra-imperialist U.S. policy at home and abroad. Because most people in the “Third World” had no interest in neocolonial subordination and subscribed to what U.S. intelligence officials considered the heretical “idea that government has direct responsibility for the welfare of its people” (what post-World War II U.S. planners called “communism”), Washington’s real-life commitment to popular governance abroad was strictly qualified, to say the least. “Democracy” was suitable to the U.S. as long as its outcomes comported with the interests of U.S. investors/corporations and related U.S. geopolitical objectives. It had to be abandoned, undermined and/or crushed when it threatened those investors/corporations and the broader imperatives of business rule to any significant degree. As President Richard Nixon’s coldblooded National Security Adviser Henry Kissinger explained in June 1970, three years before the U.S. sponsored a fascist coup that overthrew Chile’s democratically elected leftist President Salvador Allende, “I don’t see why we need to stand by and watch a country go Communist because of the irresponsibility of its own people.” \nThe selfish imperial cynicism of U.S. foreign policy continues to this day, into the post-Cold War and post-9/11 era. As leading Dutch political scientists Bastiaann van Apeldoorn and Nana de Graaff write in their important new volume , “American Grand Strategy and Corporate Elite Networks: The Open Door Since the End of the Cold War,” “From the end of the 19th nineteenth century onward, American grand strategy has pursued a liberal expansionism aimed at the creation of a global hegemony premised upon open, “free” markets, to which global capital—and, above all, U.S. transnational capital—has full access. … The global Open Door has continued to define the ends of the American grand strategy throughout the post-Cold War era.” Because—as during and before—the Cold War’s end, Washington’s commitment to “democracy” and “human rights” is conditional and hypocritical: The noble principles are fine insofar as they serve the free-market hegemony of global and especially U.S. transnational capital. They are dispensed with, even as U.S. policymakers trumpet them, when they do not.",
            "count": 1
           },
           {
            "name": "3 others",
            "count": 3
           }
          ]
         }
        },
        {
         "name": "_deepnote_index_column",
         "dtype": "int64"
        }
       ],
       "rows": [
        {
         "ID": 4490,
         "title": "State Department says it can't find emails from Clinton IT specialist",
         "text": "The State Department told the Republican National Committee that it could not find any emails to or…",
         "label": "None",
         "title_and_text": "State Department says it can't find emails from Clinton IT specialist The State Department told the…",
         "_deepnote_index_column": 2316
        },
        {
         "ID": 8062,
         "title": "The ‘P’ in PBS Should Stand for ‘Plutocratic’ or ‘Pentagon’",
         "text": "The ‘P’ in PBS Should Stand for ‘Plutocratic’ or ‘Pentagon’ Posted on Oct 27, 2016 ( WikiMedia ) \nI…",
         "label": "None",
         "title_and_text": "The ‘P’ in PBS Should Stand for ‘Plutocratic’ or ‘Pentagon’ The ‘P’ in PBS Should Stand for ‘Plutoc…",
         "_deepnote_index_column": 2317
        },
        {
         "ID": 8622,
         "title": "Anti-Trump Protesters Are Tools of the Oligarchy     : Information",
         "text": " Anti-Trump Protesters Are Tools of the Oligarchy Reform always provokes rage on the part of those…",
         "label": "None",
         "title_and_text": "Anti-Trump Protesters Are Tools of the Oligarchy     : Information  Anti-Trump Protesters Are Tools…",
         "_deepnote_index_column": 2318
        },
        {
         "ID": 4021,
         "title": "In Ethiopia, Obama seeks progress on peace, security in East Africa",
         "text": "ADDIS ABABA, Ethiopia —President Obama convened a meeting with the leaders of several East African …",
         "label": "None",
         "title_and_text": "In Ethiopia, Obama seeks progress on peace, security in East Africa ADDIS ABABA, Ethiopia —Presiden…",
         "_deepnote_index_column": 2319
        },
        {
         "ID": 4330,
         "title": "Jeb Bush Is Suddenly Attacking Trump. Here's Why That Matters",
         "text": "Jeb Bush Is Suddenly Attacking Trump. Here's Why That Matters\n\nJeb Bush isn't pulling punches anymo…",
         "label": "None",
         "title_and_text": "Jeb Bush Is Suddenly Attacking Trump. Here's Why That Matters Jeb Bush Is Suddenly Attacking Trump.…",
         "_deepnote_index_column": 2320
        }
       ]
      },
      "text/plain": "        ID                                              title  \\\n2316  4490  State Department says it can't find emails fro...   \n2317  8062  The ‘P’ in PBS Should Stand for ‘Plutocratic’ ...   \n2318  8622  Anti-Trump Protesters Are Tools of the Oligarc...   \n2319  4021  In Ethiopia, Obama seeks progress on peace, se...   \n2320  4330  Jeb Bush Is Suddenly Attacking Trump. Here's W...   \n\n                                                   text label  \\\n2316  The State Department told the Republican Natio...  None   \n2317  The ‘P’ in PBS Should Stand for ‘Plutocratic’ ...  None   \n2318   Anti-Trump Protesters Are Tools of the Oligar...  None   \n2319  ADDIS ABABA, Ethiopia —President Obama convene...  None   \n2320  Jeb Bush Is Suddenly Attacking Trump. Here's W...  None   \n\n                                         title_and_text  \n2316  State Department says it can't find emails fro...  \n2317  The ‘P’ in PBS Should Stand for ‘Plutocratic’ ...  \n2318  Anti-Trump Protesters Are Tools of the Oligarc...  \n2319  In Ethiopia, Obama seeks progress on peace, se...  \n2320  Jeb Bush Is Suddenly Attacking Trump. Here's W...  ",
      "text/html": "<div>\n<style scoped>\n    .dataframe tbody tr th:only-of-type {\n        vertical-align: middle;\n    }\n\n    .dataframe tbody tr th {\n        vertical-align: top;\n    }\n\n    .dataframe thead th {\n        text-align: right;\n    }\n</style>\n<table border=\"1\" class=\"dataframe\">\n  <thead>\n    <tr style=\"text-align: right;\">\n      <th></th>\n      <th>ID</th>\n      <th>title</th>\n      <th>text</th>\n      <th>label</th>\n      <th>title_and_text</th>\n    </tr>\n  </thead>\n  <tbody>\n    <tr>\n      <th>2316</th>\n      <td>4490</td>\n      <td>State Department says it can't find emails fro...</td>\n      <td>The State Department told the Republican Natio...</td>\n      <td>None</td>\n      <td>State Department says it can't find emails fro...</td>\n    </tr>\n    <tr>\n      <th>2317</th>\n      <td>8062</td>\n      <td>The ‘P’ in PBS Should Stand for ‘Plutocratic’ ...</td>\n      <td>The ‘P’ in PBS Should Stand for ‘Plutocratic’ ...</td>\n      <td>None</td>\n      <td>The ‘P’ in PBS Should Stand for ‘Plutocratic’ ...</td>\n    </tr>\n    <tr>\n      <th>2318</th>\n      <td>8622</td>\n      <td>Anti-Trump Protesters Are Tools of the Oligarc...</td>\n      <td>Anti-Trump Protesters Are Tools of the Oligar...</td>\n      <td>None</td>\n      <td>Anti-Trump Protesters Are Tools of the Oligarc...</td>\n    </tr>\n    <tr>\n      <th>2319</th>\n      <td>4021</td>\n      <td>In Ethiopia, Obama seeks progress on peace, se...</td>\n      <td>ADDIS ABABA, Ethiopia —President Obama convene...</td>\n      <td>None</td>\n      <td>In Ethiopia, Obama seeks progress on peace, se...</td>\n    </tr>\n    <tr>\n      <th>2320</th>\n      <td>4330</td>\n      <td>Jeb Bush Is Suddenly Attacking Trump. Here's W...</td>\n      <td>Jeb Bush Is Suddenly Attacking Trump. Here's W...</td>\n      <td>None</td>\n      <td>Jeb Bush Is Suddenly Attacking Trump. Here's W...</td>\n    </tr>\n  </tbody>\n</table>\n</div>"
     },
     "metadata": {}
    }
   ]
  },
  {
   "cell_type": "markdown",
   "source": [
    "preprocess() can be found in python_helper.py\n",
    "Here you can read the explanations of the preprocess steps we took\n",
    "\n",
    "1. lowercase the text\n",
    "\n",
    "This preprocessing step is done so words van later be cross checked with the stopword and pos_tag dictionaries. For future analysis purposes, it could have been benefitial to analyze text with a lot of words in capital letters, by adding a flag variable.\n",
    "\n",
    "2. remove the words counting just one letter\n",
    "\n",
    "Idem step one.\n",
    "\n",
    "3. remove the words that contain numbers\n",
    "\n",
    "Idem step one.\n",
    "\n",
    "4. tokenize the text and remove punctuation\n",
    "\n",
    "We performed tokenization with the base python .string function, to split sentences into words (tokens). \n",
    "\n",
    "5. remove all stop words\n",
    "\n",
    "Relevant analysis of the text depends on the most recurring words. Stopwords including words as \"the\", \"as\" and \"and\" appear a lot in a text, but do not give relevant explanation. For this reason they are removed.\n",
    "\n",
    "6. remove tokens that are empty\n",
    "\n",
    "After tokenization, we have to make sure all tokens taken into account contribute to the label prediction.\n",
    "\n",
    "7. pos tag the text\n",
    "\n",
    "We use the pos_tag function included in the ntlk library. This classifies our tokenized words as a noun, verb, adjective or adverb and adds to the understaning of the articles.\n",
    "\n",
    "8. lemmatize the text\n",
    "\n",
    "In order to normalize the text, we apply lemmatization. In this way, words with the same root are processed equally e.g. when took or taken are read in the text, they are lemmatized to take, infinitive of the two verbs."
   ],
   "metadata": {
    "id": "QOqt7E-y3rlS",
    "cell_id": "00040-b99d5177-89fb-473c-98a4-fc9fe7c48ad0",
    "deepnote_cell_type": "markdown"
   }
  },
  {
   "cell_type": "code",
   "metadata": {
    "id": "3reQ_72R3rlU",
    "colab": {
     "base_uri": "https://localhost:8080/"
    },
    "outputId": "04dae381-9c4e-4494-b36e-ab60bf967d4c",
    "cell_id": "00041-988f25a4-31d5-4062-b56b-ec88c86336a1",
    "deepnote_to_be_reexecuted": false,
    "source_hash": "a1afda90",
    "execution_start": 1643886043835,
    "execution_millis": 304668,
    "deepnote_cell_type": "code"
   },
   "source": [
    "df['preprocessed_text'] = df['title_and_text'].apply(lambda x: preprocess(x))"
   ],
   "execution_count": 47,
   "outputs": []
  },
  {
   "cell_type": "code",
   "metadata": {
    "id": "itUWC5mI3rlU",
    "cell_id": "00042-965c5c52-4db5-4ce5-adb8-58b95c3ceb5b",
    "deepnote_to_be_reexecuted": false,
    "source_hash": "2d1e5afb",
    "execution_start": 1643886348547,
    "execution_millis": 1708,
    "deepnote_cell_type": "code"
   },
   "source": [
    "## Save preprocessed df\n",
    "df.to_csv('ai/dataset/fiability_train_preprocessed.csv', index=False)"
   ],
   "execution_count": 48,
   "outputs": []
  },
  {
   "cell_type": "code",
   "metadata": {
    "id": "4cwGMAFL3rlU",
    "cell_id": "00043-d0cb6508-9f83-44bb-a423-ddf20ec712fd",
    "deepnote_to_be_reexecuted": false,
    "source_hash": "250d2cf",
    "execution_start": 1643886350264,
    "execution_millis": 904,
    "deepnote_cell_type": "code"
   },
   "source": [
    "df = pd.read_csv('ai/dataset/fiability_train_preprocessed.csv')\n",
    "df = df.astype(object).replace(np.nan, 'None')"
   ],
   "execution_count": 49,
   "outputs": []
  },
  {
   "cell_type": "code",
   "metadata": {
    "id": "NvIxSK1l3rlV",
    "colab": {
     "base_uri": "https://localhost:8080/",
     "height": 337
    },
    "outputId": "abacaafa-f9b2-4764-ae77-c11f4f1ebf8b",
    "cell_id": "00044-7e4fdc99-a1af-4f0e-ba8b-446c0ef3d1da",
    "deepnote_output_heights": [
     177
    ],
    "deepnote_to_be_reexecuted": false,
    "source_hash": "838c0c28",
    "execution_start": 1643886351190,
    "execution_millis": 53,
    "deepnote_cell_type": "code"
   },
   "source": [
    "df.tail()"
   ],
   "execution_count": 50,
   "outputs": [
    {
     "output_type": "execute_result",
     "execution_count": 50,
     "data": {
      "application/vnd.deepnote.dataframe.v3+json": {
       "column_count": 6,
       "row_count": 5,
       "columns": [
        {
         "name": "ID",
         "dtype": "int64",
         "stats": {
          "unique_count": 5,
          "nan_count": 0,
          "min": "4021",
          "max": "8622",
          "histogram": [
           {
            "bin_start": 4021,
            "bin_end": 4481.1,
            "count": 2
           },
           {
            "bin_start": 4481.1,
            "bin_end": 4941.2,
            "count": 1
           },
           {
            "bin_start": 4941.2,
            "bin_end": 5401.3,
            "count": 0
           },
           {
            "bin_start": 5401.3,
            "bin_end": 5861.4,
            "count": 0
           },
           {
            "bin_start": 5861.4,
            "bin_end": 6321.5,
            "count": 0
           },
           {
            "bin_start": 6321.5,
            "bin_end": 6781.6,
            "count": 0
           },
           {
            "bin_start": 6781.6,
            "bin_end": 7241.700000000001,
            "count": 0
           },
           {
            "bin_start": 7241.700000000001,
            "bin_end": 7701.8,
            "count": 0
           },
           {
            "bin_start": 7701.8,
            "bin_end": 8161.900000000001,
            "count": 1
           },
           {
            "bin_start": 8161.900000000001,
            "bin_end": 8622,
            "count": 1
           }
          ]
         }
        },
        {
         "name": "title",
         "dtype": "object",
         "stats": {
          "unique_count": 5,
          "nan_count": 0,
          "categories": [
           {
            "name": "State Department says it can't find emails from Clinton IT specialist",
            "count": 1
           },
           {
            "name": "The ‘P’ in PBS Should Stand for ‘Plutocratic’ or ‘Pentagon’",
            "count": 1
           },
           {
            "name": "3 others",
            "count": 3
           }
          ]
         }
        },
        {
         "name": "text",
         "dtype": "object",
         "stats": {
          "unique_count": 5,
          "nan_count": 0,
          "categories": [
           {
            "name": "The State Department told the Republican National Committee that it could not find any emails to or from Hillary Clinton's former IT specialist, who managed her private email server during her tenure as secretary of state before going on to work for the agency, according to a court filing made public Monday.\n\n\n\nThe government's revelation in U.S. District Court in Washington came in answer to a lawsuit by the Republican National Committee. The RNC had sued over its public records request for all work-related emails sent to or received by Clinton's former aide, Bryan Pagliano, between 2009 and 2013, the years of Clinton's tenure as America's top diplomat. The lawsuit also pressed for other State Department records from the Clinton era.\n\nThe RNC's filing said lawyers for the agency had informed them in discussions that \"the State Department has represented that no responsive records exist\" for any Pagliano emails. Pagliano was hired at the agency after reportedly setting up Clinton's server in 2009, but the lack of any official State Department emails raises the question whether he limited his email traffic using a private account, much like Clinton did during her four years as secretary, or whether his government emails were deleted.\n\n\n\nA State Department official said Monday that the agency possessed emails from Pagliano from the period after Clinton's term had ended, when he continued to work as a technology contractor.\n\nAgency spokeswoman Elizabeth Trudeau then added Monday evening that some Pagliano emails dating from Clinton's tenure had been recovered from agency officials' files and turned over to other organizations, including Senate investigators.\n\n\n\n\"We have previously produced through FOIA and to Congress emails sent and received by Mr. Pagliano during Secretary Clinton's tenure,\" Trudeau said in a public statement. At least one email, which was sent in November 2012 to Clinton from Pagliano -- but possibly from his private email address -- was released as part of 30,000 Clinton emails made public by the agency over the past year.\n\n\n\nA spokesman for the RNC said the organization stood by its description of the discussions with lawyers for the State Department. The group said in its filing that \"the State Department has represented that no responsive records exist.\"\n\n\n\nRaj Shah, the RNC spokesman, added, \"It's hard to believe that an IT staffer who set up Hillary Clinton's reckless email server never sent or received a single work-related email in the four years he worked at the State Department.\" Clinton's campaign officials declined to comment in response to questions from The Associated Press.\n\n\n\nTrudeau said the State Department is working with Congress and several public records requesters to provide relevant material. She also said agency officials continue to search for \"Mr. Pagliano's emails, which the department may have otherwise retained.\" Trudeau also said the department would respond further to the RNC in court.\n\n\n\nState Department officials told Senate investigators last year they could not find a file containing Pagliano's work emails during Clinton's tenure, an assertion first reported by Politico.\n\n\n\nFox News reported in March that Pagliano has revealed several details about Clinton's personal email system to investigators, including who had access to it– as well as when and what devices were used. An intelligence source close to the case told Fox News that Pagliano has been a \"devastating witness\" to Clinton.\n\nThe one email sent by Pagliano that surfaced among Clinton's 30,000 emails was sent to Clinton was a November 2012 birthday greeting. He wished her \"Happy Birthday Madam Secretary. To many more!\"\n\n\n\nPagliano's email address was censored, unlike numerous official State Department addresses that are listed in Clinton's emails -- suggesting he may have sent the message from a private address.\n\nClinton did not reply directly to Pagliano. Instead, she sent a copy of an email to an aide with the instruction \"Pls respond.\"\n\n \n\n The Associated Press contributed to this report.",
            "count": 1
           },
           {
            "name": "The ‘P’ in PBS Should Stand for ‘Plutocratic’ or ‘Pentagon’ Posted on Oct 27, 2016 ( WikiMedia ) \nIn a television commercial that the Public Broadcasting System (PBS) ran for years, “PBS NewsHour” host Gwen Ifill declared that she loved her job because it allowed her to “ask not only all of my questions but also and more importantly all of your questions .” This assertion was and remains absurd, just like her network’s regular fundraising claim to be free of corporate sponsors. \nThe claim has long been contradicted by the string of corporate-image commercials (purchased by leading financial, defense, auto, insurance and rail corporations) that appear before the network’s nightly “NewsHour” broadcast—along with a list of corporate-sponsored foundations and superwealthy individuals who pay for the show, along with “regular viewers like you.” \nConsistent with those commercials and despite its name, the news and commentary one finds on PBS is in rich tune with the narrow capitalist parameters of acceptable coverage and debate that typify the more fully and explicitly for-profit and commercialized corporate media. As progressive journalist David Sirota suggested two years ago , reflecting on recent investigations showing that supermoneyed, right-wing capitalists such as the Koch brothers and Texas billionaire John Arnold had (along with more liberal software mogul Bill Gates) influenced PBS content through multimillion-dollar donations, the “P” in PBS often seems to more properly stand for “Plutocratic,” not “Public.” \nAdvertisement Square, Site wide \nNone of this should be surprising to anyone familiar with the distinctively big-business-dominated history of U.S. broadcast media . Because the United States fails to provide anything like adequate funding for public broadcasting, both PBS and National Public Radio (a regular vehicle for neoliberal business ideology) depend upon foundations, corporations and wealthy individuals to pay for much of their programming. Beneath their standard claims to have no interest in shaping public media content, these private funders have bottom-line agendas, meaning that their contributions come with strings attached—strings that undermine the integrity of the “independent” journalism they bankroll. (For what it’s worth, between 1994 and 2014, the “NewsHour” was primarily owned by the for-profit firm Liberty Media . Liberty Media was run by the conservative and politically active billionaire John Malone, who had a majority stake in MacNeil/Lehrer Productions, the show’s producer.) \nThe Pentagon Broadcasting System? \nWhat might seem more surprising, perhaps, is the remarkable extent to which the “P” in PBS often seems to stand for “Pentagon,” or perhaps “Presidential,” when it comes to foreign policy content. Whatever the global issue of the day or week, “NewsHour” anchors and their invited “experts” can be counted on to report and reflect in accord with the doctrinal assumption that Washington always operates with the best of intentions. They almost uniformly treat the U.S. as a great, benevolent and indispensable force for freedom, democracy, security, peace and order in a dangerous world full of evil and deadly actors. \nThe show’s invited commentators are drawn primarily from the nation’s imperial establishment. They are commonly current or retired insiders from within the Pentagon, the White House, the “intelligence community” and/or the nation’s elite network of foreign policy think tanks: the Council on Foreign Relations (the granddaddy of all U.S. ruling-class think tanks ), the Carnegie Endowment for International Peace, the Aspen Institute, the Atlantic Council, the Rand Corp. and the Hoover Institution, to name a handful. “NewsHour” anchors and guests generally agree that the United States’ officially designated enemies are malevolent bad guys who need to be contained, controlled and even attacked by the ultimate good guy, Uncle Sam. \nNot surprisingly, the long and ongoing record of U.S. imperial arrogance and criminality (more on that below) is swept down George Orwell’s memory hole even as new entries are added to the ugly registry. When reported by the “NewsHour,” horrific crimes committed by the U.S. military are always treated as well-intended mistakes. Along with the rest of the mainstream U.S. media, the “NewsHour” “insist[s] that Russia deliberately bombs hospitals, etc., whereas if we do it, it is, of course, an accident .” \nThere’s some room for disagreement between and among the show’s invited experts—including the show’s semi-loopy foreign policy authority, Margaret Warner—about specific U.S. foreign policy tactics, strategies and actions. There’s no space for serious debate about the immorality, lawlessness or imperial nature of that policy. On the rare occasions “NewsHour” anchors seem to challenge guests from the White House or Pentagon on foreign policy matters, it is generally to ask why the U.S. isn’t going harder at the officially certified bad guys. \nAmerica as Umpire, Not Empire \nThe foreign policy coverage and commentary doesn’t get much better in the documentary division of PBS. A recent documentary (first aired nationally last week) shown by PBS bears the risible title “American Umpire”—an obvious World Series season play on what the filmmakers see as the preposterous notion of an American empire. It is narrated by ex-Marine and former “NewsHour” host and producer Jim Lehrer. Developed by the right-wing Hoover Institution and “targeted for PBS” (the organization’s own revealing phrase), “American Umpire” takes the doctrinal “American exceptionalist,” U.S.-good-and-civilized-rest-of-world-dangerous-and-bad narrative to absurd lengths. \nIt provides extensive “expert” commentary from such former imperial operatives as Madeline Albright (the onetime U.S. secretary of state who led the charge to criminally bomb Serbia and who went on CBS’ “60 Minutes” to say that the death of more than half a million Iraqi children killed by Washington-led “economic sanctions” was “a price worth paying” for the advance of U.S. foreign policy goals), Condoleezza Rice (George W. Bush’s neoconservative national security adviser before and during the arch-criminal U.S. invasion of Iraq), Gen. Jim “Mad Dog” Mattis (an Iraq invasion commander and a former chief of the U.S. Central Command, who two years ago told a San Diego audience that “it’s fun to shoot people”), George Schultz (the Reagan-era secretary of state who called the Sandinista government in Nicaragua “a cancer in our own land mass” that must be “cut out”) and Karl Eikenberry (a retired Army lieutenant general who commanded U.S. forces in Afghanistan 10 years ago). \nWith further commentary from a handful of mostly conservative academicians—above all the nationalist Texas A&M historian Elizabeth Cobbs ( author of a book on which the documentary is based), “American Umpire” portrays 20th and 21st century U.S. foreign policy as nothing more than a noble effort to selflessly provide welcome and fair rules and discipline on the rest of a childish, dangerous and reckless planet (think “Lord of the Flies”) that lacks the exceptional historical experience bequeathed to U.S. leaders by the nation’s far-seeing Founding Fathers. The only substantive criticism of U.S. foreign policy in “American Umpire” is the complaint, voiced by numerous interview subjects, that America harms itself to the benefit of others (the Europeans above all) by taking upon its shoulders too much of the burden of benevolently policing the planet. We are just too good for our own good. \nOur Real Task \nThere is not space here to discuss in responsible detail the epic historical deletions and distortions this narrative imposes. The omissions are staggering. They range from the slaughter of hundreds of thousands of Filipinos resisting U.S. imperial invasion and occupation at the last century’s outset to the restoration of de facto slavery in Haiti and the Dominican Republic after World War I; the unnecessary atom bombing of Hiroshima and, even worse, of Nagasaki (really the first shots of the Cold War ); the toppling of more than 50 governments by U.S. coups and invasions since the end of World War II; the liquidation of perhaps as many as 5 million Southeast Asians in the so-called Vietnam War between 1962 and 1975; the Cold War-era sponsorship of Third World fascism from Chile to South Africa and Indonesia; the attempted assassinations of Fidel Castro and numerous CIA-directed terror bombings in socialist Cuba; the near instigation of global thermonuclear war on at least three occasions; the development and sponsorship of Osama bin Laden and other radically arch-reactionary, jihadist Muslim, paramilitary forces to fight the Cold War against the Soviet Union in Afghanistan; the “Highway of Death,” when U.S. warplanes engaged in an aerial traffic jam as they rushed to slaughter tens of thousands of surrendered Iraqi troops retreating from Iraq in 1991; the coordination and sponsorship of a mass-murderous civil war on peasants, workers and intellectuals (with a death toll well into the many hundreds of thousands) in Central America during the 1970s and 1980s; the disastrous U.S. invasion of Iraq (responsible for at least 1 million Iraqi deaths); the calamitous U.S. toppling of the Libyan Gadhafi regime; the calamitous destabilization of the Syrian regime; the U.S. funding and encouragement of civil war in central Africa; the enablement and protection of a vicious right-wing coup in Honduras in the spring and summer of 2009; the criminal U.S. global war of terror, replete with rampant “targeted assassinations,” torture, illegal renditions, endless drone war and special-forces killing operations across the Muslim world and other places as well. \n“American Umpire” hides these horrific transgressions and the imperial calculations behind much of U.S. foreign policy past and present. As numerous key U.S. planning documents reveal over and over, the goal of that policy was to maintain and, if necessary, install governments that “favor[ed] private investment of domestic and foreign capital, production for export, and the right to bring profits out of the country.” Given the United States’ remarkable possession of half the world’s capital after World War II, Washington elites had no doubt that U.S. investors and corporations would profit the most. Internally, the basic, selfish, national and imperial objectives were openly and candidly discussed. As the “liberal” and “dovish” imperialist, top State Department planner and key Cold War architect George F. Kennan explained in Policy Planning Study 23, a critical 1948 document: “We have about 50% of the world’s wealth, but only 6.3% of its population. … In this situation, we cannot fail to be the object of envy and resentment. Our real task in the coming period is to devise a pattern of relationships which will permit us to maintain this position of disparity. … To do so, we will have to dispense with all sentimentality and day-dreaming. ... The less we are then hampered by idealistic slogans, the better.” \nThe necessity of dispensing with “human rights” and other “sentimental” and “unreal objectives” was especially pressing in the “global south.” Washington assigned the vast periphery of the world economic (capitalist) system—Africa, Latin America, Southeast Asia and the energy-rich and thus strategically hypersignificant Middle East—a less than flattering role. It was to “fulfill its major function as a source of raw materials and a market” ( actual State Department language ) for the great industrial (capitalist) nations (excluding “socialist” Russia and its satellites). It was to be exploited both for the benefit of U.S. corporations/investors and for the reconstruction of Europe and Japan as prosperous U.S. trading and investment partners organized on properly capitalist principles that were hostile to the Soviet bloc. \n“Democracy” was fine as a slogan and benevolent, idealistic-sounding mission statement when it came to marketing this core, underlying, ultra-imperialist U.S. policy at home and abroad. Because most people in the “Third World” had no interest in neocolonial subordination and subscribed to what U.S. intelligence officials considered the heretical “idea that government has direct responsibility for the welfare of its people” (what post-World War II U.S. planners called “communism”), Washington’s real-life commitment to popular governance abroad was strictly qualified, to say the least. “Democracy” was suitable to the U.S. as long as its outcomes comported with the interests of U.S. investors/corporations and related U.S. geopolitical objectives. It had to be abandoned, undermined and/or crushed when it threatened those investors/corporations and the broader imperatives of business rule to any significant degree. As President Richard Nixon’s coldblooded National Security Adviser Henry Kissinger explained in June 1970, three years before the U.S. sponsored a fascist coup that overthrew Chile’s democratically elected leftist President Salvador Allende, “I don’t see why we need to stand by and watch a country go Communist because of the irresponsibility of its own people.” \nThe selfish imperial cynicism of U.S. foreign policy continues to this day, into the post-Cold War and post-9/11 era. As leading Dutch political scientists Bastiaann van Apeldoorn and Nana de Graaff write in their important new volume , “American Grand Strategy and Corporate Elite Networks: The Open Door Since the End of the Cold War,” “From the end of the 19th nineteenth century onward, American grand strategy has pursued a liberal expansionism aimed at the creation of a global hegemony premised upon open, “free” markets, to which global capital—and, above all, U.S. transnational capital—has full access. … The global Open Door has continued to define the ends of the American grand strategy throughout the post-Cold War era.” Because—as during and before—the Cold War’s end, Washington’s commitment to “democracy” and “human rights” is conditional and hypocritical: The noble principles are fine insofar as they serve the free-market hegemony of global and especially U.S. transnational capital. They are dispensed with, even as U.S. policymakers trumpet them, when they do not.",
            "count": 1
           },
           {
            "name": "3 others",
            "count": 3
           }
          ]
         }
        },
        {
         "name": "label",
         "dtype": "object",
         "stats": {
          "unique_count": 1,
          "nan_count": 0,
          "categories": [
           {
            "name": "None",
            "count": 5
           }
          ]
         }
        },
        {
         "name": "title_and_text",
         "dtype": "object",
         "stats": {
          "unique_count": 5,
          "nan_count": 0,
          "categories": [
           {
            "name": "State Department says it can't find emails from Clinton IT specialist The State Department told the Republican National Committee that it could not find any emails to or from Hillary Clinton's former IT specialist, who managed her private email server during her tenure as secretary of state before going on to work for the agency, according to a court filing made public Monday.\n\n\n\nThe government's revelation in U.S. District Court in Washington came in answer to a lawsuit by the Republican National Committee. The RNC had sued over its public records request for all work-related emails sent to or received by Clinton's former aide, Bryan Pagliano, between 2009 and 2013, the years of Clinton's tenure as America's top diplomat. The lawsuit also pressed for other State Department records from the Clinton era.\n\nThe RNC's filing said lawyers for the agency had informed them in discussions that \"the State Department has represented that no responsive records exist\" for any Pagliano emails. Pagliano was hired at the agency after reportedly setting up Clinton's server in 2009, but the lack of any official State Department emails raises the question whether he limited his email traffic using a private account, much like Clinton did during her four years as secretary, or whether his government emails were deleted.\n\n\n\nA State Department official said Monday that the agency possessed emails from Pagliano from the period after Clinton's term had ended, when he continued to work as a technology contractor.\n\nAgency spokeswoman Elizabeth Trudeau then added Monday evening that some Pagliano emails dating from Clinton's tenure had been recovered from agency officials' files and turned over to other organizations, including Senate investigators.\n\n\n\n\"We have previously produced through FOIA and to Congress emails sent and received by Mr. Pagliano during Secretary Clinton's tenure,\" Trudeau said in a public statement. At least one email, which was sent in November 2012 to Clinton from Pagliano -- but possibly from his private email address -- was released as part of 30,000 Clinton emails made public by the agency over the past year.\n\n\n\nA spokesman for the RNC said the organization stood by its description of the discussions with lawyers for the State Department. The group said in its filing that \"the State Department has represented that no responsive records exist.\"\n\n\n\nRaj Shah, the RNC spokesman, added, \"It's hard to believe that an IT staffer who set up Hillary Clinton's reckless email server never sent or received a single work-related email in the four years he worked at the State Department.\" Clinton's campaign officials declined to comment in response to questions from The Associated Press.\n\n\n\nTrudeau said the State Department is working with Congress and several public records requesters to provide relevant material. She also said agency officials continue to search for \"Mr. Pagliano's emails, which the department may have otherwise retained.\" Trudeau also said the department would respond further to the RNC in court.\n\n\n\nState Department officials told Senate investigators last year they could not find a file containing Pagliano's work emails during Clinton's tenure, an assertion first reported by Politico.\n\n\n\nFox News reported in March that Pagliano has revealed several details about Clinton's personal email system to investigators, including who had access to it– as well as when and what devices were used. An intelligence source close to the case told Fox News that Pagliano has been a \"devastating witness\" to Clinton.\n\nThe one email sent by Pagliano that surfaced among Clinton's 30,000 emails was sent to Clinton was a November 2012 birthday greeting. He wished her \"Happy Birthday Madam Secretary. To many more!\"\n\n\n\nPagliano's email address was censored, unlike numerous official State Department addresses that are listed in Clinton's emails -- suggesting he may have sent the message from a private address.\n\nClinton did not reply directly to Pagliano. Instead, she sent a copy of an email to an aide with the instruction \"Pls respond.\"\n\n \n\n The Associated Press contributed to this report.",
            "count": 1
           },
           {
            "name": "The ‘P’ in PBS Should Stand for ‘Plutocratic’ or ‘Pentagon’ The ‘P’ in PBS Should Stand for ‘Plutocratic’ or ‘Pentagon’ Posted on Oct 27, 2016 ( WikiMedia ) \nIn a television commercial that the Public Broadcasting System (PBS) ran for years, “PBS NewsHour” host Gwen Ifill declared that she loved her job because it allowed her to “ask not only all of my questions but also and more importantly all of your questions .” This assertion was and remains absurd, just like her network’s regular fundraising claim to be free of corporate sponsors. \nThe claim has long been contradicted by the string of corporate-image commercials (purchased by leading financial, defense, auto, insurance and rail corporations) that appear before the network’s nightly “NewsHour” broadcast—along with a list of corporate-sponsored foundations and superwealthy individuals who pay for the show, along with “regular viewers like you.” \nConsistent with those commercials and despite its name, the news and commentary one finds on PBS is in rich tune with the narrow capitalist parameters of acceptable coverage and debate that typify the more fully and explicitly for-profit and commercialized corporate media. As progressive journalist David Sirota suggested two years ago , reflecting on recent investigations showing that supermoneyed, right-wing capitalists such as the Koch brothers and Texas billionaire John Arnold had (along with more liberal software mogul Bill Gates) influenced PBS content through multimillion-dollar donations, the “P” in PBS often seems to more properly stand for “Plutocratic,” not “Public.” \nAdvertisement Square, Site wide \nNone of this should be surprising to anyone familiar with the distinctively big-business-dominated history of U.S. broadcast media . Because the United States fails to provide anything like adequate funding for public broadcasting, both PBS and National Public Radio (a regular vehicle for neoliberal business ideology) depend upon foundations, corporations and wealthy individuals to pay for much of their programming. Beneath their standard claims to have no interest in shaping public media content, these private funders have bottom-line agendas, meaning that their contributions come with strings attached—strings that undermine the integrity of the “independent” journalism they bankroll. (For what it’s worth, between 1994 and 2014, the “NewsHour” was primarily owned by the for-profit firm Liberty Media . Liberty Media was run by the conservative and politically active billionaire John Malone, who had a majority stake in MacNeil/Lehrer Productions, the show’s producer.) \nThe Pentagon Broadcasting System? \nWhat might seem more surprising, perhaps, is the remarkable extent to which the “P” in PBS often seems to stand for “Pentagon,” or perhaps “Presidential,” when it comes to foreign policy content. Whatever the global issue of the day or week, “NewsHour” anchors and their invited “experts” can be counted on to report and reflect in accord with the doctrinal assumption that Washington always operates with the best of intentions. They almost uniformly treat the U.S. as a great, benevolent and indispensable force for freedom, democracy, security, peace and order in a dangerous world full of evil and deadly actors. \nThe show’s invited commentators are drawn primarily from the nation’s imperial establishment. They are commonly current or retired insiders from within the Pentagon, the White House, the “intelligence community” and/or the nation’s elite network of foreign policy think tanks: the Council on Foreign Relations (the granddaddy of all U.S. ruling-class think tanks ), the Carnegie Endowment for International Peace, the Aspen Institute, the Atlantic Council, the Rand Corp. and the Hoover Institution, to name a handful. “NewsHour” anchors and guests generally agree that the United States’ officially designated enemies are malevolent bad guys who need to be contained, controlled and even attacked by the ultimate good guy, Uncle Sam. \nNot surprisingly, the long and ongoing record of U.S. imperial arrogance and criminality (more on that below) is swept down George Orwell’s memory hole even as new entries are added to the ugly registry. When reported by the “NewsHour,” horrific crimes committed by the U.S. military are always treated as well-intended mistakes. Along with the rest of the mainstream U.S. media, the “NewsHour” “insist[s] that Russia deliberately bombs hospitals, etc., whereas if we do it, it is, of course, an accident .” \nThere’s some room for disagreement between and among the show’s invited experts—including the show’s semi-loopy foreign policy authority, Margaret Warner—about specific U.S. foreign policy tactics, strategies and actions. There’s no space for serious debate about the immorality, lawlessness or imperial nature of that policy. On the rare occasions “NewsHour” anchors seem to challenge guests from the White House or Pentagon on foreign policy matters, it is generally to ask why the U.S. isn’t going harder at the officially certified bad guys. \nAmerica as Umpire, Not Empire \nThe foreign policy coverage and commentary doesn’t get much better in the documentary division of PBS. A recent documentary (first aired nationally last week) shown by PBS bears the risible title “American Umpire”—an obvious World Series season play on what the filmmakers see as the preposterous notion of an American empire. It is narrated by ex-Marine and former “NewsHour” host and producer Jim Lehrer. Developed by the right-wing Hoover Institution and “targeted for PBS” (the organization’s own revealing phrase), “American Umpire” takes the doctrinal “American exceptionalist,” U.S.-good-and-civilized-rest-of-world-dangerous-and-bad narrative to absurd lengths. \nIt provides extensive “expert” commentary from such former imperial operatives as Madeline Albright (the onetime U.S. secretary of state who led the charge to criminally bomb Serbia and who went on CBS’ “60 Minutes” to say that the death of more than half a million Iraqi children killed by Washington-led “economic sanctions” was “a price worth paying” for the advance of U.S. foreign policy goals), Condoleezza Rice (George W. Bush’s neoconservative national security adviser before and during the arch-criminal U.S. invasion of Iraq), Gen. Jim “Mad Dog” Mattis (an Iraq invasion commander and a former chief of the U.S. Central Command, who two years ago told a San Diego audience that “it’s fun to shoot people”), George Schultz (the Reagan-era secretary of state who called the Sandinista government in Nicaragua “a cancer in our own land mass” that must be “cut out”) and Karl Eikenberry (a retired Army lieutenant general who commanded U.S. forces in Afghanistan 10 years ago). \nWith further commentary from a handful of mostly conservative academicians—above all the nationalist Texas A&M historian Elizabeth Cobbs ( author of a book on which the documentary is based), “American Umpire” portrays 20th and 21st century U.S. foreign policy as nothing more than a noble effort to selflessly provide welcome and fair rules and discipline on the rest of a childish, dangerous and reckless planet (think “Lord of the Flies”) that lacks the exceptional historical experience bequeathed to U.S. leaders by the nation’s far-seeing Founding Fathers. The only substantive criticism of U.S. foreign policy in “American Umpire” is the complaint, voiced by numerous interview subjects, that America harms itself to the benefit of others (the Europeans above all) by taking upon its shoulders too much of the burden of benevolently policing the planet. We are just too good for our own good. \nOur Real Task \nThere is not space here to discuss in responsible detail the epic historical deletions and distortions this narrative imposes. The omissions are staggering. They range from the slaughter of hundreds of thousands of Filipinos resisting U.S. imperial invasion and occupation at the last century’s outset to the restoration of de facto slavery in Haiti and the Dominican Republic after World War I; the unnecessary atom bombing of Hiroshima and, even worse, of Nagasaki (really the first shots of the Cold War ); the toppling of more than 50 governments by U.S. coups and invasions since the end of World War II; the liquidation of perhaps as many as 5 million Southeast Asians in the so-called Vietnam War between 1962 and 1975; the Cold War-era sponsorship of Third World fascism from Chile to South Africa and Indonesia; the attempted assassinations of Fidel Castro and numerous CIA-directed terror bombings in socialist Cuba; the near instigation of global thermonuclear war on at least three occasions; the development and sponsorship of Osama bin Laden and other radically arch-reactionary, jihadist Muslim, paramilitary forces to fight the Cold War against the Soviet Union in Afghanistan; the “Highway of Death,” when U.S. warplanes engaged in an aerial traffic jam as they rushed to slaughter tens of thousands of surrendered Iraqi troops retreating from Iraq in 1991; the coordination and sponsorship of a mass-murderous civil war on peasants, workers and intellectuals (with a death toll well into the many hundreds of thousands) in Central America during the 1970s and 1980s; the disastrous U.S. invasion of Iraq (responsible for at least 1 million Iraqi deaths); the calamitous U.S. toppling of the Libyan Gadhafi regime; the calamitous destabilization of the Syrian regime; the U.S. funding and encouragement of civil war in central Africa; the enablement and protection of a vicious right-wing coup in Honduras in the spring and summer of 2009; the criminal U.S. global war of terror, replete with rampant “targeted assassinations,” torture, illegal renditions, endless drone war and special-forces killing operations across the Muslim world and other places as well. \n“American Umpire” hides these horrific transgressions and the imperial calculations behind much of U.S. foreign policy past and present. As numerous key U.S. planning documents reveal over and over, the goal of that policy was to maintain and, if necessary, install governments that “favor[ed] private investment of domestic and foreign capital, production for export, and the right to bring profits out of the country.” Given the United States’ remarkable possession of half the world’s capital after World War II, Washington elites had no doubt that U.S. investors and corporations would profit the most. Internally, the basic, selfish, national and imperial objectives were openly and candidly discussed. As the “liberal” and “dovish” imperialist, top State Department planner and key Cold War architect George F. Kennan explained in Policy Planning Study 23, a critical 1948 document: “We have about 50% of the world’s wealth, but only 6.3% of its population. … In this situation, we cannot fail to be the object of envy and resentment. Our real task in the coming period is to devise a pattern of relationships which will permit us to maintain this position of disparity. … To do so, we will have to dispense with all sentimentality and day-dreaming. ... The less we are then hampered by idealistic slogans, the better.” \nThe necessity of dispensing with “human rights” and other “sentimental” and “unreal objectives” was especially pressing in the “global south.” Washington assigned the vast periphery of the world economic (capitalist) system—Africa, Latin America, Southeast Asia and the energy-rich and thus strategically hypersignificant Middle East—a less than flattering role. It was to “fulfill its major function as a source of raw materials and a market” ( actual State Department language ) for the great industrial (capitalist) nations (excluding “socialist” Russia and its satellites). It was to be exploited both for the benefit of U.S. corporations/investors and for the reconstruction of Europe and Japan as prosperous U.S. trading and investment partners organized on properly capitalist principles that were hostile to the Soviet bloc. \n“Democracy” was fine as a slogan and benevolent, idealistic-sounding mission statement when it came to marketing this core, underlying, ultra-imperialist U.S. policy at home and abroad. Because most people in the “Third World” had no interest in neocolonial subordination and subscribed to what U.S. intelligence officials considered the heretical “idea that government has direct responsibility for the welfare of its people” (what post-World War II U.S. planners called “communism”), Washington’s real-life commitment to popular governance abroad was strictly qualified, to say the least. “Democracy” was suitable to the U.S. as long as its outcomes comported with the interests of U.S. investors/corporations and related U.S. geopolitical objectives. It had to be abandoned, undermined and/or crushed when it threatened those investors/corporations and the broader imperatives of business rule to any significant degree. As President Richard Nixon’s coldblooded National Security Adviser Henry Kissinger explained in June 1970, three years before the U.S. sponsored a fascist coup that overthrew Chile’s democratically elected leftist President Salvador Allende, “I don’t see why we need to stand by and watch a country go Communist because of the irresponsibility of its own people.” \nThe selfish imperial cynicism of U.S. foreign policy continues to this day, into the post-Cold War and post-9/11 era. As leading Dutch political scientists Bastiaann van Apeldoorn and Nana de Graaff write in their important new volume , “American Grand Strategy and Corporate Elite Networks: The Open Door Since the End of the Cold War,” “From the end of the 19th nineteenth century onward, American grand strategy has pursued a liberal expansionism aimed at the creation of a global hegemony premised upon open, “free” markets, to which global capital—and, above all, U.S. transnational capital—has full access. … The global Open Door has continued to define the ends of the American grand strategy throughout the post-Cold War era.” Because—as during and before—the Cold War’s end, Washington’s commitment to “democracy” and “human rights” is conditional and hypocritical: The noble principles are fine insofar as they serve the free-market hegemony of global and especially U.S. transnational capital. They are dispensed with, even as U.S. policymakers trumpet them, when they do not.",
            "count": 1
           },
           {
            "name": "3 others",
            "count": 3
           }
          ]
         }
        },
        {
         "name": "preprocessed_text",
         "dtype": "object",
         "stats": {
          "unique_count": 5,
          "nan_count": 0,
          "categories": [
           {
            "name": "state department say can't find emails clinton specialist state department tell republican national committee could find emails hillary clinton's former specialist manage private email server tenure secretary state go work agency accord court filing make public monday.\n\n\n\nthe government's revelation u.s district court washington come answer lawsuit republican national committee rnc sue public record request work-related email send receive clinton's former aide bryan pagliano year clinton's tenure america's top diplomat lawsuit also press state department record clinton era.\n\nthe rnc's filing say lawyer agency inform discussion state department represent responsive record exist pagliano email pagliano hire agency reportedly set clinton's server lack official state department email raise question whether limited email traffic use private account much like clinton four year secretary whether government email deleted.\n\n\n\na state department official say monday agency possess email pagliano period clinton's term end continue work technology contractor.\n\nagency spokeswoman elizabeth trudeau add monday evening pagliano email date clinton's tenure recover agency official file turn organization include senate investigators.\n\n\n\n\"we previously produce foia congress email send receive mr pagliano secretary clinton's tenure trudeau say public statement least one email send november clinton pagliano possibly private email address release part clinton email make public agency past year.\n\n\n\na spokesman rnc say organization stand description discussion lawyer state department group say file state department represent responsive record exist.\"\n\n\n\nraj shah rnc spokesman add hard believe staffer set hillary clinton's reckless email server never send receive single work-related email four year work state department clinton's campaign official decline comment response question associate press.\n\n\n\ntrudeau say state department work congress several public record requester provide relevant material also say agency official continue search mr pagliano's email department may otherwise retain trudeau also say department would respond rnc court.\n\n\n\nstate department official tell senate investigator last year could find file contain pagliano's work email clinton's tenure assertion first report politico.\n\n\n\nfox news report march pagliano reveal several detail clinton's personal email system investigator including who access it– well device use intelligence source close case tell fox news pagliano devastate witness clinton.\n\nthe one email send pagliano surface among clinton's email send clinton november birthday greet wish happy birthday madam secretary many more!\"\n\n\n\npagliano's email address censor unlike numerous official state department address list clinton's email suggest may send message private address.\n\nclinton reply directly pagliano instead send copy email aide instruction pls respond.\"\n\n \n\n associate press contribute report",
            "count": 1
           },
           {
            "name": "‘p’ pb stand ‘plutocratic’ ‘pentagon’ ‘p’ pb stand ‘plutocratic’ ‘pentagon’ post oct wikimedia \nin television commercial public broadcasting system pbs ran year “pbs newshour” host gwen ifill declare love job allow “ask question also importantly question ” assertion remain absurd like network’s regular fundraise claim free corporate sponsor \nthe claim long contradict string corporate-image commercial purchase lead financial defense auto insurance rail corporation appear network’s nightly “newshour” broadcast—along list corporate-sponsored foundation superwealthy individual pay show along “regular viewer like you.” \nconsistent commercial despite name news commentary one find pb rich tune narrow capitalist parameter acceptable coverage debate typify fully explicitly for-profit commercialized corporate medium progressive journalist david sirota suggest two year ago reflect recent investigation show supermoneyed right-wing capitalist koch brother texas billionaire john arnold along liberal software mogul bill gate influenced pbs content multimillion-dollar donation “p” pbs often seem properly stand “plutocratic,” “public.” \nadvertisement square site wide \nnone surprising anyone familiar distinctively big-business-dominated history u.s broadcast medium united state fails provide anything like adequate funding public broadcasting pbs national public radio regular vehicle neoliberal business ideology depend upon foundation corporation wealthy individual pay much program beneath standard claim interest shape public medium content private funders bottom-line agenda mean contribution come string attached—strings undermine integrity “independent” journalism bankroll it’s worth “newshour” primarily own for-profit firm liberty medium liberty medium run conservative politically active billionaire john malone majority stake macneil/lehrer production show’s producer \nthe pentagon broadcasting system \nwhat might seem surprising perhaps remarkable extent “p” pb often seem stand “pentagon,” perhaps “presidential,” come foreign policy content whatever global issue day week “newshour” anchor invite “experts” count report reflect accord doctrinal assumption washington always operate best intention almost uniformly treat u.s great benevolent indispensable force freedom democracy security peace order dangerous world full evil deadly actor \nthe show’s invite commentator draw primarily nation’s imperial establishment commonly current retire insider within pentagon white house “intelligence community” and/or nation’s elite network foreign policy think tank council foreign relation granddaddy u.s ruling-class think tank carnegie endowment international peace aspen institute atlantic council rand corp hoover institution name handful “newshour” anchor guest generally agree united states’ officially designated enemy malevolent bad guy need contain control even attack ultimate good guy uncle sam \nnot surprisingly long ongoing record u.s imperial arrogance criminality sweep george orwell’s memory hole even new entry add ugly registry report “newshour,” horrific crime commit u.s military always treat well-intended mistake along rest mainstream u.s medium “newshour” “insist[s russia deliberately bombs hospital etc whereas course accident ” \nthere’s room disagreement among show’s invite experts—including show’s semi-loopy foreign policy authority margaret warner—about specific u.s foreign policy tactic strategy action there’s space serious debate immorality lawlessness imperial nature policy rare occasion “newshour” anchor seem challenge guest white house pentagon foreign policy matter generally ask u.s isn’t go hard officially certified bad guy \namerica umpire empire \nthe foreign policy coverage commentary doesn’t get much good documentary division pb recent documentary first air nationally last week show pbs bear risible title “american umpire”—an obvious world series season play filmmaker see preposterous notion american empire narrate ex-marine former “newshour” host producer jim lehrer develop right-wing hoover institution “targeted pbs” organization’s reveal phrase “american umpire” take doctrinal “american exceptionalist,” u.s.-good-and-civilized-rest-of-world-dangerous-and-bad narrative absurd length \nit provide extensive “expert” commentary former imperial operative madeline albright onetime u.s secretary state lead charge criminally bomb serbia go cbs’ minutes” say death half million iraqi child kill washington-led “economic sanctions” “a price worth paying” advance u.s foreign policy goal condoleezza rice george w bush’s neoconservative national security adviser arch-criminal u.s invasion iraq gen jim “mad dog” mattis iraq invasion commander former chief u.s central command two year ago tell san diego audience “it’s fun shoot people” george schultz reagan-era secretary state call sandinista government nicaragua “a cancer land mass” must “cut out” karl eikenberry retire army lieutenant general command u.s force afghanistan year ago \nwith commentary handful mostly conservative academicians—above nationalist texas a&m historian elizabeth cobbs author book documentary base “american umpire” portrays century u.s foreign policy nothing noble effort selflessly provide welcome fair rule discipline rest childish dangerous reckless planet think “lord flies” lack exceptional historical experience bequeath u.s leader nation’s far-seeing founding father substantive criticism u.s foreign policy “american umpire” complaint voice numerous interview subject america harm benefit others european take upon shoulder much burden benevolently police planet good good \nour real task \nthere space discus responsible detail epic historical deletion distortion narrative imposes omission stagger range slaughter hundred thousand filipinos resist u.s imperial invasion occupation last century’s outset restoration de facto slavery haiti dominican republic world war unnecessary atom bomb hiroshima even bad nagasaki really first shot cold war topple government u.s coup invasion since end world war ii liquidation perhaps many million southeast asian so-called vietnam war cold war-era sponsorship third world fascism chile south africa indonesia attempt assassination fidel castro numerous cia-directed terror bombing socialist cuba near instigation global thermonuclear war least three occasion development sponsorship osama bin laden radically arch-reactionary jihadist muslim paramilitary force fight cold war soviet union afghanistan “highway death,” u.s warplane engage aerial traffic jam rush slaughter ten thousand surrender iraqi troop retreat iraq coordination sponsorship mass-murderous civil war peasant worker intellectual death toll well many hundred thousand central america disastrous u.s invasion iraq responsible least million iraqi death calamitous u.s topple libyan gadhafi regime calamitous destabilization syrian regime u.s funding encouragement civil war central africa enablement protection vicious right-wing coup honduras spring summer criminal u.s global war terror replete rampant “targeted assassinations,” torture illegal rendition endless drone war special-forces kill operation across muslim world place well \n“american umpire” hide horrific transgression imperial calculation behind much u.s foreign policy past present numerous key u.s planning document reveal goal policy maintain necessary install government “favor[ed private investment domestic foreign capital production export right bring profit country.” give united states’ remarkable possession half world’s capital world war ii washington elites doubt u.s investor corporation would profit internally basic selfish national imperial objective openly candidly discussed “liberal” “dovish” imperialist top state department planner key cold war architect george f kennan explain policy planning study critical document “we world’s wealth population situation cannot fail object envy resentment real task come period devise pattern relationship permit u maintain position disparity dispense sentimentality day-dreaming le hampered idealistic slogan better.” \nthe necessity dispense “human rights” “sentimental” “unreal objectives” especially press “global south.” washington assign vast periphery world economic capitalist system—africa latin america southeast asia energy-rich thus strategically hypersignificant middle east—a less flattering role “fulfill major function source raw material market” actual state department language great industrial capitalist nation exclude “socialist” russia satellite exploit benefit u.s corporations/investors reconstruction europe japan prosperous u.s trading investment partner organize properly capitalist principle hostile soviet bloc \n“democracy” fine slogan benevolent idealistic-sounding mission statement come market core underlie ultra-imperialist u.s policy home abroad people “third world” interest neocolonial subordination subscribe u.s intelligence official consider heretical “idea government direct responsibility welfare people” post-world war ii u.s planner call “communism” washington’s real-life commitment popular governance abroad strictly qualify say least “democracy” suitable u.s long outcomes comported interest u.s investors/corporations relate u.s geopolitical objective abandon undermined and/or crush threatened investors/corporations broader imperative business rule significant degree president richard nixon’s coldblooded national security adviser henry kissinger explain june three year u.s sponsor fascist coup overthrow chile’s democratically elect leftist president salvador allende “i don’t see need stand watch country go communist irresponsibility people.” \nthe selfish imperial cynicism u.s foreign policy continue day post-cold war era lead dutch political scientist bastiaann van apeldoorn nana de graaff write important new volume “american grand strategy corporate elite network open door since end cold war,” “from end nineteenth century onward american grand strategy pursue liberal expansionism aim creation global hegemony premise upon open “free” market global capital—and u.s transnational capital—has full access global open door continue define end american grand strategy throughout post-cold war era.” because—as before—the cold war’s end washington’s commitment “democracy” “human rights” conditional hypocritical noble principle fine insofar serve free-market hegemony global especially u.s transnational capital dispense even u.s policymakers trumpet",
            "count": 1
           },
           {
            "name": "3 others",
            "count": 3
           }
          ]
         }
        },
        {
         "name": "_deepnote_index_column",
         "dtype": "int64"
        }
       ],
       "rows": [
        {
         "ID": 4490,
         "title": "State Department says it can't find emails from Clinton IT specialist",
         "text": "The State Department told the Republican National Committee that it could not find any emails to or…",
         "label": "None",
         "title_and_text": "State Department says it can't find emails from Clinton IT specialist The State Department told the…",
         "preprocessed_text": "state department say can't find emails clinton specialist state department tell republican national…",
         "_deepnote_index_column": 6313
        },
        {
         "ID": 8062,
         "title": "The ‘P’ in PBS Should Stand for ‘Plutocratic’ or ‘Pentagon’",
         "text": "The ‘P’ in PBS Should Stand for ‘Plutocratic’ or ‘Pentagon’ Posted on Oct 27, 2016 ( WikiMedia ) \nI…",
         "label": "None",
         "title_and_text": "The ‘P’ in PBS Should Stand for ‘Plutocratic’ or ‘Pentagon’ The ‘P’ in PBS Should Stand for ‘Plutoc…",
         "preprocessed_text": "‘p’ pb stand ‘plutocratic’ ‘pentagon’ ‘p’ pb stand ‘plutocratic’ ‘pentagon’ post oct wikimedia \nin …",
         "_deepnote_index_column": 6314
        },
        {
         "ID": 8622,
         "title": "Anti-Trump Protesters Are Tools of the Oligarchy     : Information",
         "text": " Anti-Trump Protesters Are Tools of the Oligarchy Reform always provokes rage on the part of those…",
         "label": "None",
         "title_and_text": "Anti-Trump Protesters Are Tools of the Oligarchy     : Information  Anti-Trump Protesters Are Tools…",
         "preprocessed_text": "anti-trump protester tool oligarchy information anti-trump protester tool oligarchy reform always …",
         "_deepnote_index_column": 6315
        },
        {
         "ID": 4021,
         "title": "In Ethiopia, Obama seeks progress on peace, security in East Africa",
         "text": "ADDIS ABABA, Ethiopia —President Obama convened a meeting with the leaders of several East African …",
         "label": "None",
         "title_and_text": "In Ethiopia, Obama seeks progress on peace, security in East Africa ADDIS ABABA, Ethiopia —Presiden…",
         "preprocessed_text": "ethiopia obama seek progress peace security east africa addis ababa ethiopia —president obama conve…",
         "_deepnote_index_column": 6316
        },
        {
         "ID": 4330,
         "title": "Jeb Bush Is Suddenly Attacking Trump. Here's Why That Matters",
         "text": "Jeb Bush Is Suddenly Attacking Trump. Here's Why That Matters\n\nJeb Bush isn't pulling punches anymo…",
         "label": "None",
         "title_and_text": "Jeb Bush Is Suddenly Attacking Trump. Here's Why That Matters Jeb Bush Is Suddenly Attacking Trump.…",
         "preprocessed_text": "jeb bush suddenly attack trump here's matter jeb bush suddenly attack trump here's matters\n\njeb bus…",
         "_deepnote_index_column": 6317
        }
       ]
      },
      "text/plain": "        ID                                              title  \\\n6313  4490  State Department says it can't find emails fro...   \n6314  8062  The ‘P’ in PBS Should Stand for ‘Plutocratic’ ...   \n6315  8622  Anti-Trump Protesters Are Tools of the Oligarc...   \n6316  4021  In Ethiopia, Obama seeks progress on peace, se...   \n6317  4330  Jeb Bush Is Suddenly Attacking Trump. Here's W...   \n\n                                                   text label  \\\n6313  The State Department told the Republican Natio...  None   \n6314  The ‘P’ in PBS Should Stand for ‘Plutocratic’ ...  None   \n6315   Anti-Trump Protesters Are Tools of the Oligar...  None   \n6316  ADDIS ABABA, Ethiopia —President Obama convene...  None   \n6317  Jeb Bush Is Suddenly Attacking Trump. Here's W...  None   \n\n                                         title_and_text  \\\n6313  State Department says it can't find emails fro...   \n6314  The ‘P’ in PBS Should Stand for ‘Plutocratic’ ...   \n6315  Anti-Trump Protesters Are Tools of the Oligarc...   \n6316  In Ethiopia, Obama seeks progress on peace, se...   \n6317  Jeb Bush Is Suddenly Attacking Trump. Here's W...   \n\n                                      preprocessed_text  \n6313  state department say can't find emails clinton...  \n6314  ‘p’ pb stand ‘plutocratic’ ‘pentagon’ ‘p’ pb s...  \n6315  anti-trump protester tool oligarchy informatio...  \n6316  ethiopia obama seek progress peace security ea...  \n6317  jeb bush suddenly attack trump here's matter j...  ",
      "text/html": "<div>\n<style scoped>\n    .dataframe tbody tr th:only-of-type {\n        vertical-align: middle;\n    }\n\n    .dataframe tbody tr th {\n        vertical-align: top;\n    }\n\n    .dataframe thead th {\n        text-align: right;\n    }\n</style>\n<table border=\"1\" class=\"dataframe\">\n  <thead>\n    <tr style=\"text-align: right;\">\n      <th></th>\n      <th>ID</th>\n      <th>title</th>\n      <th>text</th>\n      <th>label</th>\n      <th>title_and_text</th>\n      <th>preprocessed_text</th>\n    </tr>\n  </thead>\n  <tbody>\n    <tr>\n      <th>6313</th>\n      <td>4490</td>\n      <td>State Department says it can't find emails fro...</td>\n      <td>The State Department told the Republican Natio...</td>\n      <td>None</td>\n      <td>State Department says it can't find emails fro...</td>\n      <td>state department say can't find emails clinton...</td>\n    </tr>\n    <tr>\n      <th>6314</th>\n      <td>8062</td>\n      <td>The ‘P’ in PBS Should Stand for ‘Plutocratic’ ...</td>\n      <td>The ‘P’ in PBS Should Stand for ‘Plutocratic’ ...</td>\n      <td>None</td>\n      <td>The ‘P’ in PBS Should Stand for ‘Plutocratic’ ...</td>\n      <td>‘p’ pb stand ‘plutocratic’ ‘pentagon’ ‘p’ pb s...</td>\n    </tr>\n    <tr>\n      <th>6315</th>\n      <td>8622</td>\n      <td>Anti-Trump Protesters Are Tools of the Oligarc...</td>\n      <td>Anti-Trump Protesters Are Tools of the Oligar...</td>\n      <td>None</td>\n      <td>Anti-Trump Protesters Are Tools of the Oligarc...</td>\n      <td>anti-trump protester tool oligarchy informatio...</td>\n    </tr>\n    <tr>\n      <th>6316</th>\n      <td>4021</td>\n      <td>In Ethiopia, Obama seeks progress on peace, se...</td>\n      <td>ADDIS ABABA, Ethiopia —President Obama convene...</td>\n      <td>None</td>\n      <td>In Ethiopia, Obama seeks progress on peace, se...</td>\n      <td>ethiopia obama seek progress peace security ea...</td>\n    </tr>\n    <tr>\n      <th>6317</th>\n      <td>4330</td>\n      <td>Jeb Bush Is Suddenly Attacking Trump. Here's W...</td>\n      <td>Jeb Bush Is Suddenly Attacking Trump. Here's W...</td>\n      <td>None</td>\n      <td>Jeb Bush Is Suddenly Attacking Trump. Here's W...</td>\n      <td>jeb bush suddenly attack trump here's matter j...</td>\n    </tr>\n  </tbody>\n</table>\n</div>"
     },
     "metadata": {}
    }
   ]
  },
  {
   "cell_type": "markdown",
   "source": [
    "### Split Train and Test again after pre-processing is done"
   ],
   "metadata": {
    "id": "4giKFIVt3rlW",
    "cell_id": "00045-afbbbbe7-90e1-4cf3-800b-93ef64035cba",
    "deepnote_cell_type": "markdown"
   }
  },
  {
   "cell_type": "code",
   "metadata": {
    "colab": {
     "base_uri": "https://localhost:8080/"
    },
    "id": "VTFGyJ373rlW",
    "outputId": "a8f7aa5f-3cde-4744-d392-fad2cfdf90c6",
    "cell_id": "00046-2df3f3f8-13fb-4424-9c1a-f71a9cd2c280",
    "deepnote_to_be_reexecuted": false,
    "source_hash": "b7c73077",
    "execution_start": 1643886351246,
    "execution_millis": 11,
    "deepnote_cell_type": "code"
   },
   "source": [
    "encoder, train, test, train_cv, train_holdout, train_cv_label, train_holdout_label = split_train_holdout_test(encoder, df)"
   ],
   "execution_count": 51,
   "outputs": [
    {
     "name": "stdout",
     "text": "\nTrain dataset (Full)\n(3997, 7)\nTrain dataset cols\n['ID', 'title', 'text', 'label', 'title_and_text', 'preprocessed_text', 'encoded_label']\n\nTrain CV dataset (subset)\n(2677, 7)\nTrain Holdout dataset (subset)\n(1320, 7)\n\nTest dataset\n(2321, 6)\nTest dataset cols\n['ID', 'title', 'text', 'label', 'title_and_text', 'preprocessed_text']\n",
     "output_type": "stream"
    }
   ]
  },
  {
   "cell_type": "code",
   "metadata": {
    "id": "qm76sM2Z3rlW",
    "colab": {
     "base_uri": "https://localhost:8080/"
    },
    "outputId": "7b85c515-11f7-4bac-d135-0d17afe4a29e",
    "cell_id": "00047-706599fa-d07d-4793-8e44-08ad02516201",
    "deepnote_output_heights": [
     1
    ],
    "deepnote_to_be_reexecuted": false,
    "source_hash": "eecaea6f",
    "execution_start": 1643886351270,
    "execution_millis": 4,
    "deepnote_cell_type": "code"
   },
   "source": [
    "encoder"
   ],
   "execution_count": 52,
   "outputs": [
    {
     "output_type": "execute_result",
     "execution_count": 52,
     "data": {
      "text/plain": "LabelEncoder()"
     },
     "metadata": {}
    }
   ]
  },
  {
   "cell_type": "markdown",
   "source": [
    "# Baseline Modelling"
   ],
   "metadata": {
    "id": "QKtibUi-3rlX",
    "cell_id": "00048-92d337c8-b16b-470d-b1f0-83c0df4c256b",
    "deepnote_cell_type": "markdown"
   }
  },
  {
   "cell_type": "markdown",
   "source": [
    "First, we create a dataframe called models to keep track of different models and their scores."
   ],
   "metadata": {
    "id": "_8Vz8cRH3rlX",
    "cell_id": "00049-adc422ee-091f-4953-8597-eaabb87fef6f",
    "deepnote_cell_type": "markdown"
   }
  },
  {
   "cell_type": "code",
   "metadata": {
    "id": "q82fEtZ43rlX",
    "cell_id": "00050-134e23ed-3688-4fdf-a3a8-12e1bab32de5",
    "deepnote_to_be_reexecuted": false,
    "source_hash": "2a9a401",
    "execution_start": 1643886351284,
    "execution_millis": 15,
    "deepnote_cell_type": "code"
   },
   "source": [
    "models = pd.DataFrame(columns=['model_name', 'model_object', 'score'])"
   ],
   "execution_count": 53,
   "outputs": []
  },
  {
   "cell_type": "markdown",
   "source": [
    "### Vectorizing dataset"
   ],
   "metadata": {
    "id": "DGnIi8AW3rlY",
    "cell_id": "00051-351750d6-30f6-41cf-989d-00276a126792",
    "deepnote_cell_type": "markdown"
   }
  },
  {
   "cell_type": "markdown",
   "source": [
    "For any text to be fed to a model, the text has to be transformed into numerical values. This process is called vectorizing and will be redone everytime a new feature is added."
   ],
   "metadata": {
    "id": "ji3Nrzi_3rlY",
    "cell_id": "00052-3bfb2485-c593-4924-b3ff-cfdc805d5826",
    "deepnote_cell_type": "markdown"
   }
  },
  {
   "cell_type": "code",
   "metadata": {
    "id": "LY8avLfx3rlZ",
    "cell_id": "00053-5963dadc-bb2f-4326-9c3e-9c1cfc897164",
    "deepnote_to_be_reexecuted": false,
    "source_hash": "10eca7f8",
    "execution_start": 1643886351299,
    "execution_millis": 6903,
    "deepnote_cell_type": "code"
   },
   "source": [
    "count_vect = CountVectorizer(analyzer = 'word')\n",
    "\n",
    "count_vectorizer = count_vect.fit(df.preprocessed_text)\n",
    "\n",
    "train_cv_vector = count_vectorizer.transform(train_cv.preprocessed_text)\n",
    "train_holdout_vector = count_vectorizer.transform(train_holdout.preprocessed_text)\n",
    "test_vector = count_vectorizer.transform(test.preprocessed_text)"
   ],
   "execution_count": 54,
   "outputs": []
  },
  {
   "cell_type": "code",
   "metadata": {
    "colab": {
     "base_uri": "https://localhost:8080/"
    },
    "id": "CR0zd9dL3rlZ",
    "outputId": "4c5de644-4110-46c5-c996-b29b9bfcfd81",
    "cell_id": "00054-04b992e2-4f96-4b34-a857-9720f10b2343",
    "deepnote_output_heights": [
     1
    ],
    "deepnote_to_be_reexecuted": false,
    "source_hash": "6e7b41f9",
    "execution_start": 1643886358263,
    "execution_millis": 36,
    "deepnote_cell_type": "code"
   },
   "source": [
    "count_vect.get_feature_names()[:10]"
   ],
   "execution_count": 55,
   "outputs": [
    {
     "output_type": "execute_result",
     "execution_count": 55,
     "data": {
      "text/plain": "['___',\n '_blank',\n '_derosa',\n '_rt_op_edge',\n '_strauss',\n 'aa',\n 'aaa',\n 'aaahhh',\n 'aab',\n 'aachen']"
     },
     "metadata": {}
    }
   ]
  },
  {
   "cell_type": "markdown",
   "source": [
    "## Baseline Model 1: SVC"
   ],
   "metadata": {
    "id": "sRhOnceM3rla",
    "cell_id": "00055-a2c5ab6c-4b75-4094-b199-08ebc2ecea5b",
    "deepnote_cell_type": "markdown"
   }
  },
  {
   "cell_type": "markdown",
   "source": [
    "We create a baseline classification model with a support vector machine, a good model to handle complex classifications."
   ],
   "metadata": {
    "id": "8YiVlZYf3rla",
    "cell_id": "00056-d34df0cb-cbe5-499f-a693-9226b998eb61",
    "deepnote_cell_type": "markdown"
   }
  },
  {
   "cell_type": "code",
   "metadata": {
    "colab": {
     "base_uri": "https://localhost:8080/",
     "height": 730
    },
    "id": "rTvaJBoN3rla",
    "outputId": "f22ccc80-2abe-43d7-cc35-74a6b4c09bbd",
    "cell_id": "00057-8c930e9d-03d0-4292-a5e9-4fc3808153f8",
    "deepnote_output_heights": [
     null,
     264
    ],
    "deepnote_to_be_reexecuted": false,
    "source_hash": "1bdd0770",
    "execution_start": 1643886358306,
    "execution_millis": 194229,
    "deepnote_cell_type": "code"
   },
   "source": [
    "SVC_classifier = run_model(encoder,\n",
    "               train_cv_vector,\n",
    "               train_cv_label,\n",
    "               train_holdout_vector,\n",
    "               train_holdout.label,\n",
    "               'svc',\n",
    "               'Baseline Model 1: SVC')\n",
    "models.loc[len(models)] = SVC"
   ],
   "execution_count": 56,
   "outputs": [
    {
     "name": "stdout",
     "text": "\u001B[31mBaseline Model 1: SVC\u001B[0m\n\u001B[33mGridSearchCV(cv=ShuffleSplit(n_splits=5, random_state=12345, test_size=0.2, train_size=None),\n             estimator=SVC(),\n             param_grid=[{'C': [1, 10, 50, 100], 'kernel': ['linear']},\n                         {'C': [10, 100, 500, 1000], 'gamma': [0.0001],\n                          'kernel': ['rbf']}])\u001B[0m\n\u001B[34m\nCV-scores\u001B[0m\nAccuracy: 0.909 (+/-0.022) for params: {'C': 100, 'gamma': 0.0001, 'kernel': 'rbf'}\nAccuracy: 0.902 (+/-0.030) for params: {'C': 500, 'gamma': 0.0001, 'kernel': 'rbf'}\nAccuracy: 0.893 (+/-0.030) for params: {'C': 1000, 'gamma': 0.0001, 'kernel': 'rbf'}\nAccuracy: 0.892 (+/-0.036) for params: {'C': 1, 'kernel': 'linear'}\nAccuracy: 0.892 (+/-0.036) for params: {'C': 10, 'kernel': 'linear'}\nAccuracy: 0.892 (+/-0.036) for params: {'C': 50, 'kernel': 'linear'}\nAccuracy: 0.892 (+/-0.036) for params: {'C': 100, 'kernel': 'linear'}\nAccuracy: 0.886 (+/-0.011) for params: {'C': 10, 'gamma': 0.0001, 'kernel': 'rbf'}\n\n\u001B[34m\nBest Estimator Params\u001B[0m\n\u001B[33mSVC(C=100, gamma=0.0001)\u001B[0m\n\u001B[34m\nPredictions:\u001B[0m\n['REAL' 'REAL' 'FAKE' ... 'REAL' 'FAKE' 'REAL']\n",
     "output_type": "stream"
    },
    {
     "data": {
      "text/plain": "<Figure size 396x288 with 2 Axes>",
      "image/png": "[encoded data removed]"
     },
     "metadata": {
      "needs_background": "light",
      "image/png": {
       "width": 343,
       "height": 262
      }
     },
     "output_type": "display_data"
    },
    {
     "name": "stdout",
     "text": "\u001B[34m\nAccuracy:\u001B[0m\n\u001B[32m0.9136363636363637\u001B[0m\n",
     "output_type": "stream"
    }
   ]
  },
  {
   "cell_type": "markdown",
   "source": [
    "## Baseline Model 2: Naïve Bayes"
   ],
   "metadata": {
    "id": "R53h1ZsP3rla",
    "cell_id": "00058-376e2740-668e-4b3f-be12-933d34eae30b",
    "deepnote_cell_type": "markdown"
   }
  },
  {
   "cell_type": "markdown",
   "source": [
    "With this hand drawn example (text: *rude hell worth*), we explain why the Naïve Bayes model is helpful for our classification. The labels Real and Fake text are hidden, but every word, based on our training data, has a certain probability to belong to one of the two categories. The final score is calculated, multiplying all probabilities of the words (0.006 for real, 0.288 for fake). The algo thus does not take into account the order of the words in the multiplication. *rude hell worth* will be classified as fake."
   ],
   "metadata": {
    "id": "a013U4UQ3rlb",
    "cell_id": "00059-d0f4ab4a-8475-4612-b179-b902ea4b6565",
    "deepnote_cell_type": "markdown"
   }
  },
  {
   "cell_type": "code",
   "metadata": {
    "colab": {
     "base_uri": "https://localhost:8080/",
     "height": 557
    },
    "id": "UxF-wC5m3rlc",
    "outputId": "5ae21660-028e-4d18-869f-ebb3a2708853",
    "cell_id": "00060-a481efc3-6225-4055-8eac-6a0c6fc2b394",
    "deepnote_output_heights": [
     null,
     264
    ],
    "deepnote_to_be_reexecuted": false,
    "source_hash": "ab722251",
    "execution_start": 1643886552530,
    "execution_millis": 377,
    "deepnote_cell_type": "code"
   },
   "source": [
    "NB = run_model(encoder,\n",
    "              train_cv_vector,\n",
    "              train_cv_label,\n",
    "              train_holdout_vector,\n",
    "              train_holdout.label,\n",
    "              'nb',\n",
    "              'Baseline Model 2: Naiive Bayes')\n",
    "models.loc[len(models)] = NB"
   ],
   "execution_count": 57,
   "outputs": [
    {
     "name": "stdout",
     "text": "\u001B[31mBaseline Model 2: Naiive Bayes\u001B[0m\n\u001B[33mGridSearchCV(cv=ShuffleSplit(n_splits=5, random_state=12345, test_size=0.2, train_size=None),\n             estimator=MultinomialNB(), param_grid={})\u001B[0m\n\u001B[34m\nCV-scores\u001B[0m\nAccuracy: 0.887 (+/-0.021) for params: {}\n\n\u001B[34m\nBest Estimator Params\u001B[0m\n\u001B[33mMultinomialNB()\u001B[0m\n\u001B[34m\nPredictions:\u001B[0m\n['REAL' 'REAL' 'REAL' ... 'REAL' 'REAL' 'REAL']\n",
     "output_type": "stream"
    },
    {
     "data": {
      "text/plain": "<Figure size 396x288 with 2 Axes>",
      "image/png": "[encoded data removed]"
     },
     "metadata": {
      "needs_background": "light",
      "image/png": {
       "width": 343,
       "height": 262
      }
     },
     "output_type": "display_data"
    },
    {
     "name": "stdout",
     "text": "\u001B[34m\nAccuracy:\u001B[0m\n\u001B[32m0.8946969696969697\u001B[0m\n",
     "output_type": "stream"
    }
   ]
  },
  {
   "cell_type": "markdown",
   "source": [
    "## Baseline Model 3: MaxEnt Classifier"
   ],
   "metadata": {
    "id": "65Vzvqbh3rlc",
    "cell_id": "00061-3b1f3167-94dc-442e-8639-41d38fffe833",
    "deepnote_cell_type": "markdown"
   }
  },
  {
   "cell_type": "code",
   "metadata": {
    "colab": {
     "base_uri": "https://localhost:8080/",
     "height": 817
    },
    "id": "HcqaG-NX3rld",
    "outputId": "8a8448a5-4647-43e4-ce34-560d5979f995",
    "cell_id": "00062-bfd0d532-bca9-4fff-882a-24a16f08bb23",
    "deepnote_output_heights": [
     null,
     264
    ],
    "deepnote_to_be_reexecuted": false,
    "source_hash": "d2ca576b",
    "execution_start": 1643886552920,
    "execution_millis": 59256,
    "deepnote_cell_type": "code"
   },
   "source": [
    "maxEnt = run_model(encoder,\n",
    "              train_cv_vector,\n",
    "              train_cv_label,\n",
    "              train_holdout_vector,\n",
    "              train_holdout.label,\n",
    "              'maxEnt',\n",
    "              'Baseline Model 3: MaxEnt Classifier')\n",
    "models.loc[len(models)] = maxEnt"
   ],
   "execution_count": 58,
   "outputs": [
    {
     "name": "stdout",
     "text": "\u001B[31mBaseline Model 3: MaxEnt Classifier\u001B[0m\n\u001B[33mGridSearchCV(cv=ShuffleSplit(n_splits=5, random_state=12345, test_size=0.2, train_size=None),\n             estimator=LogisticRegression(),\n             param_grid={'C': [0.001, 0.01, 0.1, 1, 10, 100, 1000],\n                         'penalty': ['l1', 'l2']})\u001B[0m\n\u001B[34m\nCV-scores\u001B[0m\nAccuracy: nan (+/-nan) for params: {'C': 0.001, 'penalty': 'l1'}\nAccuracy: 0.877 (+/-0.023) for params: {'C': 0.001, 'penalty': 'l2'}\nAccuracy: nan (+/-nan) for params: {'C': 0.01, 'penalty': 'l1'}\nAccuracy: 0.913 (+/-0.011) for params: {'C': 0.01, 'penalty': 'l2'}\nAccuracy: nan (+/-nan) for params: {'C': 0.1, 'penalty': 'l1'}\nAccuracy: 0.929 (+/-0.012) for params: {'C': 0.1, 'penalty': 'l2'}\nAccuracy: nan (+/-nan) for params: {'C': 1, 'penalty': 'l1'}\nAccuracy: 0.926 (+/-0.019) for params: {'C': 1, 'penalty': 'l2'}\nAccuracy: nan (+/-nan) for params: {'C': 10, 'penalty': 'l1'}\nAccuracy: 0.916 (+/-0.025) for params: {'C': 10, 'penalty': 'l2'}\nAccuracy: nan (+/-nan) for params: {'C': 100, 'penalty': 'l1'}\nAccuracy: 0.910 (+/-0.029) for params: {'C': 100, 'penalty': 'l2'}\nAccuracy: nan (+/-nan) for params: {'C': 1000, 'penalty': 'l1'}\nAccuracy: 0.906 (+/-0.033) for params: {'C': 1000, 'penalty': 'l2'}\n\n\u001B[34m\nBest Estimator Params\u001B[0m\n\u001B[33mLogisticRegression(C=0.1)\u001B[0m\n\u001B[34m\nPredictions:\u001B[0m\n['REAL' 'REAL' 'FAKE' ... 'REAL' 'FAKE' 'REAL']\n",
     "output_type": "stream"
    },
    {
     "data": {
      "text/plain": "<Figure size 396x288 with 2 Axes>",
      "image/png": "[encoded data removed]"
     },
     "metadata": {
      "needs_background": "light",
      "image/png": {
       "width": 343,
       "height": 262
      }
     },
     "output_type": "display_data"
    },
    {
     "name": "stdout",
     "text": "\u001B[34m\nAccuracy:\u001B[0m\n\u001B[32m0.9234848484848485\u001B[0m\n",
     "output_type": "stream"
    }
   ]
  },
  {
   "cell_type": "markdown",
   "source": [
    "# Baseline Models Summary"
   ],
   "metadata": {
    "id": "oH5rI4bH3rld",
    "cell_id": "00063-c9f20e9d-5b1d-4849-8bd4-a62ef040a58a",
    "deepnote_cell_type": "markdown"
   }
  },
  {
   "cell_type": "code",
   "metadata": {
    "id": "qeyRLRQz3rld",
    "colab": {
     "base_uri": "https://localhost:8080/",
     "height": 143
    },
    "outputId": "82255995-f384-46d2-9b80-14ff4a6c0459",
    "cell_id": "00064-645268b0-0272-457d-926c-5b090c831c37",
    "deepnote_output_heights": [
     119
    ],
    "deepnote_to_be_reexecuted": false,
    "source_hash": "6d6890ff",
    "execution_start": 1643886612240,
    "execution_millis": 9,
    "deepnote_cell_type": "code"
   },
   "source": [
    "models"
   ],
   "execution_count": 59,
   "outputs": [
    {
     "output_type": "execute_result",
     "execution_count": 59,
     "data": {
      "application/vnd.deepnote.dataframe.v3+json": {
       "column_count": 3,
       "row_count": 3,
       "columns": [
        {
         "name": "model_name",
         "dtype": "object",
         "stats": {
          "unique_count": 3,
          "nan_count": 0,
          "categories": [
           {
            "name": "<class 'sklearn.svm._classes.SVC'>",
            "count": 1
           },
           {
            "name": "Baseline Model 2: Naiive Bayes",
            "count": 1
           },
           {
            "name": "Baseline Model 3: MaxEnt Classifier",
            "count": 1
           }
          ]
         }
        },
        {
         "name": "model_object",
         "dtype": "object",
         "stats": {
          "unique_count": 3,
          "nan_count": 0,
          "categories": [
           {
            "name": "<class 'sklearn.svm._classes.SVC'>",
            "count": 1
           },
           {
            "name": "GridSearchCV(cv=ShuffleSplit(n_splits=5, random_state=12345, test_size=0.2, train_size=None),\n             estimator=MultinomialNB(), param_grid={})",
            "count": 1
           },
           {
            "name": "GridSearchCV(cv=ShuffleSplit(n_splits=5, random_state=12345, test_size=0.2, train_size=None),\n             estimator=LogisticRegression(),\n             param_grid={'C': [0.001, 0.01, 0.1, 1, 10, 100, 1000],\n                         'penalty': ['l1', 'l2']})",
            "count": 1
           }
          ]
         }
        },
        {
         "name": "score",
         "dtype": "object",
         "stats": {
          "unique_count": 3,
          "nan_count": 0,
          "categories": [
           {
            "name": "<class 'sklearn.svm._classes.SVC'>",
            "count": 1
           },
           {
            "name": "0.8946969696969697",
            "count": 1
           },
           {
            "name": "0.9234848484848485",
            "count": 1
           }
          ]
         }
        },
        {
         "name": "_deepnote_index_column",
         "dtype": "int64"
        }
       ],
       "rows": [
        {
         "model_name": "<class 'sklearn.svm._classes.SVC'>",
         "model_object": "<class 'sklearn.svm._classes.SVC'>",
         "score": "<class 'sklearn.svm._classes.SVC'>",
         "_deepnote_index_column": 0
        },
        {
         "model_name": "Baseline Model 2: Naiive Bayes",
         "model_object": "GridSearchCV(cv=ShuffleSplit(n_splits=5, random_state=12345, test_size=0.2, train_size=None),\n     …",
         "score": "0.8946969696969697",
         "_deepnote_index_column": 1
        },
        {
         "model_name": "Baseline Model 3: MaxEnt Classifier",
         "model_object": "GridSearchCV(cv=ShuffleSplit(n_splits=5, random_state=12345, test_size=0.2, train_size=None),\n     …",
         "score": "0.9234848484848485",
         "_deepnote_index_column": 2
        }
       ]
      },
      "text/plain": "                            model_name  \\\n0   <class 'sklearn.svm._classes.SVC'>   \n1       Baseline Model 2: Naiive Bayes   \n2  Baseline Model 3: MaxEnt Classifier   \n\n                                        model_object  \\\n0                 <class 'sklearn.svm._classes.SVC'>   \n1  GridSearchCV(cv=ShuffleSplit(n_splits=5, rando...   \n2  GridSearchCV(cv=ShuffleSplit(n_splits=5, rando...   \n\n                                score  \n0  <class 'sklearn.svm._classes.SVC'>  \n1                            0.894697  \n2                            0.923485  ",
      "text/html": "<div>\n<style scoped>\n    .dataframe tbody tr th:only-of-type {\n        vertical-align: middle;\n    }\n\n    .dataframe tbody tr th {\n        vertical-align: top;\n    }\n\n    .dataframe thead th {\n        text-align: right;\n    }\n</style>\n<table border=\"1\" class=\"dataframe\">\n  <thead>\n    <tr style=\"text-align: right;\">\n      <th></th>\n      <th>model_name</th>\n      <th>model_object</th>\n      <th>score</th>\n    </tr>\n  </thead>\n  <tbody>\n    <tr>\n      <th>0</th>\n      <td>&lt;class 'sklearn.svm._classes.SVC'&gt;</td>\n      <td>&lt;class 'sklearn.svm._classes.SVC'&gt;</td>\n      <td>&lt;class 'sklearn.svm._classes.SVC'&gt;</td>\n    </tr>\n    <tr>\n      <th>1</th>\n      <td>Baseline Model 2: Naiive Bayes</td>\n      <td>GridSearchCV(cv=ShuffleSplit(n_splits=5, rando...</td>\n      <td>0.894697</td>\n    </tr>\n    <tr>\n      <th>2</th>\n      <td>Baseline Model 3: MaxEnt Classifier</td>\n      <td>GridSearchCV(cv=ShuffleSplit(n_splits=5, rando...</td>\n      <td>0.923485</td>\n    </tr>\n  </tbody>\n</table>\n</div>"
     },
     "metadata": {}
    }
   ]
  },
  {
   "cell_type": "markdown",
   "source": [
    "# Feature Engin|eering"
   ],
   "metadata": {
    "id": "HDMPERD53rle",
    "cell_id": "00065-a82887d4-36be-4142-af84-c0751b885636",
    "deepnote_cell_type": "markdown"
   }
  },
  {
   "cell_type": "markdown",
   "source": [
    "- Explicit POS tagging\n",
    "- TF-IDF weighting\n",
    "- Bigram Count Vectorizer"
   ],
   "metadata": {
    "id": "-JKJ8ey93rle",
    "cell_id": "00066-fa6df0e5-5620-4dff-8fb3-70840d3cb06a",
    "deepnote_cell_type": "markdown"
   }
  },
  {
   "cell_type": "markdown",
   "source": [
    "==> Select Final Model and predict on test"
   ],
   "metadata": {
    "id": "w2vVBl_13rle",
    "cell_id": "00067-8f6ed64a-56b9-4729-bae5-82b71bb4168f",
    "deepnote_cell_type": "markdown"
   }
  },
  {
   "cell_type": "markdown",
   "source": [
    "## 1. POS Tagging\n",
    "\n",
    "Adding a prefix to each word with its type (Noun, Verb, Adjective,...).\n",
    "e.g: I went to school => PRP-I VBD-went TO-to NN-school\n",
    "\n",
    "Also, after lemmatization it will be 'VB-go NN-school', which indicates the semantics and distinguishes the purpose of the sentence.\n",
    "\n",
    "This will help the classifier differentiate between different types of sentences."
   ],
   "metadata": {
    "id": "CWAE5mhF3rle",
    "cell_id": "00068-c8f13dcf-b004-483d-a17a-40f0baedc7e0",
    "deepnote_cell_type": "markdown"
   }
  },
  {
   "cell_type": "code",
   "metadata": {
    "id": "VCTk9uVV3rlf",
    "cell_id": "00069-cafcd3dd-5f43-4891-81eb-0ea7ebfbcba4",
    "deepnote_to_be_reexecuted": false,
    "source_hash": "3fd1fd8a",
    "execution_start": 1643886612253,
    "execution_millis": 306857,
    "deepnote_cell_type": "code"
   },
   "source": [
    "df['pos_tagged_text'] = df['preprocessed_text'].apply(lambda x: pos_tag_words(x))"
   ],
   "execution_count": 60,
   "outputs": []
  },
  {
   "cell_type": "code",
   "metadata": {
    "id": "eghZfMhs3rlf",
    "colab": {
     "base_uri": "https://localhost:8080/",
     "height": 371
    },
    "outputId": "339fd0ae-414e-498f-cf5e-b9fe66382c46",
    "cell_id": "00070-4d172bde-7e53-4313-b088-8a4a1ba2e0db",
    "deepnote_output_heights": [
     177
    ],
    "deepnote_to_be_reexecuted": false,
    "source_hash": "c085b6ba",
    "execution_start": 1643886919160,
    "execution_millis": 17,
    "deepnote_cell_type": "code"
   },
   "source": [
    "df.head()"
   ],
   "execution_count": 61,
   "outputs": [
    {
     "output_type": "execute_result",
     "execution_count": 61,
     "data": {
      "application/vnd.deepnote.dataframe.v3+json": {
       "column_count": 7,
       "row_count": 5,
       "columns": [
        {
         "name": "ID",
         "dtype": "int64",
         "stats": {
          "unique_count": 5,
          "nan_count": 0,
          "min": "875",
          "max": "10294",
          "histogram": [
           {
            "bin_start": 875,
            "bin_end": 1816.9,
            "count": 1
           },
           {
            "bin_start": 1816.9,
            "bin_end": 2758.8,
            "count": 0
           },
           {
            "bin_start": 2758.8,
            "bin_end": 3700.7,
            "count": 1
           },
           {
            "bin_start": 3700.7,
            "bin_end": 4642.6,
            "count": 0
           },
           {
            "bin_start": 4642.6,
            "bin_end": 5584.5,
            "count": 0
           },
           {
            "bin_start": 5584.5,
            "bin_end": 6526.4,
            "count": 0
           },
           {
            "bin_start": 6526.4,
            "bin_end": 7468.3,
            "count": 0
           },
           {
            "bin_start": 7468.3,
            "bin_end": 8410.2,
            "count": 0
           },
           {
            "bin_start": 8410.2,
            "bin_end": 9352.1,
            "count": 1
           },
           {
            "bin_start": 9352.1,
            "bin_end": 10294,
            "count": 2
           }
          ]
         }
        },
        {
         "name": "title",
         "dtype": "object",
         "stats": {
          "unique_count": 5,
          "nan_count": 0,
          "categories": [
           {
            "name": "You Can Smell Hillary’s Fear",
            "count": 1
           },
           {
            "name": "Watch The Exact Moment Paul Ryan Committed Political Suicide At A Trump Rally (VIDEO)",
            "count": 1
           },
           {
            "name": "3 others",
            "count": 3
           }
          ]
         }
        },
        {
         "name": "text",
         "dtype": "object",
         "stats": {
          "unique_count": 5,
          "nan_count": 0,
          "categories": [
           {
            "name": "Daniel Greenfield | a Shillman Journalism Fellow at the Freedom Center | is a New York writer focusing on radical Islam. In the final stretch of the election | Hillary Rodham Clinton has gone to war with the FBI. The word “unprecedented” has been thrown around so often this election that it ought to be retired. But it’s still unprecedented for the nominee of a major political party to go war with the FBI. But that’s exactly what Hillary and her people have done. Coma patients just waking up now and watching an hour of CNN from their hospital beds would assume that FBI Director James Comey is Hillary’s opponent in this election. The FBI is under attack by everyone from Obama to CNN. Hillary’s people have circulated a letter attacking Comey. There are currently more media hit pieces lambasting him than targeting Trump. It wouldn’t be too surprising if the Clintons or their allies were to start running attack ads against the FBI. The FBI’s leadership is being warned that the entire left-wing establishment will form a lynch mob if they continue going after Hillary. And the FBI’s credibility is being attacked by the media and the Democrats to preemptively head off the results of the investigation of the Clinton Foundation and Hillary Clinton. The covert struggle between FBI agents and Obama’s DOJ people has gone explosively public. The New York Times has compared Comey to J. Edgar Hoover. Its bizarre headline | “James Comey Role Recalls Hoover’s FBI | Fairly or Not” practically admits up front that it’s spouting nonsense. The Boston Globe has published a column calling for Comey’s resignation. Not to be outdone | Time has an editorial claiming that the scandal is really an attack on all women. James Carville appeared on MSNBC to remind everyone that he was still alive and insane. He accused Comey of coordinating with House Republicans and the KGB. And you thought the “vast right wing conspiracy” was a stretch. Countless media stories charge Comey with violating procedure. Do you know what’s a procedural violation? Emailing classified information stored on your bathroom server. Senator Harry Reid has sent Comey a letter accusing him of violating the Hatch Act. The Hatch Act is a nice idea that has as much relevance in the age of Obama as the Tenth Amendment. But the cable news spectrum quickly filled with media hacks glancing at the Wikipedia article on the Hatch Act under the table while accusing the FBI director of one of the most awkward conspiracies against Hillary ever. If James Comey is really out to hurt Hillary | he picked one hell of a strange way to do it. Not too long ago Democrats were breathing a sigh of relief when he gave Hillary Clinton a pass in a prominent public statement. If he really were out to elect Trump by keeping the email scandal going | why did he trash the investigation? Was he on the payroll of House Republicans and the KGB back then and playing it coy or was it a sudden development where Vladimir Putin and Paul Ryan talked him into taking a look at Anthony Weiner’s computer? Either Comey is the most cunning FBI director that ever lived or he’s just awkwardly trying to navigate a political mess that has trapped him between a DOJ leadership whose political futures are tied to Hillary’s victory and his own bureau whose apolitical agents just want to be allowed to do their jobs. The only truly mysterious thing is why Hillary and her associates decided to go to war with a respected Federal agency. Most Americans like the FBI while Hillary Clinton enjoys a 60% unfavorable rating. And it’s an interesting question. Hillary’s old strategy was to lie and deny that the FBI even had a criminal investigation underway. Instead her associates insisted that it was a security review. The FBI corrected her and she shrugged it off. But the old breezy denial approach has given way to a savage assault on the FBI. Pretending that nothing was wrong was a bad strategy | but it was a better one that picking a fight with the FBI while lunatic Clinton associates try to claim that the FBI is really the KGB. There are two possible explanations. Hillary Clinton might be arrogant enough to lash out at the FBI now that she believes that victory is near. The same kind of hubris that led her to plan her victory fireworks display could lead her to declare a war on the FBI for irritating her during the final miles of her campaign. But the other explanation is that her people panicked. Going to war with the FBI is not the behavior of a smart and focused presidential campaign. It’s an act of desperation. When a presidential candidate decides that her only option is to try and destroy the credibility of the FBI | that’s not hubris | it’s fear of what the FBI might be about to reveal about her. During the original FBI investigation | Hillary Clinton was confident that she could ride it out. And she had good reason for believing that. But that Hillary Clinton is gone. In her place is a paranoid wreck. Within a short space of time the “positive” Clinton campaign promising to unite the country has been replaced by a desperate and flailing operation that has focused all its energy on fighting the FBI. There’s only one reason for such bizarre behavior. The Clinton campaign has decided that an FBI investigation of the latest batch of emails poses a threat to its survival. And so it’s gone all in on fighting the FBI. It’s an unprecedented step born of fear. It’s hard to know whether that fear is justified. But the existence of that fear already tells us a whole lot. Clinton loyalists rigged the old investigation. They knew the outcome ahead of time as well as they knew the debate questions. Now suddenly they are no longer in control. And they are afraid. You can smell the fear. The FBI has wiretaps from the investigation of the Clinton Foundation. It’s finding new emails all the time. And Clintonworld panicked. The spinmeisters of Clintonworld have claimed that the email scandal is just so much smoke without fire. All that’s here is the appearance of impropriety without any of the substance. But this isn’t how you react to smoke. It’s how you respond to a fire. The misguided assault on the FBI tells us that Hillary Clinton and her allies are afraid of a revelation bigger than the fundamental illegality of her email setup. The email setup was a preemptive cover up. The Clinton campaign has panicked badly out of the belief | right or wrong | that whatever crime the illegal setup was meant to cover up is at risk of being exposed. The Clintons have weathered countless scandals over the years. Whatever they are protecting this time around is bigger than the usual corruption | bribery | sexual assaults and abuses of power that have followed them around throughout the years. This is bigger and more damaging than any of the allegations that have already come out. And they don’t want FBI investigators anywhere near it. The campaign against Comey is pure intimidation. It’s also a warning. Any senior FBI people who value their careers are being warned to stay away. The Democrats are closing ranks around their nominee against the FBI. It’s an ugly and unprecedented scene. It may also be their last stand. Hillary Clinton has awkwardly wound her way through numerous scandals in just this election cycle. But she’s never shown fear or desperation before. Now that has changed. Whatever she is afraid of | it lies buried in her emails with Huma Abedin. And it can bring her down like nothing else has.  ",
            "count": 1
           },
           {
            "name": "Google Pinterest Digg Linkedin Reddit Stumbleupon Print Delicious Pocket Tumblr There are two fundamental truths in this world: Paul Ryan desperately wants to be president. And Paul Ryan will never be president. Today proved it. In a particularly staggering example of political cowardice | Paul Ryan re-re-re-reversed course and announced that he was back on the Trump Train after all. This was an aboutface from where he was a few weeks ago. He had previously declared he would not be supporting or defending Trump after a tape was made public in which Trump bragged about assaulting women. Suddenly | Ryan was appearing at a pro-Trump rally and boldly declaring that he already sent in his vote to make him President of the United States. It was a surreal moment. The figurehead of the Republican Party dosed himself in gasoline | got up on a stage on a chilly afternoon in Wisconsin | and lit a match. . @SpeakerRyan says he voted for @realDonaldTrump : “Republicans | it is time to come home” https://t.co/VyTT49YvoE pic.twitter.com/wCvSCg4a5I — ABC News Politics (@ABCPolitics) November 5 | 2016 The Democratic Party couldn’t have asked for a better moment of film. Ryan’s chances of ever becoming president went down to zero in an instant. In the wreckage Trump is to leave behind in his wake | those who cravenly backed his campaign will not recover. If Ryan’s career manages to limp all the way to 2020 | then the DNC will have this tape locked and loaded to be used in every ad until Election Day. The ringing endorsement of the man he clearly hates on a personal level speaks volumes about his own spinelessness. Ryan has postured himself as a “principled” conservative | and one uncomfortable with Trump’s unapologetic bigotry and sexism. However | when push came to shove | Paul Ryan – like many of his colleagues – turned into a sniveling appeaser. After all his lofty tak about conviction | his principles were a house of cards and collapsed with the slightest breeze. What’s especially bizarre is how close Ryan came to making it through unscathed. For months the Speaker of the House refused to comment on Trump at all. His strategy seemed to be to keep his head down | pretend Trump didn’t exist | and hope that nobody remembered what happened in 2016. Now | just days away from the election | he screwed it all up. If 2016’s very ugly election has done any good it’s by exposing the utter cowardice of the Republicans who once feigned moral courage. A reality television star spit on them | hijacked their party | insulted their wives | and got every last one of them to kneel before him. What a turn of events. Featured image via Twitter",
            "count": 1
           },
           {
            "name": "3 others",
            "count": 3
           }
          ]
         }
        },
        {
         "name": "label",
         "dtype": "object",
         "stats": {
          "unique_count": 2,
          "nan_count": 0,
          "categories": [
           {
            "name": "FAKE",
            "count": 3
           },
           {
            "name": "REAL",
            "count": 2
           }
          ]
         }
        },
        {
         "name": "title_and_text",
         "dtype": "object",
         "stats": {
          "unique_count": 5,
          "nan_count": 0,
          "categories": [
           {
            "name": "You Can Smell Hillary’s Fear Daniel Greenfield | a Shillman Journalism Fellow at the Freedom Center | is a New York writer focusing on radical Islam. In the final stretch of the election | Hillary Rodham Clinton has gone to war with the FBI. The word “unprecedented” has been thrown around so often this election that it ought to be retired. But it’s still unprecedented for the nominee of a major political party to go war with the FBI. But that’s exactly what Hillary and her people have done. Coma patients just waking up now and watching an hour of CNN from their hospital beds would assume that FBI Director James Comey is Hillary’s opponent in this election. The FBI is under attack by everyone from Obama to CNN. Hillary’s people have circulated a letter attacking Comey. There are currently more media hit pieces lambasting him than targeting Trump. It wouldn’t be too surprising if the Clintons or their allies were to start running attack ads against the FBI. The FBI’s leadership is being warned that the entire left-wing establishment will form a lynch mob if they continue going after Hillary. And the FBI’s credibility is being attacked by the media and the Democrats to preemptively head off the results of the investigation of the Clinton Foundation and Hillary Clinton. The covert struggle between FBI agents and Obama’s DOJ people has gone explosively public. The New York Times has compared Comey to J. Edgar Hoover. Its bizarre headline | “James Comey Role Recalls Hoover’s FBI | Fairly or Not” practically admits up front that it’s spouting nonsense. The Boston Globe has published a column calling for Comey’s resignation. Not to be outdone | Time has an editorial claiming that the scandal is really an attack on all women. James Carville appeared on MSNBC to remind everyone that he was still alive and insane. He accused Comey of coordinating with House Republicans and the KGB. And you thought the “vast right wing conspiracy” was a stretch. Countless media stories charge Comey with violating procedure. Do you know what’s a procedural violation? Emailing classified information stored on your bathroom server. Senator Harry Reid has sent Comey a letter accusing him of violating the Hatch Act. The Hatch Act is a nice idea that has as much relevance in the age of Obama as the Tenth Amendment. But the cable news spectrum quickly filled with media hacks glancing at the Wikipedia article on the Hatch Act under the table while accusing the FBI director of one of the most awkward conspiracies against Hillary ever. If James Comey is really out to hurt Hillary | he picked one hell of a strange way to do it. Not too long ago Democrats were breathing a sigh of relief when he gave Hillary Clinton a pass in a prominent public statement. If he really were out to elect Trump by keeping the email scandal going | why did he trash the investigation? Was he on the payroll of House Republicans and the KGB back then and playing it coy or was it a sudden development where Vladimir Putin and Paul Ryan talked him into taking a look at Anthony Weiner’s computer? Either Comey is the most cunning FBI director that ever lived or he’s just awkwardly trying to navigate a political mess that has trapped him between a DOJ leadership whose political futures are tied to Hillary’s victory and his own bureau whose apolitical agents just want to be allowed to do their jobs. The only truly mysterious thing is why Hillary and her associates decided to go to war with a respected Federal agency. Most Americans like the FBI while Hillary Clinton enjoys a 60% unfavorable rating. And it’s an interesting question. Hillary’s old strategy was to lie and deny that the FBI even had a criminal investigation underway. Instead her associates insisted that it was a security review. The FBI corrected her and she shrugged it off. But the old breezy denial approach has given way to a savage assault on the FBI. Pretending that nothing was wrong was a bad strategy | but it was a better one that picking a fight with the FBI while lunatic Clinton associates try to claim that the FBI is really the KGB. There are two possible explanations. Hillary Clinton might be arrogant enough to lash out at the FBI now that she believes that victory is near. The same kind of hubris that led her to plan her victory fireworks display could lead her to declare a war on the FBI for irritating her during the final miles of her campaign. But the other explanation is that her people panicked. Going to war with the FBI is not the behavior of a smart and focused presidential campaign. It’s an act of desperation. When a presidential candidate decides that her only option is to try and destroy the credibility of the FBI | that’s not hubris | it’s fear of what the FBI might be about to reveal about her. During the original FBI investigation | Hillary Clinton was confident that she could ride it out. And she had good reason for believing that. But that Hillary Clinton is gone. In her place is a paranoid wreck. Within a short space of time the “positive” Clinton campaign promising to unite the country has been replaced by a desperate and flailing operation that has focused all its energy on fighting the FBI. There’s only one reason for such bizarre behavior. The Clinton campaign has decided that an FBI investigation of the latest batch of emails poses a threat to its survival. And so it’s gone all in on fighting the FBI. It’s an unprecedented step born of fear. It’s hard to know whether that fear is justified. But the existence of that fear already tells us a whole lot. Clinton loyalists rigged the old investigation. They knew the outcome ahead of time as well as they knew the debate questions. Now suddenly they are no longer in control. And they are afraid. You can smell the fear. The FBI has wiretaps from the investigation of the Clinton Foundation. It’s finding new emails all the time. And Clintonworld panicked. The spinmeisters of Clintonworld have claimed that the email scandal is just so much smoke without fire. All that’s here is the appearance of impropriety without any of the substance. But this isn’t how you react to smoke. It’s how you respond to a fire. The misguided assault on the FBI tells us that Hillary Clinton and her allies are afraid of a revelation bigger than the fundamental illegality of her email setup. The email setup was a preemptive cover up. The Clinton campaign has panicked badly out of the belief | right or wrong | that whatever crime the illegal setup was meant to cover up is at risk of being exposed. The Clintons have weathered countless scandals over the years. Whatever they are protecting this time around is bigger than the usual corruption | bribery | sexual assaults and abuses of power that have followed them around throughout the years. This is bigger and more damaging than any of the allegations that have already come out. And they don’t want FBI investigators anywhere near it. The campaign against Comey is pure intimidation. It’s also a warning. Any senior FBI people who value their careers are being warned to stay away. The Democrats are closing ranks around their nominee against the FBI. It’s an ugly and unprecedented scene. It may also be their last stand. Hillary Clinton has awkwardly wound her way through numerous scandals in just this election cycle. But she’s never shown fear or desperation before. Now that has changed. Whatever she is afraid of | it lies buried in her emails with Huma Abedin. And it can bring her down like nothing else has.  ",
            "count": 1
           },
           {
            "name": "Watch The Exact Moment Paul Ryan Committed Political Suicide At A Trump Rally (VIDEO) Google Pinterest Digg Linkedin Reddit Stumbleupon Print Delicious Pocket Tumblr There are two fundamental truths in this world: Paul Ryan desperately wants to be president. And Paul Ryan will never be president. Today proved it. In a particularly staggering example of political cowardice | Paul Ryan re-re-re-reversed course and announced that he was back on the Trump Train after all. This was an aboutface from where he was a few weeks ago. He had previously declared he would not be supporting or defending Trump after a tape was made public in which Trump bragged about assaulting women. Suddenly | Ryan was appearing at a pro-Trump rally and boldly declaring that he already sent in his vote to make him President of the United States. It was a surreal moment. The figurehead of the Republican Party dosed himself in gasoline | got up on a stage on a chilly afternoon in Wisconsin | and lit a match. . @SpeakerRyan says he voted for @realDonaldTrump : “Republicans | it is time to come home” https://t.co/VyTT49YvoE pic.twitter.com/wCvSCg4a5I — ABC News Politics (@ABCPolitics) November 5 | 2016 The Democratic Party couldn’t have asked for a better moment of film. Ryan’s chances of ever becoming president went down to zero in an instant. In the wreckage Trump is to leave behind in his wake | those who cravenly backed his campaign will not recover. If Ryan’s career manages to limp all the way to 2020 | then the DNC will have this tape locked and loaded to be used in every ad until Election Day. The ringing endorsement of the man he clearly hates on a personal level speaks volumes about his own spinelessness. Ryan has postured himself as a “principled” conservative | and one uncomfortable with Trump’s unapologetic bigotry and sexism. However | when push came to shove | Paul Ryan – like many of his colleagues – turned into a sniveling appeaser. After all his lofty tak about conviction | his principles were a house of cards and collapsed with the slightest breeze. What’s especially bizarre is how close Ryan came to making it through unscathed. For months the Speaker of the House refused to comment on Trump at all. His strategy seemed to be to keep his head down | pretend Trump didn’t exist | and hope that nobody remembered what happened in 2016. Now | just days away from the election | he screwed it all up. If 2016’s very ugly election has done any good it’s by exposing the utter cowardice of the Republicans who once feigned moral courage. A reality television star spit on them | hijacked their party | insulted their wives | and got every last one of them to kneel before him. What a turn of events. Featured image via Twitter",
            "count": 1
           },
           {
            "name": "3 others",
            "count": 3
           }
          ]
         }
        },
        {
         "name": "preprocessed_text",
         "dtype": "object",
         "stats": {
          "unique_count": 5,
          "nan_count": 0,
          "categories": [
           {
            "name": "smell hillary’s fear daniel greenfield shillman journalism fellow freedom center new york writer focus radical islam final stretch election hillary rodham clinton go war fbi word “unprecedented” thrown around often election ought retire it’s still unprecedented nominee major political party go war fbi that’s exactly hillary people do coma patient wake watch hour cnn hospital bed would assume fbi director james comey hillary’s opponent election fbi attack everyone obama cnn hillary’s people circulate letter attack comey currently medium hit piece lambast target trump wouldn’t surprising clinton ally start run attack ad fbi fbi’s leadership warn entire left-wing establishment form lynch mob continue go hillary fbi’s credibility attack medium democrat preemptively head result investigation clinton foundation hillary clinton covert struggle fbi agent obama’s doj people go explosively public new york time compare comey j edgar hoover bizarre headline “james comey role recall hoover’s fbi fairly not” practically admit front it’s spout nonsense boston globe publish column call comey’s resignation outdone time editorial claim scandal really attack woman james carville appear msnbc remind everyone still alive insane accuse comey coordinate house republicans kgb think “vast right wing conspiracy” stretch countless medium story charge comey violating procedure know what’s procedural violation email classify information store bathroom server senator harry reid send comey letter accuse violate hatch act hatch act nice idea much relevance age obama tenth amendment cable news spectrum quickly fill medium hack glance wikipedia article hatch act table accuse fbi director one awkward conspiracies hillary ever jam comey really hurt hillary pick one hell strange way long ago democrat breathe sigh relief give hillary clinton pas prominent public statement really elect trump keep email scandal go trash investigation payroll house republicans kgb back play coy sudden development vladimir putin paul ryan talk take look anthony weiner’s computer either comey cunning fbi director ever live he’s awkwardly try navigate political mess trap doj leadership whose political future tie hillary’s victory bureau whose apolitical agent want allow job truly mysterious thing hillary associate decide go war respect federal agency american like fbi hillary clinton enjoy unfavorable rating it’s interesting question hillary’s old strategy lie deny fbi even criminal investigation underway instead associate insist security review fbi correct shrug old breezy denial approach give way savage assault fbi pretend nothing wrong bad strategy well one pick fight fbi lunatic clinton associate try claim fbi really kgb two possible explanation hillary clinton might arrogant enough lash fbi believe victory near kind hubris lead plan victory firework display could lead declare war fbi irritate final mile campaign explanation people panic go war fbi behavior smart focus presidential campaign it’s act desperation presidential candidate decides option try destroy credibility fbi that’s hubris it’s fear fbi might reveal original fbi investigation hillary clinton confident could ride good reason believe hillary clinton go place paranoid wreck within short space time “positive” clinton campaign promise unite country replace desperate flailing operation focus energy fight fbi there’s one reason bizarre behavior clinton campaign decide fbi investigation late batch email pose threat survival it’s go fight fbi it’s unprecedented step bear fear it’s hard know whether fear justify existence fear already tell u whole lot clinton loyalists rig old investigation know outcome ahead time well know debate question suddenly longer control afraid smell fear fbi wiretap investigation clinton foundation it’s find new emails time clintonworld panic spinmeister clintonworld claim email scandal much smoke without fire that’s appearance impropriety without substance isn’t react smoke it’s respond fire misguide assault fbi tell u hillary clinton ally afraid revelation big fundamental illegality email setup email setup preemptive cover clinton campaign panic badly belief right wrong whatever crime illegal setup mean cover risk expose clinton weather countless scandal year whatever protect time around big usual corruption bribery sexual assault abuse power follow around throughout year big damaging allegation already come don’t want fbi investigator anywhere near campaign comey pure intimidation it’s also warn senior fbi people value career warn stay away democrat close rank around nominee fbi it’s ugly unprecedented scene may also last stand hillary clinton awkwardly wind way numerous scandal election cycle she’s never show fear desperation change whatever afraid lie bury email huma abedin bring like nothing else",
            "count": 1
           },
           {
            "name": "watch exact moment paul ryan commit political suicide trump rally video google pinterest digg linkedin reddit stumbleupon print delicious pocket tumblr two fundamental truth world paul ryan desperately want president paul ryan never president today prove particularly staggering example political cowardice paul ryan re-re-re-reversed course announce back trump train aboutface week ago previously declare would support defend trump tape make public trump brag assault woman suddenly ryan appear pro-trump rally boldly declare already sent vote make president united state surreal moment figurehead republican party dose gasoline get stage chilly afternoon wisconsin light match speakerryan say vote realdonaldtrump “republicans time come home” abc news politics abcpolitics november democratic party couldn’t ask well moment film ryan’s chance ever become president go zero instant wreckage trump leave behind wake cravenly back campaign recover ryan’s career manages limp way dnc tape lock load use every ad election day ring endorsement man clearly hat personal level speaks volumes spinelessness ryan posture “principled” conservative one uncomfortable trump’s unapologetic bigotry sexism however push come shove paul ryan like many colleague turn snivel appeaser lofty tak conviction principle house card collapse slight breeze what’s especially bizarre close ryan come make unscathed month speaker house refuse comment trump strategy seem keep head pretend trump didn’t exist hope nobody remember happened day away election screw ugly election do good it’s expose utter cowardice republican feign moral courage reality television star spit hijack party insulted wife get every last one kneel turn event feature image via twitter",
            "count": 1
           },
           {
            "name": "3 others",
            "count": 3
           }
          ]
         }
        },
        {
         "name": "pos_tagged_text",
         "dtype": "object",
         "stats": {
          "unique_count": 5,
          "nan_count": 0,
          "categories": [
           {
            "name": "NN-smell JJ-hillary NNP-’ NN-s NN-fear JJ-daniel NN-greenfield JJ-shillman NN-journalism NN-fellow NN-freedom VBP-center JJ-new NN-york NN-writer VB-focus JJ-radical JJ-islam JJ-final NN-stretch NN-election JJ-hillary NN-rodham NN-clinton VBP-go NN-war NN-fbi NN-word NNP-“ VBD-unprecedented JJ-” VBN-thrown RB-around RB-often NN-election MD-ought VB-retire PRP-it NNP-’ VBD-s RB-still JJ-unprecedented JJ-nominee JJ-major JJ-political NN-party VBP-go NN-war NN-fbi WDT-that VBZ-’ RB-s RB-exactly JJ-hillary NNS-people VBP-do VB-coma JJ-patient NN-wake VB-watch NN-hour JJ-cnn NN-hospital NN-bed MD-would VB-assume JJ-fbi NN-director NNS-james VBP-comey JJ-hillary NNP-’ NN-s NN-opponent NN-election VBZ-fbi RP-attack NN-everyone NN-obama NN-cnn JJ-hillary NNP-’ NN-s NNS-people VBP-circulate NN-letter NN-attack NN-comey RB-currently RBS-medium VBN-hit NN-piece NN-lambast NN-target NN-trump NN-wouldn NNP-’ NN-t VBG-surprising NN-clinton RB-ally VB-start VB-run RB-attack NN-ad NN-fbi NN-fbi NNP-’ VBZ-s NN-leadership JJ-warn JJ-entire JJ-left-wing NN-establishment NN-form NN-lynch NN-mob NN-continue VBP-go JJ-hillary NN-fbi NNP-’ NN-s NN-credibility NN-attack NN-medium NN-democrat RB-preemptively JJ-head NN-result NN-investigation NN-clinton NN-foundation JJ-hillary NN-clinton JJ-covert NN-struggle NN-fbi NN-agent IN-obama NNP-’ VBD-s JJ-doj NNS-people VBP-go RB-explosively JJ-public JJ-new NN-york NN-time JJ-compare JJ-comey NN-j NN-edgar NN-hoover JJ-bizarre NN-headline NNP-“ VBZ-james JJ-comey NN-role NN-recall NN-hoover NNP-’ NN-s VBD-fbi RB-fairly RB-not VB-” RB-practically VBP-admit JJ-front PRP-it VBZ-’ JJ-s NN-spout JJ-nonsense NN-boston NN-globe JJ-publish NN-column NN-call NN-comey NNP-’ VBZ-s NN-resignation NN-outdone NN-time JJ-editorial NN-claim NN-scandal RB-really JJ-attack NN-woman NNS-james VBP-carville JJ-appear NN-msnbc NN-remind NN-everyone RB-still JJ-alive NN-insane IN-accuse JJ-comey NN-coordinate NN-house VBZ-republicans JJ-kgb VBP-think NNP-“ RB-vast JJ-right VBG-wing NN-conspiracy NNP-” NN-stretch NN-countless NN-medium NN-story NN-charge NN-comey VBG-violating NN-procedure VBP-know WP-what NNP-’ VBD-s JJ-procedural NN-violation NN-email NN-classify NN-information NN-store NN-bathroom NN-server NN-senator NN-harry VBP-reid VB-send JJ-comey NN-letter NN-accuse NN-violate NN-hatch NN-act NN-hatch NN-act JJ-nice NN-idea JJ-much NN-relevance NN-age JJ-obama JJ-tenth NN-amendment NN-cable NN-news NN-spectrum RB-quickly VB-fill JJ-medium NN-hack NN-glance NN-wikipedia NN-article NN-hatch NN-act JJ-table NN-accuse VBD-fbi NN-director CD-one NN-awkward VBZ-conspiracies JJ-hillary RB-ever VBP-jam NNS-comey RB-really VBP-hurt JJ-hillary NN-pick CD-one NN-hell JJ-strange NN-way RB-long RB-ago VB-democrat NN-breathe JJ-sigh NN-relief JJ-give JJ-hillary NN-clinton NN-pas JJ-prominent JJ-public NN-statement RB-really JJ-elect NN-trump VB-keep NN-email NN-scandal VBP-go JJ-trash NN-investigation NN-payroll NN-house VBZ-republicans VBN-kgb RP-back NN-play NN-coy JJ-sudden NN-development NN-vladimir NN-putin NN-paul JJ-ryan NN-talk VB-take NN-look JJ-anthony NN-weiner NNP-’ VBZ-s NN-computer CC-either NN-comey NN-cunning NN-fbi NN-director RB-ever VBP-live PRP-he VBZ-’ RB-s RB-awkwardly VB-try JJ-navigate JJ-political NN-mess NN-trap JJ-doj NN-leadership WP$-whose JJ-political NN-future NN-tie JJ-hillary NNP-’ NN-s NN-victory NN-bureau WP$-whose JJ-apolitical NN-agent VBP-want JJ-allow NN-job RB-truly JJ-mysterious NN-thing JJ-hillary NN-associate NN-decide VBP-go NN-war NN-respect JJ-federal NN-agency JJ-american IN-like JJ-fbi JJ-hillary NN-clinton NN-enjoy JJ-unfavorable NN-rating PRP-it VBZ-’ JJ-s JJ-interesting NN-question JJ-hillary NN-’ NN-s JJ-old NN-strategy VBZ-lie VBP-deny VB-fbi RB-even JJ-criminal NN-investigation RB-underway RB-instead JJ-associate JJ-insist NN-security NN-review NN-fbi JJ-correct JJ-shrug JJ-old NN-breezy JJ-denial NN-approach JJ-give NN-way NN-savage NN-assault JJ-fbi NN-pretend NN-nothing JJ-wrong JJ-bad NN-strategy RB-well CD-one NN-pick NN-fight NN-fbi JJ-lunatic NN-clinton JJ-associate NN-try NN-claim VBP-fbi RB-really VB-kgb CD-two JJ-possible NN-explanation JJ-hillary NN-clinton MD-might VB-arrogant JJ-enough NN-lash NNS-fbi VBP-believe NN-victory IN-near NN-kind JJ-hubris NN-lead NN-plan JJ-victory NN-firework NN-display MD-could VB-lead JJ-declare NN-war NN-fbi VBP-irritate JJ-final NN-mile NN-campaign NN-explanation NNS-people JJ-panic VBP-go NN-war NN-fbi JJ-behavior JJ-smart NN-focus JJ-presidential NN-campaign PRP-it NNP-’ VBZ-s JJ-act NN-desperation JJ-presidential NN-candidate NNS-decides NN-option NN-try NN-destroy NN-credibility VBP-fbi IN-that NNP-’ VBD-s VB-hubris PRP-it NNP-’ VBD-s JJ-fear NN-fbi MD-might VB-reveal JJ-original NN-fbi NN-investigation JJ-hillary NN-clinton NN-confident MD-could VB-ride JJ-good NN-reason VBP-believe JJ-hillary NN-clinton VBP-go NN-place NN-paranoid NN-wreck IN-within JJ-short NN-space NN-time NNP-“ JJ-positive NNP-” NN-clinton NN-campaign VBP-promise JJ-unite NN-country VB-replace JJ-desperate NN-flailing NN-operation NN-focus NN-energy NN-fight NN-fbi RB-there NNP-’ VBD-s CD-one NN-reason JJ-bizarre NN-behavior NN-clinton NN-campaign VBP-decide JJ-fbi NN-investigation RB-late NN-batch NN-email NN-pose NN-threat NN-survival PRP-it VBZ-’ JJ-s VB-go JJ-fight NN-fbi PRP-it VBZ-’ RB-s JJ-unprecedented NN-step IN-bear NN-fear PRP-it VBZ-’ JJ-s RB-hard VBP-know IN-whether NN-fear NN-justify NN-existence NN-fear RB-already VB-tell JJ-u JJ-whole NN-lot NN-clinton VBZ-loyalists VBP-rig JJ-old NN-investigation VBP-know VBN-outcome RB-ahead NN-time RB-well VB-know NN-debate NN-question RB-suddenly RBR-longer NN-control JJ-afraid NN-smell NN-fear NN-fbi NN-wiretap NN-investigation NN-clinton NN-foundation PRP-it VBZ-’ JJ-s VB-find JJ-new NNS-emails NN-time NN-clintonworld NN-panic NN-spinmeister NN-clintonworld NN-claim VBP-email NN-scandal JJ-much NN-smoke IN-without NN-fire IN-that NNP-’ VBD-s NN-appearance NN-impropriety IN-without NN-substance NN-isn NNP-’ NN-t NN-react VBD-smoke PRP-it NNP-’ VBZ-s NN-respond NN-fire NN-misguide NN-assault NN-fbi VBP-tell JJ-u JJ-hillary NN-clinton NN-ally JJ-afraid NN-revelation JJ-big JJ-fundamental NN-illegality VBP-email NN-setup NN-email NN-setup JJ-preemptive NN-cover NN-clinton NN-campaign JJ-panic RB-badly JJ-belief NN-right JJ-wrong WDT-whatever NN-crime JJ-illegal NN-setup NN-mean NN-cover NN-risk VBP-expose NN-clinton NN-weather NN-countless NN-scandal NN-year WDT-whatever JJ-protect NN-time IN-around JJ-big JJ-usual NN-corruption NN-bribery JJ-sexual NN-assault NN-abuse NN-power VBP-follow IN-around IN-throughout NN-year JJ-big NN-damaging NN-allegation RB-already VBN-come NN-don NNP-’ NN-t VBP-want NN-fbi NN-investigator RB-anywhere IN-near NN-campaign NN-comey NN-pure NN-intimidation PRP-it VBZ-’ NN-s RB-also VBP-warn JJ-senior NN-fbi NNS-people NN-value NN-career VBP-warn VB-stay RB-away RB-democrat JJ-close NN-rank IN-around JJ-nominee NN-fbi PRP-it VBZ-’ JJ-s RB-ugly JJ-unprecedented NN-scene MD-may RB-also JJ-last NN-stand JJ-hillary NN-clinton RB-awkwardly JJ-wind NN-way JJ-numerous NN-scandal NN-election NN-cycle PRP-she VBD-’ PRP-s RB-never VBP-show JJ-fear NN-desperation NN-change WDT-whatever JJ-afraid JJ-lie NN-bury NN-email NN-huma IN-abedin VBG-bring IN-like NN-nothing RB-else",
            "count": 1
           },
           {
            "name": "NN-watch JJ-exact NN-moment NN-paul JJ-ryan NN-commit JJ-political NN-suicide NN-trump NN-rally VBP-video NN-google NN-pinterest NN-digg NN-linkedin NN-reddit NN-stumbleupon NN-print JJ-delicious NN-pocket VBD-tumblr CD-two JJ-fundamental NN-truth NN-world NN-paul VBP-ryan RB-desperately VBP-want NN-president NN-paul NN-ryan RB-never NN-president NN-today VBP-prove RB-particularly JJ-staggering NN-example JJ-political NN-cowardice NN-paul JJ-ryan JJ-re-re-re-reversed NN-course NN-announce RB-back NN-trump NN-train NN-aboutface NN-week RB-ago RB-previously NN-declare MD-would VB-support VB-defend NN-trump NN-tape VBP-make JJ-public NN-trump NN-brag NN-assault NN-woman RB-suddenly JJ-ryan VBP-appear JJ-pro-trump NN-rally RB-boldly JJ-declare RB-already JJ-sent NN-vote VBP-make NN-president JJ-united NN-state JJ-surreal NN-moment JJ-figurehead JJ-republican NN-party NN-dose NN-gasoline NN-get NN-stage RB-chilly NN-afternoon NN-wisconsin VBD-light JJ-match NNS-speakerryan VBP-say NN-vote NN-realdonaldtrump NNP-“ VBZ-republicans NN-time JJ-come NN-home NNP-” VBZ-abc NN-news NNS-politics NNS-abcpolitics NNP-november JJ-democratic NN-party NN-couldn NNP-’ NN-t NN-ask RB-well NN-moment NN-film JJ-ryan NNP-’ NN-s NN-chance RB-ever VB-become NN-president VB-go CD-zero JJ-instant NN-wreckage NN-trump VBP-leave IN-behind NN-wake RB-cravenly RB-back NN-campaign NN-recover VBP-ryan NN-’ NNS-s NN-career NNS-manages VBP-limp NN-way JJ-dnc NN-tape NN-lock NN-load NN-use DT-every NN-ad NN-election NN-day VBG-ring NN-endorsement NN-man RB-clearly WP-hat JJ-personal NN-level NNS-speaks RB-volumes JJ-spinelessness JJ-ryan NN-posture NNP-“ VBD-principled RB-” JJ-conservative CD-one JJ-uncomfortable NN-trump NNP-’ VBZ-s JJ-unapologetic NN-bigotry NN-sexism RB-however JJ-push VBP-come NN-shove NN-paul VBP-ryan IN-like JJ-many VBP-colleague VBP-turn JJ-snivel NN-appeaser NN-lofty NN-tak NN-conviction NN-principle NN-house NN-card NN-collapse VBD-slight NN-breeze WP-what VBZ-’ NN-s RB-especially JJ-bizarre RB-close JJ-ryan VBP-come VBP-make JJ-unscathed NN-month NN-speaker NN-house NN-refuse NN-comment NN-trump NN-strategy VBP-seem VBN-keep NN-head NN-pretend NN-trump NN-didn NNP-’ NNS-t VBP-exist NN-hope NN-nobody VB-remember VBN-happened NN-day RB-away NN-election VBD-screw RB-ugly NN-election VBP-do JJ-good PRP-it VBZ-’ JJ-s JJ-expose JJ-utter NN-cowardice JJ-republican NN-feign JJ-moral NN-courage NN-reality NN-television NN-star NNP-spit NN-hijack NN-party VBD-insulted NN-wife NN-get DT-every JJ-last CD-one NN-kneel NN-turn NN-event NN-feature NN-image IN-via NN-twitter",
            "count": 1
           },
           {
            "name": "3 others",
            "count": 3
           }
          ]
         }
        },
        {
         "name": "_deepnote_index_column",
         "dtype": "int64"
        }
       ],
       "rows": [
        {
         "ID": 8476,
         "title": "You Can Smell Hillary’s Fear",
         "text": "Daniel Greenfield | a Shillman Journalism Fellow at the Freedom Center | is a New York writer focus…",
         "label": "FAKE",
         "title_and_text": "You Can Smell Hillary’s Fear Daniel Greenfield | a Shillman Journalism Fellow at the Freedom Center…",
         "preprocessed_text": "smell hillary’s fear daniel greenfield shillman journalism fellow freedom center new york writer fo…",
         "pos_tagged_text": "NN-smell JJ-hillary NNP-’ NN-s NN-fear JJ-daniel NN-greenfield JJ-shillman NN-journalism NN-fellow …",
         "_deepnote_index_column": 0
        },
        {
         "ID": 10294,
         "title": "Watch The Exact Moment Paul Ryan Committed Political Suicide At A Trump Rally (VIDEO)",
         "text": "Google Pinterest Digg Linkedin Reddit Stumbleupon Print Delicious Pocket Tumblr There are two funda…",
         "label": "FAKE",
         "title_and_text": "Watch The Exact Moment Paul Ryan Committed Political Suicide At A Trump Rally (VIDEO) Google Pinter…",
         "preprocessed_text": "watch exact moment paul ryan commit political suicide trump rally video google pinterest digg linke…",
         "pos_tagged_text": "NN-watch JJ-exact NN-moment NN-paul JJ-ryan NN-commit JJ-political NN-suicide NN-trump NN-rally VBP…",
         "_deepnote_index_column": 1
        },
        {
         "ID": 3608,
         "title": "Kerry to go to Paris in gesture of sympathy",
         "text": "U.S. Secretary of State John F. Kerry said Monday that he will stop in Paris later this week | amid…",
         "label": "REAL",
         "title_and_text": "Kerry to go to Paris in gesture of sympathy U.S. Secretary of State John F. Kerry said Monday that …",
         "preprocessed_text": "kerry go paris gesture sympathy u.s secretary state john f kerry say monday stop paris later week a…",
         "pos_tagged_text": "NN-kerry VBP-go JJ-paris NN-gesture JJ-sympathy NN-u.s NN-secretary NN-state NN-john NN-f VBP-kerry…",
         "_deepnote_index_column": 2
        },
        {
         "ID": 10142,
         "title": "Bernie supporters on Twitter erupt in anger against the DNC: 'We tried to warn you!'",
         "text": "— Kaydee King (@KaydeeKing) November 9 | 2016 The lesson from tonight's Dem losses: Time for Democr…",
         "label": "FAKE",
         "title_and_text": "Bernie supporters on Twitter erupt in anger against the DNC: 'We tried to warn you!' — Kaydee King …",
         "preprocessed_text": "bernie supporter twitter erupt anger dnc try warn kaydee king kaydeeking november lesson tonight's …",
         "pos_tagged_text": "NN-bernie NN-supporter NN-twitter JJ-erupt NN-anger NN-dnc NN-try VBP-warn VB-kaydee VBG-king VBG-k…",
         "_deepnote_index_column": 3
        },
        {
         "ID": 875,
         "title": "The Battle of New York: Why This Primary Matters |\"It's primary day in New York and front-runners H…",
         "text": " Cruz promised his supporters. \"\"We're beating Hillary in the key swing states | we're beating Hill…",
         "label": "REAL",
         "title_and_text": "The Battle of New York: Why This Primary Matters |\"It's primary day in New York and front-runners H…",
         "preprocessed_text": "battle new york primary matter primary day new york front-runner hillary clinton donald trump lead …",
         "pos_tagged_text": "NN-battle JJ-new NN-york JJ-primary NN-matter JJ-primary NN-day JJ-new NN-york JJ-front-runner JJ-h…",
         "_deepnote_index_column": 4
        }
       ]
      },
      "text/plain": "      ID                                              title  \\\n0   8476                       You Can Smell Hillary’s Fear   \n1  10294  Watch The Exact Moment Paul Ryan Committed Pol...   \n2   3608        Kerry to go to Paris in gesture of sympathy   \n3  10142  Bernie supporters on Twitter erupt in anger ag...   \n4    875  The Battle of New York: Why This Primary Matte...   \n\n                                                text label  \\\n0  Daniel Greenfield | a Shillman Journalism Fell...  FAKE   \n1  Google Pinterest Digg Linkedin Reddit Stumbleu...  FAKE   \n2  U.S. Secretary of State John F. Kerry said Mon...  REAL   \n3  — Kaydee King (@KaydeeKing) November 9 | 2016 ...  FAKE   \n4   Cruz promised his supporters. \"\"We're beating...  REAL   \n\n                                      title_and_text  \\\n0  You Can Smell Hillary’s Fear Daniel Greenfield...   \n1  Watch The Exact Moment Paul Ryan Committed Pol...   \n2  Kerry to go to Paris in gesture of sympathy U....   \n3  Bernie supporters on Twitter erupt in anger ag...   \n4  The Battle of New York: Why This Primary Matte...   \n\n                                   preprocessed_text  \\\n0  smell hillary’s fear daniel greenfield shillma...   \n1  watch exact moment paul ryan commit political ...   \n2  kerry go paris gesture sympathy u.s secretary ...   \n3  bernie supporter twitter erupt anger dnc try w...   \n4  battle new york primary matter primary day new...   \n\n                                     pos_tagged_text  \n0  NN-smell JJ-hillary NNP-’ NN-s NN-fear JJ-dani...  \n1  NN-watch JJ-exact NN-moment NN-paul JJ-ryan NN...  \n2  NN-kerry VBP-go JJ-paris NN-gesture JJ-sympath...  \n3  NN-bernie NN-supporter NN-twitter JJ-erupt NN-...  \n4  NN-battle JJ-new NN-york JJ-primary NN-matter ...  ",
      "text/html": "<div>\n<style scoped>\n    .dataframe tbody tr th:only-of-type {\n        vertical-align: middle;\n    }\n\n    .dataframe tbody tr th {\n        vertical-align: top;\n    }\n\n    .dataframe thead th {\n        text-align: right;\n    }\n</style>\n<table border=\"1\" class=\"dataframe\">\n  <thead>\n    <tr style=\"text-align: right;\">\n      <th></th>\n      <th>ID</th>\n      <th>title</th>\n      <th>text</th>\n      <th>label</th>\n      <th>title_and_text</th>\n      <th>preprocessed_text</th>\n      <th>pos_tagged_text</th>\n    </tr>\n  </thead>\n  <tbody>\n    <tr>\n      <th>0</th>\n      <td>8476</td>\n      <td>You Can Smell Hillary’s Fear</td>\n      <td>Daniel Greenfield | a Shillman Journalism Fell...</td>\n      <td>FAKE</td>\n      <td>You Can Smell Hillary’s Fear Daniel Greenfield...</td>\n      <td>smell hillary’s fear daniel greenfield shillma...</td>\n      <td>NN-smell JJ-hillary NNP-’ NN-s NN-fear JJ-dani...</td>\n    </tr>\n    <tr>\n      <th>1</th>\n      <td>10294</td>\n      <td>Watch The Exact Moment Paul Ryan Committed Pol...</td>\n      <td>Google Pinterest Digg Linkedin Reddit Stumbleu...</td>\n      <td>FAKE</td>\n      <td>Watch The Exact Moment Paul Ryan Committed Pol...</td>\n      <td>watch exact moment paul ryan commit political ...</td>\n      <td>NN-watch JJ-exact NN-moment NN-paul JJ-ryan NN...</td>\n    </tr>\n    <tr>\n      <th>2</th>\n      <td>3608</td>\n      <td>Kerry to go to Paris in gesture of sympathy</td>\n      <td>U.S. Secretary of State John F. Kerry said Mon...</td>\n      <td>REAL</td>\n      <td>Kerry to go to Paris in gesture of sympathy U....</td>\n      <td>kerry go paris gesture sympathy u.s secretary ...</td>\n      <td>NN-kerry VBP-go JJ-paris NN-gesture JJ-sympath...</td>\n    </tr>\n    <tr>\n      <th>3</th>\n      <td>10142</td>\n      <td>Bernie supporters on Twitter erupt in anger ag...</td>\n      <td>— Kaydee King (@KaydeeKing) November 9 | 2016 ...</td>\n      <td>FAKE</td>\n      <td>Bernie supporters on Twitter erupt in anger ag...</td>\n      <td>bernie supporter twitter erupt anger dnc try w...</td>\n      <td>NN-bernie NN-supporter NN-twitter JJ-erupt NN-...</td>\n    </tr>\n    <tr>\n      <th>4</th>\n      <td>875</td>\n      <td>The Battle of New York: Why This Primary Matte...</td>\n      <td>Cruz promised his supporters. \"\"We're beating...</td>\n      <td>REAL</td>\n      <td>The Battle of New York: Why This Primary Matte...</td>\n      <td>battle new york primary matter primary day new...</td>\n      <td>NN-battle JJ-new NN-york JJ-primary NN-matter ...</td>\n    </tr>\n  </tbody>\n</table>\n</div>"
     },
     "metadata": {}
    }
   ]
  },
  {
   "cell_type": "markdown",
   "source": [
    "### Rerun Models on pos-tagged text (FE1)"
   ],
   "metadata": {
    "id": "gpuo2OE23rlf",
    "cell_id": "00071-95fd0859-1a31-4dbd-9942-fd87945d2dd3",
    "deepnote_cell_type": "markdown"
   }
  },
  {
   "cell_type": "code",
   "metadata": {
    "id": "Wxs0OqwA3rlf",
    "cell_id": "00072-5298aa56-5c53-45e9-bed2-d6e9141e3fed",
    "deepnote_to_be_reexecuted": false,
    "source_hash": "7d340953",
    "execution_start": 1643886919190,
    "execution_millis": 10687,
    "deepnote_cell_type": "code"
   },
   "source": [
    "encoder, train, test, train_cv, train_holdout, train_cv_label, train_holdout_label = split_train_holdout_test(encoder, df, False)\n",
    "\n",
    "count_vect = CountVectorizer(analyzer = 'word')\n",
    "\n",
    "count_vectorizer = count_vect.fit(df.preprocessed_text)\n",
    "\n",
    "train_cv_vector = count_vectorizer.transform(train_cv.pos_tagged_text)\n",
    "train_holdout_vector = count_vectorizer.transform(train_holdout.pos_tagged_text)\n",
    "test_vector = count_vectorizer.transform(test.pos_tagged_text)"
   ],
   "execution_count": 62,
   "outputs": []
  },
  {
   "cell_type": "markdown",
   "source": [
    "a. SVC with FE1"
   ],
   "metadata": {
    "id": "SBQHeF5i3rlg",
    "cell_id": "00073-39999465-8912-448b-8beb-c7e6922bf942",
    "deepnote_cell_type": "markdown"
   }
  },
  {
   "cell_type": "code",
   "metadata": {
    "colab": {
     "base_uri": "https://localhost:8080/",
     "height": 730
    },
    "id": "yJNDwhP63rlg",
    "outputId": "49c4338f-d442-482d-e9aa-43d3a4c439fd",
    "cell_id": "00074-182b5a7a-fbd7-4650-aa3d-efcfd5fc25a1",
    "deepnote_output_heights": [
     null,
     264
    ],
    "deepnote_to_be_reexecuted": false,
    "source_hash": "8c84ff55",
    "execution_start": 1643886929898,
    "execution_millis": 254896,
    "deepnote_cell_type": "code"
   },
   "source": [
    "SVC_pos_tag = run_model(encoder,\n",
    "               train_cv_vector,\n",
    "               train_cv_label,\n",
    "               train_holdout_vector,\n",
    "               train_holdout.label,\n",
    "               'svc',\n",
    "               'SVC on pos-tagged text')\n",
    "models.loc[len(models)] = SVC_pos_tag"
   ],
   "execution_count": 63,
   "outputs": [
    {
     "name": "stdout",
     "text": "\u001B[31mSVC on pos-tagged text\u001B[0m\n\u001B[33mGridSearchCV(cv=ShuffleSplit(n_splits=5, random_state=12345, test_size=0.2, train_size=None),\n             estimator=SVC(),\n             param_grid=[{'C': [1, 10, 50, 100], 'kernel': ['linear']},\n                         {'C': [10, 100, 500, 1000], 'gamma': [0.0001],\n                          'kernel': ['rbf']}])\u001B[0m\n\u001B[34m\nCV-scores\u001B[0m\nAccuracy: 0.921 (+/-0.026) for params: {'C': 100, 'gamma': 0.0001, 'kernel': 'rbf'}\nAccuracy: 0.914 (+/-0.020) for params: {'C': 500, 'gamma': 0.0001, 'kernel': 'rbf'}\nAccuracy: 0.912 (+/-0.028) for params: {'C': 1000, 'gamma': 0.0001, 'kernel': 'rbf'}\nAccuracy: 0.912 (+/-0.022) for params: {'C': 10, 'gamma': 0.0001, 'kernel': 'rbf'}\nAccuracy: 0.904 (+/-0.020) for params: {'C': 1, 'kernel': 'linear'}\nAccuracy: 0.904 (+/-0.020) for params: {'C': 10, 'kernel': 'linear'}\nAccuracy: 0.904 (+/-0.020) for params: {'C': 50, 'kernel': 'linear'}\nAccuracy: 0.904 (+/-0.020) for params: {'C': 100, 'kernel': 'linear'}\n\n\u001B[34m\nBest Estimator Params\u001B[0m\n\u001B[33mSVC(C=100, gamma=0.0001)\u001B[0m\n\u001B[34m\nPredictions:\u001B[0m\n['REAL' 'REAL' 'FAKE' ... 'REAL' 'REAL' 'FAKE']\n",
     "output_type": "stream"
    },
    {
     "data": {
      "text/plain": "<Figure size 396x288 with 2 Axes>",
      "image/png": "[encoded data removed]"
     },
     "metadata": {
      "needs_background": "light",
      "image/png": {
       "width": 343,
       "height": 262
      }
     },
     "output_type": "display_data"
    },
    {
     "name": "stdout",
     "text": "\u001B[34m\nAccuracy:\u001B[0m\n\u001B[32m0.9159090909090909\u001B[0m\n",
     "output_type": "stream"
    }
   ]
  },
  {
   "cell_type": "markdown",
   "source": [
    "b. NB_pos_tag with FE1"
   ],
   "metadata": {
    "id": "6Tff_Jqj3rlg",
    "cell_id": "00075-d3475fd8-2ab2-4cdc-8515-ee4498e3d94a",
    "deepnote_cell_type": "markdown"
   }
  },
  {
   "cell_type": "code",
   "metadata": {
    "colab": {
     "base_uri": "https://localhost:8080/",
     "height": 557
    },
    "id": "wTd4lI5V3rlh",
    "outputId": "19693248-ea51-42a5-cdd1-680203cf2f89",
    "cell_id": "00076-c7dc5d12-9c8d-4a63-8ac4-8e9ac71916c6",
    "deepnote_output_heights": [
     null,
     264
    ],
    "deepnote_to_be_reexecuted": false,
    "source_hash": "10513a62",
    "execution_start": 1643887184807,
    "execution_millis": 354,
    "deepnote_cell_type": "code"
   },
   "source": [
    "NB_pos_tag = run_model(encoder,\n",
    "              train_cv_vector,\n",
    "              train_cv_label,\n",
    "              train_holdout_vector,\n",
    "              train_holdout.label,\n",
    "              'nb',\n",
    "              'Naiive Bayes on pos-tagged text')\n",
    "models.loc[len(models)] = NB_pos_tag"
   ],
   "execution_count": 64,
   "outputs": [
    {
     "name": "stdout",
     "text": "\u001B[31mNaiive Bayes on pos-tagged text\u001B[0m\n\u001B[33mGridSearchCV(cv=ShuffleSplit(n_splits=5, random_state=12345, test_size=0.2, train_size=None),\n             estimator=MultinomialNB(), param_grid={})\u001B[0m\n\u001B[34m\nCV-scores\u001B[0m\nAccuracy: 0.889 (+/-0.017) for params: {}\n\n\u001B[34m\nBest Estimator Params\u001B[0m\n\u001B[33mMultinomialNB()\u001B[0m\n\u001B[34m\nPredictions:\u001B[0m\n['REAL' 'REAL' 'REAL' ... 'REAL' 'REAL' 'REAL']\n",
     "output_type": "stream"
    },
    {
     "data": {
      "text/plain": "<Figure size 396x288 with 2 Axes>",
      "image/png": "[encoded data removed]"
     },
     "metadata": {
      "needs_background": "light",
      "image/png": {
       "width": 343,
       "height": 262
      }
     },
     "output_type": "display_data"
    },
    {
     "name": "stdout",
     "text": "\u001B[34m\nAccuracy:\u001B[0m\n\u001B[32m0.8977272727272727\u001B[0m\n",
     "output_type": "stream"
    }
   ]
  },
  {
   "cell_type": "markdown",
   "source": [
    "c. maxEnt with FE1"
   ],
   "metadata": {
    "id": "6lKnbA543rlh",
    "cell_id": "00077-e8acd47a-0743-42ad-b6df-b6ae39842256",
    "deepnote_cell_type": "markdown"
   }
  },
  {
   "cell_type": "code",
   "metadata": {
    "colab": {
     "base_uri": "https://localhost:8080/",
     "height": 817
    },
    "id": "zZElkGzu3rlh",
    "outputId": "26eab82d-1d7b-45bd-aaae-e263e58d74e3",
    "cell_id": "00078-79fe8e94-e079-4299-9138-9f40da8ab37f",
    "deepnote_output_heights": [
     null,
     264
    ],
    "deepnote_to_be_reexecuted": false,
    "source_hash": "a9bf9f29",
    "execution_start": 1643887185177,
    "execution_millis": 70863,
    "deepnote_cell_type": "code"
   },
   "source": [
    "maxEnt_pos_tag = run_model(encoder,\n",
    "              train_cv_vector,\n",
    "              train_cv_label,\n",
    "              train_holdout_vector,\n",
    "              train_holdout.label,\n",
    "              'maxEnt',\n",
    "              'MaxEnt Classifier on pos-tagged text')\n",
    "models.loc[len(models)] = maxEnt_pos_tag"
   ],
   "execution_count": 65,
   "outputs": [
    {
     "name": "stdout",
     "text": "\u001B[31mMaxEnt Classifier on pos-tagged text\u001B[0m\n\u001B[33mGridSearchCV(cv=ShuffleSplit(n_splits=5, random_state=12345, test_size=0.2, train_size=None),\n             estimator=LogisticRegression(),\n             param_grid={'C': [0.001, 0.01, 0.1, 1, 10, 100, 1000],\n                         'penalty': ['l1', 'l2']})\u001B[0m\n\u001B[34m\nCV-scores\u001B[0m\nAccuracy: nan (+/-nan) for params: {'C': 0.001, 'penalty': 'l1'}\nAccuracy: 0.886 (+/-0.015) for params: {'C': 0.001, 'penalty': 'l2'}\nAccuracy: nan (+/-nan) for params: {'C': 0.01, 'penalty': 'l1'}\nAccuracy: 0.918 (+/-0.016) for params: {'C': 0.01, 'penalty': 'l2'}\nAccuracy: nan (+/-nan) for params: {'C': 0.1, 'penalty': 'l1'}\nAccuracy: 0.932 (+/-0.025) for params: {'C': 0.1, 'penalty': 'l2'}\nAccuracy: nan (+/-nan) for params: {'C': 1, 'penalty': 'l1'}\nAccuracy: 0.932 (+/-0.024) for params: {'C': 1, 'penalty': 'l2'}\nAccuracy: nan (+/-nan) for params: {'C': 10, 'penalty': 'l1'}\nAccuracy: 0.931 (+/-0.030) for params: {'C': 10, 'penalty': 'l2'}\nAccuracy: nan (+/-nan) for params: {'C': 100, 'penalty': 'l1'}\nAccuracy: 0.931 (+/-0.025) for params: {'C': 100, 'penalty': 'l2'}\nAccuracy: nan (+/-nan) for params: {'C': 1000, 'penalty': 'l1'}\nAccuracy: 0.930 (+/-0.030) for params: {'C': 1000, 'penalty': 'l2'}\n\n\u001B[34m\nBest Estimator Params\u001B[0m\n\u001B[33mLogisticRegression(C=0.1)\u001B[0m\n\u001B[34m\nPredictions:\u001B[0m\n['REAL' 'REAL' 'FAKE' ... 'REAL' 'FAKE' 'REAL']\n",
     "output_type": "stream"
    },
    {
     "data": {
      "text/plain": "<Figure size 396x288 with 2 Axes>",
      "image/png": "[encoded data removed]"
     },
     "metadata": {
      "needs_background": "light",
      "image/png": {
       "width": 343,
       "height": 262
      }
     },
     "output_type": "display_data"
    },
    {
     "name": "stdout",
     "text": "\u001B[34m\nAccuracy:\u001B[0m\n\u001B[32m0.9272727272727272\u001B[0m\n",
     "output_type": "stream"
    }
   ]
  },
  {
   "cell_type": "code",
   "metadata": {
    "id": "szl9U5xG3rlh",
    "colab": {
     "base_uri": "https://localhost:8080/",
     "height": 238
    },
    "outputId": "592fb6db-3d59-411e-bf46-dae1230f0753",
    "cell_id": "00079-37ba36b1-c181-4824-963e-2f7d91a92a3b",
    "deepnote_output_heights": [
     206
    ],
    "deepnote_to_be_reexecuted": false,
    "source_hash": "6d6890ff",
    "execution_start": 1643887256044,
    "execution_millis": 111,
    "deepnote_cell_type": "code"
   },
   "source": [
    "models"
   ],
   "execution_count": 66,
   "outputs": [
    {
     "output_type": "execute_result",
     "execution_count": 66,
     "data": {
      "application/vnd.deepnote.dataframe.v3+json": {
       "column_count": 3,
       "row_count": 6,
       "columns": [
        {
         "name": "model_name",
         "dtype": "object",
         "stats": {
          "unique_count": 6,
          "nan_count": 0,
          "categories": [
           {
            "name": "<class 'sklearn.svm._classes.SVC'>",
            "count": 1
           },
           {
            "name": "Baseline Model 2: Naiive Bayes",
            "count": 1
           },
           {
            "name": "4 others",
            "count": 4
           }
          ]
         }
        },
        {
         "name": "model_object",
         "dtype": "object",
         "stats": {
          "unique_count": 6,
          "nan_count": 0,
          "categories": [
           {
            "name": "GridSearchCV(cv=ShuffleSplit(n_splits=5, random_state=12345, test_size=0.2, train_size=None),\n             estimator=MultinomialNB(), param_grid={})",
            "count": 2
           },
           {
            "name": "GridSearchCV(cv=ShuffleSplit(n_splits=5, random_state=12345, test_size=0.2, train_size=None),\n             estimator=LogisticRegression(),\n             param_grid={'C': [0.001, 0.01, 0.1, 1, 10, 100, 1000],\n                         'penalty': ['l1', 'l2']})",
            "count": 2
           },
           {
            "name": "2 others",
            "count": 2
           }
          ]
         }
        },
        {
         "name": "score",
         "dtype": "object",
         "stats": {
          "unique_count": 6,
          "nan_count": 0,
          "categories": [
           {
            "name": "<class 'sklearn.svm._classes.SVC'>",
            "count": 1
           },
           {
            "name": "0.8946969696969697",
            "count": 1
           },
           {
            "name": "4 others",
            "count": 4
           }
          ]
         }
        },
        {
         "name": "_deepnote_index_column",
         "dtype": "int64"
        }
       ],
       "rows": [
        {
         "model_name": "<class 'sklearn.svm._classes.SVC'>",
         "model_object": "<class 'sklearn.svm._classes.SVC'>",
         "score": "<class 'sklearn.svm._classes.SVC'>",
         "_deepnote_index_column": 0
        },
        {
         "model_name": "Baseline Model 2: Naiive Bayes",
         "model_object": "GridSearchCV(cv=ShuffleSplit(n_splits=5, random_state=12345, test_size=0.2, train_size=None),\n     …",
         "score": "0.8946969696969697",
         "_deepnote_index_column": 1
        },
        {
         "model_name": "Baseline Model 3: MaxEnt Classifier",
         "model_object": "GridSearchCV(cv=ShuffleSplit(n_splits=5, random_state=12345, test_size=0.2, train_size=None),\n     …",
         "score": "0.9234848484848485",
         "_deepnote_index_column": 2
        },
        {
         "model_name": "SVC on pos-tagged text",
         "model_object": "GridSearchCV(cv=ShuffleSplit(n_splits=5, random_state=12345, test_size=0.2, train_size=None),\n     …",
         "score": "0.9159090909090909",
         "_deepnote_index_column": 3
        },
        {
         "model_name": "Naiive Bayes on pos-tagged text",
         "model_object": "GridSearchCV(cv=ShuffleSplit(n_splits=5, random_state=12345, test_size=0.2, train_size=None),\n     …",
         "score": "0.8977272727272727",
         "_deepnote_index_column": 4
        },
        {
         "model_name": "MaxEnt Classifier on pos-tagged text",
         "model_object": "GridSearchCV(cv=ShuffleSplit(n_splits=5, random_state=12345, test_size=0.2, train_size=None),\n     …",
         "score": "0.9272727272727272",
         "_deepnote_index_column": 5
        }
       ]
      },
      "text/plain": "                             model_name  \\\n0    <class 'sklearn.svm._classes.SVC'>   \n1        Baseline Model 2: Naiive Bayes   \n2   Baseline Model 3: MaxEnt Classifier   \n3                SVC on pos-tagged text   \n4       Naiive Bayes on pos-tagged text   \n5  MaxEnt Classifier on pos-tagged text   \n\n                                        model_object  \\\n0                 <class 'sklearn.svm._classes.SVC'>   \n1  GridSearchCV(cv=ShuffleSplit(n_splits=5, rando...   \n2  GridSearchCV(cv=ShuffleSplit(n_splits=5, rando...   \n3  GridSearchCV(cv=ShuffleSplit(n_splits=5, rando...   \n4  GridSearchCV(cv=ShuffleSplit(n_splits=5, rando...   \n5  GridSearchCV(cv=ShuffleSplit(n_splits=5, rando...   \n\n                                score  \n0  <class 'sklearn.svm._classes.SVC'>  \n1                            0.894697  \n2                            0.923485  \n3                            0.915909  \n4                            0.897727  \n5                            0.927273  ",
      "text/html": "<div>\n<style scoped>\n    .dataframe tbody tr th:only-of-type {\n        vertical-align: middle;\n    }\n\n    .dataframe tbody tr th {\n        vertical-align: top;\n    }\n\n    .dataframe thead th {\n        text-align: right;\n    }\n</style>\n<table border=\"1\" class=\"dataframe\">\n  <thead>\n    <tr style=\"text-align: right;\">\n      <th></th>\n      <th>model_name</th>\n      <th>model_object</th>\n      <th>score</th>\n    </tr>\n  </thead>\n  <tbody>\n    <tr>\n      <th>0</th>\n      <td>&lt;class 'sklearn.svm._classes.SVC'&gt;</td>\n      <td>&lt;class 'sklearn.svm._classes.SVC'&gt;</td>\n      <td>&lt;class 'sklearn.svm._classes.SVC'&gt;</td>\n    </tr>\n    <tr>\n      <th>1</th>\n      <td>Baseline Model 2: Naiive Bayes</td>\n      <td>GridSearchCV(cv=ShuffleSplit(n_splits=5, rando...</td>\n      <td>0.894697</td>\n    </tr>\n    <tr>\n      <th>2</th>\n      <td>Baseline Model 3: MaxEnt Classifier</td>\n      <td>GridSearchCV(cv=ShuffleSplit(n_splits=5, rando...</td>\n      <td>0.923485</td>\n    </tr>\n    <tr>\n      <th>3</th>\n      <td>SVC on pos-tagged text</td>\n      <td>GridSearchCV(cv=ShuffleSplit(n_splits=5, rando...</td>\n      <td>0.915909</td>\n    </tr>\n    <tr>\n      <th>4</th>\n      <td>Naiive Bayes on pos-tagged text</td>\n      <td>GridSearchCV(cv=ShuffleSplit(n_splits=5, rando...</td>\n      <td>0.897727</td>\n    </tr>\n    <tr>\n      <th>5</th>\n      <td>MaxEnt Classifier on pos-tagged text</td>\n      <td>GridSearchCV(cv=ShuffleSplit(n_splits=5, rando...</td>\n      <td>0.927273</td>\n    </tr>\n  </tbody>\n</table>\n</div>"
     },
     "metadata": {}
    }
   ]
  },
  {
   "cell_type": "markdown",
   "source": [
    "<h3 style=\"color:blue\">\n",
    "There seems to be a slight increase in Accuracy after pos-tagging.\n",
    "</h3>"
   ],
   "metadata": {
    "id": "sIRfujlW3rli",
    "cell_id": "00080-7fff9ee5-cdda-4c24-99b9-209430d37ebf",
    "deepnote_cell_type": "markdown"
   }
  },
  {
   "cell_type": "markdown",
   "source": [
    "## 2. TF-IDF weighting\n",
    "\n",
    "Try to add weight to each word using TF-IDF\n",
    "<img src=\"https://cdn-images-1.medium.com/max/800/1*_OsV8gO2cjy9qcFhrtCdiw.jpeg\" width=\"350px\"/>\n",
    "\n",
    "We are going to calculate the TFIDF score of each term in a piece of text. The text will be tokenized into sentences and each sentence is then considered a text item.\n",
    "\n",
    "We will also apply those on the cleaned text and the concatinated POS_tagged text."
   ],
   "metadata": {
    "id": "moPATlq13rli",
    "cell_id": "00081-6e2e47e4-c133-4e22-9717-cfd764e65782",
    "deepnote_cell_type": "markdown"
   }
  },
  {
   "cell_type": "code",
   "metadata": {
    "id": "OPJjZHX43rli",
    "cell_id": "00082-8a5e5a15-0fe2-4b5a-9d74-b25bd729b836",
    "deepnote_to_be_reexecuted": false,
    "source_hash": "c76def7",
    "execution_start": 1643887256219,
    "execution_millis": 22,
    "deepnote_cell_type": "code"
   },
   "source": [
    "df[\"clean_and_pos_tagged_text\"] = df['preprocessed_text'] + ' ' + df['pos_tagged_text']"
   ],
   "execution_count": 67,
   "outputs": []
  },
  {
   "cell_type": "code",
   "metadata": {
    "id": "KqV4dWDI3rlj",
    "colab": {
     "base_uri": "https://localhost:8080/",
     "height": 159
    },
    "outputId": "7d873eb7-cc11-4a14-82e9-c587d526b9c4",
    "cell_id": "00083-d52076a2-e14a-4d77-8eb6-9c2c31b49adf",
    "deepnote_output_heights": [
     61
    ],
    "deepnote_to_be_reexecuted": false,
    "source_hash": "460f028f",
    "execution_start": 1643887256247,
    "execution_millis": 68,
    "deepnote_cell_type": "code"
   },
   "source": [
    "df.head(1)"
   ],
   "execution_count": 68,
   "outputs": [
    {
     "output_type": "execute_result",
     "execution_count": 68,
     "data": {
      "application/vnd.deepnote.dataframe.v3+json": {
       "column_count": 8,
       "row_count": 1,
       "columns": [
        {
         "name": "ID",
         "dtype": "int64",
         "stats": {
          "unique_count": 1,
          "nan_count": 0,
          "min": "8476",
          "max": "8476",
          "histogram": [
           {
            "bin_start": 8475.5,
            "bin_end": 8475.6,
            "count": 0
           },
           {
            "bin_start": 8475.6,
            "bin_end": 8475.7,
            "count": 0
           },
           {
            "bin_start": 8475.7,
            "bin_end": 8475.8,
            "count": 0
           },
           {
            "bin_start": 8475.8,
            "bin_end": 8475.9,
            "count": 0
           },
           {
            "bin_start": 8475.9,
            "bin_end": 8476,
            "count": 0
           },
           {
            "bin_start": 8476,
            "bin_end": 8476.1,
            "count": 1
           },
           {
            "bin_start": 8476.1,
            "bin_end": 8476.2,
            "count": 0
           },
           {
            "bin_start": 8476.2,
            "bin_end": 8476.3,
            "count": 0
           },
           {
            "bin_start": 8476.3,
            "bin_end": 8476.4,
            "count": 0
           },
           {
            "bin_start": 8476.4,
            "bin_end": 8476.5,
            "count": 0
           }
          ]
         }
        },
        {
         "name": "title",
         "dtype": "object",
         "stats": {
          "unique_count": 1,
          "nan_count": 0,
          "categories": [
           {
            "name": "You Can Smell Hillary’s Fear",
            "count": 1
           }
          ]
         }
        },
        {
         "name": "text",
         "dtype": "object",
         "stats": {
          "unique_count": 1,
          "nan_count": 0,
          "categories": [
           {
            "name": "Daniel Greenfield | a Shillman Journalism Fellow at the Freedom Center | is a New York writer focusing on radical Islam. In the final stretch of the election | Hillary Rodham Clinton has gone to war with the FBI. The word “unprecedented” has been thrown around so often this election that it ought to be retired. But it’s still unprecedented for the nominee of a major political party to go war with the FBI. But that’s exactly what Hillary and her people have done. Coma patients just waking up now and watching an hour of CNN from their hospital beds would assume that FBI Director James Comey is Hillary’s opponent in this election. The FBI is under attack by everyone from Obama to CNN. Hillary’s people have circulated a letter attacking Comey. There are currently more media hit pieces lambasting him than targeting Trump. It wouldn’t be too surprising if the Clintons or their allies were to start running attack ads against the FBI. The FBI’s leadership is being warned that the entire left-wing establishment will form a lynch mob if they continue going after Hillary. And the FBI’s credibility is being attacked by the media and the Democrats to preemptively head off the results of the investigation of the Clinton Foundation and Hillary Clinton. The covert struggle between FBI agents and Obama’s DOJ people has gone explosively public. The New York Times has compared Comey to J. Edgar Hoover. Its bizarre headline | “James Comey Role Recalls Hoover’s FBI | Fairly or Not” practically admits up front that it’s spouting nonsense. The Boston Globe has published a column calling for Comey’s resignation. Not to be outdone | Time has an editorial claiming that the scandal is really an attack on all women. James Carville appeared on MSNBC to remind everyone that he was still alive and insane. He accused Comey of coordinating with House Republicans and the KGB. And you thought the “vast right wing conspiracy” was a stretch. Countless media stories charge Comey with violating procedure. Do you know what’s a procedural violation? Emailing classified information stored on your bathroom server. Senator Harry Reid has sent Comey a letter accusing him of violating the Hatch Act. The Hatch Act is a nice idea that has as much relevance in the age of Obama as the Tenth Amendment. But the cable news spectrum quickly filled with media hacks glancing at the Wikipedia article on the Hatch Act under the table while accusing the FBI director of one of the most awkward conspiracies against Hillary ever. If James Comey is really out to hurt Hillary | he picked one hell of a strange way to do it. Not too long ago Democrats were breathing a sigh of relief when he gave Hillary Clinton a pass in a prominent public statement. If he really were out to elect Trump by keeping the email scandal going | why did he trash the investigation? Was he on the payroll of House Republicans and the KGB back then and playing it coy or was it a sudden development where Vladimir Putin and Paul Ryan talked him into taking a look at Anthony Weiner’s computer? Either Comey is the most cunning FBI director that ever lived or he’s just awkwardly trying to navigate a political mess that has trapped him between a DOJ leadership whose political futures are tied to Hillary’s victory and his own bureau whose apolitical agents just want to be allowed to do their jobs. The only truly mysterious thing is why Hillary and her associates decided to go to war with a respected Federal agency. Most Americans like the FBI while Hillary Clinton enjoys a 60% unfavorable rating. And it’s an interesting question. Hillary’s old strategy was to lie and deny that the FBI even had a criminal investigation underway. Instead her associates insisted that it was a security review. The FBI corrected her and she shrugged it off. But the old breezy denial approach has given way to a savage assault on the FBI. Pretending that nothing was wrong was a bad strategy | but it was a better one that picking a fight with the FBI while lunatic Clinton associates try to claim that the FBI is really the KGB. There are two possible explanations. Hillary Clinton might be arrogant enough to lash out at the FBI now that she believes that victory is near. The same kind of hubris that led her to plan her victory fireworks display could lead her to declare a war on the FBI for irritating her during the final miles of her campaign. But the other explanation is that her people panicked. Going to war with the FBI is not the behavior of a smart and focused presidential campaign. It’s an act of desperation. When a presidential candidate decides that her only option is to try and destroy the credibility of the FBI | that’s not hubris | it’s fear of what the FBI might be about to reveal about her. During the original FBI investigation | Hillary Clinton was confident that she could ride it out. And she had good reason for believing that. But that Hillary Clinton is gone. In her place is a paranoid wreck. Within a short space of time the “positive” Clinton campaign promising to unite the country has been replaced by a desperate and flailing operation that has focused all its energy on fighting the FBI. There’s only one reason for such bizarre behavior. The Clinton campaign has decided that an FBI investigation of the latest batch of emails poses a threat to its survival. And so it’s gone all in on fighting the FBI. It’s an unprecedented step born of fear. It’s hard to know whether that fear is justified. But the existence of that fear already tells us a whole lot. Clinton loyalists rigged the old investigation. They knew the outcome ahead of time as well as they knew the debate questions. Now suddenly they are no longer in control. And they are afraid. You can smell the fear. The FBI has wiretaps from the investigation of the Clinton Foundation. It’s finding new emails all the time. And Clintonworld panicked. The spinmeisters of Clintonworld have claimed that the email scandal is just so much smoke without fire. All that’s here is the appearance of impropriety without any of the substance. But this isn’t how you react to smoke. It’s how you respond to a fire. The misguided assault on the FBI tells us that Hillary Clinton and her allies are afraid of a revelation bigger than the fundamental illegality of her email setup. The email setup was a preemptive cover up. The Clinton campaign has panicked badly out of the belief | right or wrong | that whatever crime the illegal setup was meant to cover up is at risk of being exposed. The Clintons have weathered countless scandals over the years. Whatever they are protecting this time around is bigger than the usual corruption | bribery | sexual assaults and abuses of power that have followed them around throughout the years. This is bigger and more damaging than any of the allegations that have already come out. And they don’t want FBI investigators anywhere near it. The campaign against Comey is pure intimidation. It’s also a warning. Any senior FBI people who value their careers are being warned to stay away. The Democrats are closing ranks around their nominee against the FBI. It’s an ugly and unprecedented scene. It may also be their last stand. Hillary Clinton has awkwardly wound her way through numerous scandals in just this election cycle. But she’s never shown fear or desperation before. Now that has changed. Whatever she is afraid of | it lies buried in her emails with Huma Abedin. And it can bring her down like nothing else has.  ",
            "count": 1
           }
          ]
         }
        },
        {
         "name": "label",
         "dtype": "object",
         "stats": {
          "unique_count": 1,
          "nan_count": 0,
          "categories": [
           {
            "name": "FAKE",
            "count": 1
           }
          ]
         }
        },
        {
         "name": "title_and_text",
         "dtype": "object",
         "stats": {
          "unique_count": 1,
          "nan_count": 0,
          "categories": [
           {
            "name": "You Can Smell Hillary’s Fear Daniel Greenfield | a Shillman Journalism Fellow at the Freedom Center | is a New York writer focusing on radical Islam. In the final stretch of the election | Hillary Rodham Clinton has gone to war with the FBI. The word “unprecedented” has been thrown around so often this election that it ought to be retired. But it’s still unprecedented for the nominee of a major political party to go war with the FBI. But that’s exactly what Hillary and her people have done. Coma patients just waking up now and watching an hour of CNN from their hospital beds would assume that FBI Director James Comey is Hillary’s opponent in this election. The FBI is under attack by everyone from Obama to CNN. Hillary’s people have circulated a letter attacking Comey. There are currently more media hit pieces lambasting him than targeting Trump. It wouldn’t be too surprising if the Clintons or their allies were to start running attack ads against the FBI. The FBI’s leadership is being warned that the entire left-wing establishment will form a lynch mob if they continue going after Hillary. And the FBI’s credibility is being attacked by the media and the Democrats to preemptively head off the results of the investigation of the Clinton Foundation and Hillary Clinton. The covert struggle between FBI agents and Obama’s DOJ people has gone explosively public. The New York Times has compared Comey to J. Edgar Hoover. Its bizarre headline | “James Comey Role Recalls Hoover’s FBI | Fairly or Not” practically admits up front that it’s spouting nonsense. The Boston Globe has published a column calling for Comey’s resignation. Not to be outdone | Time has an editorial claiming that the scandal is really an attack on all women. James Carville appeared on MSNBC to remind everyone that he was still alive and insane. He accused Comey of coordinating with House Republicans and the KGB. And you thought the “vast right wing conspiracy” was a stretch. Countless media stories charge Comey with violating procedure. Do you know what’s a procedural violation? Emailing classified information stored on your bathroom server. Senator Harry Reid has sent Comey a letter accusing him of violating the Hatch Act. The Hatch Act is a nice idea that has as much relevance in the age of Obama as the Tenth Amendment. But the cable news spectrum quickly filled with media hacks glancing at the Wikipedia article on the Hatch Act under the table while accusing the FBI director of one of the most awkward conspiracies against Hillary ever. If James Comey is really out to hurt Hillary | he picked one hell of a strange way to do it. Not too long ago Democrats were breathing a sigh of relief when he gave Hillary Clinton a pass in a prominent public statement. If he really were out to elect Trump by keeping the email scandal going | why did he trash the investigation? Was he on the payroll of House Republicans and the KGB back then and playing it coy or was it a sudden development where Vladimir Putin and Paul Ryan talked him into taking a look at Anthony Weiner’s computer? Either Comey is the most cunning FBI director that ever lived or he’s just awkwardly trying to navigate a political mess that has trapped him between a DOJ leadership whose political futures are tied to Hillary’s victory and his own bureau whose apolitical agents just want to be allowed to do their jobs. The only truly mysterious thing is why Hillary and her associates decided to go to war with a respected Federal agency. Most Americans like the FBI while Hillary Clinton enjoys a 60% unfavorable rating. And it’s an interesting question. Hillary’s old strategy was to lie and deny that the FBI even had a criminal investigation underway. Instead her associates insisted that it was a security review. The FBI corrected her and she shrugged it off. But the old breezy denial approach has given way to a savage assault on the FBI. Pretending that nothing was wrong was a bad strategy | but it was a better one that picking a fight with the FBI while lunatic Clinton associates try to claim that the FBI is really the KGB. There are two possible explanations. Hillary Clinton might be arrogant enough to lash out at the FBI now that she believes that victory is near. The same kind of hubris that led her to plan her victory fireworks display could lead her to declare a war on the FBI for irritating her during the final miles of her campaign. But the other explanation is that her people panicked. Going to war with the FBI is not the behavior of a smart and focused presidential campaign. It’s an act of desperation. When a presidential candidate decides that her only option is to try and destroy the credibility of the FBI | that’s not hubris | it’s fear of what the FBI might be about to reveal about her. During the original FBI investigation | Hillary Clinton was confident that she could ride it out. And she had good reason for believing that. But that Hillary Clinton is gone. In her place is a paranoid wreck. Within a short space of time the “positive” Clinton campaign promising to unite the country has been replaced by a desperate and flailing operation that has focused all its energy on fighting the FBI. There’s only one reason for such bizarre behavior. The Clinton campaign has decided that an FBI investigation of the latest batch of emails poses a threat to its survival. And so it’s gone all in on fighting the FBI. It’s an unprecedented step born of fear. It’s hard to know whether that fear is justified. But the existence of that fear already tells us a whole lot. Clinton loyalists rigged the old investigation. They knew the outcome ahead of time as well as they knew the debate questions. Now suddenly they are no longer in control. And they are afraid. You can smell the fear. The FBI has wiretaps from the investigation of the Clinton Foundation. It’s finding new emails all the time. And Clintonworld panicked. The spinmeisters of Clintonworld have claimed that the email scandal is just so much smoke without fire. All that’s here is the appearance of impropriety without any of the substance. But this isn’t how you react to smoke. It’s how you respond to a fire. The misguided assault on the FBI tells us that Hillary Clinton and her allies are afraid of a revelation bigger than the fundamental illegality of her email setup. The email setup was a preemptive cover up. The Clinton campaign has panicked badly out of the belief | right or wrong | that whatever crime the illegal setup was meant to cover up is at risk of being exposed. The Clintons have weathered countless scandals over the years. Whatever they are protecting this time around is bigger than the usual corruption | bribery | sexual assaults and abuses of power that have followed them around throughout the years. This is bigger and more damaging than any of the allegations that have already come out. And they don’t want FBI investigators anywhere near it. The campaign against Comey is pure intimidation. It’s also a warning. Any senior FBI people who value their careers are being warned to stay away. The Democrats are closing ranks around their nominee against the FBI. It’s an ugly and unprecedented scene. It may also be their last stand. Hillary Clinton has awkwardly wound her way through numerous scandals in just this election cycle. But she’s never shown fear or desperation before. Now that has changed. Whatever she is afraid of | it lies buried in her emails with Huma Abedin. And it can bring her down like nothing else has.  ",
            "count": 1
           }
          ]
         }
        },
        {
         "name": "preprocessed_text",
         "dtype": "object",
         "stats": {
          "unique_count": 1,
          "nan_count": 0,
          "categories": [
           {
            "name": "smell hillary’s fear daniel greenfield shillman journalism fellow freedom center new york writer focus radical islam final stretch election hillary rodham clinton go war fbi word “unprecedented” thrown around often election ought retire it’s still unprecedented nominee major political party go war fbi that’s exactly hillary people do coma patient wake watch hour cnn hospital bed would assume fbi director james comey hillary’s opponent election fbi attack everyone obama cnn hillary’s people circulate letter attack comey currently medium hit piece lambast target trump wouldn’t surprising clinton ally start run attack ad fbi fbi’s leadership warn entire left-wing establishment form lynch mob continue go hillary fbi’s credibility attack medium democrat preemptively head result investigation clinton foundation hillary clinton covert struggle fbi agent obama’s doj people go explosively public new york time compare comey j edgar hoover bizarre headline “james comey role recall hoover’s fbi fairly not” practically admit front it’s spout nonsense boston globe publish column call comey’s resignation outdone time editorial claim scandal really attack woman james carville appear msnbc remind everyone still alive insane accuse comey coordinate house republicans kgb think “vast right wing conspiracy” stretch countless medium story charge comey violating procedure know what’s procedural violation email classify information store bathroom server senator harry reid send comey letter accuse violate hatch act hatch act nice idea much relevance age obama tenth amendment cable news spectrum quickly fill medium hack glance wikipedia article hatch act table accuse fbi director one awkward conspiracies hillary ever jam comey really hurt hillary pick one hell strange way long ago democrat breathe sigh relief give hillary clinton pas prominent public statement really elect trump keep email scandal go trash investigation payroll house republicans kgb back play coy sudden development vladimir putin paul ryan talk take look anthony weiner’s computer either comey cunning fbi director ever live he’s awkwardly try navigate political mess trap doj leadership whose political future tie hillary’s victory bureau whose apolitical agent want allow job truly mysterious thing hillary associate decide go war respect federal agency american like fbi hillary clinton enjoy unfavorable rating it’s interesting question hillary’s old strategy lie deny fbi even criminal investigation underway instead associate insist security review fbi correct shrug old breezy denial approach give way savage assault fbi pretend nothing wrong bad strategy well one pick fight fbi lunatic clinton associate try claim fbi really kgb two possible explanation hillary clinton might arrogant enough lash fbi believe victory near kind hubris lead plan victory firework display could lead declare war fbi irritate final mile campaign explanation people panic go war fbi behavior smart focus presidential campaign it’s act desperation presidential candidate decides option try destroy credibility fbi that’s hubris it’s fear fbi might reveal original fbi investigation hillary clinton confident could ride good reason believe hillary clinton go place paranoid wreck within short space time “positive” clinton campaign promise unite country replace desperate flailing operation focus energy fight fbi there’s one reason bizarre behavior clinton campaign decide fbi investigation late batch email pose threat survival it’s go fight fbi it’s unprecedented step bear fear it’s hard know whether fear justify existence fear already tell u whole lot clinton loyalists rig old investigation know outcome ahead time well know debate question suddenly longer control afraid smell fear fbi wiretap investigation clinton foundation it’s find new emails time clintonworld panic spinmeister clintonworld claim email scandal much smoke without fire that’s appearance impropriety without substance isn’t react smoke it’s respond fire misguide assault fbi tell u hillary clinton ally afraid revelation big fundamental illegality email setup email setup preemptive cover clinton campaign panic badly belief right wrong whatever crime illegal setup mean cover risk expose clinton weather countless scandal year whatever protect time around big usual corruption bribery sexual assault abuse power follow around throughout year big damaging allegation already come don’t want fbi investigator anywhere near campaign comey pure intimidation it’s also warn senior fbi people value career warn stay away democrat close rank around nominee fbi it’s ugly unprecedented scene may also last stand hillary clinton awkwardly wind way numerous scandal election cycle she’s never show fear desperation change whatever afraid lie bury email huma abedin bring like nothing else",
            "count": 1
           }
          ]
         }
        },
        {
         "name": "pos_tagged_text",
         "dtype": "object",
         "stats": {
          "unique_count": 1,
          "nan_count": 0,
          "categories": [
           {
            "name": "NN-smell JJ-hillary NNP-’ NN-s NN-fear JJ-daniel NN-greenfield JJ-shillman NN-journalism NN-fellow NN-freedom VBP-center JJ-new NN-york NN-writer VB-focus JJ-radical JJ-islam JJ-final NN-stretch NN-election JJ-hillary NN-rodham NN-clinton VBP-go NN-war NN-fbi NN-word NNP-“ VBD-unprecedented JJ-” VBN-thrown RB-around RB-often NN-election MD-ought VB-retire PRP-it NNP-’ VBD-s RB-still JJ-unprecedented JJ-nominee JJ-major JJ-political NN-party VBP-go NN-war NN-fbi WDT-that VBZ-’ RB-s RB-exactly JJ-hillary NNS-people VBP-do VB-coma JJ-patient NN-wake VB-watch NN-hour JJ-cnn NN-hospital NN-bed MD-would VB-assume JJ-fbi NN-director NNS-james VBP-comey JJ-hillary NNP-’ NN-s NN-opponent NN-election VBZ-fbi RP-attack NN-everyone NN-obama NN-cnn JJ-hillary NNP-’ NN-s NNS-people VBP-circulate NN-letter NN-attack NN-comey RB-currently RBS-medium VBN-hit NN-piece NN-lambast NN-target NN-trump NN-wouldn NNP-’ NN-t VBG-surprising NN-clinton RB-ally VB-start VB-run RB-attack NN-ad NN-fbi NN-fbi NNP-’ VBZ-s NN-leadership JJ-warn JJ-entire JJ-left-wing NN-establishment NN-form NN-lynch NN-mob NN-continue VBP-go JJ-hillary NN-fbi NNP-’ NN-s NN-credibility NN-attack NN-medium NN-democrat RB-preemptively JJ-head NN-result NN-investigation NN-clinton NN-foundation JJ-hillary NN-clinton JJ-covert NN-struggle NN-fbi NN-agent IN-obama NNP-’ VBD-s JJ-doj NNS-people VBP-go RB-explosively JJ-public JJ-new NN-york NN-time JJ-compare JJ-comey NN-j NN-edgar NN-hoover JJ-bizarre NN-headline NNP-“ VBZ-james JJ-comey NN-role NN-recall NN-hoover NNP-’ NN-s VBD-fbi RB-fairly RB-not VB-” RB-practically VBP-admit JJ-front PRP-it VBZ-’ JJ-s NN-spout JJ-nonsense NN-boston NN-globe JJ-publish NN-column NN-call NN-comey NNP-’ VBZ-s NN-resignation NN-outdone NN-time JJ-editorial NN-claim NN-scandal RB-really JJ-attack NN-woman NNS-james VBP-carville JJ-appear NN-msnbc NN-remind NN-everyone RB-still JJ-alive NN-insane IN-accuse JJ-comey NN-coordinate NN-house VBZ-republicans JJ-kgb VBP-think NNP-“ RB-vast JJ-right VBG-wing NN-conspiracy NNP-” NN-stretch NN-countless NN-medium NN-story NN-charge NN-comey VBG-violating NN-procedure VBP-know WP-what NNP-’ VBD-s JJ-procedural NN-violation NN-email NN-classify NN-information NN-store NN-bathroom NN-server NN-senator NN-harry VBP-reid VB-send JJ-comey NN-letter NN-accuse NN-violate NN-hatch NN-act NN-hatch NN-act JJ-nice NN-idea JJ-much NN-relevance NN-age JJ-obama JJ-tenth NN-amendment NN-cable NN-news NN-spectrum RB-quickly VB-fill JJ-medium NN-hack NN-glance NN-wikipedia NN-article NN-hatch NN-act JJ-table NN-accuse VBD-fbi NN-director CD-one NN-awkward VBZ-conspiracies JJ-hillary RB-ever VBP-jam NNS-comey RB-really VBP-hurt JJ-hillary NN-pick CD-one NN-hell JJ-strange NN-way RB-long RB-ago VB-democrat NN-breathe JJ-sigh NN-relief JJ-give JJ-hillary NN-clinton NN-pas JJ-prominent JJ-public NN-statement RB-really JJ-elect NN-trump VB-keep NN-email NN-scandal VBP-go JJ-trash NN-investigation NN-payroll NN-house VBZ-republicans VBN-kgb RP-back NN-play NN-coy JJ-sudden NN-development NN-vladimir NN-putin NN-paul JJ-ryan NN-talk VB-take NN-look JJ-anthony NN-weiner NNP-’ VBZ-s NN-computer CC-either NN-comey NN-cunning NN-fbi NN-director RB-ever VBP-live PRP-he VBZ-’ RB-s RB-awkwardly VB-try JJ-navigate JJ-political NN-mess NN-trap JJ-doj NN-leadership WP$-whose JJ-political NN-future NN-tie JJ-hillary NNP-’ NN-s NN-victory NN-bureau WP$-whose JJ-apolitical NN-agent VBP-want JJ-allow NN-job RB-truly JJ-mysterious NN-thing JJ-hillary NN-associate NN-decide VBP-go NN-war NN-respect JJ-federal NN-agency JJ-american IN-like JJ-fbi JJ-hillary NN-clinton NN-enjoy JJ-unfavorable NN-rating PRP-it VBZ-’ JJ-s JJ-interesting NN-question JJ-hillary NN-’ NN-s JJ-old NN-strategy VBZ-lie VBP-deny VB-fbi RB-even JJ-criminal NN-investigation RB-underway RB-instead JJ-associate JJ-insist NN-security NN-review NN-fbi JJ-correct JJ-shrug JJ-old NN-breezy JJ-denial NN-approach JJ-give NN-way NN-savage NN-assault JJ-fbi NN-pretend NN-nothing JJ-wrong JJ-bad NN-strategy RB-well CD-one NN-pick NN-fight NN-fbi JJ-lunatic NN-clinton JJ-associate NN-try NN-claim VBP-fbi RB-really VB-kgb CD-two JJ-possible NN-explanation JJ-hillary NN-clinton MD-might VB-arrogant JJ-enough NN-lash NNS-fbi VBP-believe NN-victory IN-near NN-kind JJ-hubris NN-lead NN-plan JJ-victory NN-firework NN-display MD-could VB-lead JJ-declare NN-war NN-fbi VBP-irritate JJ-final NN-mile NN-campaign NN-explanation NNS-people JJ-panic VBP-go NN-war NN-fbi JJ-behavior JJ-smart NN-focus JJ-presidential NN-campaign PRP-it NNP-’ VBZ-s JJ-act NN-desperation JJ-presidential NN-candidate NNS-decides NN-option NN-try NN-destroy NN-credibility VBP-fbi IN-that NNP-’ VBD-s VB-hubris PRP-it NNP-’ VBD-s JJ-fear NN-fbi MD-might VB-reveal JJ-original NN-fbi NN-investigation JJ-hillary NN-clinton NN-confident MD-could VB-ride JJ-good NN-reason VBP-believe JJ-hillary NN-clinton VBP-go NN-place NN-paranoid NN-wreck IN-within JJ-short NN-space NN-time NNP-“ JJ-positive NNP-” NN-clinton NN-campaign VBP-promise JJ-unite NN-country VB-replace JJ-desperate NN-flailing NN-operation NN-focus NN-energy NN-fight NN-fbi RB-there NNP-’ VBD-s CD-one NN-reason JJ-bizarre NN-behavior NN-clinton NN-campaign VBP-decide JJ-fbi NN-investigation RB-late NN-batch NN-email NN-pose NN-threat NN-survival PRP-it VBZ-’ JJ-s VB-go JJ-fight NN-fbi PRP-it VBZ-’ RB-s JJ-unprecedented NN-step IN-bear NN-fear PRP-it VBZ-’ JJ-s RB-hard VBP-know IN-whether NN-fear NN-justify NN-existence NN-fear RB-already VB-tell JJ-u JJ-whole NN-lot NN-clinton VBZ-loyalists VBP-rig JJ-old NN-investigation VBP-know VBN-outcome RB-ahead NN-time RB-well VB-know NN-debate NN-question RB-suddenly RBR-longer NN-control JJ-afraid NN-smell NN-fear NN-fbi NN-wiretap NN-investigation NN-clinton NN-foundation PRP-it VBZ-’ JJ-s VB-find JJ-new NNS-emails NN-time NN-clintonworld NN-panic NN-spinmeister NN-clintonworld NN-claim VBP-email NN-scandal JJ-much NN-smoke IN-without NN-fire IN-that NNP-’ VBD-s NN-appearance NN-impropriety IN-without NN-substance NN-isn NNP-’ NN-t NN-react VBD-smoke PRP-it NNP-’ VBZ-s NN-respond NN-fire NN-misguide NN-assault NN-fbi VBP-tell JJ-u JJ-hillary NN-clinton NN-ally JJ-afraid NN-revelation JJ-big JJ-fundamental NN-illegality VBP-email NN-setup NN-email NN-setup JJ-preemptive NN-cover NN-clinton NN-campaign JJ-panic RB-badly JJ-belief NN-right JJ-wrong WDT-whatever NN-crime JJ-illegal NN-setup NN-mean NN-cover NN-risk VBP-expose NN-clinton NN-weather NN-countless NN-scandal NN-year WDT-whatever JJ-protect NN-time IN-around JJ-big JJ-usual NN-corruption NN-bribery JJ-sexual NN-assault NN-abuse NN-power VBP-follow IN-around IN-throughout NN-year JJ-big NN-damaging NN-allegation RB-already VBN-come NN-don NNP-’ NN-t VBP-want NN-fbi NN-investigator RB-anywhere IN-near NN-campaign NN-comey NN-pure NN-intimidation PRP-it VBZ-’ NN-s RB-also VBP-warn JJ-senior NN-fbi NNS-people NN-value NN-career VBP-warn VB-stay RB-away RB-democrat JJ-close NN-rank IN-around JJ-nominee NN-fbi PRP-it VBZ-’ JJ-s RB-ugly JJ-unprecedented NN-scene MD-may RB-also JJ-last NN-stand JJ-hillary NN-clinton RB-awkwardly JJ-wind NN-way JJ-numerous NN-scandal NN-election NN-cycle PRP-she VBD-’ PRP-s RB-never VBP-show JJ-fear NN-desperation NN-change WDT-whatever JJ-afraid JJ-lie NN-bury NN-email NN-huma IN-abedin VBG-bring IN-like NN-nothing RB-else",
            "count": 1
           }
          ]
         }
        },
        {
         "name": "clean_and_pos_tagged_text",
         "dtype": "object",
         "stats": {
          "unique_count": 1,
          "nan_count": 0,
          "categories": [
           {
            "name": "smell hillary’s fear daniel greenfield shillman journalism fellow freedom center new york writer focus radical islam final stretch election hillary rodham clinton go war fbi word “unprecedented” thrown around often election ought retire it’s still unprecedented nominee major political party go war fbi that’s exactly hillary people do coma patient wake watch hour cnn hospital bed would assume fbi director james comey hillary’s opponent election fbi attack everyone obama cnn hillary’s people circulate letter attack comey currently medium hit piece lambast target trump wouldn’t surprising clinton ally start run attack ad fbi fbi’s leadership warn entire left-wing establishment form lynch mob continue go hillary fbi’s credibility attack medium democrat preemptively head result investigation clinton foundation hillary clinton covert struggle fbi agent obama’s doj people go explosively public new york time compare comey j edgar hoover bizarre headline “james comey role recall hoover’s fbi fairly not” practically admit front it’s spout nonsense boston globe publish column call comey’s resignation outdone time editorial claim scandal really attack woman james carville appear msnbc remind everyone still alive insane accuse comey coordinate house republicans kgb think “vast right wing conspiracy” stretch countless medium story charge comey violating procedure know what’s procedural violation email classify information store bathroom server senator harry reid send comey letter accuse violate hatch act hatch act nice idea much relevance age obama tenth amendment cable news spectrum quickly fill medium hack glance wikipedia article hatch act table accuse fbi director one awkward conspiracies hillary ever jam comey really hurt hillary pick one hell strange way long ago democrat breathe sigh relief give hillary clinton pas prominent public statement really elect trump keep email scandal go trash investigation payroll house republicans kgb back play coy sudden development vladimir putin paul ryan talk take look anthony weiner’s computer either comey cunning fbi director ever live he’s awkwardly try navigate political mess trap doj leadership whose political future tie hillary’s victory bureau whose apolitical agent want allow job truly mysterious thing hillary associate decide go war respect federal agency american like fbi hillary clinton enjoy unfavorable rating it’s interesting question hillary’s old strategy lie deny fbi even criminal investigation underway instead associate insist security review fbi correct shrug old breezy denial approach give way savage assault fbi pretend nothing wrong bad strategy well one pick fight fbi lunatic clinton associate try claim fbi really kgb two possible explanation hillary clinton might arrogant enough lash fbi believe victory near kind hubris lead plan victory firework display could lead declare war fbi irritate final mile campaign explanation people panic go war fbi behavior smart focus presidential campaign it’s act desperation presidential candidate decides option try destroy credibility fbi that’s hubris it’s fear fbi might reveal original fbi investigation hillary clinton confident could ride good reason believe hillary clinton go place paranoid wreck within short space time “positive” clinton campaign promise unite country replace desperate flailing operation focus energy fight fbi there’s one reason bizarre behavior clinton campaign decide fbi investigation late batch email pose threat survival it’s go fight fbi it’s unprecedented step bear fear it’s hard know whether fear justify existence fear already tell u whole lot clinton loyalists rig old investigation know outcome ahead time well know debate question suddenly longer control afraid smell fear fbi wiretap investigation clinton foundation it’s find new emails time clintonworld panic spinmeister clintonworld claim email scandal much smoke without fire that’s appearance impropriety without substance isn’t react smoke it’s respond fire misguide assault fbi tell u hillary clinton ally afraid revelation big fundamental illegality email setup email setup preemptive cover clinton campaign panic badly belief right wrong whatever crime illegal setup mean cover risk expose clinton weather countless scandal year whatever protect time around big usual corruption bribery sexual assault abuse power follow around throughout year big damaging allegation already come don’t want fbi investigator anywhere near campaign comey pure intimidation it’s also warn senior fbi people value career warn stay away democrat close rank around nominee fbi it’s ugly unprecedented scene may also last stand hillary clinton awkwardly wind way numerous scandal election cycle she’s never show fear desperation change whatever afraid lie bury email huma abedin bring like nothing else NN-smell JJ-hillary NNP-’ NN-s NN-fear JJ-daniel NN-greenfield JJ-shillman NN-journalism NN-fellow NN-freedom VBP-center JJ-new NN-york NN-writer VB-focus JJ-radical JJ-islam JJ-final NN-stretch NN-election JJ-hillary NN-rodham NN-clinton VBP-go NN-war NN-fbi NN-word NNP-“ VBD-unprecedented JJ-” VBN-thrown RB-around RB-often NN-election MD-ought VB-retire PRP-it NNP-’ VBD-s RB-still JJ-unprecedented JJ-nominee JJ-major JJ-political NN-party VBP-go NN-war NN-fbi WDT-that VBZ-’ RB-s RB-exactly JJ-hillary NNS-people VBP-do VB-coma JJ-patient NN-wake VB-watch NN-hour JJ-cnn NN-hospital NN-bed MD-would VB-assume JJ-fbi NN-director NNS-james VBP-comey JJ-hillary NNP-’ NN-s NN-opponent NN-election VBZ-fbi RP-attack NN-everyone NN-obama NN-cnn JJ-hillary NNP-’ NN-s NNS-people VBP-circulate NN-letter NN-attack NN-comey RB-currently RBS-medium VBN-hit NN-piece NN-lambast NN-target NN-trump NN-wouldn NNP-’ NN-t VBG-surprising NN-clinton RB-ally VB-start VB-run RB-attack NN-ad NN-fbi NN-fbi NNP-’ VBZ-s NN-leadership JJ-warn JJ-entire JJ-left-wing NN-establishment NN-form NN-lynch NN-mob NN-continue VBP-go JJ-hillary NN-fbi NNP-’ NN-s NN-credibility NN-attack NN-medium NN-democrat RB-preemptively JJ-head NN-result NN-investigation NN-clinton NN-foundation JJ-hillary NN-clinton JJ-covert NN-struggle NN-fbi NN-agent IN-obama NNP-’ VBD-s JJ-doj NNS-people VBP-go RB-explosively JJ-public JJ-new NN-york NN-time JJ-compare JJ-comey NN-j NN-edgar NN-hoover JJ-bizarre NN-headline NNP-“ VBZ-james JJ-comey NN-role NN-recall NN-hoover NNP-’ NN-s VBD-fbi RB-fairly RB-not VB-” RB-practically VBP-admit JJ-front PRP-it VBZ-’ JJ-s NN-spout JJ-nonsense NN-boston NN-globe JJ-publish NN-column NN-call NN-comey NNP-’ VBZ-s NN-resignation NN-outdone NN-time JJ-editorial NN-claim NN-scandal RB-really JJ-attack NN-woman NNS-james VBP-carville JJ-appear NN-msnbc NN-remind NN-everyone RB-still JJ-alive NN-insane IN-accuse JJ-comey NN-coordinate NN-house VBZ-republicans JJ-kgb VBP-think NNP-“ RB-vast JJ-right VBG-wing NN-conspiracy NNP-” NN-stretch NN-countless NN-medium NN-story NN-charge NN-comey VBG-violating NN-procedure VBP-know WP-what NNP-’ VBD-s JJ-procedural NN-violation NN-email NN-classify NN-information NN-store NN-bathroom NN-server NN-senator NN-harry VBP-reid VB-send JJ-comey NN-letter NN-accuse NN-violate NN-hatch NN-act NN-hatch NN-act JJ-nice NN-idea JJ-much NN-relevance NN-age JJ-obama JJ-tenth NN-amendment NN-cable NN-news NN-spectrum RB-quickly VB-fill JJ-medium NN-hack NN-glance NN-wikipedia NN-article NN-hatch NN-act JJ-table NN-accuse VBD-fbi NN-director CD-one NN-awkward VBZ-conspiracies JJ-hillary RB-ever VBP-jam NNS-comey RB-really VBP-hurt JJ-hillary NN-pick CD-one NN-hell JJ-strange NN-way RB-long RB-ago VB-democrat NN-breathe JJ-sigh NN-relief JJ-give JJ-hillary NN-clinton NN-pas JJ-prominent JJ-public NN-statement RB-really JJ-elect NN-trump VB-keep NN-email NN-scandal VBP-go JJ-trash NN-investigation NN-payroll NN-house VBZ-republicans VBN-kgb RP-back NN-play NN-coy JJ-sudden NN-development NN-vladimir NN-putin NN-paul JJ-ryan NN-talk VB-take NN-look JJ-anthony NN-weiner NNP-’ VBZ-s NN-computer CC-either NN-comey NN-cunning NN-fbi NN-director RB-ever VBP-live PRP-he VBZ-’ RB-s RB-awkwardly VB-try JJ-navigate JJ-political NN-mess NN-trap JJ-doj NN-leadership WP$-whose JJ-political NN-future NN-tie JJ-hillary NNP-’ NN-s NN-victory NN-bureau WP$-whose JJ-apolitical NN-agent VBP-want JJ-allow NN-job RB-truly JJ-mysterious NN-thing JJ-hillary NN-associate NN-decide VBP-go NN-war NN-respect JJ-federal NN-agency JJ-american IN-like JJ-fbi JJ-hillary NN-clinton NN-enjoy JJ-unfavorable NN-rating PRP-it VBZ-’ JJ-s JJ-interesting NN-question JJ-hillary NN-’ NN-s JJ-old NN-strategy VBZ-lie VBP-deny VB-fbi RB-even JJ-criminal NN-investigation RB-underway RB-instead JJ-associate JJ-insist NN-security NN-review NN-fbi JJ-correct JJ-shrug JJ-old NN-breezy JJ-denial NN-approach JJ-give NN-way NN-savage NN-assault JJ-fbi NN-pretend NN-nothing JJ-wrong JJ-bad NN-strategy RB-well CD-one NN-pick NN-fight NN-fbi JJ-lunatic NN-clinton JJ-associate NN-try NN-claim VBP-fbi RB-really VB-kgb CD-two JJ-possible NN-explanation JJ-hillary NN-clinton MD-might VB-arrogant JJ-enough NN-lash NNS-fbi VBP-believe NN-victory IN-near NN-kind JJ-hubris NN-lead NN-plan JJ-victory NN-firework NN-display MD-could VB-lead JJ-declare NN-war NN-fbi VBP-irritate JJ-final NN-mile NN-campaign NN-explanation NNS-people JJ-panic VBP-go NN-war NN-fbi JJ-behavior JJ-smart NN-focus JJ-presidential NN-campaign PRP-it NNP-’ VBZ-s JJ-act NN-desperation JJ-presidential NN-candidate NNS-decides NN-option NN-try NN-destroy NN-credibility VBP-fbi IN-that NNP-’ VBD-s VB-hubris PRP-it NNP-’ VBD-s JJ-fear NN-fbi MD-might VB-reveal JJ-original NN-fbi NN-investigation JJ-hillary NN-clinton NN-confident MD-could VB-ride JJ-good NN-reason VBP-believe JJ-hillary NN-clinton VBP-go NN-place NN-paranoid NN-wreck IN-within JJ-short NN-space NN-time NNP-“ JJ-positive NNP-” NN-clinton NN-campaign VBP-promise JJ-unite NN-country VB-replace JJ-desperate NN-flailing NN-operation NN-focus NN-energy NN-fight NN-fbi RB-there NNP-’ VBD-s CD-one NN-reason JJ-bizarre NN-behavior NN-clinton NN-campaign VBP-decide JJ-fbi NN-investigation RB-late NN-batch NN-email NN-pose NN-threat NN-survival PRP-it VBZ-’ JJ-s VB-go JJ-fight NN-fbi PRP-it VBZ-’ RB-s JJ-unprecedented NN-step IN-bear NN-fear PRP-it VBZ-’ JJ-s RB-hard VBP-know IN-whether NN-fear NN-justify NN-existence NN-fear RB-already VB-tell JJ-u JJ-whole NN-lot NN-clinton VBZ-loyalists VBP-rig JJ-old NN-investigation VBP-know VBN-outcome RB-ahead NN-time RB-well VB-know NN-debate NN-question RB-suddenly RBR-longer NN-control JJ-afraid NN-smell NN-fear NN-fbi NN-wiretap NN-investigation NN-clinton NN-foundation PRP-it VBZ-’ JJ-s VB-find JJ-new NNS-emails NN-time NN-clintonworld NN-panic NN-spinmeister NN-clintonworld NN-claim VBP-email NN-scandal JJ-much NN-smoke IN-without NN-fire IN-that NNP-’ VBD-s NN-appearance NN-impropriety IN-without NN-substance NN-isn NNP-’ NN-t NN-react VBD-smoke PRP-it NNP-’ VBZ-s NN-respond NN-fire NN-misguide NN-assault NN-fbi VBP-tell JJ-u JJ-hillary NN-clinton NN-ally JJ-afraid NN-revelation JJ-big JJ-fundamental NN-illegality VBP-email NN-setup NN-email NN-setup JJ-preemptive NN-cover NN-clinton NN-campaign JJ-panic RB-badly JJ-belief NN-right JJ-wrong WDT-whatever NN-crime JJ-illegal NN-setup NN-mean NN-cover NN-risk VBP-expose NN-clinton NN-weather NN-countless NN-scandal NN-year WDT-whatever JJ-protect NN-time IN-around JJ-big JJ-usual NN-corruption NN-bribery JJ-sexual NN-assault NN-abuse NN-power VBP-follow IN-around IN-throughout NN-year JJ-big NN-damaging NN-allegation RB-already VBN-come NN-don NNP-’ NN-t VBP-want NN-fbi NN-investigator RB-anywhere IN-near NN-campaign NN-comey NN-pure NN-intimidation PRP-it VBZ-’ NN-s RB-also VBP-warn JJ-senior NN-fbi NNS-people NN-value NN-career VBP-warn VB-stay RB-away RB-democrat JJ-close NN-rank IN-around JJ-nominee NN-fbi PRP-it VBZ-’ JJ-s RB-ugly JJ-unprecedented NN-scene MD-may RB-also JJ-last NN-stand JJ-hillary NN-clinton RB-awkwardly JJ-wind NN-way JJ-numerous NN-scandal NN-election NN-cycle PRP-she VBD-’ PRP-s RB-never VBP-show JJ-fear NN-desperation NN-change WDT-whatever JJ-afraid JJ-lie NN-bury NN-email NN-huma IN-abedin VBG-bring IN-like NN-nothing RB-else",
            "count": 1
           }
          ]
         }
        },
        {
         "name": "_deepnote_index_column",
         "dtype": "int64"
        }
       ],
       "rows": [
        {
         "ID": 8476,
         "title": "You Can Smell Hillary’s Fear",
         "text": "Daniel Greenfield | a Shillman Journalism Fellow at the Freedom Center | is a New York writer focus…",
         "label": "FAKE",
         "title_and_text": "You Can Smell Hillary’s Fear Daniel Greenfield | a Shillman Journalism Fellow at the Freedom Center…",
         "preprocessed_text": "smell hillary’s fear daniel greenfield shillman journalism fellow freedom center new york writer fo…",
         "pos_tagged_text": "NN-smell JJ-hillary NNP-’ NN-s NN-fear JJ-daniel NN-greenfield JJ-shillman NN-journalism NN-fellow …",
         "clean_and_pos_tagged_text": "smell hillary’s fear daniel greenfield shillman journalism fellow freedom center new york writer fo…",
         "_deepnote_index_column": 0
        }
       ]
      },
      "text/plain": "     ID                         title  \\\n0  8476  You Can Smell Hillary’s Fear   \n\n                                                text label  \\\n0  Daniel Greenfield | a Shillman Journalism Fell...  FAKE   \n\n                                      title_and_text  \\\n0  You Can Smell Hillary’s Fear Daniel Greenfield...   \n\n                                   preprocessed_text  \\\n0  smell hillary’s fear daniel greenfield shillma...   \n\n                                     pos_tagged_text  \\\n0  NN-smell JJ-hillary NNP-’ NN-s NN-fear JJ-dani...   \n\n                           clean_and_pos_tagged_text  \n0  smell hillary’s fear daniel greenfield shillma...  ",
      "text/html": "<div>\n<style scoped>\n    .dataframe tbody tr th:only-of-type {\n        vertical-align: middle;\n    }\n\n    .dataframe tbody tr th {\n        vertical-align: top;\n    }\n\n    .dataframe thead th {\n        text-align: right;\n    }\n</style>\n<table border=\"1\" class=\"dataframe\">\n  <thead>\n    <tr style=\"text-align: right;\">\n      <th></th>\n      <th>ID</th>\n      <th>title</th>\n      <th>text</th>\n      <th>label</th>\n      <th>title_and_text</th>\n      <th>preprocessed_text</th>\n      <th>pos_tagged_text</th>\n      <th>clean_and_pos_tagged_text</th>\n    </tr>\n  </thead>\n  <tbody>\n    <tr>\n      <th>0</th>\n      <td>8476</td>\n      <td>You Can Smell Hillary’s Fear</td>\n      <td>Daniel Greenfield | a Shillman Journalism Fell...</td>\n      <td>FAKE</td>\n      <td>You Can Smell Hillary’s Fear Daniel Greenfield...</td>\n      <td>smell hillary’s fear daniel greenfield shillma...</td>\n      <td>NN-smell JJ-hillary NNP-’ NN-s NN-fear JJ-dani...</td>\n      <td>smell hillary’s fear daniel greenfield shillma...</td>\n    </tr>\n  </tbody>\n</table>\n</div>"
     },
     "metadata": {}
    }
   ]
  },
  {
   "cell_type": "code",
   "metadata": {
    "id": "S-i_r2g73rlj",
    "cell_id": "00084-86bf8481-fda7-49ea-83f0-7433d9d76f1e",
    "deepnote_to_be_reexecuted": false,
    "source_hash": "3c01cb01",
    "execution_start": 1643887256325,
    "execution_millis": 16583,
    "deepnote_cell_type": "code"
   },
   "source": [
    "encoder, train, test, train_cv, train_holdout, train_cv_label, train_holdout_label = split_train_holdout_test(encoder, df, False)\n",
    "\n",
    "count_vect = CountVectorizer(analyzer = 'word')\n",
    "\n",
    "count_vectorizer = count_vect.fit(df.clean_and_pos_tagged_text)\n",
    "\n",
    "train_cv_vector = count_vectorizer.transform(train_cv.clean_and_pos_tagged_text)\n",
    "train_holdout_vector = count_vectorizer.transform(train_holdout.clean_and_pos_tagged_text)\n",
    "test_vector = count_vectorizer.transform(test.clean_and_pos_tagged_text)\n",
    "\n",
    "\n",
    "tf_idf = TfidfTransformer(norm='l2')\n",
    "train_cv_tf_idf = tf_idf.fit_transform(train_cv_vector)\n",
    "train_holdout_tf_idf = tf_idf.fit_transform(train_holdout_vector)\n",
    "test_tf_idf = tf_idf.fit_transform(test_vector)  "
   ],
   "execution_count": 69,
   "outputs": []
  },
  {
   "cell_type": "markdown",
   "source": [
    "### Rerun Models on preprocessed + pos-tagged (FE1) + TF-IDF weighted text (FE2)"
   ],
   "metadata": {
    "id": "71CWVdo13rlk",
    "cell_id": "00085-7534aa2b-54e0-4b02-ab5d-1ff17452a0d2",
    "deepnote_cell_type": "markdown"
   }
  },
  {
   "cell_type": "markdown",
   "source": [
    "a. SVC with FE1 and FE2"
   ],
   "metadata": {
    "id": "p1D8DvVj3rlk",
    "cell_id": "00086-31d493d8-671c-47d7-9692-4a020cdfa03e",
    "deepnote_cell_type": "markdown"
   }
  },
  {
   "cell_type": "code",
   "metadata": {
    "colab": {
     "base_uri": "https://localhost:8080/",
     "height": 730
    },
    "id": "Vjs_dAcV3rlk",
    "outputId": "4f02cf61-5a42-48b0-9212-c81364aa7f59",
    "cell_id": "00087-1d5e86d6-9af7-4d4f-b57e-75efb7616309",
    "deepnote_output_heights": [
     null,
     264
    ],
    "deepnote_to_be_reexecuted": false,
    "source_hash": "1ea397a9",
    "execution_start": 1643887272922,
    "execution_millis": 550687,
    "deepnote_cell_type": "code"
   },
   "source": [
    "SVC_tf_idf = run_model(encoder,\n",
    "               train_cv_tf_idf,\n",
    "               train_cv_label,\n",
    "               train_holdout_tf_idf,\n",
    "               train_holdout.label,\n",
    "               'svc',\n",
    "               'SVC on preprocessed+pos-tagged TF-IDF weighted text')\n",
    "models.loc[len(models)] = SVC_tf_idf"
   ],
   "execution_count": 70,
   "outputs": [
    {
     "name": "stdout",
     "text": "\u001B[31mSVC on preprocessed+pos-tagged TF-IDF weighted text\u001B[0m\n\u001B[33mGridSearchCV(cv=ShuffleSplit(n_splits=5, random_state=12345, test_size=0.2, train_size=None),\n             estimator=SVC(),\n             param_grid=[{'C': [1, 10, 50, 100], 'kernel': ['linear']},\n                         {'C': [10, 100, 500, 1000], 'gamma': [0.0001],\n                          'kernel': ['rbf']}])\u001B[0m\n\u001B[34m\nCV-scores\u001B[0m\nAccuracy: 0.937 (+/-0.024) for params: {'C': 10, 'kernel': 'linear'}\nAccuracy: 0.937 (+/-0.027) for params: {'C': 50, 'kernel': 'linear'}\nAccuracy: 0.937 (+/-0.027) for params: {'C': 100, 'kernel': 'linear'}\nAccuracy: 0.935 (+/-0.021) for params: {'C': 1, 'kernel': 'linear'}\nAccuracy: 0.895 (+/-0.009) for params: {'C': 1000, 'gamma': 0.0001, 'kernel': 'rbf'}\nAccuracy: 0.859 (+/-0.015) for params: {'C': 500, 'gamma': 0.0001, 'kernel': 'rbf'}\nAccuracy: 0.590 (+/-0.139) for params: {'C': 100, 'gamma': 0.0001, 'kernel': 'rbf'}\nAccuracy: 0.481 (+/-0.027) for params: {'C': 10, 'gamma': 0.0001, 'kernel': 'rbf'}\n\n\u001B[34m\nBest Estimator Params\u001B[0m\n\u001B[33mSVC(C=10, kernel='linear')\u001B[0m\n\u001B[34m\nPredictions:\u001B[0m\n['REAL' 'REAL' 'FAKE' ... 'REAL' 'FAKE' 'REAL']\n",
     "output_type": "stream"
    },
    {
     "data": {
      "text/plain": "<Figure size 396x288 with 2 Axes>",
      "image/png": "[encoded data removed]"
     },
     "metadata": {
      "needs_background": "light",
      "image/png": {
       "width": 343,
       "height": 262
      }
     },
     "output_type": "display_data"
    },
    {
     "name": "stdout",
     "text": "\u001B[34m\nAccuracy:\u001B[0m\n\u001B[32m0.9431818181818182\u001B[0m\n",
     "output_type": "stream"
    }
   ]
  },
  {
   "cell_type": "markdown",
   "source": [
    "b. NB with FE1 and FE2"
   ],
   "metadata": {
    "id": "mLWuGcmv3rlk",
    "cell_id": "00088-e612dca7-8089-4454-abb6-ee405ae903f0",
    "deepnote_cell_type": "markdown"
   }
  },
  {
   "cell_type": "code",
   "metadata": {
    "colab": {
     "base_uri": "https://localhost:8080/",
     "height": 557
    },
    "id": "vS3mntGN3rll",
    "outputId": "dd29c4b4-2d5b-4c66-b6ec-e294321ff7f7",
    "cell_id": "00089-fc745319-b1db-4b4a-937e-5f64b4e8e23e",
    "deepnote_output_heights": [
     null,
     264
    ],
    "deepnote_to_be_reexecuted": false,
    "source_hash": "28a17315",
    "execution_start": 1643887823622,
    "execution_millis": 650,
    "deepnote_cell_type": "code"
   },
   "source": [
    "NB_tf_idf = run_model(encoder,\n",
    "               train_cv_tf_idf,\n",
    "               train_cv_label,\n",
    "               train_holdout_tf_idf,\n",
    "               train_holdout.label,\n",
    "              'nb',\n",
    "              'Naiive Bayes on preprocessed+pos-tagged TF-IDF weighted text')\n",
    "models.loc[len(models)] = NB_tf_idf"
   ],
   "execution_count": 71,
   "outputs": [
    {
     "name": "stdout",
     "text": "\u001B[31mNaiive Bayes on preprocessed+pos-tagged TF-IDF weighted text\u001B[0m\n\u001B[33mGridSearchCV(cv=ShuffleSplit(n_splits=5, random_state=12345, test_size=0.2, train_size=None),\n             estimator=MultinomialNB(), param_grid={})\u001B[0m\n\u001B[34m\nCV-scores\u001B[0m\nAccuracy: 0.781 (+/-0.039) for params: {}\n\n\u001B[34m\nBest Estimator Params\u001B[0m\n\u001B[33mMultinomialNB()\u001B[0m\n\u001B[34m\nPredictions:\u001B[0m\n['REAL' 'REAL' 'REAL' ... 'REAL' 'REAL' 'REAL']\n",
     "output_type": "stream"
    },
    {
     "data": {
      "text/plain": "<Figure size 396x288 with 2 Axes>",
      "image/png": "[encoded data removed]"
     },
     "metadata": {
      "needs_background": "light",
      "image/png": {
       "width": 343,
       "height": 262
      }
     },
     "output_type": "display_data"
    },
    {
     "name": "stdout",
     "text": "\u001B[34m\nAccuracy:\u001B[0m\n\u001B[32m0.8166666666666667\u001B[0m\n",
     "output_type": "stream"
    }
   ]
  },
  {
   "cell_type": "markdown",
   "source": [
    "c. maxEnt with FE1 and FE2"
   ],
   "metadata": {
    "id": "CzUfzJuE3rll",
    "cell_id": "00090-19776001-2c45-4a71-81b6-4c766a7e6f2c",
    "deepnote_cell_type": "markdown"
   }
  },
  {
   "cell_type": "code",
   "metadata": {
    "colab": {
     "base_uri": "https://localhost:8080/",
     "height": 817
    },
    "id": "IaHY7BnB3rll",
    "outputId": "bcc690a3-32da-4406-a875-63493b1ced17",
    "cell_id": "00091-52e6e5c4-4aaa-4c6c-8302-ed101fd98f54",
    "deepnote_output_heights": [
     null,
     264
    ],
    "deepnote_to_be_reexecuted": false,
    "source_hash": "3dee44b4",
    "execution_start": 1643887824290,
    "execution_millis": 45762,
    "deepnote_cell_type": "code"
   },
   "source": [
    "maxEnt_tf_idf = run_model(encoder,\n",
    "               train_cv_tf_idf,\n",
    "               train_cv_label,\n",
    "               train_holdout_tf_idf,\n",
    "               train_holdout.label,\n",
    "              'maxEnt',\n",
    "              'MaxEnt on preprocessed+pos-tagged TF-IDF weighted text')\n",
    "models.loc[len(models)] = maxEnt_tf_idf"
   ],
   "execution_count": 72,
   "outputs": [
    {
     "name": "stdout",
     "text": "\u001B[31mMaxEnt on preprocessed+pos-tagged TF-IDF weighted text\u001B[0m\n\u001B[33mGridSearchCV(cv=ShuffleSplit(n_splits=5, random_state=12345, test_size=0.2, train_size=None),\n             estimator=LogisticRegression(),\n             param_grid={'C': [0.001, 0.01, 0.1, 1, 10, 100, 1000],\n                         'penalty': ['l1', 'l2']})\u001B[0m\n\u001B[34m\nCV-scores\u001B[0m\nAccuracy: nan (+/-nan) for params: {'C': 0.001, 'penalty': 'l1'}\nAccuracy: 0.554 (+/-0.147) for params: {'C': 0.001, 'penalty': 'l2'}\nAccuracy: nan (+/-nan) for params: {'C': 0.01, 'penalty': 'l1'}\nAccuracy: 0.749 (+/-0.021) for params: {'C': 0.01, 'penalty': 'l2'}\nAccuracy: nan (+/-nan) for params: {'C': 0.1, 'penalty': 'l1'}\nAccuracy: 0.831 (+/-0.023) for params: {'C': 0.1, 'penalty': 'l2'}\nAccuracy: nan (+/-nan) for params: {'C': 1, 'penalty': 'l1'}\nAccuracy: 0.907 (+/-0.004) for params: {'C': 1, 'penalty': 'l2'}\nAccuracy: nan (+/-nan) for params: {'C': 10, 'penalty': 'l1'}\nAccuracy: 0.931 (+/-0.022) for params: {'C': 10, 'penalty': 'l2'}\nAccuracy: nan (+/-nan) for params: {'C': 100, 'penalty': 'l1'}\nAccuracy: 0.939 (+/-0.026) for params: {'C': 100, 'penalty': 'l2'}\nAccuracy: nan (+/-nan) for params: {'C': 1000, 'penalty': 'l1'}\nAccuracy: 0.943 (+/-0.030) for params: {'C': 1000, 'penalty': 'l2'}\n\n\u001B[34m\nBest Estimator Params\u001B[0m\n\u001B[33mLogisticRegression(C=1000)\u001B[0m\n\u001B[34m\nPredictions:\u001B[0m\n['REAL' 'REAL' 'FAKE' ... 'REAL' 'FAKE' 'REAL']\n",
     "output_type": "stream"
    },
    {
     "data": {
      "text/plain": "<Figure size 396x288 with 2 Axes>",
      "image/png": "[encoded data removed]"
     },
     "metadata": {
      "needs_background": "light",
      "image/png": {
       "width": 343,
       "height": 262
      }
     },
     "output_type": "display_data"
    },
    {
     "name": "stdout",
     "text": "\u001B[34m\nAccuracy:\u001B[0m\n\u001B[32m0.9431818181818182\u001B[0m\n",
     "output_type": "stream"
    }
   ]
  },
  {
   "cell_type": "code",
   "metadata": {
    "id": "m9ybRE1m3rlm",
    "cell_id": "00092-826d25cc-11b2-49f6-9191-770a11d46a69",
    "deepnote_to_be_reexecuted": false,
    "source_hash": "6d6890ff",
    "execution_start": 1643887870152,
    "execution_millis": 50,
    "deepnote_cell_type": "code"
   },
   "source": [
    "models"
   ],
   "execution_count": 73,
   "outputs": [
    {
     "output_type": "execute_result",
     "execution_count": 73,
     "data": {
      "application/vnd.deepnote.dataframe.v3+json": {
       "column_count": 3,
       "row_count": 9,
       "columns": [
        {
         "name": "model_name",
         "dtype": "object",
         "stats": {
          "unique_count": 9,
          "nan_count": 0,
          "categories": [
           {
            "name": "<class 'sklearn.svm._classes.SVC'>",
            "count": 1
           },
           {
            "name": "Baseline Model 2: Naiive Bayes",
            "count": 1
           },
           {
            "name": "7 others",
            "count": 7
           }
          ]
         }
        },
        {
         "name": "model_object",
         "dtype": "object",
         "stats": {
          "unique_count": 9,
          "nan_count": 0,
          "categories": [
           {
            "name": "GridSearchCV(cv=ShuffleSplit(n_splits=5, random_state=12345, test_size=0.2, train_size=None),\n             estimator=MultinomialNB(), param_grid={})",
            "count": 3
           },
           {
            "name": "GridSearchCV(cv=ShuffleSplit(n_splits=5, random_state=12345, test_size=0.2, train_size=None),\n             estimator=LogisticRegression(),\n             param_grid={'C': [0.001, 0.01, 0.1, 1, 10, 100, 1000],\n                         'penalty': ['l1', 'l2']})",
            "count": 3
           },
           {
            "name": "2 others",
            "count": 3
           }
          ]
         }
        },
        {
         "name": "score",
         "dtype": "object",
         "stats": {
          "unique_count": 8,
          "nan_count": 0,
          "categories": [
           {
            "name": "0.9431818181818182",
            "count": 2
           },
           {
            "name": "<class 'sklearn.svm._classes.SVC'>",
            "count": 1
           },
           {
            "name": "6 others",
            "count": 6
           }
          ]
         }
        },
        {
         "name": "_deepnote_index_column",
         "dtype": "int64"
        }
       ],
       "rows": [
        {
         "model_name": "<class 'sklearn.svm._classes.SVC'>",
         "model_object": "<class 'sklearn.svm._classes.SVC'>",
         "score": "<class 'sklearn.svm._classes.SVC'>",
         "_deepnote_index_column": 0
        },
        {
         "model_name": "Baseline Model 2: Naiive Bayes",
         "model_object": "GridSearchCV(cv=ShuffleSplit(n_splits=5, random_state=12345, test_size=0.2, train_size=None),\n     …",
         "score": "0.8946969696969697",
         "_deepnote_index_column": 1
        },
        {
         "model_name": "Baseline Model 3: MaxEnt Classifier",
         "model_object": "GridSearchCV(cv=ShuffleSplit(n_splits=5, random_state=12345, test_size=0.2, train_size=None),\n     …",
         "score": "0.9234848484848485",
         "_deepnote_index_column": 2
        },
        {
         "model_name": "SVC on pos-tagged text",
         "model_object": "GridSearchCV(cv=ShuffleSplit(n_splits=5, random_state=12345, test_size=0.2, train_size=None),\n     …",
         "score": "0.9159090909090909",
         "_deepnote_index_column": 3
        },
        {
         "model_name": "Naiive Bayes on pos-tagged text",
         "model_object": "GridSearchCV(cv=ShuffleSplit(n_splits=5, random_state=12345, test_size=0.2, train_size=None),\n     …",
         "score": "0.8977272727272727",
         "_deepnote_index_column": 4
        },
        {
         "model_name": "MaxEnt Classifier on pos-tagged text",
         "model_object": "GridSearchCV(cv=ShuffleSplit(n_splits=5, random_state=12345, test_size=0.2, train_size=None),\n     …",
         "score": "0.9272727272727272",
         "_deepnote_index_column": 5
        },
        {
         "model_name": "SVC on preprocessed+pos-tagged TF-IDF weighted text",
         "model_object": "GridSearchCV(cv=ShuffleSplit(n_splits=5, random_state=12345, test_size=0.2, train_size=None),\n     …",
         "score": "0.9431818181818182",
         "_deepnote_index_column": 6
        },
        {
         "model_name": "Naiive Bayes on preprocessed+pos-tagged TF-IDF weighted text",
         "model_object": "GridSearchCV(cv=ShuffleSplit(n_splits=5, random_state=12345, test_size=0.2, train_size=None),\n     …",
         "score": "0.8166666666666667",
         "_deepnote_index_column": 7
        },
        {
         "model_name": "MaxEnt on preprocessed+pos-tagged TF-IDF weighted text",
         "model_object": "GridSearchCV(cv=ShuffleSplit(n_splits=5, random_state=12345, test_size=0.2, train_size=None),\n     …",
         "score": "0.9431818181818182",
         "_deepnote_index_column": 8
        }
       ]
      },
      "text/plain": "                                          model_name  \\\n0                 <class 'sklearn.svm._classes.SVC'>   \n1                     Baseline Model 2: Naiive Bayes   \n2                Baseline Model 3: MaxEnt Classifier   \n3                             SVC on pos-tagged text   \n4                    Naiive Bayes on pos-tagged text   \n5               MaxEnt Classifier on pos-tagged text   \n6  SVC on preprocessed+pos-tagged TF-IDF weighted...   \n7  Naiive Bayes on preprocessed+pos-tagged TF-IDF...   \n8  MaxEnt on preprocessed+pos-tagged TF-IDF weigh...   \n\n                                        model_object  \\\n0                 <class 'sklearn.svm._classes.SVC'>   \n1  GridSearchCV(cv=ShuffleSplit(n_splits=5, rando...   \n2  GridSearchCV(cv=ShuffleSplit(n_splits=5, rando...   \n3  GridSearchCV(cv=ShuffleSplit(n_splits=5, rando...   \n4  GridSearchCV(cv=ShuffleSplit(n_splits=5, rando...   \n5  GridSearchCV(cv=ShuffleSplit(n_splits=5, rando...   \n6  GridSearchCV(cv=ShuffleSplit(n_splits=5, rando...   \n7  GridSearchCV(cv=ShuffleSplit(n_splits=5, rando...   \n8  GridSearchCV(cv=ShuffleSplit(n_splits=5, rando...   \n\n                                score  \n0  <class 'sklearn.svm._classes.SVC'>  \n1                            0.894697  \n2                            0.923485  \n3                            0.915909  \n4                            0.897727  \n5                            0.927273  \n6                            0.943182  \n7                            0.816667  \n8                            0.943182  ",
      "text/html": "<div>\n<style scoped>\n    .dataframe tbody tr th:only-of-type {\n        vertical-align: middle;\n    }\n\n    .dataframe tbody tr th {\n        vertical-align: top;\n    }\n\n    .dataframe thead th {\n        text-align: right;\n    }\n</style>\n<table border=\"1\" class=\"dataframe\">\n  <thead>\n    <tr style=\"text-align: right;\">\n      <th></th>\n      <th>model_name</th>\n      <th>model_object</th>\n      <th>score</th>\n    </tr>\n  </thead>\n  <tbody>\n    <tr>\n      <th>0</th>\n      <td>&lt;class 'sklearn.svm._classes.SVC'&gt;</td>\n      <td>&lt;class 'sklearn.svm._classes.SVC'&gt;</td>\n      <td>&lt;class 'sklearn.svm._classes.SVC'&gt;</td>\n    </tr>\n    <tr>\n      <th>1</th>\n      <td>Baseline Model 2: Naiive Bayes</td>\n      <td>GridSearchCV(cv=ShuffleSplit(n_splits=5, rando...</td>\n      <td>0.894697</td>\n    </tr>\n    <tr>\n      <th>2</th>\n      <td>Baseline Model 3: MaxEnt Classifier</td>\n      <td>GridSearchCV(cv=ShuffleSplit(n_splits=5, rando...</td>\n      <td>0.923485</td>\n    </tr>\n    <tr>\n      <th>3</th>\n      <td>SVC on pos-tagged text</td>\n      <td>GridSearchCV(cv=ShuffleSplit(n_splits=5, rando...</td>\n      <td>0.915909</td>\n    </tr>\n    <tr>\n      <th>4</th>\n      <td>Naiive Bayes on pos-tagged text</td>\n      <td>GridSearchCV(cv=ShuffleSplit(n_splits=5, rando...</td>\n      <td>0.897727</td>\n    </tr>\n    <tr>\n      <th>5</th>\n      <td>MaxEnt Classifier on pos-tagged text</td>\n      <td>GridSearchCV(cv=ShuffleSplit(n_splits=5, rando...</td>\n      <td>0.927273</td>\n    </tr>\n    <tr>\n      <th>6</th>\n      <td>SVC on preprocessed+pos-tagged TF-IDF weighted...</td>\n      <td>GridSearchCV(cv=ShuffleSplit(n_splits=5, rando...</td>\n      <td>0.943182</td>\n    </tr>\n    <tr>\n      <th>7</th>\n      <td>Naiive Bayes on preprocessed+pos-tagged TF-IDF...</td>\n      <td>GridSearchCV(cv=ShuffleSplit(n_splits=5, rando...</td>\n      <td>0.816667</td>\n    </tr>\n    <tr>\n      <th>8</th>\n      <td>MaxEnt on preprocessed+pos-tagged TF-IDF weigh...</td>\n      <td>GridSearchCV(cv=ShuffleSplit(n_splits=5, rando...</td>\n      <td>0.943182</td>\n    </tr>\n  </tbody>\n</table>\n</div>"
     },
     "metadata": {}
    }
   ]
  },
  {
   "cell_type": "markdown",
   "source": [
    "<h3 style=\"color:blue\">\n",
    "Using TF-IDF increased the score to ~94.5% with SVC and Max-Ent models.\n",
    "<br><br>\n",
    "Naive-Bayes rather decreased the score. Therefore we drop it from the pipeline.\n",
    "</h3>"
   ],
   "metadata": {
    "id": "b39Dmj0e3rlm",
    "cell_id": "00093-11484d2f-4931-40e6-9f93-36b95b2c54e5",
    "deepnote_cell_type": "markdown"
   }
  },
  {
   "cell_type": "markdown",
   "source": [
    "## 3. Use Bigram Vectorizer instead of regular vectorizer"
   ],
   "metadata": {
    "id": "Kuo17S-G3rlm",
    "cell_id": "00094-2a410107-785b-432b-9a1e-cfb484d46299",
    "deepnote_cell_type": "markdown"
   }
  },
  {
   "cell_type": "markdown",
   "source": [
    "For FE3, we use the Trigram vectorizer, which vectorizes **triplets of words** rather than each word separately. *In this short example sentence*, the trigrams are \"In this short\", \"this short example\" and \"short example sentence\"."
   ],
   "metadata": {
    "id": "nEB-49Ud3rln",
    "cell_id": "00095-1bebd0b9-f338-43b3-b330-46ae6f80e59e",
    "deepnote_cell_type": "markdown"
   }
  },
  {
   "cell_type": "code",
   "metadata": {
    "id": "hF-CW43X3rln",
    "cell_id": "00096-29bbc3b0-0b19-4c51-be7d-909a71b7be6f",
    "deepnote_to_be_reexecuted": false,
    "source_hash": "10f98eff",
    "execution_start": 1643887870213,
    "execution_millis": 17642,
    "deepnote_cell_type": "code"
   },
   "source": [
    "encoder, train, test, train_cv, train_holdout, train_cv_label, train_holdout_label = split_train_holdout_test(encoder, df, False)\n",
    "\n",
    "trigram_vect = CountVectorizer(analyzer = 'word', ngram_range=(1,2))\n",
    "\n",
    "trigram_vect = count_vect.fit(df.clean_and_pos_tagged_text)\n",
    "\n",
    "train_cv_vector = trigram_vect.transform(train_cv.clean_and_pos_tagged_text)\n",
    "train_holdout_vector = trigram_vect.transform(train_holdout.clean_and_pos_tagged_text)\n",
    "test_vector = trigram_vect.transform(test.clean_and_pos_tagged_text)"
   ],
   "execution_count": 74,
   "outputs": []
  },
  {
   "cell_type": "code",
   "metadata": {
    "id": "7ZzQraCW3rln",
    "cell_id": "00097-f5850150-ed3d-4056-ab46-2b8f1130e1bb",
    "deepnote_to_be_reexecuted": false,
    "source_hash": "8c351c0d",
    "execution_start": 1643887887866,
    "execution_millis": 110,
    "deepnote_cell_type": "code"
   },
   "source": [
    "tf_idf = TfidfTransformer(norm='l2')\n",
    "train_cv_bigram_tf_idf = tf_idf.fit_transform(train_cv_vector)\n",
    "train_holdout_bigram_tf_idf = tf_idf.fit_transform(train_holdout_vector)\n",
    "test_bigram_tf_idf = tf_idf.fit_transform(test_vector)"
   ],
   "execution_count": 75,
   "outputs": []
  },
  {
   "cell_type": "markdown",
   "source": [
    "### Rerun Models on preprocessed + pos-tagged (FE1) + TF-IDF weighted (FE2) + Trigram vectorized text (FE3)"
   ],
   "metadata": {
    "id": "Kz-VMLKm3rlo",
    "cell_id": "00098-6ad2cbf6-bb9f-4a43-ac00-6e8ffa82a0cf",
    "deepnote_cell_type": "markdown"
   }
  },
  {
   "cell_type": "markdown",
   "source": [
    "a. SVC with FE1, FE2 and FE3"
   ],
   "metadata": {
    "id": "hhCEak1n3rlo",
    "cell_id": "00099-2c8bffd0-683f-47f5-a43e-93b7134e7891",
    "deepnote_cell_type": "markdown"
   }
  },
  {
   "cell_type": "code",
   "metadata": {
    "colab": {
     "base_uri": "https://localhost:8080/",
     "height": 918
    },
    "id": "H8tW-1403rlo",
    "outputId": "ff354edb-4289-4331-cf9e-b716a8e8f737",
    "cell_id": "00100-11d8edd3-e73b-4319-ba4e-6a2cdacb317d",
    "deepnote_output_heights": [
     null,
     264
    ],
    "deepnote_to_be_reexecuted": false,
    "source_hash": "7875bb8d",
    "execution_start": 1643887887991,
    "execution_millis": 543760,
    "deepnote_cell_type": "code"
   },
   "source": [
    "SVC_trigram_tf_idf = run_model(encoder,\n",
    "               train_cv_bigram_tf_idf,\n",
    "               train_cv_label,\n",
    "               train_holdout_bigram_tf_idf,\n",
    "               train_holdout.label,\n",
    "               'svc',\n",
    "               'SVC on bigram vect.+ TF-IDF')\n",
    "models.loc[len(models)] = SVC_trigram_tf_idf"
   ],
   "execution_count": 76,
   "outputs": [
    {
     "name": "stdout",
     "text": "\u001B[31mSVC on bigram vect.+ TF-IDF\u001B[0m\n\u001B[33mGridSearchCV(cv=ShuffleSplit(n_splits=5, random_state=12345, test_size=0.2, train_size=None),\n             estimator=SVC(),\n             param_grid=[{'C': [1, 10, 50, 100], 'kernel': ['linear']},\n                         {'C': [10, 100, 500, 1000], 'gamma': [0.0001],\n                          'kernel': ['rbf']}])\u001B[0m\n\u001B[34m\nCV-scores\u001B[0m\nAccuracy: 0.937 (+/-0.024) for params: {'C': 10, 'kernel': 'linear'}\nAccuracy: 0.937 (+/-0.027) for params: {'C': 50, 'kernel': 'linear'}\nAccuracy: 0.937 (+/-0.027) for params: {'C': 100, 'kernel': 'linear'}\nAccuracy: 0.935 (+/-0.021) for params: {'C': 1, 'kernel': 'linear'}\nAccuracy: 0.895 (+/-0.009) for params: {'C': 1000, 'gamma': 0.0001, 'kernel': 'rbf'}\nAccuracy: 0.859 (+/-0.015) for params: {'C': 500, 'gamma': 0.0001, 'kernel': 'rbf'}\nAccuracy: 0.590 (+/-0.139) for params: {'C': 100, 'gamma': 0.0001, 'kernel': 'rbf'}\nAccuracy: 0.481 (+/-0.027) for params: {'C': 10, 'gamma': 0.0001, 'kernel': 'rbf'}\n\n\u001B[34m\nBest Estimator Params\u001B[0m\n\u001B[33mSVC(C=10, kernel='linear')\u001B[0m\n\u001B[34m\nPredictions:\u001B[0m\n['REAL' 'REAL' 'FAKE' ... 'REAL' 'FAKE' 'REAL']\n",
     "output_type": "stream"
    },
    {
     "data": {
      "text/plain": "<Figure size 396x288 with 2 Axes>",
      "image/png": "[encoded data removed]"
     },
     "metadata": {
      "needs_background": "light",
      "image/png": {
       "width": 343,
       "height": 262
      }
     },
     "output_type": "display_data"
    },
    {
     "name": "stdout",
     "text": "\u001B[34m\nAccuracy:\u001B[0m\n\u001B[32m0.9431818181818182\u001B[0m\n",
     "output_type": "stream"
    }
   ]
  },
  {
   "cell_type": "markdown",
   "source": [
    "b. maxEnt with FE1, FE2 and FE3"
   ],
   "metadata": {
    "id": "LLFtOLrH3rlp",
    "cell_id": "00101-a2ca747c-9500-4314-8bcc-28a1a1575283",
    "deepnote_cell_type": "markdown"
   }
  },
  {
   "cell_type": "code",
   "metadata": {
    "id": "iLAujaOP3rlp",
    "cell_id": "00102-1b1a429b-4eee-4108-9a6f-e66906000bd8",
    "deepnote_to_be_reexecuted": false,
    "source_hash": "22b747fd",
    "execution_start": 1643888431699,
    "execution_millis": 13459,
    "deepnote_cell_type": "code"
   },
   "source": [
    "encoder, train, test, train_cv, train_holdout, train_cv_label, train_holdout_label = split_train_holdout_test(encoder, df, False)\n",
    "\n",
    "trigram_vect = CountVectorizer(analyzer = 'word', ngram_range=(1,3))\n",
    "\n",
    "trigram_vect = count_vect.fit(df.clean_and_pos_tagged_text)\n",
    "\n",
    "train_cv_vector = trigram_vect.transform(train_cv.clean_and_pos_tagged_text)\n",
    "train_holdout_vector = trigram_vect.transform(train_holdout.clean_and_pos_tagged_text)"
   ],
   "execution_count": 77,
   "outputs": []
  },
  {
   "cell_type": "code",
   "metadata": {
    "id": "aQltMq8N3rlp",
    "cell_id": "00103-062ed53c-4e49-4f6e-98bb-415fec1c091f",
    "deepnote_to_be_reexecuted": false,
    "source_hash": "d759e10c",
    "execution_start": 1643888445168,
    "execution_millis": 52,
    "deepnote_cell_type": "code"
   },
   "source": [
    "tf_idf = TfidfTransformer(norm='l2')\n",
    "train_cv_trigram_tf_idf = tf_idf.fit_transform(train_cv_vector)\n",
    "train_holdout_trigram_tf_idf = tf_idf.fit_transform(train_holdout_vector)"
   ],
   "execution_count": 78,
   "outputs": []
  },
  {
   "cell_type": "code",
   "metadata": {
    "colab": {
     "base_uri": "https://localhost:8080/",
     "height": 1000
    },
    "id": "nGgSl0oS3rlq",
    "outputId": "2484697b-ab85-425c-c258-1a5f5ff7e3a1",
    "cell_id": "00104-f4f14e5d-ba21-4ac5-a4d7-fc0ba1ecf3cd",
    "deepnote_output_heights": [
     null,
     264
    ],
    "deepnote_to_be_reexecuted": false,
    "source_hash": "9f67dd50",
    "execution_start": 1643888445233,
    "execution_millis": 32785,
    "deepnote_cell_type": "code"
   },
   "source": [
    "maxEnt_tf_idf = run_model(encoder,\n",
    "               train_cv_trigram_tf_idf,\n",
    "               train_cv_label,\n",
    "               train_holdout_trigram_tf_idf,\n",
    "               train_holdout.label,\n",
    "              'maxEnt',\n",
    "              'MaxEnt on trigram vect.+ TF-IDF')\n",
    "models.loc[len(models)] = maxEnt_tf_idf"
   ],
   "execution_count": 79,
   "outputs": [
    {
     "name": "stdout",
     "text": "\u001B[31mMaxEnt on trigram vect.+ TF-IDF\u001B[0m\n\u001B[33mGridSearchCV(cv=ShuffleSplit(n_splits=5, random_state=12345, test_size=0.2, train_size=None),\n             estimator=LogisticRegression(),\n             param_grid={'C': [0.001, 0.01, 0.1, 1, 10, 100, 1000],\n                         'penalty': ['l1', 'l2']})\u001B[0m\n\u001B[34m\nCV-scores\u001B[0m\nAccuracy: nan (+/-nan) for params: {'C': 0.001, 'penalty': 'l1'}\nAccuracy: 0.554 (+/-0.147) for params: {'C': 0.001, 'penalty': 'l2'}\nAccuracy: nan (+/-nan) for params: {'C': 0.01, 'penalty': 'l1'}\nAccuracy: 0.749 (+/-0.021) for params: {'C': 0.01, 'penalty': 'l2'}\nAccuracy: nan (+/-nan) for params: {'C': 0.1, 'penalty': 'l1'}\nAccuracy: 0.831 (+/-0.023) for params: {'C': 0.1, 'penalty': 'l2'}\nAccuracy: nan (+/-nan) for params: {'C': 1, 'penalty': 'l1'}\nAccuracy: 0.907 (+/-0.004) for params: {'C': 1, 'penalty': 'l2'}\nAccuracy: nan (+/-nan) for params: {'C': 10, 'penalty': 'l1'}\nAccuracy: 0.931 (+/-0.022) for params: {'C': 10, 'penalty': 'l2'}\nAccuracy: nan (+/-nan) for params: {'C': 100, 'penalty': 'l1'}\nAccuracy: 0.939 (+/-0.026) for params: {'C': 100, 'penalty': 'l2'}\nAccuracy: nan (+/-nan) for params: {'C': 1000, 'penalty': 'l1'}\nAccuracy: 0.943 (+/-0.029) for params: {'C': 1000, 'penalty': 'l2'}\n\n\u001B[34m\nBest Estimator Params\u001B[0m\n\u001B[33mLogisticRegression(C=1000)\u001B[0m\n\u001B[34m\nPredictions:\u001B[0m\n['REAL' 'REAL' 'FAKE' ... 'REAL' 'FAKE' 'REAL']\n",
     "output_type": "stream"
    },
    {
     "data": {
      "text/plain": "<Figure size 396x288 with 2 Axes>",
      "image/png": "[encoded data removed]"
     },
     "metadata": {
      "needs_background": "light",
      "image/png": {
       "width": 343,
       "height": 262
      }
     },
     "output_type": "display_data"
    },
    {
     "name": "stdout",
     "text": "\u001B[34m\nAccuracy:\u001B[0m\n\u001B[32m0.9431818181818182\u001B[0m\n",
     "output_type": "stream"
    }
   ]
  },
  {
   "cell_type": "code",
   "metadata": {
    "id": "2GQd2dtN3rlq",
    "cell_id": "00105-7bae85ed-68f5-4b98-a5e4-9ec7fb25223d",
    "deepnote_to_be_reexecuted": false,
    "source_hash": "6d6890ff",
    "execution_start": 1643888477858,
    "execution_millis": 174,
    "deepnote_table_state": {
     "pageSize": 10,
     "pageIndex": 1,
     "filters": [],
     "sortBy": []
    },
    "deepnote_table_loading": false,
    "deepnote_cell_type": "code"
   },
   "source": [
    "models"
   ],
   "execution_count": 80,
   "outputs": [
    {
     "output_type": "execute_result",
     "execution_count": 80,
     "data": {
      "application/vnd.deepnote.dataframe.v3+json": {
       "column_count": 3,
       "row_count": 11,
       "columns": [
        {
         "name": "model_name",
         "dtype": "object",
         "stats": {
          "unique_count": 11,
          "nan_count": 0,
          "categories": [
           {
            "name": "<class 'sklearn.svm._classes.SVC'>",
            "count": 1
           },
           {
            "name": "Baseline Model 2: Naiive Bayes",
            "count": 1
           },
           {
            "name": "9 others",
            "count": 9
           }
          ]
         }
        },
        {
         "name": "model_object",
         "dtype": "object",
         "stats": {
          "unique_count": 11,
          "nan_count": 0,
          "categories": [
           {
            "name": "GridSearchCV(cv=ShuffleSplit(n_splits=5, random_state=12345, test_size=0.2, train_size=None),\n             estimator=LogisticRegression(),\n             param_grid={'C': [0.001, 0.01, 0.1, 1, 10, 100, 1000],\n                         'penalty': ['l1', 'l2']})",
            "count": 4
           },
           {
            "name": "GridSearchCV(cv=ShuffleSplit(n_splits=5, random_state=12345, test_size=0.2, train_size=None),\n             estimator=MultinomialNB(), param_grid={})",
            "count": 3
           },
           {
            "name": "2 others",
            "count": 4
           }
          ]
         }
        },
        {
         "name": "score",
         "dtype": "object",
         "stats": {
          "unique_count": 8,
          "nan_count": 0,
          "categories": [
           {
            "name": "0.9431818181818182",
            "count": 4
           },
           {
            "name": "<class 'sklearn.svm._classes.SVC'>",
            "count": 1
           },
           {
            "name": "6 others",
            "count": 6
           }
          ]
         }
        },
        {
         "name": "_deepnote_index_column",
         "dtype": "int64"
        }
       ],
       "rows": [
        {
         "model_name": "MaxEnt on trigram vect.+ TF-IDF",
         "model_object": "GridSearchCV(cv=ShuffleSplit(n_splits=5, random_state=12345, test_size=0.2, train_size=None),\n     …",
         "score": "0.9431818181818182",
         "_deepnote_index_column": 10
        }
       ]
      },
      "text/plain": "                                           model_name  \\\n0                  <class 'sklearn.svm._classes.SVC'>   \n1                      Baseline Model 2: Naiive Bayes   \n2                 Baseline Model 3: MaxEnt Classifier   \n3                              SVC on pos-tagged text   \n4                     Naiive Bayes on pos-tagged text   \n5                MaxEnt Classifier on pos-tagged text   \n6   SVC on preprocessed+pos-tagged TF-IDF weighted...   \n7   Naiive Bayes on preprocessed+pos-tagged TF-IDF...   \n8   MaxEnt on preprocessed+pos-tagged TF-IDF weigh...   \n9                         SVC on bigram vect.+ TF-IDF   \n10                    MaxEnt on trigram vect.+ TF-IDF   \n\n                                         model_object  \\\n0                  <class 'sklearn.svm._classes.SVC'>   \n1   GridSearchCV(cv=ShuffleSplit(n_splits=5, rando...   \n2   GridSearchCV(cv=ShuffleSplit(n_splits=5, rando...   \n3   GridSearchCV(cv=ShuffleSplit(n_splits=5, rando...   \n4   GridSearchCV(cv=ShuffleSplit(n_splits=5, rando...   \n5   GridSearchCV(cv=ShuffleSplit(n_splits=5, rando...   \n6   GridSearchCV(cv=ShuffleSplit(n_splits=5, rando...   \n7   GridSearchCV(cv=ShuffleSplit(n_splits=5, rando...   \n8   GridSearchCV(cv=ShuffleSplit(n_splits=5, rando...   \n9   GridSearchCV(cv=ShuffleSplit(n_splits=5, rando...   \n10  GridSearchCV(cv=ShuffleSplit(n_splits=5, rando...   \n\n                                 score  \n0   <class 'sklearn.svm._classes.SVC'>  \n1                             0.894697  \n2                             0.923485  \n3                             0.915909  \n4                             0.897727  \n5                             0.927273  \n6                             0.943182  \n7                             0.816667  \n8                             0.943182  \n9                             0.943182  \n10                            0.943182  ",
      "text/html": "<div>\n<style scoped>\n    .dataframe tbody tr th:only-of-type {\n        vertical-align: middle;\n    }\n\n    .dataframe tbody tr th {\n        vertical-align: top;\n    }\n\n    .dataframe thead th {\n        text-align: right;\n    }\n</style>\n<table border=\"1\" class=\"dataframe\">\n  <thead>\n    <tr style=\"text-align: right;\">\n      <th></th>\n      <th>model_name</th>\n      <th>model_object</th>\n      <th>score</th>\n    </tr>\n  </thead>\n  <tbody>\n    <tr>\n      <th>0</th>\n      <td>&lt;class 'sklearn.svm._classes.SVC'&gt;</td>\n      <td>&lt;class 'sklearn.svm._classes.SVC'&gt;</td>\n      <td>&lt;class 'sklearn.svm._classes.SVC'&gt;</td>\n    </tr>\n    <tr>\n      <th>1</th>\n      <td>Baseline Model 2: Naiive Bayes</td>\n      <td>GridSearchCV(cv=ShuffleSplit(n_splits=5, rando...</td>\n      <td>0.894697</td>\n    </tr>\n    <tr>\n      <th>2</th>\n      <td>Baseline Model 3: MaxEnt Classifier</td>\n      <td>GridSearchCV(cv=ShuffleSplit(n_splits=5, rando...</td>\n      <td>0.923485</td>\n    </tr>\n    <tr>\n      <th>3</th>\n      <td>SVC on pos-tagged text</td>\n      <td>GridSearchCV(cv=ShuffleSplit(n_splits=5, rando...</td>\n      <td>0.915909</td>\n    </tr>\n    <tr>\n      <th>4</th>\n      <td>Naiive Bayes on pos-tagged text</td>\n      <td>GridSearchCV(cv=ShuffleSplit(n_splits=5, rando...</td>\n      <td>0.897727</td>\n    </tr>\n    <tr>\n      <th>5</th>\n      <td>MaxEnt Classifier on pos-tagged text</td>\n      <td>GridSearchCV(cv=ShuffleSplit(n_splits=5, rando...</td>\n      <td>0.927273</td>\n    </tr>\n    <tr>\n      <th>6</th>\n      <td>SVC on preprocessed+pos-tagged TF-IDF weighted...</td>\n      <td>GridSearchCV(cv=ShuffleSplit(n_splits=5, rando...</td>\n      <td>0.943182</td>\n    </tr>\n    <tr>\n      <th>7</th>\n      <td>Naiive Bayes on preprocessed+pos-tagged TF-IDF...</td>\n      <td>GridSearchCV(cv=ShuffleSplit(n_splits=5, rando...</td>\n      <td>0.816667</td>\n    </tr>\n    <tr>\n      <th>8</th>\n      <td>MaxEnt on preprocessed+pos-tagged TF-IDF weigh...</td>\n      <td>GridSearchCV(cv=ShuffleSplit(n_splits=5, rando...</td>\n      <td>0.943182</td>\n    </tr>\n    <tr>\n      <th>9</th>\n      <td>SVC on bigram vect.+ TF-IDF</td>\n      <td>GridSearchCV(cv=ShuffleSplit(n_splits=5, rando...</td>\n      <td>0.943182</td>\n    </tr>\n    <tr>\n      <th>10</th>\n      <td>MaxEnt on trigram vect.+ TF-IDF</td>\n      <td>GridSearchCV(cv=ShuffleSplit(n_splits=5, rando...</td>\n      <td>0.943182</td>\n    </tr>\n  </tbody>\n</table>\n</div>"
     },
     "metadata": {}
    }
   ]
  },
  {
   "cell_type": "markdown",
   "source": [
    "<h3 style=\"color:blue\">\n",
    "It looks like the \"MaxEnt on trigram vect.+ TF-IDF\" is the best model with the highest score. We will use it to predict and classify the testset.\n",
    "</h3>"
   ],
   "metadata": {
    "id": "PYu4YF7y3rlq",
    "cell_id": "00106-d5534fbe-3706-46fc-876c-6a8311556012",
    "deepnote_cell_type": "markdown"
   }
  },
  {
   "cell_type": "markdown",
   "source": [
    "# Predicting on test dataset"
   ],
   "metadata": {
    "id": "ZCz7Pqjd3rlq",
    "cell_id": "00107-7c1a0648-ac39-4c3d-baa0-fab2d46ee17d",
    "deepnote_cell_type": "markdown"
   }
  },
  {
   "cell_type": "markdown",
   "source": [
    "## 1. Train on whole data and predict on test"
   ],
   "metadata": {
    "id": "nbpHULDJ3rlr",
    "cell_id": "00108-061ba12c-2ca6-4f60-82bb-1409448c876a",
    "deepnote_cell_type": "markdown"
   }
  },
  {
   "cell_type": "markdown",
   "source": [
    "### PREPROCESSED data"
   ],
   "metadata": {
    "id": "pqQnE7ey3rlr",
    "cell_id": "00109-066291dd-e14f-49cd-862b-6567fc3c67f3",
    "deepnote_cell_type": "markdown"
   }
  },
  {
   "cell_type": "code",
   "metadata": {
    "id": "uKQiwdou3rlr",
    "cell_id": "00110-e64615d5-4977-4094-b0f5-17283e399cd1",
    "deepnote_to_be_reexecuted": false,
    "source_hash": "1cee79be",
    "execution_start": 1643888477982,
    "execution_millis": 988,
    "deepnote_cell_type": "code"
   },
   "source": [
    "test = pd.read_csv('ai/dataset/fiability_test.csv')\n",
    "train = pd.read_csv('ai/dataset/fiability_train_cleaned.csv')"
   ],
   "execution_count": 81,
   "outputs": []
  },
  {
   "cell_type": "code",
   "metadata": {
    "id": "aDx53GBB3rlr",
    "cell_id": "00111-23fb49f4-b40c-451f-8093-dd25382e7ff4",
    "deepnote_to_be_reexecuted": false,
    "source_hash": "a3875760",
    "execution_start": 1643888479026,
    "execution_millis": 182541,
    "deepnote_cell_type": "code"
   },
   "source": [
    "train['title_and_text'] = train['title'] +' '+ train['text']\n",
    "train['preprocessed_text'] = train['title_and_text'].apply(lambda x: preprocess(x))"
   ],
   "execution_count": 82,
   "outputs": []
  },
  {
   "cell_type": "code",
   "metadata": {
    "id": "XKyVXDeb3rls",
    "cell_id": "00112-07c73b28-6e59-40f1-81c2-075c6c3cdf85",
    "deepnote_to_be_reexecuted": false,
    "source_hash": "e3867275",
    "execution_start": 1643888661611,
    "execution_millis": 102251,
    "deepnote_cell_type": "code"
   },
   "source": [
    "test['title_and_text'] = test['title'] +' '+ test['text']\n",
    "test['preprocessed_text'] = test['title_and_text'].apply(lambda x: preprocess(x))"
   ],
   "execution_count": 83,
   "outputs": []
  },
  {
   "cell_type": "code",
   "metadata": {
    "id": "6d756A3f3rls",
    "cell_id": "00113-7c722df1-702c-4dad-9d44-9d184b5a4185",
    "deepnote_to_be_reexecuted": false,
    "source_hash": "476785e4",
    "execution_start": 1643888763863,
    "execution_millis": 325,
    "deepnote_cell_type": "code"
   },
   "source": [
    "test.head()"
   ],
   "execution_count": 84,
   "outputs": [
    {
     "output_type": "execute_result",
     "execution_count": 84,
     "data": {
      "application/vnd.deepnote.dataframe.v3+json": {
       "column_count": 5,
       "row_count": 5,
       "columns": [
        {
         "name": "ID",
         "dtype": "int64",
         "stats": {
          "unique_count": 5,
          "nan_count": 0,
          "min": "662",
          "max": "10498",
          "histogram": [
           {
            "bin_start": 662,
            "bin_end": 1645.6,
            "count": 2
           },
           {
            "bin_start": 1645.6,
            "bin_end": 2629.2,
            "count": 1
           },
           {
            "bin_start": 2629.2,
            "bin_end": 3612.8,
            "count": 0
           },
           {
            "bin_start": 3612.8,
            "bin_end": 4596.4,
            "count": 1
           },
           {
            "bin_start": 4596.4,
            "bin_end": 5580,
            "count": 0
           },
           {
            "bin_start": 5580,
            "bin_end": 6563.6,
            "count": 0
           },
           {
            "bin_start": 6563.6,
            "bin_end": 7547.2,
            "count": 0
           },
           {
            "bin_start": 7547.2,
            "bin_end": 8530.8,
            "count": 0
           },
           {
            "bin_start": 8530.8,
            "bin_end": 9514.4,
            "count": 0
           },
           {
            "bin_start": 9514.4,
            "bin_end": 10498,
            "count": 1
           }
          ]
         }
        },
        {
         "name": "title",
         "dtype": "object",
         "stats": {
          "unique_count": 5,
          "nan_count": 0,
          "categories": [
           {
            "name": "September New Homes Sales Rise——-Back To 1992 Level!",
            "count": 1
           },
           {
            "name": "Why The Obamacare Doomsday Cult Can't Admit It's Wrong",
            "count": 1
           },
           {
            "name": "3 others",
            "count": 3
           }
          ]
         }
        },
        {
         "name": "text",
         "dtype": "object",
         "stats": {
          "unique_count": 5,
          "nan_count": 0,
          "categories": [
           {
            "name": "September New Homes Sales Rise Back To 1992 Level! By David Stockman. Posted On Wednesday, October 26th, 2016 \n\nDavid Stockman's Contra Corner is the only place where mainstream delusions and cant about the Warfare State, the Bailout State, Bubble Finance and Beltway Banditry are ripped, refuted and rebuked. Subscribe now to receive David Stockman’s latest posts by email each day as well as his model portfolio, Lee Adler’s Daily Data Dive and David’s personally curated insights and analysis from leading contrarian thinkers.",
            "count": 1
           },
           {
            "name": "But when Congress debated and passed the Patient Protection and Affordable Care Act in 2009 and 2010, opponents were nearly unified in offering grim Keech-like predictions. With Obamacare now in full effect, and the economy on a decided upswing, the dour prognostications are starting to look like Keech's flying saucers. At least if you believe the data. A look at Festinger's theories, though, can explain why that won't matter, and why Americans can expect a continued drumbeat of doom, even as the prophecies fail.\n\n“It certainly has not had the baleful effects the critics were predicting,” said Paul Van de Water, a senior fellow at the Center on Budget and Policy Priorities who supports the law, but never thought it would have much economic impact. “On balance it may be a modest plus, to the extent that it has contributed to the slowdown of growth in health care costs.”\n\nBut that's not how Capitol Hill’s gloomsday cult sees it. Indeed, try getting any of them to admit the Affordable Care Act jobs slaughter has not happened, and they sound like the punchline to the old joke where a spouse gets caught in the act cheating: “Who are you going to believe -- me, or your lying eyes?”\n\n\"With politicians, you can’t be sure that what comes out of their mouths is really what’s in their head,\" said Elliot Aronson, one of Festinger’s former students who is regarded as the foremost expert on cognitive dissonance alive today. \"When it comes to politics, we have to really look closely.\"\n\nThe way cognitive dissonance works is that when people are confronted with information that contradicts either their beliefs or actions, they feel discomfort. To feel better, they either have to modify their beliefs and actions, or find some way to discount the disconfirming information. And the more effort someone invests in a particular action or idea, the greater the lengths they will go in crafting justifications to ease their discomfort.\n\nAronson and co-author Carol Tavris looked closely at that phenomenon in their 2007 book, Mistakes Were Made (but not by me). Among the examples are prosecutors who insist that people cleared by DNA evidence are still guilty; scientists who insist results that agree with funders’ interests could not have been swayed, and people who like an idea from their political party, but dislike the same idea if told it came from the opposition party.\n\nIndeed, committing to a specific ideology can make it much harder to see facts clearly, let alone acknowledge them. Aronson noted that it’s especially hard for people who spent the last five years opposing a specific policy. “These guys are so committed to the belief that Obama can’t do anything right, and that Obamacare is socialism, that it would be very, very difficult for them to examine the data objectively,\" he said. \"I think that’s what’s wrong with politics, that’s what’s wrong with ideology, that’s what’s wrong with politics that are ideologically driven.”\n\n“One could create some line of argument that the economy would be much, much stronger without the ACA, but that really seems to be a stretch,” said Van de Water, the economist. “We have a very large economy. Even as important as the Affordable Care Act is, it’s working on a major sector of the economy, but only at the margins. Even in advance, one would have thought it wasn’t going to have a huge effect.”",
            "count": 1
           },
           {
            "name": "3 others",
            "count": 3
           }
          ]
         }
        },
        {
         "name": "title_and_text",
         "dtype": "object",
         "stats": {
          "unique_count": 5,
          "nan_count": 0,
          "categories": [
           {
            "name": "September New Homes Sales Rise——-Back To 1992 Level! September New Homes Sales Rise Back To 1992 Level! By David Stockman. Posted On Wednesday, October 26th, 2016 \n\nDavid Stockman's Contra Corner is the only place where mainstream delusions and cant about the Warfare State, the Bailout State, Bubble Finance and Beltway Banditry are ripped, refuted and rebuked. Subscribe now to receive David Stockman’s latest posts by email each day as well as his model portfolio, Lee Adler’s Daily Data Dive and David’s personally curated insights and analysis from leading contrarian thinkers.",
            "count": 1
           },
           {
            "name": "Why The Obamacare Doomsday Cult Can't Admit It's Wrong But when Congress debated and passed the Patient Protection and Affordable Care Act in 2009 and 2010, opponents were nearly unified in offering grim Keech-like predictions. With Obamacare now in full effect, and the economy on a decided upswing, the dour prognostications are starting to look like Keech's flying saucers. At least if you believe the data. A look at Festinger's theories, though, can explain why that won't matter, and why Americans can expect a continued drumbeat of doom, even as the prophecies fail.\n\n“It certainly has not had the baleful effects the critics were predicting,” said Paul Van de Water, a senior fellow at the Center on Budget and Policy Priorities who supports the law, but never thought it would have much economic impact. “On balance it may be a modest plus, to the extent that it has contributed to the slowdown of growth in health care costs.”\n\nBut that's not how Capitol Hill’s gloomsday cult sees it. Indeed, try getting any of them to admit the Affordable Care Act jobs slaughter has not happened, and they sound like the punchline to the old joke where a spouse gets caught in the act cheating: “Who are you going to believe -- me, or your lying eyes?”\n\n\"With politicians, you can’t be sure that what comes out of their mouths is really what’s in their head,\" said Elliot Aronson, one of Festinger’s former students who is regarded as the foremost expert on cognitive dissonance alive today. \"When it comes to politics, we have to really look closely.\"\n\nThe way cognitive dissonance works is that when people are confronted with information that contradicts either their beliefs or actions, they feel discomfort. To feel better, they either have to modify their beliefs and actions, or find some way to discount the disconfirming information. And the more effort someone invests in a particular action or idea, the greater the lengths they will go in crafting justifications to ease their discomfort.\n\nAronson and co-author Carol Tavris looked closely at that phenomenon in their 2007 book, Mistakes Were Made (but not by me). Among the examples are prosecutors who insist that people cleared by DNA evidence are still guilty; scientists who insist results that agree with funders’ interests could not have been swayed, and people who like an idea from their political party, but dislike the same idea if told it came from the opposition party.\n\nIndeed, committing to a specific ideology can make it much harder to see facts clearly, let alone acknowledge them. Aronson noted that it’s especially hard for people who spent the last five years opposing a specific policy. “These guys are so committed to the belief that Obama can’t do anything right, and that Obamacare is socialism, that it would be very, very difficult for them to examine the data objectively,\" he said. \"I think that’s what’s wrong with politics, that’s what’s wrong with ideology, that’s what’s wrong with politics that are ideologically driven.”\n\n“One could create some line of argument that the economy would be much, much stronger without the ACA, but that really seems to be a stretch,” said Van de Water, the economist. “We have a very large economy. Even as important as the Affordable Care Act is, it’s working on a major sector of the economy, but only at the margins. Even in advance, one would have thought it wasn’t going to have a huge effect.”",
            "count": 1
           },
           {
            "name": "3 others",
            "count": 3
           }
          ]
         }
        },
        {
         "name": "preprocessed_text",
         "dtype": "object",
         "stats": {
          "unique_count": 5,
          "nan_count": 0,
          "categories": [
           {
            "name": "september new home sale rise——-back level september new home sale rise back level david stockman post wednesday october \n\ndavid stockman's contra corner place mainstream delusion cant warfare state bailout state bubble finance beltway banditry rip refute rebuked subscribe receive david stockman’s late post email day well model portfolio lee adler’s daily data dive david’s personally curated insight analysis lead contrarian thinker",
            "count": 1
           },
           {
            "name": "obamacare doomsday cult can't admit wrong congress debate pass patient protection affordable care act opponent nearly unified offering grim keech-like prediction obamacare full effect economy decide upswing dour prognostication start look like keech's fly saucer least believe data look festinger's theory though explain matter american expect continue drumbeat doom even prophecies fail.\n\n“it certainly baleful effect critic predicting,” say paul van de water senior fellow center budget policy priority support law never think would much economic impact “on balance may modest plus extent contribute slowdown growth health care costs.”\n\nbut that's capitol hill’s gloomsday cult see indeed try get admit affordable care act job slaughter happen sound like punchline old joke spouse get catch act cheat “who go believe lie eyes?”\n\n\"with politician can’t sure come mouth really what’s head say elliot aronson one festinger’s former student regard foremost expert cognitive dissonance alive today come politics really look closely.\"\n\nthe way cognitive dissonance work people confront information contradicts either beliefs action feel discomfort feel well either modify beliefs action find way discount disconfirming information effort someone invest particular action idea great length go craft justification ease discomfort.\n\naronson co-author carol tavris look closely phenomenon book mistake make among examples prosecutor insist people clear dna evidence still guilty scientist insist result agree funders’ interest could sway people like idea political party dislike idea tell come opposition party.\n\nindeed commit specific ideology make much hard see fact clearly let alone acknowledge aronson note it’s especially hard people spend last five year oppose specific policy “these guy commit belief obama can’t anything right obamacare socialism would difficult examine data objectively say think that’s what’s wrong politics that’s what’s wrong ideology that’s what’s wrong politics ideologically driven.”\n\n“one could create line argument economy would much much strong without aca really seem stretch,” say van de water economist “we large economy even important affordable care act it’s work major sector economy margin even advance one would think wasn’t go huge effect.”",
            "count": 1
           },
           {
            "name": "3 others",
            "count": 3
           }
          ]
         }
        },
        {
         "name": "_deepnote_index_column",
         "dtype": "int64"
        }
       ],
       "rows": [
        {
         "ID": 10498,
         "title": "September New Homes Sales Rise——-Back To 1992 Level!",
         "text": "September New Homes Sales Rise Back To 1992 Level! By David Stockman. Posted On Wednesday, October …",
         "title_and_text": "September New Homes Sales Rise——-Back To 1992 Level! September New Homes Sales Rise Back To 1992 Le…",
         "preprocessed_text": "september new home sale rise——-back level september new home sale rise back level david stockman po…",
         "_deepnote_index_column": 0
        },
        {
         "ID": 2439,
         "title": "Why The Obamacare Doomsday Cult Can't Admit It's Wrong",
         "text": "But when Congress debated and passed the Patient Protection and Affordable Care Act in 2009 and 201…",
         "title_and_text": "Why The Obamacare Doomsday Cult Can't Admit It's Wrong But when Congress debated and passed the Pat…",
         "preprocessed_text": "obamacare doomsday cult can't admit wrong congress debate pass patient protection affordable care a…",
         "_deepnote_index_column": 1
        },
        {
         "ID": 864,
         "title": "Sanders, Cruz resist pressure after NY losses, vow to fight to conventions",
         "text": "The Bernie Sanders and Ted Cruz campaigns vowed to fight all the way to their respective party conv…",
         "title_and_text": "Sanders, Cruz resist pressure after NY losses, vow to fight to conventions The Bernie Sanders and T…",
         "preprocessed_text": "sander cruz resist pressure ny loss vow fight convention bernie sander ted cruz campaign vow fight …",
         "_deepnote_index_column": 2
        },
        {
         "ID": 4128,
         "title": "Surviving escaped prisoner likely fatigued and prone to mistakes, police say",
         "text": "Police searching for the second of two escaped prisoners who pulled off an elaborate breakout from …",
         "title_and_text": "Surviving escaped prisoner likely fatigued and prone to mistakes, police say Police searching for t…",
         "preprocessed_text": "survive escape prisoner likely fatigue prone mistake police say police search second two escape pri…",
         "_deepnote_index_column": 3
        },
        {
         "ID": 662,
         "title": "Clinton and Sanders neck and neck in California primary",
         "text": "No matter who wins California's 475 delegates on Tuesday, Clinton may have to woo the state's Sande…",
         "title_and_text": "Clinton and Sanders neck and neck in California primary No matter who wins California's 475 delegat…",
         "preprocessed_text": "clinton sander neck neck california primary matter win california's delegate tuesday clinton may wo…",
         "_deepnote_index_column": 4
        }
       ]
      },
      "text/plain": "      ID                                              title  \\\n0  10498  September New Homes Sales Rise——-Back To 1992 ...   \n1   2439  Why The Obamacare Doomsday Cult Can't Admit It...   \n2    864  Sanders, Cruz resist pressure after NY losses,...   \n3   4128  Surviving escaped prisoner likely fatigued and...   \n4    662  Clinton and Sanders neck and neck in Californi...   \n\n                                                text  \\\n0  September New Homes Sales Rise Back To 1992 Le...   \n1  But when Congress debated and passed the Patie...   \n2  The Bernie Sanders and Ted Cruz campaigns vowe...   \n3  Police searching for the second of two escaped...   \n4  No matter who wins California's 475 delegates ...   \n\n                                      title_and_text  \\\n0  September New Homes Sales Rise——-Back To 1992 ...   \n1  Why The Obamacare Doomsday Cult Can't Admit It...   \n2  Sanders, Cruz resist pressure after NY losses,...   \n3  Surviving escaped prisoner likely fatigued and...   \n4  Clinton and Sanders neck and neck in Californi...   \n\n                                   preprocessed_text  \n0  september new home sale rise——-back level sept...  \n1  obamacare doomsday cult can't admit wrong cong...  \n2  sander cruz resist pressure ny loss vow fight ...  \n3  survive escape prisoner likely fatigue prone m...  \n4  clinton sander neck neck california primary ma...  ",
      "text/html": "<div>\n<style scoped>\n    .dataframe tbody tr th:only-of-type {\n        vertical-align: middle;\n    }\n\n    .dataframe tbody tr th {\n        vertical-align: top;\n    }\n\n    .dataframe thead th {\n        text-align: right;\n    }\n</style>\n<table border=\"1\" class=\"dataframe\">\n  <thead>\n    <tr style=\"text-align: right;\">\n      <th></th>\n      <th>ID</th>\n      <th>title</th>\n      <th>text</th>\n      <th>title_and_text</th>\n      <th>preprocessed_text</th>\n    </tr>\n  </thead>\n  <tbody>\n    <tr>\n      <th>0</th>\n      <td>10498</td>\n      <td>September New Homes Sales Rise——-Back To 1992 ...</td>\n      <td>September New Homes Sales Rise Back To 1992 Le...</td>\n      <td>September New Homes Sales Rise——-Back To 1992 ...</td>\n      <td>september new home sale rise——-back level sept...</td>\n    </tr>\n    <tr>\n      <th>1</th>\n      <td>2439</td>\n      <td>Why The Obamacare Doomsday Cult Can't Admit It...</td>\n      <td>But when Congress debated and passed the Patie...</td>\n      <td>Why The Obamacare Doomsday Cult Can't Admit It...</td>\n      <td>obamacare doomsday cult can't admit wrong cong...</td>\n    </tr>\n    <tr>\n      <th>2</th>\n      <td>864</td>\n      <td>Sanders, Cruz resist pressure after NY losses,...</td>\n      <td>The Bernie Sanders and Ted Cruz campaigns vowe...</td>\n      <td>Sanders, Cruz resist pressure after NY losses,...</td>\n      <td>sander cruz resist pressure ny loss vow fight ...</td>\n    </tr>\n    <tr>\n      <th>3</th>\n      <td>4128</td>\n      <td>Surviving escaped prisoner likely fatigued and...</td>\n      <td>Police searching for the second of two escaped...</td>\n      <td>Surviving escaped prisoner likely fatigued and...</td>\n      <td>survive escape prisoner likely fatigue prone m...</td>\n    </tr>\n    <tr>\n      <th>4</th>\n      <td>662</td>\n      <td>Clinton and Sanders neck and neck in Californi...</td>\n      <td>No matter who wins California's 475 delegates ...</td>\n      <td>Clinton and Sanders neck and neck in Californi...</td>\n      <td>clinton sander neck neck california primary ma...</td>\n    </tr>\n  </tbody>\n</table>\n</div>"
     },
     "metadata": {}
    }
   ]
  },
  {
   "cell_type": "code",
   "metadata": {
    "id": "mZ7uPzA_3rls",
    "cell_id": "00114-692a3d60-b8ec-4fe0-86b8-87024688b8d3",
    "deepnote_to_be_reexecuted": false,
    "source_hash": "e9118d39",
    "execution_start": 1643888763917,
    "execution_millis": 1737,
    "deepnote_cell_type": "code"
   },
   "source": [
    "## Save preprocessed df\n",
    "train.to_csv(\"ai/dataset/fiability_train_preprocessed.csv\", index=False)"
   ],
   "execution_count": 85,
   "outputs": []
  },
  {
   "cell_type": "code",
   "metadata": {
    "id": "Q1Xuzvi83rlt",
    "cell_id": "00115-c15721fb-2ee7-4ded-b161-78c3c9fd049a",
    "deepnote_to_be_reexecuted": false,
    "source_hash": "4151cfa6",
    "execution_start": 1643888765695,
    "execution_millis": 693,
    "deepnote_cell_type": "code"
   },
   "source": [
    "# Save preprocessed df\n",
    "test.to_csv(\"ai/dataset/fiability_test_preprocessed.csv\", index=False)"
   ],
   "execution_count": 86,
   "outputs": []
  },
  {
   "cell_type": "code",
   "metadata": {
    "id": "Y4UdeabC3rlt",
    "cell_id": "00116-d7ee8922-f0e5-4abf-90a6-147dc80a27fd",
    "deepnote_to_be_reexecuted": false,
    "source_hash": "f51247ce",
    "execution_start": 1643888766389,
    "execution_millis": 1009,
    "deepnote_cell_type": "code"
   },
   "source": [
    "train = pd.read_csv(\"ai/dataset/fiability_train_preprocessed.csv\")\n",
    "train = train.astype(object).replace(np.nan, 'None')\n",
    "\n",
    "test = pd.read_csv(\"ai/dataset/fiability_test_preprocessed.csv\")\n",
    "test = test.astype(object).replace(np.nan, 'None')"
   ],
   "execution_count": 87,
   "outputs": []
  },
  {
   "cell_type": "code",
   "metadata": {
    "id": "dxGNgcak3rlw",
    "cell_id": "00117-0d4f261e-d208-4b1e-9233-e88c2d602b1c",
    "deepnote_to_be_reexecuted": false,
    "source_hash": "712cd8da",
    "execution_start": 1643888767411,
    "execution_millis": 2,
    "deepnote_cell_type": "code"
   },
   "source": [
    "test = test.astype(object).replace(np.nan, 'None')"
   ],
   "execution_count": 88,
   "outputs": []
  },
  {
   "cell_type": "code",
   "metadata": {
    "id": "36gzEXXF3rlw",
    "cell_id": "00118-4664723f-cb9b-4200-b23b-2f012ebeb400",
    "deepnote_to_be_reexecuted": false,
    "source_hash": "476785e4",
    "execution_start": 1643888767445,
    "execution_millis": 28,
    "deepnote_cell_type": "code"
   },
   "source": [
    "test.head()"
   ],
   "execution_count": 89,
   "outputs": [
    {
     "output_type": "execute_result",
     "execution_count": 89,
     "data": {
      "application/vnd.deepnote.dataframe.v3+json": {
       "column_count": 5,
       "row_count": 5,
       "columns": [
        {
         "name": "ID",
         "dtype": "object",
         "stats": {
          "unique_count": 5,
          "nan_count": 0,
          "categories": [
           {
            "name": "10498",
            "count": 1
           },
           {
            "name": "2439",
            "count": 1
           },
           {
            "name": "3 others",
            "count": 3
           }
          ]
         }
        },
        {
         "name": "title",
         "dtype": "object",
         "stats": {
          "unique_count": 5,
          "nan_count": 0,
          "categories": [
           {
            "name": "September New Homes Sales Rise——-Back To 1992 Level!",
            "count": 1
           },
           {
            "name": "Why The Obamacare Doomsday Cult Can't Admit It's Wrong",
            "count": 1
           },
           {
            "name": "3 others",
            "count": 3
           }
          ]
         }
        },
        {
         "name": "text",
         "dtype": "object",
         "stats": {
          "unique_count": 5,
          "nan_count": 0,
          "categories": [
           {
            "name": "September New Homes Sales Rise Back To 1992 Level! By David Stockman. Posted On Wednesday, October 26th, 2016 \n\nDavid Stockman's Contra Corner is the only place where mainstream delusions and cant about the Warfare State, the Bailout State, Bubble Finance and Beltway Banditry are ripped, refuted and rebuked. Subscribe now to receive David Stockman’s latest posts by email each day as well as his model portfolio, Lee Adler’s Daily Data Dive and David’s personally curated insights and analysis from leading contrarian thinkers.",
            "count": 1
           },
           {
            "name": "But when Congress debated and passed the Patient Protection and Affordable Care Act in 2009 and 2010, opponents were nearly unified in offering grim Keech-like predictions. With Obamacare now in full effect, and the economy on a decided upswing, the dour prognostications are starting to look like Keech's flying saucers. At least if you believe the data. A look at Festinger's theories, though, can explain why that won't matter, and why Americans can expect a continued drumbeat of doom, even as the prophecies fail.\n\n“It certainly has not had the baleful effects the critics were predicting,” said Paul Van de Water, a senior fellow at the Center on Budget and Policy Priorities who supports the law, but never thought it would have much economic impact. “On balance it may be a modest plus, to the extent that it has contributed to the slowdown of growth in health care costs.”\n\nBut that's not how Capitol Hill’s gloomsday cult sees it. Indeed, try getting any of them to admit the Affordable Care Act jobs slaughter has not happened, and they sound like the punchline to the old joke where a spouse gets caught in the act cheating: “Who are you going to believe -- me, or your lying eyes?”\n\n\"With politicians, you can’t be sure that what comes out of their mouths is really what’s in their head,\" said Elliot Aronson, one of Festinger’s former students who is regarded as the foremost expert on cognitive dissonance alive today. \"When it comes to politics, we have to really look closely.\"\n\nThe way cognitive dissonance works is that when people are confronted with information that contradicts either their beliefs or actions, they feel discomfort. To feel better, they either have to modify their beliefs and actions, or find some way to discount the disconfirming information. And the more effort someone invests in a particular action or idea, the greater the lengths they will go in crafting justifications to ease their discomfort.\n\nAronson and co-author Carol Tavris looked closely at that phenomenon in their 2007 book, Mistakes Were Made (but not by me). Among the examples are prosecutors who insist that people cleared by DNA evidence are still guilty; scientists who insist results that agree with funders’ interests could not have been swayed, and people who like an idea from their political party, but dislike the same idea if told it came from the opposition party.\n\nIndeed, committing to a specific ideology can make it much harder to see facts clearly, let alone acknowledge them. Aronson noted that it’s especially hard for people who spent the last five years opposing a specific policy. “These guys are so committed to the belief that Obama can’t do anything right, and that Obamacare is socialism, that it would be very, very difficult for them to examine the data objectively,\" he said. \"I think that’s what’s wrong with politics, that’s what’s wrong with ideology, that’s what’s wrong with politics that are ideologically driven.”\n\n“One could create some line of argument that the economy would be much, much stronger without the ACA, but that really seems to be a stretch,” said Van de Water, the economist. “We have a very large economy. Even as important as the Affordable Care Act is, it’s working on a major sector of the economy, but only at the margins. Even in advance, one would have thought it wasn’t going to have a huge effect.”",
            "count": 1
           },
           {
            "name": "3 others",
            "count": 3
           }
          ]
         }
        },
        {
         "name": "title_and_text",
         "dtype": "object",
         "stats": {
          "unique_count": 5,
          "nan_count": 0,
          "categories": [
           {
            "name": "September New Homes Sales Rise——-Back To 1992 Level! September New Homes Sales Rise Back To 1992 Level! By David Stockman. Posted On Wednesday, October 26th, 2016 \n\nDavid Stockman's Contra Corner is the only place where mainstream delusions and cant about the Warfare State, the Bailout State, Bubble Finance and Beltway Banditry are ripped, refuted and rebuked. Subscribe now to receive David Stockman’s latest posts by email each day as well as his model portfolio, Lee Adler’s Daily Data Dive and David’s personally curated insights and analysis from leading contrarian thinkers.",
            "count": 1
           },
           {
            "name": "Why The Obamacare Doomsday Cult Can't Admit It's Wrong But when Congress debated and passed the Patient Protection and Affordable Care Act in 2009 and 2010, opponents were nearly unified in offering grim Keech-like predictions. With Obamacare now in full effect, and the economy on a decided upswing, the dour prognostications are starting to look like Keech's flying saucers. At least if you believe the data. A look at Festinger's theories, though, can explain why that won't matter, and why Americans can expect a continued drumbeat of doom, even as the prophecies fail.\n\n“It certainly has not had the baleful effects the critics were predicting,” said Paul Van de Water, a senior fellow at the Center on Budget and Policy Priorities who supports the law, but never thought it would have much economic impact. “On balance it may be a modest plus, to the extent that it has contributed to the slowdown of growth in health care costs.”\n\nBut that's not how Capitol Hill’s gloomsday cult sees it. Indeed, try getting any of them to admit the Affordable Care Act jobs slaughter has not happened, and they sound like the punchline to the old joke where a spouse gets caught in the act cheating: “Who are you going to believe -- me, or your lying eyes?”\n\n\"With politicians, you can’t be sure that what comes out of their mouths is really what’s in their head,\" said Elliot Aronson, one of Festinger’s former students who is regarded as the foremost expert on cognitive dissonance alive today. \"When it comes to politics, we have to really look closely.\"\n\nThe way cognitive dissonance works is that when people are confronted with information that contradicts either their beliefs or actions, they feel discomfort. To feel better, they either have to modify their beliefs and actions, or find some way to discount the disconfirming information. And the more effort someone invests in a particular action or idea, the greater the lengths they will go in crafting justifications to ease their discomfort.\n\nAronson and co-author Carol Tavris looked closely at that phenomenon in their 2007 book, Mistakes Were Made (but not by me). Among the examples are prosecutors who insist that people cleared by DNA evidence are still guilty; scientists who insist results that agree with funders’ interests could not have been swayed, and people who like an idea from their political party, but dislike the same idea if told it came from the opposition party.\n\nIndeed, committing to a specific ideology can make it much harder to see facts clearly, let alone acknowledge them. Aronson noted that it’s especially hard for people who spent the last five years opposing a specific policy. “These guys are so committed to the belief that Obama can’t do anything right, and that Obamacare is socialism, that it would be very, very difficult for them to examine the data objectively,\" he said. \"I think that’s what’s wrong with politics, that’s what’s wrong with ideology, that’s what’s wrong with politics that are ideologically driven.”\n\n“One could create some line of argument that the economy would be much, much stronger without the ACA, but that really seems to be a stretch,” said Van de Water, the economist. “We have a very large economy. Even as important as the Affordable Care Act is, it’s working on a major sector of the economy, but only at the margins. Even in advance, one would have thought it wasn’t going to have a huge effect.”",
            "count": 1
           },
           {
            "name": "3 others",
            "count": 3
           }
          ]
         }
        },
        {
         "name": "preprocessed_text",
         "dtype": "object",
         "stats": {
          "unique_count": 5,
          "nan_count": 0,
          "categories": [
           {
            "name": "september new home sale rise——-back level september new home sale rise back level david stockman post wednesday october \n\ndavid stockman's contra corner place mainstream delusion cant warfare state bailout state bubble finance beltway banditry rip refute rebuked subscribe receive david stockman’s late post email day well model portfolio lee adler’s daily data dive david’s personally curated insight analysis lead contrarian thinker",
            "count": 1
           },
           {
            "name": "obamacare doomsday cult can't admit wrong congress debate pass patient protection affordable care act opponent nearly unified offering grim keech-like prediction obamacare full effect economy decide upswing dour prognostication start look like keech's fly saucer least believe data look festinger's theory though explain matter american expect continue drumbeat doom even prophecies fail.\n\n“it certainly baleful effect critic predicting,” say paul van de water senior fellow center budget policy priority support law never think would much economic impact “on balance may modest plus extent contribute slowdown growth health care costs.”\n\nbut that's capitol hill’s gloomsday cult see indeed try get admit affordable care act job slaughter happen sound like punchline old joke spouse get catch act cheat “who go believe lie eyes?”\n\n\"with politician can’t sure come mouth really what’s head say elliot aronson one festinger’s former student regard foremost expert cognitive dissonance alive today come politics really look closely.\"\n\nthe way cognitive dissonance work people confront information contradicts either beliefs action feel discomfort feel well either modify beliefs action find way discount disconfirming information effort someone invest particular action idea great length go craft justification ease discomfort.\n\naronson co-author carol tavris look closely phenomenon book mistake make among examples prosecutor insist people clear dna evidence still guilty scientist insist result agree funders’ interest could sway people like idea political party dislike idea tell come opposition party.\n\nindeed commit specific ideology make much hard see fact clearly let alone acknowledge aronson note it’s especially hard people spend last five year oppose specific policy “these guy commit belief obama can’t anything right obamacare socialism would difficult examine data objectively say think that’s what’s wrong politics that’s what’s wrong ideology that’s what’s wrong politics ideologically driven.”\n\n“one could create line argument economy would much much strong without aca really seem stretch,” say van de water economist “we large economy even important affordable care act it’s work major sector economy margin even advance one would think wasn’t go huge effect.”",
            "count": 1
           },
           {
            "name": "3 others",
            "count": 3
           }
          ]
         }
        },
        {
         "name": "_deepnote_index_column",
         "dtype": "int64"
        }
       ],
       "rows": [
        {
         "ID": "10498",
         "title": "September New Homes Sales Rise——-Back To 1992 Level!",
         "text": "September New Homes Sales Rise Back To 1992 Level! By David Stockman. Posted On Wednesday, October …",
         "title_and_text": "September New Homes Sales Rise——-Back To 1992 Level! September New Homes Sales Rise Back To 1992 Le…",
         "preprocessed_text": "september new home sale rise——-back level september new home sale rise back level david stockman po…",
         "_deepnote_index_column": 0
        },
        {
         "ID": "2439",
         "title": "Why The Obamacare Doomsday Cult Can't Admit It's Wrong",
         "text": "But when Congress debated and passed the Patient Protection and Affordable Care Act in 2009 and 201…",
         "title_and_text": "Why The Obamacare Doomsday Cult Can't Admit It's Wrong But when Congress debated and passed the Pat…",
         "preprocessed_text": "obamacare doomsday cult can't admit wrong congress debate pass patient protection affordable care a…",
         "_deepnote_index_column": 1
        },
        {
         "ID": "864",
         "title": "Sanders, Cruz resist pressure after NY losses, vow to fight to conventions",
         "text": "The Bernie Sanders and Ted Cruz campaigns vowed to fight all the way to their respective party conv…",
         "title_and_text": "Sanders, Cruz resist pressure after NY losses, vow to fight to conventions The Bernie Sanders and T…",
         "preprocessed_text": "sander cruz resist pressure ny loss vow fight convention bernie sander ted cruz campaign vow fight …",
         "_deepnote_index_column": 2
        },
        {
         "ID": "4128",
         "title": "Surviving escaped prisoner likely fatigued and prone to mistakes, police say",
         "text": "Police searching for the second of two escaped prisoners who pulled off an elaborate breakout from …",
         "title_and_text": "Surviving escaped prisoner likely fatigued and prone to mistakes, police say Police searching for t…",
         "preprocessed_text": "survive escape prisoner likely fatigue prone mistake police say police search second two escape pri…",
         "_deepnote_index_column": 3
        },
        {
         "ID": "662",
         "title": "Clinton and Sanders neck and neck in California primary",
         "text": "No matter who wins California's 475 delegates on Tuesday, Clinton may have to woo the state's Sande…",
         "title_and_text": "Clinton and Sanders neck and neck in California primary No matter who wins California's 475 delegat…",
         "preprocessed_text": "clinton sander neck neck california primary matter win california's delegate tuesday clinton may wo…",
         "_deepnote_index_column": 4
        }
       ]
      },
      "text/plain": "      ID                                              title  \\\n0  10498  September New Homes Sales Rise——-Back To 1992 ...   \n1   2439  Why The Obamacare Doomsday Cult Can't Admit It...   \n2    864  Sanders, Cruz resist pressure after NY losses,...   \n3   4128  Surviving escaped prisoner likely fatigued and...   \n4    662  Clinton and Sanders neck and neck in Californi...   \n\n                                                text  \\\n0  September New Homes Sales Rise Back To 1992 Le...   \n1  But when Congress debated and passed the Patie...   \n2  The Bernie Sanders and Ted Cruz campaigns vowe...   \n3  Police searching for the second of two escaped...   \n4  No matter who wins California's 475 delegates ...   \n\n                                      title_and_text  \\\n0  September New Homes Sales Rise——-Back To 1992 ...   \n1  Why The Obamacare Doomsday Cult Can't Admit It...   \n2  Sanders, Cruz resist pressure after NY losses,...   \n3  Surviving escaped prisoner likely fatigued and...   \n4  Clinton and Sanders neck and neck in Californi...   \n\n                                   preprocessed_text  \n0  september new home sale rise——-back level sept...  \n1  obamacare doomsday cult can't admit wrong cong...  \n2  sander cruz resist pressure ny loss vow fight ...  \n3  survive escape prisoner likely fatigue prone m...  \n4  clinton sander neck neck california primary ma...  ",
      "text/html": "<div>\n<style scoped>\n    .dataframe tbody tr th:only-of-type {\n        vertical-align: middle;\n    }\n\n    .dataframe tbody tr th {\n        vertical-align: top;\n    }\n\n    .dataframe thead th {\n        text-align: right;\n    }\n</style>\n<table border=\"1\" class=\"dataframe\">\n  <thead>\n    <tr style=\"text-align: right;\">\n      <th></th>\n      <th>ID</th>\n      <th>title</th>\n      <th>text</th>\n      <th>title_and_text</th>\n      <th>preprocessed_text</th>\n    </tr>\n  </thead>\n  <tbody>\n    <tr>\n      <th>0</th>\n      <td>10498</td>\n      <td>September New Homes Sales Rise——-Back To 1992 ...</td>\n      <td>September New Homes Sales Rise Back To 1992 Le...</td>\n      <td>September New Homes Sales Rise——-Back To 1992 ...</td>\n      <td>september new home sale rise——-back level sept...</td>\n    </tr>\n    <tr>\n      <th>1</th>\n      <td>2439</td>\n      <td>Why The Obamacare Doomsday Cult Can't Admit It...</td>\n      <td>But when Congress debated and passed the Patie...</td>\n      <td>Why The Obamacare Doomsday Cult Can't Admit It...</td>\n      <td>obamacare doomsday cult can't admit wrong cong...</td>\n    </tr>\n    <tr>\n      <th>2</th>\n      <td>864</td>\n      <td>Sanders, Cruz resist pressure after NY losses,...</td>\n      <td>The Bernie Sanders and Ted Cruz campaigns vowe...</td>\n      <td>Sanders, Cruz resist pressure after NY losses,...</td>\n      <td>sander cruz resist pressure ny loss vow fight ...</td>\n    </tr>\n    <tr>\n      <th>3</th>\n      <td>4128</td>\n      <td>Surviving escaped prisoner likely fatigued and...</td>\n      <td>Police searching for the second of two escaped...</td>\n      <td>Surviving escaped prisoner likely fatigued and...</td>\n      <td>survive escape prisoner likely fatigue prone m...</td>\n    </tr>\n    <tr>\n      <th>4</th>\n      <td>662</td>\n      <td>Clinton and Sanders neck and neck in Californi...</td>\n      <td>No matter who wins California's 475 delegates ...</td>\n      <td>Clinton and Sanders neck and neck in Californi...</td>\n      <td>clinton sander neck neck california primary ma...</td>\n    </tr>\n  </tbody>\n</table>\n</div>"
     },
     "metadata": {}
    }
   ]
  },
  {
   "cell_type": "code",
   "metadata": {
    "id": "1QJI3IMS3rlw",
    "cell_id": "00119-c05e33f3-fc27-4f80-858c-ce398272c7a6",
    "deepnote_to_be_reexecuted": false,
    "source_hash": "e1f0b45",
    "execution_start": 1643888767491,
    "execution_millis": 61,
    "deepnote_cell_type": "code"
   },
   "source": [
    "train.head()"
   ],
   "execution_count": 90,
   "outputs": [
    {
     "output_type": "execute_result",
     "execution_count": 90,
     "data": {
      "application/vnd.deepnote.dataframe.v3+json": {
       "column_count": 8,
       "row_count": 5,
       "columns": [
        {
         "name": "ID",
         "dtype": "int64",
         "stats": {
          "unique_count": 5,
          "nan_count": 0,
          "min": "875",
          "max": "10294",
          "histogram": [
           {
            "bin_start": 875,
            "bin_end": 1816.9,
            "count": 1
           },
           {
            "bin_start": 1816.9,
            "bin_end": 2758.8,
            "count": 0
           },
           {
            "bin_start": 2758.8,
            "bin_end": 3700.7,
            "count": 1
           },
           {
            "bin_start": 3700.7,
            "bin_end": 4642.6,
            "count": 0
           },
           {
            "bin_start": 4642.6,
            "bin_end": 5584.5,
            "count": 0
           },
           {
            "bin_start": 5584.5,
            "bin_end": 6526.4,
            "count": 0
           },
           {
            "bin_start": 6526.4,
            "bin_end": 7468.3,
            "count": 0
           },
           {
            "bin_start": 7468.3,
            "bin_end": 8410.2,
            "count": 0
           },
           {
            "bin_start": 8410.2,
            "bin_end": 9352.1,
            "count": 1
           },
           {
            "bin_start": 9352.1,
            "bin_end": 10294,
            "count": 2
           }
          ]
         }
        },
        {
         "name": "title",
         "dtype": "object",
         "stats": {
          "unique_count": 5,
          "nan_count": 0,
          "categories": [
           {
            "name": "You Can Smell Hillary’s Fear",
            "count": 1
           },
           {
            "name": "Watch The Exact Moment Paul Ryan Committed Political Suicide At A Trump Rally (VIDEO)",
            "count": 1
           },
           {
            "name": "3 others",
            "count": 3
           }
          ]
         }
        },
        {
         "name": "text",
         "dtype": "object",
         "stats": {
          "unique_count": 5,
          "nan_count": 0,
          "categories": [
           {
            "name": "Daniel Greenfield | a Shillman Journalism Fellow at the Freedom Center | is a New York writer focusing on radical Islam. In the final stretch of the election | Hillary Rodham Clinton has gone to war with the FBI. The word “unprecedented” has been thrown around so often this election that it ought to be retired. But it’s still unprecedented for the nominee of a major political party to go war with the FBI. But that’s exactly what Hillary and her people have done. Coma patients just waking up now and watching an hour of CNN from their hospital beds would assume that FBI Director James Comey is Hillary’s opponent in this election. The FBI is under attack by everyone from Obama to CNN. Hillary’s people have circulated a letter attacking Comey. There are currently more media hit pieces lambasting him than targeting Trump. It wouldn’t be too surprising if the Clintons or their allies were to start running attack ads against the FBI. The FBI’s leadership is being warned that the entire left-wing establishment will form a lynch mob if they continue going after Hillary. And the FBI’s credibility is being attacked by the media and the Democrats to preemptively head off the results of the investigation of the Clinton Foundation and Hillary Clinton. The covert struggle between FBI agents and Obama’s DOJ people has gone explosively public. The New York Times has compared Comey to J. Edgar Hoover. Its bizarre headline | “James Comey Role Recalls Hoover’s FBI | Fairly or Not” practically admits up front that it’s spouting nonsense. The Boston Globe has published a column calling for Comey’s resignation. Not to be outdone | Time has an editorial claiming that the scandal is really an attack on all women. James Carville appeared on MSNBC to remind everyone that he was still alive and insane. He accused Comey of coordinating with House Republicans and the KGB. And you thought the “vast right wing conspiracy” was a stretch. Countless media stories charge Comey with violating procedure. Do you know what’s a procedural violation? Emailing classified information stored on your bathroom server. Senator Harry Reid has sent Comey a letter accusing him of violating the Hatch Act. The Hatch Act is a nice idea that has as much relevance in the age of Obama as the Tenth Amendment. But the cable news spectrum quickly filled with media hacks glancing at the Wikipedia article on the Hatch Act under the table while accusing the FBI director of one of the most awkward conspiracies against Hillary ever. If James Comey is really out to hurt Hillary | he picked one hell of a strange way to do it. Not too long ago Democrats were breathing a sigh of relief when he gave Hillary Clinton a pass in a prominent public statement. If he really were out to elect Trump by keeping the email scandal going | why did he trash the investigation? Was he on the payroll of House Republicans and the KGB back then and playing it coy or was it a sudden development where Vladimir Putin and Paul Ryan talked him into taking a look at Anthony Weiner’s computer? Either Comey is the most cunning FBI director that ever lived or he’s just awkwardly trying to navigate a political mess that has trapped him between a DOJ leadership whose political futures are tied to Hillary’s victory and his own bureau whose apolitical agents just want to be allowed to do their jobs. The only truly mysterious thing is why Hillary and her associates decided to go to war with a respected Federal agency. Most Americans like the FBI while Hillary Clinton enjoys a 60% unfavorable rating. And it’s an interesting question. Hillary’s old strategy was to lie and deny that the FBI even had a criminal investigation underway. Instead her associates insisted that it was a security review. The FBI corrected her and she shrugged it off. But the old breezy denial approach has given way to a savage assault on the FBI. Pretending that nothing was wrong was a bad strategy | but it was a better one that picking a fight with the FBI while lunatic Clinton associates try to claim that the FBI is really the KGB. There are two possible explanations. Hillary Clinton might be arrogant enough to lash out at the FBI now that she believes that victory is near. The same kind of hubris that led her to plan her victory fireworks display could lead her to declare a war on the FBI for irritating her during the final miles of her campaign. But the other explanation is that her people panicked. Going to war with the FBI is not the behavior of a smart and focused presidential campaign. It’s an act of desperation. When a presidential candidate decides that her only option is to try and destroy the credibility of the FBI | that’s not hubris | it’s fear of what the FBI might be about to reveal about her. During the original FBI investigation | Hillary Clinton was confident that she could ride it out. And she had good reason for believing that. But that Hillary Clinton is gone. In her place is a paranoid wreck. Within a short space of time the “positive” Clinton campaign promising to unite the country has been replaced by a desperate and flailing operation that has focused all its energy on fighting the FBI. There’s only one reason for such bizarre behavior. The Clinton campaign has decided that an FBI investigation of the latest batch of emails poses a threat to its survival. And so it’s gone all in on fighting the FBI. It’s an unprecedented step born of fear. It’s hard to know whether that fear is justified. But the existence of that fear already tells us a whole lot. Clinton loyalists rigged the old investigation. They knew the outcome ahead of time as well as they knew the debate questions. Now suddenly they are no longer in control. And they are afraid. You can smell the fear. The FBI has wiretaps from the investigation of the Clinton Foundation. It’s finding new emails all the time. And Clintonworld panicked. The spinmeisters of Clintonworld have claimed that the email scandal is just so much smoke without fire. All that’s here is the appearance of impropriety without any of the substance. But this isn’t how you react to smoke. It’s how you respond to a fire. The misguided assault on the FBI tells us that Hillary Clinton and her allies are afraid of a revelation bigger than the fundamental illegality of her email setup. The email setup was a preemptive cover up. The Clinton campaign has panicked badly out of the belief | right or wrong | that whatever crime the illegal setup was meant to cover up is at risk of being exposed. The Clintons have weathered countless scandals over the years. Whatever they are protecting this time around is bigger than the usual corruption | bribery | sexual assaults and abuses of power that have followed them around throughout the years. This is bigger and more damaging than any of the allegations that have already come out. And they don’t want FBI investigators anywhere near it. The campaign against Comey is pure intimidation. It’s also a warning. Any senior FBI people who value their careers are being warned to stay away. The Democrats are closing ranks around their nominee against the FBI. It’s an ugly and unprecedented scene. It may also be their last stand. Hillary Clinton has awkwardly wound her way through numerous scandals in just this election cycle. But she’s never shown fear or desperation before. Now that has changed. Whatever she is afraid of | it lies buried in her emails with Huma Abedin. And it can bring her down like nothing else has.  ",
            "count": 1
           },
           {
            "name": "Google Pinterest Digg Linkedin Reddit Stumbleupon Print Delicious Pocket Tumblr There are two fundamental truths in this world: Paul Ryan desperately wants to be president. And Paul Ryan will never be president. Today proved it. In a particularly staggering example of political cowardice | Paul Ryan re-re-re-reversed course and announced that he was back on the Trump Train after all. This was an aboutface from where he was a few weeks ago. He had previously declared he would not be supporting or defending Trump after a tape was made public in which Trump bragged about assaulting women. Suddenly | Ryan was appearing at a pro-Trump rally and boldly declaring that he already sent in his vote to make him President of the United States. It was a surreal moment. The figurehead of the Republican Party dosed himself in gasoline | got up on a stage on a chilly afternoon in Wisconsin | and lit a match. . @SpeakerRyan says he voted for @realDonaldTrump : “Republicans | it is time to come home” https://t.co/VyTT49YvoE pic.twitter.com/wCvSCg4a5I — ABC News Politics (@ABCPolitics) November 5 | 2016 The Democratic Party couldn’t have asked for a better moment of film. Ryan’s chances of ever becoming president went down to zero in an instant. In the wreckage Trump is to leave behind in his wake | those who cravenly backed his campaign will not recover. If Ryan’s career manages to limp all the way to 2020 | then the DNC will have this tape locked and loaded to be used in every ad until Election Day. The ringing endorsement of the man he clearly hates on a personal level speaks volumes about his own spinelessness. Ryan has postured himself as a “principled” conservative | and one uncomfortable with Trump’s unapologetic bigotry and sexism. However | when push came to shove | Paul Ryan – like many of his colleagues – turned into a sniveling appeaser. After all his lofty tak about conviction | his principles were a house of cards and collapsed with the slightest breeze. What’s especially bizarre is how close Ryan came to making it through unscathed. For months the Speaker of the House refused to comment on Trump at all. His strategy seemed to be to keep his head down | pretend Trump didn’t exist | and hope that nobody remembered what happened in 2016. Now | just days away from the election | he screwed it all up. If 2016’s very ugly election has done any good it’s by exposing the utter cowardice of the Republicans who once feigned moral courage. A reality television star spit on them | hijacked their party | insulted their wives | and got every last one of them to kneel before him. What a turn of events. Featured image via Twitter",
            "count": 1
           },
           {
            "name": "3 others",
            "count": 3
           }
          ]
         }
        },
        {
         "name": "label",
         "dtype": "object",
         "stats": {
          "unique_count": 2,
          "nan_count": 0,
          "categories": [
           {
            "name": "FAKE",
            "count": 3
           },
           {
            "name": "REAL",
            "count": 2
           }
          ]
         }
        },
        {
         "name": "X1",
         "dtype": "object",
         "stats": {
          "unique_count": 1,
          "nan_count": 0,
          "categories": [
           {
            "name": "None",
            "count": 5
           }
          ]
         }
        },
        {
         "name": "X2",
         "dtype": "object",
         "stats": {
          "unique_count": 1,
          "nan_count": 0,
          "categories": [
           {
            "name": "None",
            "count": 5
           }
          ]
         }
        },
        {
         "name": "title_and_text",
         "dtype": "object",
         "stats": {
          "unique_count": 5,
          "nan_count": 0,
          "categories": [
           {
            "name": "You Can Smell Hillary’s Fear Daniel Greenfield | a Shillman Journalism Fellow at the Freedom Center | is a New York writer focusing on radical Islam. In the final stretch of the election | Hillary Rodham Clinton has gone to war with the FBI. The word “unprecedented” has been thrown around so often this election that it ought to be retired. But it’s still unprecedented for the nominee of a major political party to go war with the FBI. But that’s exactly what Hillary and her people have done. Coma patients just waking up now and watching an hour of CNN from their hospital beds would assume that FBI Director James Comey is Hillary’s opponent in this election. The FBI is under attack by everyone from Obama to CNN. Hillary’s people have circulated a letter attacking Comey. There are currently more media hit pieces lambasting him than targeting Trump. It wouldn’t be too surprising if the Clintons or their allies were to start running attack ads against the FBI. The FBI’s leadership is being warned that the entire left-wing establishment will form a lynch mob if they continue going after Hillary. And the FBI’s credibility is being attacked by the media and the Democrats to preemptively head off the results of the investigation of the Clinton Foundation and Hillary Clinton. The covert struggle between FBI agents and Obama’s DOJ people has gone explosively public. The New York Times has compared Comey to J. Edgar Hoover. Its bizarre headline | “James Comey Role Recalls Hoover’s FBI | Fairly or Not” practically admits up front that it’s spouting nonsense. The Boston Globe has published a column calling for Comey’s resignation. Not to be outdone | Time has an editorial claiming that the scandal is really an attack on all women. James Carville appeared on MSNBC to remind everyone that he was still alive and insane. He accused Comey of coordinating with House Republicans and the KGB. And you thought the “vast right wing conspiracy” was a stretch. Countless media stories charge Comey with violating procedure. Do you know what’s a procedural violation? Emailing classified information stored on your bathroom server. Senator Harry Reid has sent Comey a letter accusing him of violating the Hatch Act. The Hatch Act is a nice idea that has as much relevance in the age of Obama as the Tenth Amendment. But the cable news spectrum quickly filled with media hacks glancing at the Wikipedia article on the Hatch Act under the table while accusing the FBI director of one of the most awkward conspiracies against Hillary ever. If James Comey is really out to hurt Hillary | he picked one hell of a strange way to do it. Not too long ago Democrats were breathing a sigh of relief when he gave Hillary Clinton a pass in a prominent public statement. If he really were out to elect Trump by keeping the email scandal going | why did he trash the investigation? Was he on the payroll of House Republicans and the KGB back then and playing it coy or was it a sudden development where Vladimir Putin and Paul Ryan talked him into taking a look at Anthony Weiner’s computer? Either Comey is the most cunning FBI director that ever lived or he’s just awkwardly trying to navigate a political mess that has trapped him between a DOJ leadership whose political futures are tied to Hillary’s victory and his own bureau whose apolitical agents just want to be allowed to do their jobs. The only truly mysterious thing is why Hillary and her associates decided to go to war with a respected Federal agency. Most Americans like the FBI while Hillary Clinton enjoys a 60% unfavorable rating. And it’s an interesting question. Hillary’s old strategy was to lie and deny that the FBI even had a criminal investigation underway. Instead her associates insisted that it was a security review. The FBI corrected her and she shrugged it off. But the old breezy denial approach has given way to a savage assault on the FBI. Pretending that nothing was wrong was a bad strategy | but it was a better one that picking a fight with the FBI while lunatic Clinton associates try to claim that the FBI is really the KGB. There are two possible explanations. Hillary Clinton might be arrogant enough to lash out at the FBI now that she believes that victory is near. The same kind of hubris that led her to plan her victory fireworks display could lead her to declare a war on the FBI for irritating her during the final miles of her campaign. But the other explanation is that her people panicked. Going to war with the FBI is not the behavior of a smart and focused presidential campaign. It’s an act of desperation. When a presidential candidate decides that her only option is to try and destroy the credibility of the FBI | that’s not hubris | it’s fear of what the FBI might be about to reveal about her. During the original FBI investigation | Hillary Clinton was confident that she could ride it out. And she had good reason for believing that. But that Hillary Clinton is gone. In her place is a paranoid wreck. Within a short space of time the “positive” Clinton campaign promising to unite the country has been replaced by a desperate and flailing operation that has focused all its energy on fighting the FBI. There’s only one reason for such bizarre behavior. The Clinton campaign has decided that an FBI investigation of the latest batch of emails poses a threat to its survival. And so it’s gone all in on fighting the FBI. It’s an unprecedented step born of fear. It’s hard to know whether that fear is justified. But the existence of that fear already tells us a whole lot. Clinton loyalists rigged the old investigation. They knew the outcome ahead of time as well as they knew the debate questions. Now suddenly they are no longer in control. And they are afraid. You can smell the fear. The FBI has wiretaps from the investigation of the Clinton Foundation. It’s finding new emails all the time. And Clintonworld panicked. The spinmeisters of Clintonworld have claimed that the email scandal is just so much smoke without fire. All that’s here is the appearance of impropriety without any of the substance. But this isn’t how you react to smoke. It’s how you respond to a fire. The misguided assault on the FBI tells us that Hillary Clinton and her allies are afraid of a revelation bigger than the fundamental illegality of her email setup. The email setup was a preemptive cover up. The Clinton campaign has panicked badly out of the belief | right or wrong | that whatever crime the illegal setup was meant to cover up is at risk of being exposed. The Clintons have weathered countless scandals over the years. Whatever they are protecting this time around is bigger than the usual corruption | bribery | sexual assaults and abuses of power that have followed them around throughout the years. This is bigger and more damaging than any of the allegations that have already come out. And they don’t want FBI investigators anywhere near it. The campaign against Comey is pure intimidation. It’s also a warning. Any senior FBI people who value their careers are being warned to stay away. The Democrats are closing ranks around their nominee against the FBI. It’s an ugly and unprecedented scene. It may also be their last stand. Hillary Clinton has awkwardly wound her way through numerous scandals in just this election cycle. But she’s never shown fear or desperation before. Now that has changed. Whatever she is afraid of | it lies buried in her emails with Huma Abedin. And it can bring her down like nothing else has.  ",
            "count": 1
           },
           {
            "name": "Watch The Exact Moment Paul Ryan Committed Political Suicide At A Trump Rally (VIDEO) Google Pinterest Digg Linkedin Reddit Stumbleupon Print Delicious Pocket Tumblr There are two fundamental truths in this world: Paul Ryan desperately wants to be president. And Paul Ryan will never be president. Today proved it. In a particularly staggering example of political cowardice | Paul Ryan re-re-re-reversed course and announced that he was back on the Trump Train after all. This was an aboutface from where he was a few weeks ago. He had previously declared he would not be supporting or defending Trump after a tape was made public in which Trump bragged about assaulting women. Suddenly | Ryan was appearing at a pro-Trump rally and boldly declaring that he already sent in his vote to make him President of the United States. It was a surreal moment. The figurehead of the Republican Party dosed himself in gasoline | got up on a stage on a chilly afternoon in Wisconsin | and lit a match. . @SpeakerRyan says he voted for @realDonaldTrump : “Republicans | it is time to come home” https://t.co/VyTT49YvoE pic.twitter.com/wCvSCg4a5I — ABC News Politics (@ABCPolitics) November 5 | 2016 The Democratic Party couldn’t have asked for a better moment of film. Ryan’s chances of ever becoming president went down to zero in an instant. In the wreckage Trump is to leave behind in his wake | those who cravenly backed his campaign will not recover. If Ryan’s career manages to limp all the way to 2020 | then the DNC will have this tape locked and loaded to be used in every ad until Election Day. The ringing endorsement of the man he clearly hates on a personal level speaks volumes about his own spinelessness. Ryan has postured himself as a “principled” conservative | and one uncomfortable with Trump’s unapologetic bigotry and sexism. However | when push came to shove | Paul Ryan – like many of his colleagues – turned into a sniveling appeaser. After all his lofty tak about conviction | his principles were a house of cards and collapsed with the slightest breeze. What’s especially bizarre is how close Ryan came to making it through unscathed. For months the Speaker of the House refused to comment on Trump at all. His strategy seemed to be to keep his head down | pretend Trump didn’t exist | and hope that nobody remembered what happened in 2016. Now | just days away from the election | he screwed it all up. If 2016’s very ugly election has done any good it’s by exposing the utter cowardice of the Republicans who once feigned moral courage. A reality television star spit on them | hijacked their party | insulted their wives | and got every last one of them to kneel before him. What a turn of events. Featured image via Twitter",
            "count": 1
           },
           {
            "name": "3 others",
            "count": 3
           }
          ]
         }
        },
        {
         "name": "preprocessed_text",
         "dtype": "object",
         "stats": {
          "unique_count": 5,
          "nan_count": 0,
          "categories": [
           {
            "name": "smell hillary’s fear daniel greenfield shillman journalism fellow freedom center new york writer focus radical islam final stretch election hillary rodham clinton go war fbi word “unprecedented” thrown around often election ought retire it’s still unprecedented nominee major political party go war fbi that’s exactly hillary people do coma patient wake watch hour cnn hospital bed would assume fbi director james comey hillary’s opponent election fbi attack everyone obama cnn hillary’s people circulate letter attack comey currently medium hit piece lambast target trump wouldn’t surprising clinton ally start run attack ad fbi fbi’s leadership warn entire left-wing establishment form lynch mob continue go hillary fbi’s credibility attack medium democrat preemptively head result investigation clinton foundation hillary clinton covert struggle fbi agent obama’s doj people go explosively public new york time compare comey j edgar hoover bizarre headline “james comey role recall hoover’s fbi fairly not” practically admit front it’s spout nonsense boston globe publish column call comey’s resignation outdone time editorial claim scandal really attack woman james carville appear msnbc remind everyone still alive insane accuse comey coordinate house republicans kgb think “vast right wing conspiracy” stretch countless medium story charge comey violating procedure know what’s procedural violation email classify information store bathroom server senator harry reid send comey letter accuse violate hatch act hatch act nice idea much relevance age obama tenth amendment cable news spectrum quickly fill medium hack glance wikipedia article hatch act table accuse fbi director one awkward conspiracies hillary ever jam comey really hurt hillary pick one hell strange way long ago democrat breathe sigh relief give hillary clinton pas prominent public statement really elect trump keep email scandal go trash investigation payroll house republicans kgb back play coy sudden development vladimir putin paul ryan talk take look anthony weiner’s computer either comey cunning fbi director ever live he’s awkwardly try navigate political mess trap doj leadership whose political future tie hillary’s victory bureau whose apolitical agent want allow job truly mysterious thing hillary associate decide go war respect federal agency american like fbi hillary clinton enjoy unfavorable rating it’s interesting question hillary’s old strategy lie deny fbi even criminal investigation underway instead associate insist security review fbi correct shrug old breezy denial approach give way savage assault fbi pretend nothing wrong bad strategy well one pick fight fbi lunatic clinton associate try claim fbi really kgb two possible explanation hillary clinton might arrogant enough lash fbi believe victory near kind hubris lead plan victory firework display could lead declare war fbi irritate final mile campaign explanation people panic go war fbi behavior smart focus presidential campaign it’s act desperation presidential candidate decides option try destroy credibility fbi that’s hubris it’s fear fbi might reveal original fbi investigation hillary clinton confident could ride good reason believe hillary clinton go place paranoid wreck within short space time “positive” clinton campaign promise unite country replace desperate flailing operation focus energy fight fbi there’s one reason bizarre behavior clinton campaign decide fbi investigation late batch email pose threat survival it’s go fight fbi it’s unprecedented step bear fear it’s hard know whether fear justify existence fear already tell u whole lot clinton loyalists rig old investigation know outcome ahead time well know debate question suddenly longer control afraid smell fear fbi wiretap investigation clinton foundation it’s find new emails time clintonworld panic spinmeister clintonworld claim email scandal much smoke without fire that’s appearance impropriety without substance isn’t react smoke it’s respond fire misguide assault fbi tell u hillary clinton ally afraid revelation big fundamental illegality email setup email setup preemptive cover clinton campaign panic badly belief right wrong whatever crime illegal setup mean cover risk expose clinton weather countless scandal year whatever protect time around big usual corruption bribery sexual assault abuse power follow around throughout year big damaging allegation already come don’t want fbi investigator anywhere near campaign comey pure intimidation it’s also warn senior fbi people value career warn stay away democrat close rank around nominee fbi it’s ugly unprecedented scene may also last stand hillary clinton awkwardly wind way numerous scandal election cycle she’s never show fear desperation change whatever afraid lie bury email huma abedin bring like nothing else",
            "count": 1
           },
           {
            "name": "watch exact moment paul ryan commit political suicide trump rally video google pinterest digg linkedin reddit stumbleupon print delicious pocket tumblr two fundamental truth world paul ryan desperately want president paul ryan never president today prove particularly staggering example political cowardice paul ryan re-re-re-reversed course announce back trump train aboutface week ago previously declare would support defend trump tape make public trump brag assault woman suddenly ryan appear pro-trump rally boldly declare already sent vote make president united state surreal moment figurehead republican party dose gasoline get stage chilly afternoon wisconsin light match speakerryan say vote realdonaldtrump “republicans time come home” abc news politics abcpolitics november democratic party couldn’t ask well moment film ryan’s chance ever become president go zero instant wreckage trump leave behind wake cravenly back campaign recover ryan’s career manages limp way dnc tape lock load use every ad election day ring endorsement man clearly hat personal level speaks volumes spinelessness ryan posture “principled” conservative one uncomfortable trump’s unapologetic bigotry sexism however push come shove paul ryan like many colleague turn snivel appeaser lofty tak conviction principle house card collapse slight breeze what’s especially bizarre close ryan come make unscathed month speaker house refuse comment trump strategy seem keep head pretend trump didn’t exist hope nobody remember happened day away election screw ugly election do good it’s expose utter cowardice republican feign moral courage reality television star spit hijack party insulted wife get every last one kneel turn event feature image via twitter",
            "count": 1
           },
           {
            "name": "3 others",
            "count": 3
           }
          ]
         }
        },
        {
         "name": "_deepnote_index_column",
         "dtype": "int64"
        }
       ],
       "rows": [
        {
         "ID": 8476,
         "title": "You Can Smell Hillary’s Fear",
         "text": "Daniel Greenfield | a Shillman Journalism Fellow at the Freedom Center | is a New York writer focus…",
         "label": "FAKE",
         "X1": "None",
         "X2": "None",
         "title_and_text": "You Can Smell Hillary’s Fear Daniel Greenfield | a Shillman Journalism Fellow at the Freedom Center…",
         "preprocessed_text": "smell hillary’s fear daniel greenfield shillman journalism fellow freedom center new york writer fo…",
         "_deepnote_index_column": 0
        },
        {
         "ID": 10294,
         "title": "Watch The Exact Moment Paul Ryan Committed Political Suicide At A Trump Rally (VIDEO)",
         "text": "Google Pinterest Digg Linkedin Reddit Stumbleupon Print Delicious Pocket Tumblr There are two funda…",
         "label": "FAKE",
         "X1": "None",
         "X2": "None",
         "title_and_text": "Watch The Exact Moment Paul Ryan Committed Political Suicide At A Trump Rally (VIDEO) Google Pinter…",
         "preprocessed_text": "watch exact moment paul ryan commit political suicide trump rally video google pinterest digg linke…",
         "_deepnote_index_column": 1
        },
        {
         "ID": 3608,
         "title": "Kerry to go to Paris in gesture of sympathy",
         "text": "U.S. Secretary of State John F. Kerry said Monday that he will stop in Paris later this week | amid…",
         "label": "REAL",
         "X1": "None",
         "X2": "None",
         "title_and_text": "Kerry to go to Paris in gesture of sympathy U.S. Secretary of State John F. Kerry said Monday that …",
         "preprocessed_text": "kerry go paris gesture sympathy u.s secretary state john f kerry say monday stop paris later week a…",
         "_deepnote_index_column": 2
        },
        {
         "ID": 10142,
         "title": "Bernie supporters on Twitter erupt in anger against the DNC: 'We tried to warn you!'",
         "text": "— Kaydee King (@KaydeeKing) November 9 | 2016 The lesson from tonight's Dem losses: Time for Democr…",
         "label": "FAKE",
         "X1": "None",
         "X2": "None",
         "title_and_text": "Bernie supporters on Twitter erupt in anger against the DNC: 'We tried to warn you!' — Kaydee King …",
         "preprocessed_text": "bernie supporter twitter erupt anger dnc try warn kaydee king kaydeeking november lesson tonight's …",
         "_deepnote_index_column": 3
        },
        {
         "ID": 875,
         "title": "The Battle of New York: Why This Primary Matters |\"It's primary day in New York and front-runners H…",
         "text": " Cruz promised his supporters. \"\"We're beating Hillary in the key swing states | we're beating Hill…",
         "label": "REAL",
         "X1": "None",
         "X2": "None",
         "title_and_text": "The Battle of New York: Why This Primary Matters |\"It's primary day in New York and front-runners H…",
         "preprocessed_text": "battle new york primary matter primary day new york front-runner hillary clinton donald trump lead …",
         "_deepnote_index_column": 4
        }
       ]
      },
      "text/plain": "      ID                                              title  \\\n0   8476                       You Can Smell Hillary’s Fear   \n1  10294  Watch The Exact Moment Paul Ryan Committed Pol...   \n2   3608        Kerry to go to Paris in gesture of sympathy   \n3  10142  Bernie supporters on Twitter erupt in anger ag...   \n4    875  The Battle of New York: Why This Primary Matte...   \n\n                                                text label    X1    X2  \\\n0  Daniel Greenfield | a Shillman Journalism Fell...  FAKE  None  None   \n1  Google Pinterest Digg Linkedin Reddit Stumbleu...  FAKE  None  None   \n2  U.S. Secretary of State John F. Kerry said Mon...  REAL  None  None   \n3  — Kaydee King (@KaydeeKing) November 9 | 2016 ...  FAKE  None  None   \n4   Cruz promised his supporters. \"\"We're beating...  REAL  None  None   \n\n                                      title_and_text  \\\n0  You Can Smell Hillary’s Fear Daniel Greenfield...   \n1  Watch The Exact Moment Paul Ryan Committed Pol...   \n2  Kerry to go to Paris in gesture of sympathy U....   \n3  Bernie supporters on Twitter erupt in anger ag...   \n4  The Battle of New York: Why This Primary Matte...   \n\n                                   preprocessed_text  \n0  smell hillary’s fear daniel greenfield shillma...  \n1  watch exact moment paul ryan commit political ...  \n2  kerry go paris gesture sympathy u.s secretary ...  \n3  bernie supporter twitter erupt anger dnc try w...  \n4  battle new york primary matter primary day new...  ",
      "text/html": "<div>\n<style scoped>\n    .dataframe tbody tr th:only-of-type {\n        vertical-align: middle;\n    }\n\n    .dataframe tbody tr th {\n        vertical-align: top;\n    }\n\n    .dataframe thead th {\n        text-align: right;\n    }\n</style>\n<table border=\"1\" class=\"dataframe\">\n  <thead>\n    <tr style=\"text-align: right;\">\n      <th></th>\n      <th>ID</th>\n      <th>title</th>\n      <th>text</th>\n      <th>label</th>\n      <th>X1</th>\n      <th>X2</th>\n      <th>title_and_text</th>\n      <th>preprocessed_text</th>\n    </tr>\n  </thead>\n  <tbody>\n    <tr>\n      <th>0</th>\n      <td>8476</td>\n      <td>You Can Smell Hillary’s Fear</td>\n      <td>Daniel Greenfield | a Shillman Journalism Fell...</td>\n      <td>FAKE</td>\n      <td>None</td>\n      <td>None</td>\n      <td>You Can Smell Hillary’s Fear Daniel Greenfield...</td>\n      <td>smell hillary’s fear daniel greenfield shillma...</td>\n    </tr>\n    <tr>\n      <th>1</th>\n      <td>10294</td>\n      <td>Watch The Exact Moment Paul Ryan Committed Pol...</td>\n      <td>Google Pinterest Digg Linkedin Reddit Stumbleu...</td>\n      <td>FAKE</td>\n      <td>None</td>\n      <td>None</td>\n      <td>Watch The Exact Moment Paul Ryan Committed Pol...</td>\n      <td>watch exact moment paul ryan commit political ...</td>\n    </tr>\n    <tr>\n      <th>2</th>\n      <td>3608</td>\n      <td>Kerry to go to Paris in gesture of sympathy</td>\n      <td>U.S. Secretary of State John F. Kerry said Mon...</td>\n      <td>REAL</td>\n      <td>None</td>\n      <td>None</td>\n      <td>Kerry to go to Paris in gesture of sympathy U....</td>\n      <td>kerry go paris gesture sympathy u.s secretary ...</td>\n    </tr>\n    <tr>\n      <th>3</th>\n      <td>10142</td>\n      <td>Bernie supporters on Twitter erupt in anger ag...</td>\n      <td>— Kaydee King (@KaydeeKing) November 9 | 2016 ...</td>\n      <td>FAKE</td>\n      <td>None</td>\n      <td>None</td>\n      <td>Bernie supporters on Twitter erupt in anger ag...</td>\n      <td>bernie supporter twitter erupt anger dnc try w...</td>\n    </tr>\n    <tr>\n      <th>4</th>\n      <td>875</td>\n      <td>The Battle of New York: Why This Primary Matte...</td>\n      <td>Cruz promised his supporters. \"\"We're beating...</td>\n      <td>REAL</td>\n      <td>None</td>\n      <td>None</td>\n      <td>The Battle of New York: Why This Primary Matte...</td>\n      <td>battle new york primary matter primary day new...</td>\n    </tr>\n  </tbody>\n</table>\n</div>"
     },
     "metadata": {}
    }
   ]
  },
  {
   "cell_type": "markdown",
   "source": [
    "### POS Tagging"
   ],
   "metadata": {
    "id": "h4I_zAoA3rlw",
    "cell_id": "00120-9b949df5-5f40-42c3-8560-516539289f3a",
    "deepnote_cell_type": "markdown"
   }
  },
  {
   "cell_type": "code",
   "metadata": {
    "id": "TipDaCup3rlx",
    "cell_id": "00121-6413d5f0-298b-40ee-818c-94ef158a5659",
    "deepnote_to_be_reexecuted": false,
    "source_hash": "75d3a7de",
    "execution_start": 1643888767569,
    "execution_millis": 329168,
    "deepnote_cell_type": "code"
   },
   "source": [
    "train['pos_tagged_text'] = train['preprocessed_text'].apply(lambda x: pos_tag_words(x))\n",
    "test['pos_tagged_text'] = test['preprocessed_text'].apply(lambda x: pos_tag_words(x))"
   ],
   "execution_count": 91,
   "outputs": []
  },
  {
   "cell_type": "markdown",
   "source": [
    "### merge clean and pos tagged"
   ],
   "metadata": {
    "id": "_TuFPsjF3rlx",
    "cell_id": "00122-d7efb707-113b-4623-b88a-fc22615c312b",
    "deepnote_cell_type": "markdown"
   }
  },
  {
   "cell_type": "code",
   "metadata": {
    "id": "vfQV1j3t3rlx",
    "cell_id": "00123-be91405b-2ddb-48ce-bb80-4bc97f32ec87",
    "deepnote_to_be_reexecuted": false,
    "source_hash": "3f1ad811",
    "execution_start": 1643889096776,
    "execution_millis": 40,
    "deepnote_cell_type": "code"
   },
   "source": [
    "train[\"clean_and_pos_tagged_text\"] = train['preprocessed_text'] + ' ' + train['pos_tagged_text']\n",
    "test[\"clean_and_pos_tagged_text\"] = test['preprocessed_text'] + ' ' + train['pos_tagged_text']"
   ],
   "execution_count": 92,
   "outputs": []
  },
  {
   "cell_type": "code",
   "metadata": {
    "id": "Y8_EgI6a3rly",
    "cell_id": "00124-6ba87084-2b25-4048-bbd0-03110ed76f3e",
    "deepnote_to_be_reexecuted": false,
    "source_hash": "c5fa0f4f",
    "execution_start": 1643889096878,
    "execution_millis": 36,
    "deepnote_cell_type": "code"
   },
   "source": [
    "train.head(1)"
   ],
   "execution_count": 93,
   "outputs": [
    {
     "output_type": "execute_result",
     "execution_count": 93,
     "data": {
      "application/vnd.deepnote.dataframe.v3+json": {
       "column_count": 10,
       "row_count": 1,
       "columns": [
        {
         "name": "ID",
         "dtype": "int64",
         "stats": {
          "unique_count": 1,
          "nan_count": 0,
          "min": "8476",
          "max": "8476",
          "histogram": [
           {
            "bin_start": 8475.5,
            "bin_end": 8475.6,
            "count": 0
           },
           {
            "bin_start": 8475.6,
            "bin_end": 8475.7,
            "count": 0
           },
           {
            "bin_start": 8475.7,
            "bin_end": 8475.8,
            "count": 0
           },
           {
            "bin_start": 8475.8,
            "bin_end": 8475.9,
            "count": 0
           },
           {
            "bin_start": 8475.9,
            "bin_end": 8476,
            "count": 0
           },
           {
            "bin_start": 8476,
            "bin_end": 8476.1,
            "count": 1
           },
           {
            "bin_start": 8476.1,
            "bin_end": 8476.2,
            "count": 0
           },
           {
            "bin_start": 8476.2,
            "bin_end": 8476.3,
            "count": 0
           },
           {
            "bin_start": 8476.3,
            "bin_end": 8476.4,
            "count": 0
           },
           {
            "bin_start": 8476.4,
            "bin_end": 8476.5,
            "count": 0
           }
          ]
         }
        },
        {
         "name": "title",
         "dtype": "object",
         "stats": {
          "unique_count": 1,
          "nan_count": 0,
          "categories": [
           {
            "name": "You Can Smell Hillary’s Fear",
            "count": 1
           }
          ]
         }
        },
        {
         "name": "text",
         "dtype": "object",
         "stats": {
          "unique_count": 1,
          "nan_count": 0,
          "categories": [
           {
            "name": "Daniel Greenfield | a Shillman Journalism Fellow at the Freedom Center | is a New York writer focusing on radical Islam. In the final stretch of the election | Hillary Rodham Clinton has gone to war with the FBI. The word “unprecedented” has been thrown around so often this election that it ought to be retired. But it’s still unprecedented for the nominee of a major political party to go war with the FBI. But that’s exactly what Hillary and her people have done. Coma patients just waking up now and watching an hour of CNN from their hospital beds would assume that FBI Director James Comey is Hillary’s opponent in this election. The FBI is under attack by everyone from Obama to CNN. Hillary’s people have circulated a letter attacking Comey. There are currently more media hit pieces lambasting him than targeting Trump. It wouldn’t be too surprising if the Clintons or their allies were to start running attack ads against the FBI. The FBI’s leadership is being warned that the entire left-wing establishment will form a lynch mob if they continue going after Hillary. And the FBI’s credibility is being attacked by the media and the Democrats to preemptively head off the results of the investigation of the Clinton Foundation and Hillary Clinton. The covert struggle between FBI agents and Obama’s DOJ people has gone explosively public. The New York Times has compared Comey to J. Edgar Hoover. Its bizarre headline | “James Comey Role Recalls Hoover’s FBI | Fairly or Not” practically admits up front that it’s spouting nonsense. The Boston Globe has published a column calling for Comey’s resignation. Not to be outdone | Time has an editorial claiming that the scandal is really an attack on all women. James Carville appeared on MSNBC to remind everyone that he was still alive and insane. He accused Comey of coordinating with House Republicans and the KGB. And you thought the “vast right wing conspiracy” was a stretch. Countless media stories charge Comey with violating procedure. Do you know what’s a procedural violation? Emailing classified information stored on your bathroom server. Senator Harry Reid has sent Comey a letter accusing him of violating the Hatch Act. The Hatch Act is a nice idea that has as much relevance in the age of Obama as the Tenth Amendment. But the cable news spectrum quickly filled with media hacks glancing at the Wikipedia article on the Hatch Act under the table while accusing the FBI director of one of the most awkward conspiracies against Hillary ever. If James Comey is really out to hurt Hillary | he picked one hell of a strange way to do it. Not too long ago Democrats were breathing a sigh of relief when he gave Hillary Clinton a pass in a prominent public statement. If he really were out to elect Trump by keeping the email scandal going | why did he trash the investigation? Was he on the payroll of House Republicans and the KGB back then and playing it coy or was it a sudden development where Vladimir Putin and Paul Ryan talked him into taking a look at Anthony Weiner’s computer? Either Comey is the most cunning FBI director that ever lived or he’s just awkwardly trying to navigate a political mess that has trapped him between a DOJ leadership whose political futures are tied to Hillary’s victory and his own bureau whose apolitical agents just want to be allowed to do their jobs. The only truly mysterious thing is why Hillary and her associates decided to go to war with a respected Federal agency. Most Americans like the FBI while Hillary Clinton enjoys a 60% unfavorable rating. And it’s an interesting question. Hillary’s old strategy was to lie and deny that the FBI even had a criminal investigation underway. Instead her associates insisted that it was a security review. The FBI corrected her and she shrugged it off. But the old breezy denial approach has given way to a savage assault on the FBI. Pretending that nothing was wrong was a bad strategy | but it was a better one that picking a fight with the FBI while lunatic Clinton associates try to claim that the FBI is really the KGB. There are two possible explanations. Hillary Clinton might be arrogant enough to lash out at the FBI now that she believes that victory is near. The same kind of hubris that led her to plan her victory fireworks display could lead her to declare a war on the FBI for irritating her during the final miles of her campaign. But the other explanation is that her people panicked. Going to war with the FBI is not the behavior of a smart and focused presidential campaign. It’s an act of desperation. When a presidential candidate decides that her only option is to try and destroy the credibility of the FBI | that’s not hubris | it’s fear of what the FBI might be about to reveal about her. During the original FBI investigation | Hillary Clinton was confident that she could ride it out. And she had good reason for believing that. But that Hillary Clinton is gone. In her place is a paranoid wreck. Within a short space of time the “positive” Clinton campaign promising to unite the country has been replaced by a desperate and flailing operation that has focused all its energy on fighting the FBI. There’s only one reason for such bizarre behavior. The Clinton campaign has decided that an FBI investigation of the latest batch of emails poses a threat to its survival. And so it’s gone all in on fighting the FBI. It’s an unprecedented step born of fear. It’s hard to know whether that fear is justified. But the existence of that fear already tells us a whole lot. Clinton loyalists rigged the old investigation. They knew the outcome ahead of time as well as they knew the debate questions. Now suddenly they are no longer in control. And they are afraid. You can smell the fear. The FBI has wiretaps from the investigation of the Clinton Foundation. It’s finding new emails all the time. And Clintonworld panicked. The spinmeisters of Clintonworld have claimed that the email scandal is just so much smoke without fire. All that’s here is the appearance of impropriety without any of the substance. But this isn’t how you react to smoke. It’s how you respond to a fire. The misguided assault on the FBI tells us that Hillary Clinton and her allies are afraid of a revelation bigger than the fundamental illegality of her email setup. The email setup was a preemptive cover up. The Clinton campaign has panicked badly out of the belief | right or wrong | that whatever crime the illegal setup was meant to cover up is at risk of being exposed. The Clintons have weathered countless scandals over the years. Whatever they are protecting this time around is bigger than the usual corruption | bribery | sexual assaults and abuses of power that have followed them around throughout the years. This is bigger and more damaging than any of the allegations that have already come out. And they don’t want FBI investigators anywhere near it. The campaign against Comey is pure intimidation. It’s also a warning. Any senior FBI people who value their careers are being warned to stay away. The Democrats are closing ranks around their nominee against the FBI. It’s an ugly and unprecedented scene. It may also be their last stand. Hillary Clinton has awkwardly wound her way through numerous scandals in just this election cycle. But she’s never shown fear or desperation before. Now that has changed. Whatever she is afraid of | it lies buried in her emails with Huma Abedin. And it can bring her down like nothing else has.  ",
            "count": 1
           }
          ]
         }
        },
        {
         "name": "label",
         "dtype": "object",
         "stats": {
          "unique_count": 1,
          "nan_count": 0,
          "categories": [
           {
            "name": "FAKE",
            "count": 1
           }
          ]
         }
        },
        {
         "name": "X1",
         "dtype": "object",
         "stats": {
          "unique_count": 1,
          "nan_count": 0,
          "categories": [
           {
            "name": "None",
            "count": 1
           }
          ]
         }
        },
        {
         "name": "X2",
         "dtype": "object",
         "stats": {
          "unique_count": 1,
          "nan_count": 0,
          "categories": [
           {
            "name": "None",
            "count": 1
           }
          ]
         }
        },
        {
         "name": "title_and_text",
         "dtype": "object",
         "stats": {
          "unique_count": 1,
          "nan_count": 0,
          "categories": [
           {
            "name": "You Can Smell Hillary’s Fear Daniel Greenfield | a Shillman Journalism Fellow at the Freedom Center | is a New York writer focusing on radical Islam. In the final stretch of the election | Hillary Rodham Clinton has gone to war with the FBI. The word “unprecedented” has been thrown around so often this election that it ought to be retired. But it’s still unprecedented for the nominee of a major political party to go war with the FBI. But that’s exactly what Hillary and her people have done. Coma patients just waking up now and watching an hour of CNN from their hospital beds would assume that FBI Director James Comey is Hillary’s opponent in this election. The FBI is under attack by everyone from Obama to CNN. Hillary’s people have circulated a letter attacking Comey. There are currently more media hit pieces lambasting him than targeting Trump. It wouldn’t be too surprising if the Clintons or their allies were to start running attack ads against the FBI. The FBI’s leadership is being warned that the entire left-wing establishment will form a lynch mob if they continue going after Hillary. And the FBI’s credibility is being attacked by the media and the Democrats to preemptively head off the results of the investigation of the Clinton Foundation and Hillary Clinton. The covert struggle between FBI agents and Obama’s DOJ people has gone explosively public. The New York Times has compared Comey to J. Edgar Hoover. Its bizarre headline | “James Comey Role Recalls Hoover’s FBI | Fairly or Not” practically admits up front that it’s spouting nonsense. The Boston Globe has published a column calling for Comey’s resignation. Not to be outdone | Time has an editorial claiming that the scandal is really an attack on all women. James Carville appeared on MSNBC to remind everyone that he was still alive and insane. He accused Comey of coordinating with House Republicans and the KGB. And you thought the “vast right wing conspiracy” was a stretch. Countless media stories charge Comey with violating procedure. Do you know what’s a procedural violation? Emailing classified information stored on your bathroom server. Senator Harry Reid has sent Comey a letter accusing him of violating the Hatch Act. The Hatch Act is a nice idea that has as much relevance in the age of Obama as the Tenth Amendment. But the cable news spectrum quickly filled with media hacks glancing at the Wikipedia article on the Hatch Act under the table while accusing the FBI director of one of the most awkward conspiracies against Hillary ever. If James Comey is really out to hurt Hillary | he picked one hell of a strange way to do it. Not too long ago Democrats were breathing a sigh of relief when he gave Hillary Clinton a pass in a prominent public statement. If he really were out to elect Trump by keeping the email scandal going | why did he trash the investigation? Was he on the payroll of House Republicans and the KGB back then and playing it coy or was it a sudden development where Vladimir Putin and Paul Ryan talked him into taking a look at Anthony Weiner’s computer? Either Comey is the most cunning FBI director that ever lived or he’s just awkwardly trying to navigate a political mess that has trapped him between a DOJ leadership whose political futures are tied to Hillary’s victory and his own bureau whose apolitical agents just want to be allowed to do their jobs. The only truly mysterious thing is why Hillary and her associates decided to go to war with a respected Federal agency. Most Americans like the FBI while Hillary Clinton enjoys a 60% unfavorable rating. And it’s an interesting question. Hillary’s old strategy was to lie and deny that the FBI even had a criminal investigation underway. Instead her associates insisted that it was a security review. The FBI corrected her and she shrugged it off. But the old breezy denial approach has given way to a savage assault on the FBI. Pretending that nothing was wrong was a bad strategy | but it was a better one that picking a fight with the FBI while lunatic Clinton associates try to claim that the FBI is really the KGB. There are two possible explanations. Hillary Clinton might be arrogant enough to lash out at the FBI now that she believes that victory is near. The same kind of hubris that led her to plan her victory fireworks display could lead her to declare a war on the FBI for irritating her during the final miles of her campaign. But the other explanation is that her people panicked. Going to war with the FBI is not the behavior of a smart and focused presidential campaign. It’s an act of desperation. When a presidential candidate decides that her only option is to try and destroy the credibility of the FBI | that’s not hubris | it’s fear of what the FBI might be about to reveal about her. During the original FBI investigation | Hillary Clinton was confident that she could ride it out. And she had good reason for believing that. But that Hillary Clinton is gone. In her place is a paranoid wreck. Within a short space of time the “positive” Clinton campaign promising to unite the country has been replaced by a desperate and flailing operation that has focused all its energy on fighting the FBI. There’s only one reason for such bizarre behavior. The Clinton campaign has decided that an FBI investigation of the latest batch of emails poses a threat to its survival. And so it’s gone all in on fighting the FBI. It’s an unprecedented step born of fear. It’s hard to know whether that fear is justified. But the existence of that fear already tells us a whole lot. Clinton loyalists rigged the old investigation. They knew the outcome ahead of time as well as they knew the debate questions. Now suddenly they are no longer in control. And they are afraid. You can smell the fear. The FBI has wiretaps from the investigation of the Clinton Foundation. It’s finding new emails all the time. And Clintonworld panicked. The spinmeisters of Clintonworld have claimed that the email scandal is just so much smoke without fire. All that’s here is the appearance of impropriety without any of the substance. But this isn’t how you react to smoke. It’s how you respond to a fire. The misguided assault on the FBI tells us that Hillary Clinton and her allies are afraid of a revelation bigger than the fundamental illegality of her email setup. The email setup was a preemptive cover up. The Clinton campaign has panicked badly out of the belief | right or wrong | that whatever crime the illegal setup was meant to cover up is at risk of being exposed. The Clintons have weathered countless scandals over the years. Whatever they are protecting this time around is bigger than the usual corruption | bribery | sexual assaults and abuses of power that have followed them around throughout the years. This is bigger and more damaging than any of the allegations that have already come out. And they don’t want FBI investigators anywhere near it. The campaign against Comey is pure intimidation. It’s also a warning. Any senior FBI people who value their careers are being warned to stay away. The Democrats are closing ranks around their nominee against the FBI. It’s an ugly and unprecedented scene. It may also be their last stand. Hillary Clinton has awkwardly wound her way through numerous scandals in just this election cycle. But she’s never shown fear or desperation before. Now that has changed. Whatever she is afraid of | it lies buried in her emails with Huma Abedin. And it can bring her down like nothing else has.  ",
            "count": 1
           }
          ]
         }
        },
        {
         "name": "preprocessed_text",
         "dtype": "object",
         "stats": {
          "unique_count": 1,
          "nan_count": 0,
          "categories": [
           {
            "name": "smell hillary’s fear daniel greenfield shillman journalism fellow freedom center new york writer focus radical islam final stretch election hillary rodham clinton go war fbi word “unprecedented” thrown around often election ought retire it’s still unprecedented nominee major political party go war fbi that’s exactly hillary people do coma patient wake watch hour cnn hospital bed would assume fbi director james comey hillary’s opponent election fbi attack everyone obama cnn hillary’s people circulate letter attack comey currently medium hit piece lambast target trump wouldn’t surprising clinton ally start run attack ad fbi fbi’s leadership warn entire left-wing establishment form lynch mob continue go hillary fbi’s credibility attack medium democrat preemptively head result investigation clinton foundation hillary clinton covert struggle fbi agent obama’s doj people go explosively public new york time compare comey j edgar hoover bizarre headline “james comey role recall hoover’s fbi fairly not” practically admit front it’s spout nonsense boston globe publish column call comey’s resignation outdone time editorial claim scandal really attack woman james carville appear msnbc remind everyone still alive insane accuse comey coordinate house republicans kgb think “vast right wing conspiracy” stretch countless medium story charge comey violating procedure know what’s procedural violation email classify information store bathroom server senator harry reid send comey letter accuse violate hatch act hatch act nice idea much relevance age obama tenth amendment cable news spectrum quickly fill medium hack glance wikipedia article hatch act table accuse fbi director one awkward conspiracies hillary ever jam comey really hurt hillary pick one hell strange way long ago democrat breathe sigh relief give hillary clinton pas prominent public statement really elect trump keep email scandal go trash investigation payroll house republicans kgb back play coy sudden development vladimir putin paul ryan talk take look anthony weiner’s computer either comey cunning fbi director ever live he’s awkwardly try navigate political mess trap doj leadership whose political future tie hillary’s victory bureau whose apolitical agent want allow job truly mysterious thing hillary associate decide go war respect federal agency american like fbi hillary clinton enjoy unfavorable rating it’s interesting question hillary’s old strategy lie deny fbi even criminal investigation underway instead associate insist security review fbi correct shrug old breezy denial approach give way savage assault fbi pretend nothing wrong bad strategy well one pick fight fbi lunatic clinton associate try claim fbi really kgb two possible explanation hillary clinton might arrogant enough lash fbi believe victory near kind hubris lead plan victory firework display could lead declare war fbi irritate final mile campaign explanation people panic go war fbi behavior smart focus presidential campaign it’s act desperation presidential candidate decides option try destroy credibility fbi that’s hubris it’s fear fbi might reveal original fbi investigation hillary clinton confident could ride good reason believe hillary clinton go place paranoid wreck within short space time “positive” clinton campaign promise unite country replace desperate flailing operation focus energy fight fbi there’s one reason bizarre behavior clinton campaign decide fbi investigation late batch email pose threat survival it’s go fight fbi it’s unprecedented step bear fear it’s hard know whether fear justify existence fear already tell u whole lot clinton loyalists rig old investigation know outcome ahead time well know debate question suddenly longer control afraid smell fear fbi wiretap investigation clinton foundation it’s find new emails time clintonworld panic spinmeister clintonworld claim email scandal much smoke without fire that’s appearance impropriety without substance isn’t react smoke it’s respond fire misguide assault fbi tell u hillary clinton ally afraid revelation big fundamental illegality email setup email setup preemptive cover clinton campaign panic badly belief right wrong whatever crime illegal setup mean cover risk expose clinton weather countless scandal year whatever protect time around big usual corruption bribery sexual assault abuse power follow around throughout year big damaging allegation already come don’t want fbi investigator anywhere near campaign comey pure intimidation it’s also warn senior fbi people value career warn stay away democrat close rank around nominee fbi it’s ugly unprecedented scene may also last stand hillary clinton awkwardly wind way numerous scandal election cycle she’s never show fear desperation change whatever afraid lie bury email huma abedin bring like nothing else",
            "count": 1
           }
          ]
         }
        },
        {
         "name": "pos_tagged_text",
         "dtype": "object",
         "stats": {
          "unique_count": 1,
          "nan_count": 0,
          "categories": [
           {
            "name": "NN-smell JJ-hillary NNP-’ NN-s NN-fear JJ-daniel NN-greenfield JJ-shillman NN-journalism NN-fellow NN-freedom VBP-center JJ-new NN-york NN-writer VB-focus JJ-radical JJ-islam JJ-final NN-stretch NN-election JJ-hillary NN-rodham NN-clinton VBP-go NN-war NN-fbi NN-word NNP-“ VBD-unprecedented JJ-” VBN-thrown RB-around RB-often NN-election MD-ought VB-retire PRP-it NNP-’ VBD-s RB-still JJ-unprecedented JJ-nominee JJ-major JJ-political NN-party VBP-go NN-war NN-fbi WDT-that VBZ-’ RB-s RB-exactly JJ-hillary NNS-people VBP-do VB-coma JJ-patient NN-wake VB-watch NN-hour JJ-cnn NN-hospital NN-bed MD-would VB-assume JJ-fbi NN-director NNS-james VBP-comey JJ-hillary NNP-’ NN-s NN-opponent NN-election VBZ-fbi RP-attack NN-everyone NN-obama NN-cnn JJ-hillary NNP-’ NN-s NNS-people VBP-circulate NN-letter NN-attack NN-comey RB-currently RBS-medium VBN-hit NN-piece NN-lambast NN-target NN-trump NN-wouldn NNP-’ NN-t VBG-surprising NN-clinton RB-ally VB-start VB-run RB-attack NN-ad NN-fbi NN-fbi NNP-’ VBZ-s NN-leadership JJ-warn JJ-entire JJ-left-wing NN-establishment NN-form NN-lynch NN-mob NN-continue VBP-go JJ-hillary NN-fbi NNP-’ NN-s NN-credibility NN-attack NN-medium NN-democrat RB-preemptively JJ-head NN-result NN-investigation NN-clinton NN-foundation JJ-hillary NN-clinton JJ-covert NN-struggle NN-fbi NN-agent IN-obama NNP-’ VBD-s JJ-doj NNS-people VBP-go RB-explosively JJ-public JJ-new NN-york NN-time JJ-compare JJ-comey NN-j NN-edgar NN-hoover JJ-bizarre NN-headline NNP-“ VBZ-james JJ-comey NN-role NN-recall NN-hoover NNP-’ NN-s VBD-fbi RB-fairly RB-not VB-” RB-practically VBP-admit JJ-front PRP-it VBZ-’ JJ-s NN-spout JJ-nonsense NN-boston NN-globe JJ-publish NN-column NN-call NN-comey NNP-’ VBZ-s NN-resignation NN-outdone NN-time JJ-editorial NN-claim NN-scandal RB-really JJ-attack NN-woman NNS-james VBP-carville JJ-appear NN-msnbc NN-remind NN-everyone RB-still JJ-alive NN-insane IN-accuse JJ-comey NN-coordinate NN-house VBZ-republicans JJ-kgb VBP-think NNP-“ RB-vast JJ-right VBG-wing NN-conspiracy NNP-” NN-stretch NN-countless NN-medium NN-story NN-charge NN-comey VBG-violating NN-procedure VBP-know WP-what NNP-’ VBD-s JJ-procedural NN-violation NN-email NN-classify NN-information NN-store NN-bathroom NN-server NN-senator NN-harry VBP-reid VB-send JJ-comey NN-letter NN-accuse NN-violate NN-hatch NN-act NN-hatch NN-act JJ-nice NN-idea JJ-much NN-relevance NN-age JJ-obama JJ-tenth NN-amendment NN-cable NN-news NN-spectrum RB-quickly VB-fill JJ-medium NN-hack NN-glance NN-wikipedia NN-article NN-hatch NN-act JJ-table NN-accuse VBD-fbi NN-director CD-one NN-awkward VBZ-conspiracies JJ-hillary RB-ever VBP-jam NNS-comey RB-really VBP-hurt JJ-hillary NN-pick CD-one NN-hell JJ-strange NN-way RB-long RB-ago VB-democrat NN-breathe JJ-sigh NN-relief JJ-give JJ-hillary NN-clinton NN-pas JJ-prominent JJ-public NN-statement RB-really JJ-elect NN-trump VB-keep NN-email NN-scandal VBP-go JJ-trash NN-investigation NN-payroll NN-house VBZ-republicans VBN-kgb RP-back NN-play NN-coy JJ-sudden NN-development NN-vladimir NN-putin NN-paul JJ-ryan NN-talk VB-take NN-look JJ-anthony NN-weiner NNP-’ VBZ-s NN-computer CC-either NN-comey NN-cunning NN-fbi NN-director RB-ever VBP-live PRP-he VBZ-’ RB-s RB-awkwardly VB-try JJ-navigate JJ-political NN-mess NN-trap JJ-doj NN-leadership WP$-whose JJ-political NN-future NN-tie JJ-hillary NNP-’ NN-s NN-victory NN-bureau WP$-whose JJ-apolitical NN-agent VBP-want JJ-allow NN-job RB-truly JJ-mysterious NN-thing JJ-hillary NN-associate NN-decide VBP-go NN-war NN-respect JJ-federal NN-agency JJ-american IN-like JJ-fbi JJ-hillary NN-clinton NN-enjoy JJ-unfavorable NN-rating PRP-it VBZ-’ JJ-s JJ-interesting NN-question JJ-hillary NN-’ NN-s JJ-old NN-strategy VBZ-lie VBP-deny VB-fbi RB-even JJ-criminal NN-investigation RB-underway RB-instead JJ-associate JJ-insist NN-security NN-review NN-fbi JJ-correct JJ-shrug JJ-old NN-breezy JJ-denial NN-approach JJ-give NN-way NN-savage NN-assault JJ-fbi NN-pretend NN-nothing JJ-wrong JJ-bad NN-strategy RB-well CD-one NN-pick NN-fight NN-fbi JJ-lunatic NN-clinton JJ-associate NN-try NN-claim VBP-fbi RB-really VB-kgb CD-two JJ-possible NN-explanation JJ-hillary NN-clinton MD-might VB-arrogant JJ-enough NN-lash NNS-fbi VBP-believe NN-victory IN-near NN-kind JJ-hubris NN-lead NN-plan JJ-victory NN-firework NN-display MD-could VB-lead JJ-declare NN-war NN-fbi VBP-irritate JJ-final NN-mile NN-campaign NN-explanation NNS-people JJ-panic VBP-go NN-war NN-fbi JJ-behavior JJ-smart NN-focus JJ-presidential NN-campaign PRP-it NNP-’ VBZ-s JJ-act NN-desperation JJ-presidential NN-candidate NNS-decides NN-option NN-try NN-destroy NN-credibility VBP-fbi IN-that NNP-’ VBD-s VB-hubris PRP-it NNP-’ VBD-s JJ-fear NN-fbi MD-might VB-reveal JJ-original NN-fbi NN-investigation JJ-hillary NN-clinton NN-confident MD-could VB-ride JJ-good NN-reason VBP-believe JJ-hillary NN-clinton VBP-go NN-place NN-paranoid NN-wreck IN-within JJ-short NN-space NN-time NNP-“ JJ-positive NNP-” NN-clinton NN-campaign VBP-promise JJ-unite NN-country VB-replace JJ-desperate NN-flailing NN-operation NN-focus NN-energy NN-fight NN-fbi RB-there NNP-’ VBD-s CD-one NN-reason JJ-bizarre NN-behavior NN-clinton NN-campaign VBP-decide JJ-fbi NN-investigation RB-late NN-batch NN-email NN-pose NN-threat NN-survival PRP-it VBZ-’ JJ-s VB-go JJ-fight NN-fbi PRP-it VBZ-’ RB-s JJ-unprecedented NN-step IN-bear NN-fear PRP-it VBZ-’ JJ-s RB-hard VBP-know IN-whether NN-fear NN-justify NN-existence NN-fear RB-already VB-tell JJ-u JJ-whole NN-lot NN-clinton VBZ-loyalists VBP-rig JJ-old NN-investigation VBP-know VBN-outcome RB-ahead NN-time RB-well VB-know NN-debate NN-question RB-suddenly RBR-longer NN-control JJ-afraid NN-smell NN-fear NN-fbi NN-wiretap NN-investigation NN-clinton NN-foundation PRP-it VBZ-’ JJ-s VB-find JJ-new NNS-emails NN-time NN-clintonworld NN-panic NN-spinmeister NN-clintonworld NN-claim VBP-email NN-scandal JJ-much NN-smoke IN-without NN-fire IN-that NNP-’ VBD-s NN-appearance NN-impropriety IN-without NN-substance NN-isn NNP-’ NN-t NN-react VBD-smoke PRP-it NNP-’ VBZ-s NN-respond NN-fire NN-misguide NN-assault NN-fbi VBP-tell JJ-u JJ-hillary NN-clinton NN-ally JJ-afraid NN-revelation JJ-big JJ-fundamental NN-illegality VBP-email NN-setup NN-email NN-setup JJ-preemptive NN-cover NN-clinton NN-campaign JJ-panic RB-badly JJ-belief NN-right JJ-wrong WDT-whatever NN-crime JJ-illegal NN-setup NN-mean NN-cover NN-risk VBP-expose NN-clinton NN-weather NN-countless NN-scandal NN-year WDT-whatever JJ-protect NN-time IN-around JJ-big JJ-usual NN-corruption NN-bribery JJ-sexual NN-assault NN-abuse NN-power VBP-follow IN-around IN-throughout NN-year JJ-big NN-damaging NN-allegation RB-already VBN-come NN-don NNP-’ NN-t VBP-want NN-fbi NN-investigator RB-anywhere IN-near NN-campaign NN-comey NN-pure NN-intimidation PRP-it VBZ-’ NN-s RB-also VBP-warn JJ-senior NN-fbi NNS-people NN-value NN-career VBP-warn VB-stay RB-away RB-democrat JJ-close NN-rank IN-around JJ-nominee NN-fbi PRP-it VBZ-’ JJ-s RB-ugly JJ-unprecedented NN-scene MD-may RB-also JJ-last NN-stand JJ-hillary NN-clinton RB-awkwardly JJ-wind NN-way JJ-numerous NN-scandal NN-election NN-cycle PRP-she VBD-’ PRP-s RB-never VBP-show JJ-fear NN-desperation NN-change WDT-whatever JJ-afraid JJ-lie NN-bury NN-email NN-huma IN-abedin VBG-bring IN-like NN-nothing RB-else",
            "count": 1
           }
          ]
         }
        },
        {
         "name": "clean_and_pos_tagged_text",
         "dtype": "object",
         "stats": {
          "unique_count": 1,
          "nan_count": 0,
          "categories": [
           {
            "name": "smell hillary’s fear daniel greenfield shillman journalism fellow freedom center new york writer focus radical islam final stretch election hillary rodham clinton go war fbi word “unprecedented” thrown around often election ought retire it’s still unprecedented nominee major political party go war fbi that’s exactly hillary people do coma patient wake watch hour cnn hospital bed would assume fbi director james comey hillary’s opponent election fbi attack everyone obama cnn hillary’s people circulate letter attack comey currently medium hit piece lambast target trump wouldn’t surprising clinton ally start run attack ad fbi fbi’s leadership warn entire left-wing establishment form lynch mob continue go hillary fbi’s credibility attack medium democrat preemptively head result investigation clinton foundation hillary clinton covert struggle fbi agent obama’s doj people go explosively public new york time compare comey j edgar hoover bizarre headline “james comey role recall hoover’s fbi fairly not” practically admit front it’s spout nonsense boston globe publish column call comey’s resignation outdone time editorial claim scandal really attack woman james carville appear msnbc remind everyone still alive insane accuse comey coordinate house republicans kgb think “vast right wing conspiracy” stretch countless medium story charge comey violating procedure know what’s procedural violation email classify information store bathroom server senator harry reid send comey letter accuse violate hatch act hatch act nice idea much relevance age obama tenth amendment cable news spectrum quickly fill medium hack glance wikipedia article hatch act table accuse fbi director one awkward conspiracies hillary ever jam comey really hurt hillary pick one hell strange way long ago democrat breathe sigh relief give hillary clinton pas prominent public statement really elect trump keep email scandal go trash investigation payroll house republicans kgb back play coy sudden development vladimir putin paul ryan talk take look anthony weiner’s computer either comey cunning fbi director ever live he’s awkwardly try navigate political mess trap doj leadership whose political future tie hillary’s victory bureau whose apolitical agent want allow job truly mysterious thing hillary associate decide go war respect federal agency american like fbi hillary clinton enjoy unfavorable rating it’s interesting question hillary’s old strategy lie deny fbi even criminal investigation underway instead associate insist security review fbi correct shrug old breezy denial approach give way savage assault fbi pretend nothing wrong bad strategy well one pick fight fbi lunatic clinton associate try claim fbi really kgb two possible explanation hillary clinton might arrogant enough lash fbi believe victory near kind hubris lead plan victory firework display could lead declare war fbi irritate final mile campaign explanation people panic go war fbi behavior smart focus presidential campaign it’s act desperation presidential candidate decides option try destroy credibility fbi that’s hubris it’s fear fbi might reveal original fbi investigation hillary clinton confident could ride good reason believe hillary clinton go place paranoid wreck within short space time “positive” clinton campaign promise unite country replace desperate flailing operation focus energy fight fbi there’s one reason bizarre behavior clinton campaign decide fbi investigation late batch email pose threat survival it’s go fight fbi it’s unprecedented step bear fear it’s hard know whether fear justify existence fear already tell u whole lot clinton loyalists rig old investigation know outcome ahead time well know debate question suddenly longer control afraid smell fear fbi wiretap investigation clinton foundation it’s find new emails time clintonworld panic spinmeister clintonworld claim email scandal much smoke without fire that’s appearance impropriety without substance isn’t react smoke it’s respond fire misguide assault fbi tell u hillary clinton ally afraid revelation big fundamental illegality email setup email setup preemptive cover clinton campaign panic badly belief right wrong whatever crime illegal setup mean cover risk expose clinton weather countless scandal year whatever protect time around big usual corruption bribery sexual assault abuse power follow around throughout year big damaging allegation already come don’t want fbi investigator anywhere near campaign comey pure intimidation it’s also warn senior fbi people value career warn stay away democrat close rank around nominee fbi it’s ugly unprecedented scene may also last stand hillary clinton awkwardly wind way numerous scandal election cycle she’s never show fear desperation change whatever afraid lie bury email huma abedin bring like nothing else NN-smell JJ-hillary NNP-’ NN-s NN-fear JJ-daniel NN-greenfield JJ-shillman NN-journalism NN-fellow NN-freedom VBP-center JJ-new NN-york NN-writer VB-focus JJ-radical JJ-islam JJ-final NN-stretch NN-election JJ-hillary NN-rodham NN-clinton VBP-go NN-war NN-fbi NN-word NNP-“ VBD-unprecedented JJ-” VBN-thrown RB-around RB-often NN-election MD-ought VB-retire PRP-it NNP-’ VBD-s RB-still JJ-unprecedented JJ-nominee JJ-major JJ-political NN-party VBP-go NN-war NN-fbi WDT-that VBZ-’ RB-s RB-exactly JJ-hillary NNS-people VBP-do VB-coma JJ-patient NN-wake VB-watch NN-hour JJ-cnn NN-hospital NN-bed MD-would VB-assume JJ-fbi NN-director NNS-james VBP-comey JJ-hillary NNP-’ NN-s NN-opponent NN-election VBZ-fbi RP-attack NN-everyone NN-obama NN-cnn JJ-hillary NNP-’ NN-s NNS-people VBP-circulate NN-letter NN-attack NN-comey RB-currently RBS-medium VBN-hit NN-piece NN-lambast NN-target NN-trump NN-wouldn NNP-’ NN-t VBG-surprising NN-clinton RB-ally VB-start VB-run RB-attack NN-ad NN-fbi NN-fbi NNP-’ VBZ-s NN-leadership JJ-warn JJ-entire JJ-left-wing NN-establishment NN-form NN-lynch NN-mob NN-continue VBP-go JJ-hillary NN-fbi NNP-’ NN-s NN-credibility NN-attack NN-medium NN-democrat RB-preemptively JJ-head NN-result NN-investigation NN-clinton NN-foundation JJ-hillary NN-clinton JJ-covert NN-struggle NN-fbi NN-agent IN-obama NNP-’ VBD-s JJ-doj NNS-people VBP-go RB-explosively JJ-public JJ-new NN-york NN-time JJ-compare JJ-comey NN-j NN-edgar NN-hoover JJ-bizarre NN-headline NNP-“ VBZ-james JJ-comey NN-role NN-recall NN-hoover NNP-’ NN-s VBD-fbi RB-fairly RB-not VB-” RB-practically VBP-admit JJ-front PRP-it VBZ-’ JJ-s NN-spout JJ-nonsense NN-boston NN-globe JJ-publish NN-column NN-call NN-comey NNP-’ VBZ-s NN-resignation NN-outdone NN-time JJ-editorial NN-claim NN-scandal RB-really JJ-attack NN-woman NNS-james VBP-carville JJ-appear NN-msnbc NN-remind NN-everyone RB-still JJ-alive NN-insane IN-accuse JJ-comey NN-coordinate NN-house VBZ-republicans JJ-kgb VBP-think NNP-“ RB-vast JJ-right VBG-wing NN-conspiracy NNP-” NN-stretch NN-countless NN-medium NN-story NN-charge NN-comey VBG-violating NN-procedure VBP-know WP-what NNP-’ VBD-s JJ-procedural NN-violation NN-email NN-classify NN-information NN-store NN-bathroom NN-server NN-senator NN-harry VBP-reid VB-send JJ-comey NN-letter NN-accuse NN-violate NN-hatch NN-act NN-hatch NN-act JJ-nice NN-idea JJ-much NN-relevance NN-age JJ-obama JJ-tenth NN-amendment NN-cable NN-news NN-spectrum RB-quickly VB-fill JJ-medium NN-hack NN-glance NN-wikipedia NN-article NN-hatch NN-act JJ-table NN-accuse VBD-fbi NN-director CD-one NN-awkward VBZ-conspiracies JJ-hillary RB-ever VBP-jam NNS-comey RB-really VBP-hurt JJ-hillary NN-pick CD-one NN-hell JJ-strange NN-way RB-long RB-ago VB-democrat NN-breathe JJ-sigh NN-relief JJ-give JJ-hillary NN-clinton NN-pas JJ-prominent JJ-public NN-statement RB-really JJ-elect NN-trump VB-keep NN-email NN-scandal VBP-go JJ-trash NN-investigation NN-payroll NN-house VBZ-republicans VBN-kgb RP-back NN-play NN-coy JJ-sudden NN-development NN-vladimir NN-putin NN-paul JJ-ryan NN-talk VB-take NN-look JJ-anthony NN-weiner NNP-’ VBZ-s NN-computer CC-either NN-comey NN-cunning NN-fbi NN-director RB-ever VBP-live PRP-he VBZ-’ RB-s RB-awkwardly VB-try JJ-navigate JJ-political NN-mess NN-trap JJ-doj NN-leadership WP$-whose JJ-political NN-future NN-tie JJ-hillary NNP-’ NN-s NN-victory NN-bureau WP$-whose JJ-apolitical NN-agent VBP-want JJ-allow NN-job RB-truly JJ-mysterious NN-thing JJ-hillary NN-associate NN-decide VBP-go NN-war NN-respect JJ-federal NN-agency JJ-american IN-like JJ-fbi JJ-hillary NN-clinton NN-enjoy JJ-unfavorable NN-rating PRP-it VBZ-’ JJ-s JJ-interesting NN-question JJ-hillary NN-’ NN-s JJ-old NN-strategy VBZ-lie VBP-deny VB-fbi RB-even JJ-criminal NN-investigation RB-underway RB-instead JJ-associate JJ-insist NN-security NN-review NN-fbi JJ-correct JJ-shrug JJ-old NN-breezy JJ-denial NN-approach JJ-give NN-way NN-savage NN-assault JJ-fbi NN-pretend NN-nothing JJ-wrong JJ-bad NN-strategy RB-well CD-one NN-pick NN-fight NN-fbi JJ-lunatic NN-clinton JJ-associate NN-try NN-claim VBP-fbi RB-really VB-kgb CD-two JJ-possible NN-explanation JJ-hillary NN-clinton MD-might VB-arrogant JJ-enough NN-lash NNS-fbi VBP-believe NN-victory IN-near NN-kind JJ-hubris NN-lead NN-plan JJ-victory NN-firework NN-display MD-could VB-lead JJ-declare NN-war NN-fbi VBP-irritate JJ-final NN-mile NN-campaign NN-explanation NNS-people JJ-panic VBP-go NN-war NN-fbi JJ-behavior JJ-smart NN-focus JJ-presidential NN-campaign PRP-it NNP-’ VBZ-s JJ-act NN-desperation JJ-presidential NN-candidate NNS-decides NN-option NN-try NN-destroy NN-credibility VBP-fbi IN-that NNP-’ VBD-s VB-hubris PRP-it NNP-’ VBD-s JJ-fear NN-fbi MD-might VB-reveal JJ-original NN-fbi NN-investigation JJ-hillary NN-clinton NN-confident MD-could VB-ride JJ-good NN-reason VBP-believe JJ-hillary NN-clinton VBP-go NN-place NN-paranoid NN-wreck IN-within JJ-short NN-space NN-time NNP-“ JJ-positive NNP-” NN-clinton NN-campaign VBP-promise JJ-unite NN-country VB-replace JJ-desperate NN-flailing NN-operation NN-focus NN-energy NN-fight NN-fbi RB-there NNP-’ VBD-s CD-one NN-reason JJ-bizarre NN-behavior NN-clinton NN-campaign VBP-decide JJ-fbi NN-investigation RB-late NN-batch NN-email NN-pose NN-threat NN-survival PRP-it VBZ-’ JJ-s VB-go JJ-fight NN-fbi PRP-it VBZ-’ RB-s JJ-unprecedented NN-step IN-bear NN-fear PRP-it VBZ-’ JJ-s RB-hard VBP-know IN-whether NN-fear NN-justify NN-existence NN-fear RB-already VB-tell JJ-u JJ-whole NN-lot NN-clinton VBZ-loyalists VBP-rig JJ-old NN-investigation VBP-know VBN-outcome RB-ahead NN-time RB-well VB-know NN-debate NN-question RB-suddenly RBR-longer NN-control JJ-afraid NN-smell NN-fear NN-fbi NN-wiretap NN-investigation NN-clinton NN-foundation PRP-it VBZ-’ JJ-s VB-find JJ-new NNS-emails NN-time NN-clintonworld NN-panic NN-spinmeister NN-clintonworld NN-claim VBP-email NN-scandal JJ-much NN-smoke IN-without NN-fire IN-that NNP-’ VBD-s NN-appearance NN-impropriety IN-without NN-substance NN-isn NNP-’ NN-t NN-react VBD-smoke PRP-it NNP-’ VBZ-s NN-respond NN-fire NN-misguide NN-assault NN-fbi VBP-tell JJ-u JJ-hillary NN-clinton NN-ally JJ-afraid NN-revelation JJ-big JJ-fundamental NN-illegality VBP-email NN-setup NN-email NN-setup JJ-preemptive NN-cover NN-clinton NN-campaign JJ-panic RB-badly JJ-belief NN-right JJ-wrong WDT-whatever NN-crime JJ-illegal NN-setup NN-mean NN-cover NN-risk VBP-expose NN-clinton NN-weather NN-countless NN-scandal NN-year WDT-whatever JJ-protect NN-time IN-around JJ-big JJ-usual NN-corruption NN-bribery JJ-sexual NN-assault NN-abuse NN-power VBP-follow IN-around IN-throughout NN-year JJ-big NN-damaging NN-allegation RB-already VBN-come NN-don NNP-’ NN-t VBP-want NN-fbi NN-investigator RB-anywhere IN-near NN-campaign NN-comey NN-pure NN-intimidation PRP-it VBZ-’ NN-s RB-also VBP-warn JJ-senior NN-fbi NNS-people NN-value NN-career VBP-warn VB-stay RB-away RB-democrat JJ-close NN-rank IN-around JJ-nominee NN-fbi PRP-it VBZ-’ JJ-s RB-ugly JJ-unprecedented NN-scene MD-may RB-also JJ-last NN-stand JJ-hillary NN-clinton RB-awkwardly JJ-wind NN-way JJ-numerous NN-scandal NN-election NN-cycle PRP-she VBD-’ PRP-s RB-never VBP-show JJ-fear NN-desperation NN-change WDT-whatever JJ-afraid JJ-lie NN-bury NN-email NN-huma IN-abedin VBG-bring IN-like NN-nothing RB-else",
            "count": 1
           }
          ]
         }
        },
        {
         "name": "_deepnote_index_column",
         "dtype": "int64"
        }
       ],
       "rows": [
        {
         "ID": 8476,
         "title": "You Can Smell Hillary’s Fear",
         "text": "Daniel Greenfield | a Shillman Journalism Fellow at the Freedom Center | is a New York writer focus…",
         "label": "FAKE",
         "X1": "None",
         "X2": "None",
         "title_and_text": "You Can Smell Hillary’s Fear Daniel Greenfield | a Shillman Journalism Fellow at the Freedom Center…",
         "preprocessed_text": "smell hillary’s fear daniel greenfield shillman journalism fellow freedom center new york writer fo…",
         "pos_tagged_text": "NN-smell JJ-hillary NNP-’ NN-s NN-fear JJ-daniel NN-greenfield JJ-shillman NN-journalism NN-fellow …",
         "clean_and_pos_tagged_text": "smell hillary’s fear daniel greenfield shillman journalism fellow freedom center new york writer fo…",
         "_deepnote_index_column": 0
        }
       ]
      },
      "text/plain": "     ID                         title  \\\n0  8476  You Can Smell Hillary’s Fear   \n\n                                                text label    X1    X2  \\\n0  Daniel Greenfield | a Shillman Journalism Fell...  FAKE  None  None   \n\n                                      title_and_text  \\\n0  You Can Smell Hillary’s Fear Daniel Greenfield...   \n\n                                   preprocessed_text  \\\n0  smell hillary’s fear daniel greenfield shillma...   \n\n                                     pos_tagged_text  \\\n0  NN-smell JJ-hillary NNP-’ NN-s NN-fear JJ-dani...   \n\n                           clean_and_pos_tagged_text  \n0  smell hillary’s fear daniel greenfield shillma...  ",
      "text/html": "<div>\n<style scoped>\n    .dataframe tbody tr th:only-of-type {\n        vertical-align: middle;\n    }\n\n    .dataframe tbody tr th {\n        vertical-align: top;\n    }\n\n    .dataframe thead th {\n        text-align: right;\n    }\n</style>\n<table border=\"1\" class=\"dataframe\">\n  <thead>\n    <tr style=\"text-align: right;\">\n      <th></th>\n      <th>ID</th>\n      <th>title</th>\n      <th>text</th>\n      <th>label</th>\n      <th>X1</th>\n      <th>X2</th>\n      <th>title_and_text</th>\n      <th>preprocessed_text</th>\n      <th>pos_tagged_text</th>\n      <th>clean_and_pos_tagged_text</th>\n    </tr>\n  </thead>\n  <tbody>\n    <tr>\n      <th>0</th>\n      <td>8476</td>\n      <td>You Can Smell Hillary’s Fear</td>\n      <td>Daniel Greenfield | a Shillman Journalism Fell...</td>\n      <td>FAKE</td>\n      <td>None</td>\n      <td>None</td>\n      <td>You Can Smell Hillary’s Fear Daniel Greenfield...</td>\n      <td>smell hillary’s fear daniel greenfield shillma...</td>\n      <td>NN-smell JJ-hillary NNP-’ NN-s NN-fear JJ-dani...</td>\n      <td>smell hillary’s fear daniel greenfield shillma...</td>\n    </tr>\n  </tbody>\n</table>\n</div>"
     },
     "metadata": {}
    }
   ]
  },
  {
   "cell_type": "code",
   "metadata": {
    "id": "97Y7qg393rly",
    "cell_id": "00125-d3af202e-249f-49e0-b354-81e9c2138bfc",
    "deepnote_to_be_reexecuted": false,
    "source_hash": "3e1a2301",
    "execution_start": 1643889096938,
    "execution_millis": 63,
    "deepnote_cell_type": "code"
   },
   "source": [
    "test.head(1)"
   ],
   "execution_count": 94,
   "outputs": [
    {
     "output_type": "execute_result",
     "execution_count": 94,
     "data": {
      "application/vnd.deepnote.dataframe.v3+json": {
       "column_count": 7,
       "row_count": 1,
       "columns": [
        {
         "name": "ID",
         "dtype": "object",
         "stats": {
          "unique_count": 1,
          "nan_count": 0,
          "categories": [
           {
            "name": "10498",
            "count": 1
           }
          ]
         }
        },
        {
         "name": "title",
         "dtype": "object",
         "stats": {
          "unique_count": 1,
          "nan_count": 0,
          "categories": [
           {
            "name": "September New Homes Sales Rise——-Back To 1992 Level!",
            "count": 1
           }
          ]
         }
        },
        {
         "name": "text",
         "dtype": "object",
         "stats": {
          "unique_count": 1,
          "nan_count": 0,
          "categories": [
           {
            "name": "September New Homes Sales Rise Back To 1992 Level! By David Stockman. Posted On Wednesday, October 26th, 2016 \n\nDavid Stockman's Contra Corner is the only place where mainstream delusions and cant about the Warfare State, the Bailout State, Bubble Finance and Beltway Banditry are ripped, refuted and rebuked. Subscribe now to receive David Stockman’s latest posts by email each day as well as his model portfolio, Lee Adler’s Daily Data Dive and David’s personally curated insights and analysis from leading contrarian thinkers.",
            "count": 1
           }
          ]
         }
        },
        {
         "name": "title_and_text",
         "dtype": "object",
         "stats": {
          "unique_count": 1,
          "nan_count": 0,
          "categories": [
           {
            "name": "September New Homes Sales Rise——-Back To 1992 Level! September New Homes Sales Rise Back To 1992 Level! By David Stockman. Posted On Wednesday, October 26th, 2016 \n\nDavid Stockman's Contra Corner is the only place where mainstream delusions and cant about the Warfare State, the Bailout State, Bubble Finance and Beltway Banditry are ripped, refuted and rebuked. Subscribe now to receive David Stockman’s latest posts by email each day as well as his model portfolio, Lee Adler’s Daily Data Dive and David’s personally curated insights and analysis from leading contrarian thinkers.",
            "count": 1
           }
          ]
         }
        },
        {
         "name": "preprocessed_text",
         "dtype": "object",
         "stats": {
          "unique_count": 1,
          "nan_count": 0,
          "categories": [
           {
            "name": "september new home sale rise——-back level september new home sale rise back level david stockman post wednesday october \n\ndavid stockman's contra corner place mainstream delusion cant warfare state bailout state bubble finance beltway banditry rip refute rebuked subscribe receive david stockman’s late post email day well model portfolio lee adler’s daily data dive david’s personally curated insight analysis lead contrarian thinker",
            "count": 1
           }
          ]
         }
        },
        {
         "name": "pos_tagged_text",
         "dtype": "object",
         "stats": {
          "unique_count": 1,
          "nan_count": 0,
          "categories": [
           {
            "name": "VB-september JJ-new NN-home NN-sale JJ-rise——-back NN-level VB-september JJ-new NN-home NN-sale NN-rise RB-back NN-level NN-david NN-stockman NN-post JJ-wednesday NNP-october NN-david NN-stockman POS-'s JJ-contra NN-corner NN-place JJ-mainstream NN-delusion NN-cant NN-warfare NN-state NN-bailout NN-state JJ-bubble NN-finance NN-beltway NN-banditry VBD-rip NN-refute VBD-rebuked JJ-subscribe NN-receive NN-david NN-stockman NNP-’ NN-s RB-late NN-post NN-email NN-day RB-well RB-model NN-portfolio JJ-lee NN-adler NNP-’ VBD-s JJ-daily NNS-data NN-dive NN-david NNP-’ VBZ-s RB-personally VBN-curated JJ-insight NN-analysis NN-lead JJ-contrarian NN-thinker",
            "count": 1
           }
          ]
         }
        },
        {
         "name": "clean_and_pos_tagged_text",
         "dtype": "object",
         "stats": {
          "unique_count": 1,
          "nan_count": 0,
          "categories": [
           {
            "name": "september new home sale rise——-back level september new home sale rise back level david stockman post wednesday october \n\ndavid stockman's contra corner place mainstream delusion cant warfare state bailout state bubble finance beltway banditry rip refute rebuked subscribe receive david stockman’s late post email day well model portfolio lee adler’s daily data dive david’s personally curated insight analysis lead contrarian thinker NN-smell JJ-hillary NNP-’ NN-s NN-fear JJ-daniel NN-greenfield JJ-shillman NN-journalism NN-fellow NN-freedom VBP-center JJ-new NN-york NN-writer VB-focus JJ-radical JJ-islam JJ-final NN-stretch NN-election JJ-hillary NN-rodham NN-clinton VBP-go NN-war NN-fbi NN-word NNP-“ VBD-unprecedented JJ-” VBN-thrown RB-around RB-often NN-election MD-ought VB-retire PRP-it NNP-’ VBD-s RB-still JJ-unprecedented JJ-nominee JJ-major JJ-political NN-party VBP-go NN-war NN-fbi WDT-that VBZ-’ RB-s RB-exactly JJ-hillary NNS-people VBP-do VB-coma JJ-patient NN-wake VB-watch NN-hour JJ-cnn NN-hospital NN-bed MD-would VB-assume JJ-fbi NN-director NNS-james VBP-comey JJ-hillary NNP-’ NN-s NN-opponent NN-election VBZ-fbi RP-attack NN-everyone NN-obama NN-cnn JJ-hillary NNP-’ NN-s NNS-people VBP-circulate NN-letter NN-attack NN-comey RB-currently RBS-medium VBN-hit NN-piece NN-lambast NN-target NN-trump NN-wouldn NNP-’ NN-t VBG-surprising NN-clinton RB-ally VB-start VB-run RB-attack NN-ad NN-fbi NN-fbi NNP-’ VBZ-s NN-leadership JJ-warn JJ-entire JJ-left-wing NN-establishment NN-form NN-lynch NN-mob NN-continue VBP-go JJ-hillary NN-fbi NNP-’ NN-s NN-credibility NN-attack NN-medium NN-democrat RB-preemptively JJ-head NN-result NN-investigation NN-clinton NN-foundation JJ-hillary NN-clinton JJ-covert NN-struggle NN-fbi NN-agent IN-obama NNP-’ VBD-s JJ-doj NNS-people VBP-go RB-explosively JJ-public JJ-new NN-york NN-time JJ-compare JJ-comey NN-j NN-edgar NN-hoover JJ-bizarre NN-headline NNP-“ VBZ-james JJ-comey NN-role NN-recall NN-hoover NNP-’ NN-s VBD-fbi RB-fairly RB-not VB-” RB-practically VBP-admit JJ-front PRP-it VBZ-’ JJ-s NN-spout JJ-nonsense NN-boston NN-globe JJ-publish NN-column NN-call NN-comey NNP-’ VBZ-s NN-resignation NN-outdone NN-time JJ-editorial NN-claim NN-scandal RB-really JJ-attack NN-woman NNS-james VBP-carville JJ-appear NN-msnbc NN-remind NN-everyone RB-still JJ-alive NN-insane IN-accuse JJ-comey NN-coordinate NN-house VBZ-republicans JJ-kgb VBP-think NNP-“ RB-vast JJ-right VBG-wing NN-conspiracy NNP-” NN-stretch NN-countless NN-medium NN-story NN-charge NN-comey VBG-violating NN-procedure VBP-know WP-what NNP-’ VBD-s JJ-procedural NN-violation NN-email NN-classify NN-information NN-store NN-bathroom NN-server NN-senator NN-harry VBP-reid VB-send JJ-comey NN-letter NN-accuse NN-violate NN-hatch NN-act NN-hatch NN-act JJ-nice NN-idea JJ-much NN-relevance NN-age JJ-obama JJ-tenth NN-amendment NN-cable NN-news NN-spectrum RB-quickly VB-fill JJ-medium NN-hack NN-glance NN-wikipedia NN-article NN-hatch NN-act JJ-table NN-accuse VBD-fbi NN-director CD-one NN-awkward VBZ-conspiracies JJ-hillary RB-ever VBP-jam NNS-comey RB-really VBP-hurt JJ-hillary NN-pick CD-one NN-hell JJ-strange NN-way RB-long RB-ago VB-democrat NN-breathe JJ-sigh NN-relief JJ-give JJ-hillary NN-clinton NN-pas JJ-prominent JJ-public NN-statement RB-really JJ-elect NN-trump VB-keep NN-email NN-scandal VBP-go JJ-trash NN-investigation NN-payroll NN-house VBZ-republicans VBN-kgb RP-back NN-play NN-coy JJ-sudden NN-development NN-vladimir NN-putin NN-paul JJ-ryan NN-talk VB-take NN-look JJ-anthony NN-weiner NNP-’ VBZ-s NN-computer CC-either NN-comey NN-cunning NN-fbi NN-director RB-ever VBP-live PRP-he VBZ-’ RB-s RB-awkwardly VB-try JJ-navigate JJ-political NN-mess NN-trap JJ-doj NN-leadership WP$-whose JJ-political NN-future NN-tie JJ-hillary NNP-’ NN-s NN-victory NN-bureau WP$-whose JJ-apolitical NN-agent VBP-want JJ-allow NN-job RB-truly JJ-mysterious NN-thing JJ-hillary NN-associate NN-decide VBP-go NN-war NN-respect JJ-federal NN-agency JJ-american IN-like JJ-fbi JJ-hillary NN-clinton NN-enjoy JJ-unfavorable NN-rating PRP-it VBZ-’ JJ-s JJ-interesting NN-question JJ-hillary NN-’ NN-s JJ-old NN-strategy VBZ-lie VBP-deny VB-fbi RB-even JJ-criminal NN-investigation RB-underway RB-instead JJ-associate JJ-insist NN-security NN-review NN-fbi JJ-correct JJ-shrug JJ-old NN-breezy JJ-denial NN-approach JJ-give NN-way NN-savage NN-assault JJ-fbi NN-pretend NN-nothing JJ-wrong JJ-bad NN-strategy RB-well CD-one NN-pick NN-fight NN-fbi JJ-lunatic NN-clinton JJ-associate NN-try NN-claim VBP-fbi RB-really VB-kgb CD-two JJ-possible NN-explanation JJ-hillary NN-clinton MD-might VB-arrogant JJ-enough NN-lash NNS-fbi VBP-believe NN-victory IN-near NN-kind JJ-hubris NN-lead NN-plan JJ-victory NN-firework NN-display MD-could VB-lead JJ-declare NN-war NN-fbi VBP-irritate JJ-final NN-mile NN-campaign NN-explanation NNS-people JJ-panic VBP-go NN-war NN-fbi JJ-behavior JJ-smart NN-focus JJ-presidential NN-campaign PRP-it NNP-’ VBZ-s JJ-act NN-desperation JJ-presidential NN-candidate NNS-decides NN-option NN-try NN-destroy NN-credibility VBP-fbi IN-that NNP-’ VBD-s VB-hubris PRP-it NNP-’ VBD-s JJ-fear NN-fbi MD-might VB-reveal JJ-original NN-fbi NN-investigation JJ-hillary NN-clinton NN-confident MD-could VB-ride JJ-good NN-reason VBP-believe JJ-hillary NN-clinton VBP-go NN-place NN-paranoid NN-wreck IN-within JJ-short NN-space NN-time NNP-“ JJ-positive NNP-” NN-clinton NN-campaign VBP-promise JJ-unite NN-country VB-replace JJ-desperate NN-flailing NN-operation NN-focus NN-energy NN-fight NN-fbi RB-there NNP-’ VBD-s CD-one NN-reason JJ-bizarre NN-behavior NN-clinton NN-campaign VBP-decide JJ-fbi NN-investigation RB-late NN-batch NN-email NN-pose NN-threat NN-survival PRP-it VBZ-’ JJ-s VB-go JJ-fight NN-fbi PRP-it VBZ-’ RB-s JJ-unprecedented NN-step IN-bear NN-fear PRP-it VBZ-’ JJ-s RB-hard VBP-know IN-whether NN-fear NN-justify NN-existence NN-fear RB-already VB-tell JJ-u JJ-whole NN-lot NN-clinton VBZ-loyalists VBP-rig JJ-old NN-investigation VBP-know VBN-outcome RB-ahead NN-time RB-well VB-know NN-debate NN-question RB-suddenly RBR-longer NN-control JJ-afraid NN-smell NN-fear NN-fbi NN-wiretap NN-investigation NN-clinton NN-foundation PRP-it VBZ-’ JJ-s VB-find JJ-new NNS-emails NN-time NN-clintonworld NN-panic NN-spinmeister NN-clintonworld NN-claim VBP-email NN-scandal JJ-much NN-smoke IN-without NN-fire IN-that NNP-’ VBD-s NN-appearance NN-impropriety IN-without NN-substance NN-isn NNP-’ NN-t NN-react VBD-smoke PRP-it NNP-’ VBZ-s NN-respond NN-fire NN-misguide NN-assault NN-fbi VBP-tell JJ-u JJ-hillary NN-clinton NN-ally JJ-afraid NN-revelation JJ-big JJ-fundamental NN-illegality VBP-email NN-setup NN-email NN-setup JJ-preemptive NN-cover NN-clinton NN-campaign JJ-panic RB-badly JJ-belief NN-right JJ-wrong WDT-whatever NN-crime JJ-illegal NN-setup NN-mean NN-cover NN-risk VBP-expose NN-clinton NN-weather NN-countless NN-scandal NN-year WDT-whatever JJ-protect NN-time IN-around JJ-big JJ-usual NN-corruption NN-bribery JJ-sexual NN-assault NN-abuse NN-power VBP-follow IN-around IN-throughout NN-year JJ-big NN-damaging NN-allegation RB-already VBN-come NN-don NNP-’ NN-t VBP-want NN-fbi NN-investigator RB-anywhere IN-near NN-campaign NN-comey NN-pure NN-intimidation PRP-it VBZ-’ NN-s RB-also VBP-warn JJ-senior NN-fbi NNS-people NN-value NN-career VBP-warn VB-stay RB-away RB-democrat JJ-close NN-rank IN-around JJ-nominee NN-fbi PRP-it VBZ-’ JJ-s RB-ugly JJ-unprecedented NN-scene MD-may RB-also JJ-last NN-stand JJ-hillary NN-clinton RB-awkwardly JJ-wind NN-way JJ-numerous NN-scandal NN-election NN-cycle PRP-she VBD-’ PRP-s RB-never VBP-show JJ-fear NN-desperation NN-change WDT-whatever JJ-afraid JJ-lie NN-bury NN-email NN-huma IN-abedin VBG-bring IN-like NN-nothing RB-else",
            "count": 1
           }
          ]
         }
        },
        {
         "name": "_deepnote_index_column",
         "dtype": "int64"
        }
       ],
       "rows": [
        {
         "ID": "10498",
         "title": "September New Homes Sales Rise——-Back To 1992 Level!",
         "text": "September New Homes Sales Rise Back To 1992 Level! By David Stockman. Posted On Wednesday, October …",
         "title_and_text": "September New Homes Sales Rise——-Back To 1992 Level! September New Homes Sales Rise Back To 1992 Le…",
         "preprocessed_text": "september new home sale rise——-back level september new home sale rise back level david stockman po…",
         "pos_tagged_text": "VB-september JJ-new NN-home NN-sale JJ-rise——-back NN-level VB-september JJ-new NN-home NN-sale NN-…",
         "clean_and_pos_tagged_text": "september new home sale rise——-back level september new home sale rise back level david stockman po…",
         "_deepnote_index_column": 0
        }
       ]
      },
      "text/plain": "      ID                                              title  \\\n0  10498  September New Homes Sales Rise——-Back To 1992 ...   \n\n                                                text  \\\n0  September New Homes Sales Rise Back To 1992 Le...   \n\n                                      title_and_text  \\\n0  September New Homes Sales Rise——-Back To 1992 ...   \n\n                                   preprocessed_text  \\\n0  september new home sale rise——-back level sept...   \n\n                                     pos_tagged_text  \\\n0  VB-september JJ-new NN-home NN-sale JJ-rise——-...   \n\n                           clean_and_pos_tagged_text  \n0  september new home sale rise——-back level sept...  ",
      "text/html": "<div>\n<style scoped>\n    .dataframe tbody tr th:only-of-type {\n        vertical-align: middle;\n    }\n\n    .dataframe tbody tr th {\n        vertical-align: top;\n    }\n\n    .dataframe thead th {\n        text-align: right;\n    }\n</style>\n<table border=\"1\" class=\"dataframe\">\n  <thead>\n    <tr style=\"text-align: right;\">\n      <th></th>\n      <th>ID</th>\n      <th>title</th>\n      <th>text</th>\n      <th>title_and_text</th>\n      <th>preprocessed_text</th>\n      <th>pos_tagged_text</th>\n      <th>clean_and_pos_tagged_text</th>\n    </tr>\n  </thead>\n  <tbody>\n    <tr>\n      <th>0</th>\n      <td>10498</td>\n      <td>September New Homes Sales Rise——-Back To 1992 ...</td>\n      <td>September New Homes Sales Rise Back To 1992 Le...</td>\n      <td>September New Homes Sales Rise——-Back To 1992 ...</td>\n      <td>september new home sale rise——-back level sept...</td>\n      <td>VB-september JJ-new NN-home NN-sale JJ-rise——-...</td>\n      <td>september new home sale rise——-back level sept...</td>\n    </tr>\n  </tbody>\n</table>\n</div>"
     },
     "metadata": {}
    }
   ]
  },
  {
   "cell_type": "markdown",
   "source": [
    "## Modelling using MaxEnt on trigram vect.+ TF-IDF Grid Search Best params"
   ],
   "metadata": {
    "id": "E6hvBAEX3rly",
    "cell_id": "00126-931e12d6-bc0f-43fb-8d2e-ef789881b69f",
    "deepnote_cell_type": "markdown"
   }
  },
  {
   "cell_type": "markdown",
   "source": [
    "### Trigram + Tfdif + classifier pipeline"
   ],
   "metadata": {
    "id": "0Z01og963rlz",
    "cell_id": "00127-d45b75de-7601-4f72-b368-a6e29ac896a4",
    "deepnote_cell_type": "markdown"
   }
  },
  {
   "cell_type": "code",
   "metadata": {
    "id": "I_mzkGVt3rlz",
    "cell_id": "00128-d2d48bb9-ed7b-4ee2-bbca-48d67c8e7d3d",
    "deepnote_to_be_reexecuted": false,
    "source_hash": "1f3c1e0f",
    "execution_start": 1643889097015,
    "deepnote_cell_type": "code"
   },
   "source": [
    "from sklearn.pipeline import Pipeline\n",
    "trigram_vectorizer = CountVectorizer(analyzer = 'word', ngram_range=(1,3))\n",
    "tf_idf = TfidfTransformer(norm='l2')\n",
    "classifier = LogisticRegression(C=1000, class_weight=None, dual=False, fit_intercept=True,\n",
    "          intercept_scaling=1, max_iter=100, multi_class='multinomial',\n",
    "          n_jobs=None, penalty='l2', random_state=None, solver='saga',\n",
    "          tol=0.0001, verbose=0, warm_start=False)\n",
    "\n",
    "pipeline = Pipeline([\n",
    "     ('trigram_vectorizer', trigram_vectorizer),\n",
    "     ('tfidf', tf_idf),\n",
    "     ('clf', classifier),\n",
    " ])\n"
   ],
   "execution_count": 95,
   "outputs": []
  },
  {
   "cell_type": "code",
   "metadata": {
    "id": "HXmdi-YA3rlz",
    "cell_id": "00129-ba011a08-4cb2-4b9a-93ea-7816206b5a2e",
    "deepnote_to_be_reexecuted": false,
    "source_hash": "3b90b6e0",
    "execution_start": 1643889097018,
    "execution_millis": 130704,
    "deepnote_output_heights": [
     97.9375
    ],
    "deepnote_cell_type": "code"
   },
   "source": [
    "pipeline.fit(train.clean_and_pos_tagged_text, encoder.fit_transform(train.label.values))"
   ],
   "execution_count": 96,
   "outputs": [
    {
     "output_type": "execute_result",
     "execution_count": 96,
     "data": {
      "text/plain": "Pipeline(steps=[('trigram_vectorizer', CountVectorizer(ngram_range=(1, 3))),\n                ('tfidf', TfidfTransformer()),\n                ('clf',\n                 LogisticRegression(C=1000, multi_class='multinomial',\n                                    solver='saga'))])"
     },
     "metadata": {}
    }
   ]
  },
  {
   "cell_type": "code",
   "metadata": {
    "id": "WK-OBItU3rlz",
    "cell_id": "00130-0b010d77-bd1f-4326-b018-1dbfb19484b1",
    "deepnote_to_be_reexecuted": false,
    "source_hash": "155b0e2c",
    "execution_start": 1643889227718,
    "execution_millis": 3501,
    "deepnote_cell_type": "code"
   },
   "source": [
    "import pickle\n",
    "pickle.dump( pipeline, open( 'ai/pickle/pipeline.pkl', 'wb' ) )"
   ],
   "execution_count": 97,
   "outputs": []
  },
  {
   "cell_type": "markdown",
   "source": [
    "## 2. Predicting on test"
   ],
   "metadata": {
    "id": "f2tElVO83rl0",
    "cell_id": "00131-3a554b12-339e-4170-8ac6-a71725f4a021",
    "deepnote_cell_type": "markdown"
   }
  },
  {
   "cell_type": "code",
   "metadata": {
    "id": "WH-92RK73rl0",
    "cell_id": "00132-9194629e-a4fa-4c6c-aade-1a89dd65fd02",
    "deepnote_to_be_reexecuted": false,
    "source_hash": "4ddbeabe",
    "execution_start": 1643889231250,
    "execution_millis": 14267,
    "deepnote_cell_type": "code"
   },
   "source": [
    "print(colored('Predicting on test', 'blue'))\n",
    "test_predictions = test_predictions = pipeline.predict(test.clean_and_pos_tagged_text)\n"
   ],
   "execution_count": 98,
   "outputs": [
    {
     "name": "stdout",
     "text": "\u001B[34mPredicting on test\u001B[0m\n",
     "output_type": "stream"
    }
   ]
  },
  {
   "cell_type": "code",
   "metadata": {
    "id": "wuY2NjD33rl0",
    "cell_id": "00133-7743db17-8e7f-4054-8104-a21c1e1e269c",
    "deepnote_to_be_reexecuted": false,
    "source_hash": "15187875",
    "execution_start": 1643889245523,
    "execution_millis": 16,
    "deepnote_output_heights": [
     1
    ],
    "deepnote_cell_type": "code"
   },
   "source": [
    "test_predictions"
   ],
   "execution_count": 99,
   "outputs": [
    {
     "output_type": "execute_result",
     "execution_count": 99,
     "data": {
      "text/plain": "array([0, 0, 1, ..., 1, 1, 1])"
     },
     "metadata": {}
    }
   ]
  },
  {
   "cell_type": "code",
   "metadata": {
    "id": "l9MGqJ7G3rl1",
    "cell_id": "00134-4e7e5529-867a-49ff-ae52-fcd5642dd462",
    "deepnote_to_be_reexecuted": false,
    "source_hash": "49ed20ba",
    "execution_start": 1643889245538,
    "deepnote_cell_type": "code"
   },
   "source": [
    "test_predictions_decoded = encoder.inverse_transform( test_predictions )"
   ],
   "execution_count": 100,
   "outputs": []
  },
  {
   "cell_type": "code",
   "metadata": {
    "id": "AJBH1kq_3rl1",
    "cell_id": "00135-aefa3cc3-2600-430d-9669-1116f270678e",
    "deepnote_to_be_reexecuted": false,
    "source_hash": "94a1aa26",
    "execution_start": 1643889245553,
    "execution_millis": 1,
    "deepnote_cell_type": "code"
   },
   "source": [
    "predictions = test\n",
    "predictions['label'] = test_predictions_decoded"
   ],
   "execution_count": 101,
   "outputs": []
  },
  {
   "cell_type": "code",
   "metadata": {
    "id": "USwel4863rl1",
    "cell_id": "00136-69639d08-d871-439d-b256-9a2648a10988",
    "deepnote_to_be_reexecuted": false,
    "source_hash": "9e7eff9d",
    "execution_start": 1643889245566,
    "execution_millis": 6,
    "deepnote_output_heights": [
     1
    ],
    "deepnote_cell_type": "code"
   },
   "source": [
    "predictions.shape"
   ],
   "execution_count": 102,
   "outputs": [
    {
     "output_type": "execute_result",
     "execution_count": 102,
     "data": {
      "text/plain": "(2321, 8)"
     },
     "metadata": {}
    }
   ]
  },
  {
   "cell_type": "code",
   "metadata": {
    "id": "kGBmx_ym3rl1",
    "cell_id": "00137-76a3c223-afcb-457f-8f0a-f774c2bb5970",
    "deepnote_to_be_reexecuted": false,
    "source_hash": "70909bd",
    "execution_start": 1643889245621,
    "execution_millis": 51,
    "deepnote_cell_type": "code"
   },
   "source": [
    "predictions.head()"
   ],
   "execution_count": 103,
   "outputs": [
    {
     "output_type": "execute_result",
     "execution_count": 103,
     "data": {
      "application/vnd.deepnote.dataframe.v3+json": {
       "column_count": 8,
       "row_count": 5,
       "columns": [
        {
         "name": "ID",
         "dtype": "object",
         "stats": {
          "unique_count": 5,
          "nan_count": 0,
          "categories": [
           {
            "name": "10498",
            "count": 1
           },
           {
            "name": "2439",
            "count": 1
           },
           {
            "name": "3 others",
            "count": 3
           }
          ]
         }
        },
        {
         "name": "title",
         "dtype": "object",
         "stats": {
          "unique_count": 5,
          "nan_count": 0,
          "categories": [
           {
            "name": "September New Homes Sales Rise——-Back To 1992 Level!",
            "count": 1
           },
           {
            "name": "Why The Obamacare Doomsday Cult Can't Admit It's Wrong",
            "count": 1
           },
           {
            "name": "3 others",
            "count": 3
           }
          ]
         }
        },
        {
         "name": "text",
         "dtype": "object",
         "stats": {
          "unique_count": 5,
          "nan_count": 0,
          "categories": [
           {
            "name": "September New Homes Sales Rise Back To 1992 Level! By David Stockman. Posted On Wednesday, October 26th, 2016 \n\nDavid Stockman's Contra Corner is the only place where mainstream delusions and cant about the Warfare State, the Bailout State, Bubble Finance and Beltway Banditry are ripped, refuted and rebuked. Subscribe now to receive David Stockman’s latest posts by email each day as well as his model portfolio, Lee Adler’s Daily Data Dive and David’s personally curated insights and analysis from leading contrarian thinkers.",
            "count": 1
           },
           {
            "name": "But when Congress debated and passed the Patient Protection and Affordable Care Act in 2009 and 2010, opponents were nearly unified in offering grim Keech-like predictions. With Obamacare now in full effect, and the economy on a decided upswing, the dour prognostications are starting to look like Keech's flying saucers. At least if you believe the data. A look at Festinger's theories, though, can explain why that won't matter, and why Americans can expect a continued drumbeat of doom, even as the prophecies fail.\n\n“It certainly has not had the baleful effects the critics were predicting,” said Paul Van de Water, a senior fellow at the Center on Budget and Policy Priorities who supports the law, but never thought it would have much economic impact. “On balance it may be a modest plus, to the extent that it has contributed to the slowdown of growth in health care costs.”\n\nBut that's not how Capitol Hill’s gloomsday cult sees it. Indeed, try getting any of them to admit the Affordable Care Act jobs slaughter has not happened, and they sound like the punchline to the old joke where a spouse gets caught in the act cheating: “Who are you going to believe -- me, or your lying eyes?”\n\n\"With politicians, you can’t be sure that what comes out of their mouths is really what’s in their head,\" said Elliot Aronson, one of Festinger’s former students who is regarded as the foremost expert on cognitive dissonance alive today. \"When it comes to politics, we have to really look closely.\"\n\nThe way cognitive dissonance works is that when people are confronted with information that contradicts either their beliefs or actions, they feel discomfort. To feel better, they either have to modify their beliefs and actions, or find some way to discount the disconfirming information. And the more effort someone invests in a particular action or idea, the greater the lengths they will go in crafting justifications to ease their discomfort.\n\nAronson and co-author Carol Tavris looked closely at that phenomenon in their 2007 book, Mistakes Were Made (but not by me). Among the examples are prosecutors who insist that people cleared by DNA evidence are still guilty; scientists who insist results that agree with funders’ interests could not have been swayed, and people who like an idea from their political party, but dislike the same idea if told it came from the opposition party.\n\nIndeed, committing to a specific ideology can make it much harder to see facts clearly, let alone acknowledge them. Aronson noted that it’s especially hard for people who spent the last five years opposing a specific policy. “These guys are so committed to the belief that Obama can’t do anything right, and that Obamacare is socialism, that it would be very, very difficult for them to examine the data objectively,\" he said. \"I think that’s what’s wrong with politics, that’s what’s wrong with ideology, that’s what’s wrong with politics that are ideologically driven.”\n\n“One could create some line of argument that the economy would be much, much stronger without the ACA, but that really seems to be a stretch,” said Van de Water, the economist. “We have a very large economy. Even as important as the Affordable Care Act is, it’s working on a major sector of the economy, but only at the margins. Even in advance, one would have thought it wasn’t going to have a huge effect.”",
            "count": 1
           },
           {
            "name": "3 others",
            "count": 3
           }
          ]
         }
        },
        {
         "name": "title_and_text",
         "dtype": "object",
         "stats": {
          "unique_count": 5,
          "nan_count": 0,
          "categories": [
           {
            "name": "September New Homes Sales Rise——-Back To 1992 Level! September New Homes Sales Rise Back To 1992 Level! By David Stockman. Posted On Wednesday, October 26th, 2016 \n\nDavid Stockman's Contra Corner is the only place where mainstream delusions and cant about the Warfare State, the Bailout State, Bubble Finance and Beltway Banditry are ripped, refuted and rebuked. Subscribe now to receive David Stockman’s latest posts by email each day as well as his model portfolio, Lee Adler’s Daily Data Dive and David’s personally curated insights and analysis from leading contrarian thinkers.",
            "count": 1
           },
           {
            "name": "Why The Obamacare Doomsday Cult Can't Admit It's Wrong But when Congress debated and passed the Patient Protection and Affordable Care Act in 2009 and 2010, opponents were nearly unified in offering grim Keech-like predictions. With Obamacare now in full effect, and the economy on a decided upswing, the dour prognostications are starting to look like Keech's flying saucers. At least if you believe the data. A look at Festinger's theories, though, can explain why that won't matter, and why Americans can expect a continued drumbeat of doom, even as the prophecies fail.\n\n“It certainly has not had the baleful effects the critics were predicting,” said Paul Van de Water, a senior fellow at the Center on Budget and Policy Priorities who supports the law, but never thought it would have much economic impact. “On balance it may be a modest plus, to the extent that it has contributed to the slowdown of growth in health care costs.”\n\nBut that's not how Capitol Hill’s gloomsday cult sees it. Indeed, try getting any of them to admit the Affordable Care Act jobs slaughter has not happened, and they sound like the punchline to the old joke where a spouse gets caught in the act cheating: “Who are you going to believe -- me, or your lying eyes?”\n\n\"With politicians, you can’t be sure that what comes out of their mouths is really what’s in their head,\" said Elliot Aronson, one of Festinger’s former students who is regarded as the foremost expert on cognitive dissonance alive today. \"When it comes to politics, we have to really look closely.\"\n\nThe way cognitive dissonance works is that when people are confronted with information that contradicts either their beliefs or actions, they feel discomfort. To feel better, they either have to modify their beliefs and actions, or find some way to discount the disconfirming information. And the more effort someone invests in a particular action or idea, the greater the lengths they will go in crafting justifications to ease their discomfort.\n\nAronson and co-author Carol Tavris looked closely at that phenomenon in their 2007 book, Mistakes Were Made (but not by me). Among the examples are prosecutors who insist that people cleared by DNA evidence are still guilty; scientists who insist results that agree with funders’ interests could not have been swayed, and people who like an idea from their political party, but dislike the same idea if told it came from the opposition party.\n\nIndeed, committing to a specific ideology can make it much harder to see facts clearly, let alone acknowledge them. Aronson noted that it’s especially hard for people who spent the last five years opposing a specific policy. “These guys are so committed to the belief that Obama can’t do anything right, and that Obamacare is socialism, that it would be very, very difficult for them to examine the data objectively,\" he said. \"I think that’s what’s wrong with politics, that’s what’s wrong with ideology, that’s what’s wrong with politics that are ideologically driven.”\n\n“One could create some line of argument that the economy would be much, much stronger without the ACA, but that really seems to be a stretch,” said Van de Water, the economist. “We have a very large economy. Even as important as the Affordable Care Act is, it’s working on a major sector of the economy, but only at the margins. Even in advance, one would have thought it wasn’t going to have a huge effect.”",
            "count": 1
           },
           {
            "name": "3 others",
            "count": 3
           }
          ]
         }
        },
        {
         "name": "preprocessed_text",
         "dtype": "object",
         "stats": {
          "unique_count": 5,
          "nan_count": 0,
          "categories": [
           {
            "name": "september new home sale rise——-back level september new home sale rise back level david stockman post wednesday october \n\ndavid stockman's contra corner place mainstream delusion cant warfare state bailout state bubble finance beltway banditry rip refute rebuked subscribe receive david stockman’s late post email day well model portfolio lee adler’s daily data dive david’s personally curated insight analysis lead contrarian thinker",
            "count": 1
           },
           {
            "name": "obamacare doomsday cult can't admit wrong congress debate pass patient protection affordable care act opponent nearly unified offering grim keech-like prediction obamacare full effect economy decide upswing dour prognostication start look like keech's fly saucer least believe data look festinger's theory though explain matter american expect continue drumbeat doom even prophecies fail.\n\n“it certainly baleful effect critic predicting,” say paul van de water senior fellow center budget policy priority support law never think would much economic impact “on balance may modest plus extent contribute slowdown growth health care costs.”\n\nbut that's capitol hill’s gloomsday cult see indeed try get admit affordable care act job slaughter happen sound like punchline old joke spouse get catch act cheat “who go believe lie eyes?”\n\n\"with politician can’t sure come mouth really what’s head say elliot aronson one festinger’s former student regard foremost expert cognitive dissonance alive today come politics really look closely.\"\n\nthe way cognitive dissonance work people confront information contradicts either beliefs action feel discomfort feel well either modify beliefs action find way discount disconfirming information effort someone invest particular action idea great length go craft justification ease discomfort.\n\naronson co-author carol tavris look closely phenomenon book mistake make among examples prosecutor insist people clear dna evidence still guilty scientist insist result agree funders’ interest could sway people like idea political party dislike idea tell come opposition party.\n\nindeed commit specific ideology make much hard see fact clearly let alone acknowledge aronson note it’s especially hard people spend last five year oppose specific policy “these guy commit belief obama can’t anything right obamacare socialism would difficult examine data objectively say think that’s what’s wrong politics that’s what’s wrong ideology that’s what’s wrong politics ideologically driven.”\n\n“one could create line argument economy would much much strong without aca really seem stretch,” say van de water economist “we large economy even important affordable care act it’s work major sector economy margin even advance one would think wasn’t go huge effect.”",
            "count": 1
           },
           {
            "name": "3 others",
            "count": 3
           }
          ]
         }
        },
        {
         "name": "pos_tagged_text",
         "dtype": "object",
         "stats": {
          "unique_count": 5,
          "nan_count": 0,
          "categories": [
           {
            "name": "VB-september JJ-new NN-home NN-sale JJ-rise——-back NN-level VB-september JJ-new NN-home NN-sale NN-rise RB-back NN-level NN-david NN-stockman NN-post JJ-wednesday NNP-october NN-david NN-stockman POS-'s JJ-contra NN-corner NN-place JJ-mainstream NN-delusion NN-cant NN-warfare NN-state NN-bailout NN-state JJ-bubble NN-finance NN-beltway NN-banditry VBD-rip NN-refute VBD-rebuked JJ-subscribe NN-receive NN-david NN-stockman NNP-’ NN-s RB-late NN-post NN-email NN-day RB-well RB-model NN-portfolio JJ-lee NN-adler NNP-’ VBD-s JJ-daily NNS-data NN-dive NN-david NNP-’ VBZ-s RB-personally VBN-curated JJ-insight NN-analysis NN-lead JJ-contrarian NN-thinker",
            "count": 1
           },
           {
            "name": "NN-obamacare NN-doomsday NN-cult MD-ca RB-n't VB-admit JJ-wrong JJ-congress NN-debate NN-pass NN-patient NN-protection JJ-affordable NN-care NN-act VBD-opponent RB-nearly JJ-unified NN-offering JJ-grim JJ-keech-like NN-prediction NN-obamacare JJ-full NN-effect NN-economy IN-decide VBG-upswing JJ-dour NN-prognostication VBP-start VBP-look IN-like NN-keech POS-'s JJ-fly NN-saucer JJS-least VBP-believe NNS-data VBP-look NN-festinger POS-'s NN-theory IN-though JJ-explain JJ-matter JJ-american NN-expect VBP-continue NN-drumbeat NN-doom RB-even NNS-prophecies VBP-fail .-. VB-“ PRP-it RB-certainly JJ-baleful NN-effect NN-critic NN-predicting ,-, NNP-” VBP-say JJ-paul NN-van IN-de NN-water JJ-senior NN-fellow NN-center NN-budget NN-policy NN-priority NN-support NN-law RB-never VBP-think MD-would RB-much JJ-economic NN-impact NN-“ IN-on NN-balance MD-may JJ-modest CC-plus JJ-extent NN-contribute NN-slowdown NN-growth NN-health NN-care NN-costs. NN-” CC-but DT-that VBZ-'s JJR-capitol NN-hill NNP-’ NN-s NN-gloomsday NN-cult VBP-see RB-indeed VB-try VB-get JJ-admit JJ-affordable NN-care NN-act NN-job NN-slaughter VBP-happen NN-sound IN-like NN-punchline JJ-old NN-joke NN-spouse VB-get JJ-catch NN-act NN-cheat NN-“ WP-who VBP-go VBP-believe VB-lie NNS-eyes .-? NN-” ''-'' IN-with NN-politician MD-can VB-’ JJ-t JJ-sure VBN-come NN-mouth RB-really WP-what VBD-’ JJ-s NN-head VBP-say NN-elliot NN-aronson CD-one NN-festinger NNP-’ VBZ-s JJ-former NN-student NN-regard NN-foremost JJ-expert JJ-cognitive NN-dissonance JJ-alive NN-today VBP-come NNS-politics RB-really VBP-look RB-closely .-. ''-'' DT-the NN-way JJ-cognitive NN-dissonance NN-work NNS-people VBP-confront NN-information NNS-contradicts CC-either JJ-beliefs NN-action VB-feel NN-discomfort NN-feel RB-well RB-either VB-modify JJ-beliefs NN-action VB-find NN-way NN-discount VBG-disconfirming NN-information NN-effort NN-someone VB-invest JJ-particular NN-action NN-idea JJ-great NN-length VBP-go NN-craft NN-justification NN-ease NN-discomfort .-. JJ-aronson JJ-co-author NN-carol NN-tavris VBP-look RB-closely JJ-phenomenon NN-book NNS-mistake VBP-make IN-among NNS-examples VBP-prosecutor JJ-insist NNS-people JJ-clear JJ-dna NN-evidence RB-still JJ-guilty NN-scientist NN-insist NN-result JJ-agree NNS-funders VBP-’ NN-interest MD-could RB-sway NNS-people IN-like NN-idea JJ-political NN-party NN-dislike NN-idea VBP-tell VBN-come NN-opposition NN-party .-. RB-indeed VBP-commit JJ-specific NN-ideology VBP-make JJ-much JJ-hard NN-see NN-fact RB-clearly VB-let RB-alone VB-acknowledge JJ-aronson NN-note PRP-it VBZ-’ JJ-s RB-especially JJ-hard NNS-people VBP-spend JJ-last CD-five NN-year VBP-oppose JJ-specific NN-policy IN-“ DT-these JJ-guy NN-commit NN-belief NN-obama MD-can VB-’ JJ-t NN-anything JJ-right NN-obamacare NN-socialism MD-would JJ-difficult VB-examine NNS-data RB-objectively VBP-say VBP-think IN-that VBZ-’ VB-s WP-what NNP-’ VBD-s JJ-wrong NNS-politics WDT-that VBP-’ VB-s WP-what NNP-’ NN-s JJ-wrong NN-ideology WDT-that VBZ-’ VB-s WP-what NNP-’ VBD-s JJ-wrong NNS-politics RB-ideologically VBP-driven. JJ-” NNP-“ NN-one MD-could VB-create NN-line JJ-argument NN-economy MD-would RB-much VB-much JJ-strong IN-without NNS-aca RB-really VBP-seem NN-stretch ,-, NNP-” VBP-say NN-van FW-de NN-water NN-economist IN-“ PRP-we JJ-large NN-economy RB-even JJ-important JJ-affordable NN-care NN-act PRP-it VBZ-’ JJ-s NN-work JJ-major NN-sector NN-economy VBD-margin RB-even JJ-advance CD-one MD-would VB-think JJ-wasn NNP-’ NN-t VBP-go JJ-huge NN-effect .-. NN-”",
            "count": 1
           },
           {
            "name": "3 others",
            "count": 3
           }
          ]
         }
        },
        {
         "name": "clean_and_pos_tagged_text",
         "dtype": "object",
         "stats": {
          "unique_count": 5,
          "nan_count": 0,
          "categories": [
           {
            "name": "september new home sale rise——-back level september new home sale rise back level david stockman post wednesday october \n\ndavid stockman's contra corner place mainstream delusion cant warfare state bailout state bubble finance beltway banditry rip refute rebuked subscribe receive david stockman’s late post email day well model portfolio lee adler’s daily data dive david’s personally curated insight analysis lead contrarian thinker NN-smell JJ-hillary NNP-’ NN-s NN-fear JJ-daniel NN-greenfield JJ-shillman NN-journalism NN-fellow NN-freedom VBP-center JJ-new NN-york NN-writer VB-focus JJ-radical JJ-islam JJ-final NN-stretch NN-election JJ-hillary NN-rodham NN-clinton VBP-go NN-war NN-fbi NN-word NNP-“ VBD-unprecedented JJ-” VBN-thrown RB-around RB-often NN-election MD-ought VB-retire PRP-it NNP-’ VBD-s RB-still JJ-unprecedented JJ-nominee JJ-major JJ-political NN-party VBP-go NN-war NN-fbi WDT-that VBZ-’ RB-s RB-exactly JJ-hillary NNS-people VBP-do VB-coma JJ-patient NN-wake VB-watch NN-hour JJ-cnn NN-hospital NN-bed MD-would VB-assume JJ-fbi NN-director NNS-james VBP-comey JJ-hillary NNP-’ NN-s NN-opponent NN-election VBZ-fbi RP-attack NN-everyone NN-obama NN-cnn JJ-hillary NNP-’ NN-s NNS-people VBP-circulate NN-letter NN-attack NN-comey RB-currently RBS-medium VBN-hit NN-piece NN-lambast NN-target NN-trump NN-wouldn NNP-’ NN-t VBG-surprising NN-clinton RB-ally VB-start VB-run RB-attack NN-ad NN-fbi NN-fbi NNP-’ VBZ-s NN-leadership JJ-warn JJ-entire JJ-left-wing NN-establishment NN-form NN-lynch NN-mob NN-continue VBP-go JJ-hillary NN-fbi NNP-’ NN-s NN-credibility NN-attack NN-medium NN-democrat RB-preemptively JJ-head NN-result NN-investigation NN-clinton NN-foundation JJ-hillary NN-clinton JJ-covert NN-struggle NN-fbi NN-agent IN-obama NNP-’ VBD-s JJ-doj NNS-people VBP-go RB-explosively JJ-public JJ-new NN-york NN-time JJ-compare JJ-comey NN-j NN-edgar NN-hoover JJ-bizarre NN-headline NNP-“ VBZ-james JJ-comey NN-role NN-recall NN-hoover NNP-’ NN-s VBD-fbi RB-fairly RB-not VB-” RB-practically VBP-admit JJ-front PRP-it VBZ-’ JJ-s NN-spout JJ-nonsense NN-boston NN-globe JJ-publish NN-column NN-call NN-comey NNP-’ VBZ-s NN-resignation NN-outdone NN-time JJ-editorial NN-claim NN-scandal RB-really JJ-attack NN-woman NNS-james VBP-carville JJ-appear NN-msnbc NN-remind NN-everyone RB-still JJ-alive NN-insane IN-accuse JJ-comey NN-coordinate NN-house VBZ-republicans JJ-kgb VBP-think NNP-“ RB-vast JJ-right VBG-wing NN-conspiracy NNP-” NN-stretch NN-countless NN-medium NN-story NN-charge NN-comey VBG-violating NN-procedure VBP-know WP-what NNP-’ VBD-s JJ-procedural NN-violation NN-email NN-classify NN-information NN-store NN-bathroom NN-server NN-senator NN-harry VBP-reid VB-send JJ-comey NN-letter NN-accuse NN-violate NN-hatch NN-act NN-hatch NN-act JJ-nice NN-idea JJ-much NN-relevance NN-age JJ-obama JJ-tenth NN-amendment NN-cable NN-news NN-spectrum RB-quickly VB-fill JJ-medium NN-hack NN-glance NN-wikipedia NN-article NN-hatch NN-act JJ-table NN-accuse VBD-fbi NN-director CD-one NN-awkward VBZ-conspiracies JJ-hillary RB-ever VBP-jam NNS-comey RB-really VBP-hurt JJ-hillary NN-pick CD-one NN-hell JJ-strange NN-way RB-long RB-ago VB-democrat NN-breathe JJ-sigh NN-relief JJ-give JJ-hillary NN-clinton NN-pas JJ-prominent JJ-public NN-statement RB-really JJ-elect NN-trump VB-keep NN-email NN-scandal VBP-go JJ-trash NN-investigation NN-payroll NN-house VBZ-republicans VBN-kgb RP-back NN-play NN-coy JJ-sudden NN-development NN-vladimir NN-putin NN-paul JJ-ryan NN-talk VB-take NN-look JJ-anthony NN-weiner NNP-’ VBZ-s NN-computer CC-either NN-comey NN-cunning NN-fbi NN-director RB-ever VBP-live PRP-he VBZ-’ RB-s RB-awkwardly VB-try JJ-navigate JJ-political NN-mess NN-trap JJ-doj NN-leadership WP$-whose JJ-political NN-future NN-tie JJ-hillary NNP-’ NN-s NN-victory NN-bureau WP$-whose JJ-apolitical NN-agent VBP-want JJ-allow NN-job RB-truly JJ-mysterious NN-thing JJ-hillary NN-associate NN-decide VBP-go NN-war NN-respect JJ-federal NN-agency JJ-american IN-like JJ-fbi JJ-hillary NN-clinton NN-enjoy JJ-unfavorable NN-rating PRP-it VBZ-’ JJ-s JJ-interesting NN-question JJ-hillary NN-’ NN-s JJ-old NN-strategy VBZ-lie VBP-deny VB-fbi RB-even JJ-criminal NN-investigation RB-underway RB-instead JJ-associate JJ-insist NN-security NN-review NN-fbi JJ-correct JJ-shrug JJ-old NN-breezy JJ-denial NN-approach JJ-give NN-way NN-savage NN-assault JJ-fbi NN-pretend NN-nothing JJ-wrong JJ-bad NN-strategy RB-well CD-one NN-pick NN-fight NN-fbi JJ-lunatic NN-clinton JJ-associate NN-try NN-claim VBP-fbi RB-really VB-kgb CD-two JJ-possible NN-explanation JJ-hillary NN-clinton MD-might VB-arrogant JJ-enough NN-lash NNS-fbi VBP-believe NN-victory IN-near NN-kind JJ-hubris NN-lead NN-plan JJ-victory NN-firework NN-display MD-could VB-lead JJ-declare NN-war NN-fbi VBP-irritate JJ-final NN-mile NN-campaign NN-explanation NNS-people JJ-panic VBP-go NN-war NN-fbi JJ-behavior JJ-smart NN-focus JJ-presidential NN-campaign PRP-it NNP-’ VBZ-s JJ-act NN-desperation JJ-presidential NN-candidate NNS-decides NN-option NN-try NN-destroy NN-credibility VBP-fbi IN-that NNP-’ VBD-s VB-hubris PRP-it NNP-’ VBD-s JJ-fear NN-fbi MD-might VB-reveal JJ-original NN-fbi NN-investigation JJ-hillary NN-clinton NN-confident MD-could VB-ride JJ-good NN-reason VBP-believe JJ-hillary NN-clinton VBP-go NN-place NN-paranoid NN-wreck IN-within JJ-short NN-space NN-time NNP-“ JJ-positive NNP-” NN-clinton NN-campaign VBP-promise JJ-unite NN-country VB-replace JJ-desperate NN-flailing NN-operation NN-focus NN-energy NN-fight NN-fbi RB-there NNP-’ VBD-s CD-one NN-reason JJ-bizarre NN-behavior NN-clinton NN-campaign VBP-decide JJ-fbi NN-investigation RB-late NN-batch NN-email NN-pose NN-threat NN-survival PRP-it VBZ-’ JJ-s VB-go JJ-fight NN-fbi PRP-it VBZ-’ RB-s JJ-unprecedented NN-step IN-bear NN-fear PRP-it VBZ-’ JJ-s RB-hard VBP-know IN-whether NN-fear NN-justify NN-existence NN-fear RB-already VB-tell JJ-u JJ-whole NN-lot NN-clinton VBZ-loyalists VBP-rig JJ-old NN-investigation VBP-know VBN-outcome RB-ahead NN-time RB-well VB-know NN-debate NN-question RB-suddenly RBR-longer NN-control JJ-afraid NN-smell NN-fear NN-fbi NN-wiretap NN-investigation NN-clinton NN-foundation PRP-it VBZ-’ JJ-s VB-find JJ-new NNS-emails NN-time NN-clintonworld NN-panic NN-spinmeister NN-clintonworld NN-claim VBP-email NN-scandal JJ-much NN-smoke IN-without NN-fire IN-that NNP-’ VBD-s NN-appearance NN-impropriety IN-without NN-substance NN-isn NNP-’ NN-t NN-react VBD-smoke PRP-it NNP-’ VBZ-s NN-respond NN-fire NN-misguide NN-assault NN-fbi VBP-tell JJ-u JJ-hillary NN-clinton NN-ally JJ-afraid NN-revelation JJ-big JJ-fundamental NN-illegality VBP-email NN-setup NN-email NN-setup JJ-preemptive NN-cover NN-clinton NN-campaign JJ-panic RB-badly JJ-belief NN-right JJ-wrong WDT-whatever NN-crime JJ-illegal NN-setup NN-mean NN-cover NN-risk VBP-expose NN-clinton NN-weather NN-countless NN-scandal NN-year WDT-whatever JJ-protect NN-time IN-around JJ-big JJ-usual NN-corruption NN-bribery JJ-sexual NN-assault NN-abuse NN-power VBP-follow IN-around IN-throughout NN-year JJ-big NN-damaging NN-allegation RB-already VBN-come NN-don NNP-’ NN-t VBP-want NN-fbi NN-investigator RB-anywhere IN-near NN-campaign NN-comey NN-pure NN-intimidation PRP-it VBZ-’ NN-s RB-also VBP-warn JJ-senior NN-fbi NNS-people NN-value NN-career VBP-warn VB-stay RB-away RB-democrat JJ-close NN-rank IN-around JJ-nominee NN-fbi PRP-it VBZ-’ JJ-s RB-ugly JJ-unprecedented NN-scene MD-may RB-also JJ-last NN-stand JJ-hillary NN-clinton RB-awkwardly JJ-wind NN-way JJ-numerous NN-scandal NN-election NN-cycle PRP-she VBD-’ PRP-s RB-never VBP-show JJ-fear NN-desperation NN-change WDT-whatever JJ-afraid JJ-lie NN-bury NN-email NN-huma IN-abedin VBG-bring IN-like NN-nothing RB-else",
            "count": 1
           },
           {
            "name": "obamacare doomsday cult can't admit wrong congress debate pass patient protection affordable care act opponent nearly unified offering grim keech-like prediction obamacare full effect economy decide upswing dour prognostication start look like keech's fly saucer least believe data look festinger's theory though explain matter american expect continue drumbeat doom even prophecies fail.\n\n“it certainly baleful effect critic predicting,” say paul van de water senior fellow center budget policy priority support law never think would much economic impact “on balance may modest plus extent contribute slowdown growth health care costs.”\n\nbut that's capitol hill’s gloomsday cult see indeed try get admit affordable care act job slaughter happen sound like punchline old joke spouse get catch act cheat “who go believe lie eyes?”\n\n\"with politician can’t sure come mouth really what’s head say elliot aronson one festinger’s former student regard foremost expert cognitive dissonance alive today come politics really look closely.\"\n\nthe way cognitive dissonance work people confront information contradicts either beliefs action feel discomfort feel well either modify beliefs action find way discount disconfirming information effort someone invest particular action idea great length go craft justification ease discomfort.\n\naronson co-author carol tavris look closely phenomenon book mistake make among examples prosecutor insist people clear dna evidence still guilty scientist insist result agree funders’ interest could sway people like idea political party dislike idea tell come opposition party.\n\nindeed commit specific ideology make much hard see fact clearly let alone acknowledge aronson note it’s especially hard people spend last five year oppose specific policy “these guy commit belief obama can’t anything right obamacare socialism would difficult examine data objectively say think that’s what’s wrong politics that’s what’s wrong ideology that’s what’s wrong politics ideologically driven.”\n\n“one could create line argument economy would much much strong without aca really seem stretch,” say van de water economist “we large economy even important affordable care act it’s work major sector economy margin even advance one would think wasn’t go huge effect.” NN-watch JJ-exact NN-moment NN-paul JJ-ryan NN-commit JJ-political NN-suicide NN-trump NN-rally VBP-video NN-google NN-pinterest NN-digg NN-linkedin NN-reddit NN-stumbleupon NN-print JJ-delicious NN-pocket VBD-tumblr CD-two JJ-fundamental NN-truth NN-world NN-paul VBP-ryan RB-desperately VBP-want NN-president NN-paul NN-ryan RB-never NN-president NN-today VBP-prove RB-particularly JJ-staggering NN-example JJ-political NN-cowardice NN-paul JJ-ryan JJ-re-re-re-reversed NN-course NN-announce RB-back NN-trump NN-train NN-aboutface NN-week RB-ago RB-previously NN-declare MD-would VB-support VB-defend NN-trump NN-tape VBP-make JJ-public NN-trump NN-brag NN-assault NN-woman RB-suddenly JJ-ryan VBP-appear JJ-pro-trump NN-rally RB-boldly JJ-declare RB-already JJ-sent NN-vote VBP-make NN-president JJ-united NN-state JJ-surreal NN-moment JJ-figurehead JJ-republican NN-party NN-dose NN-gasoline NN-get NN-stage RB-chilly NN-afternoon NN-wisconsin VBD-light JJ-match NNS-speakerryan VBP-say NN-vote NN-realdonaldtrump NNP-“ VBZ-republicans NN-time JJ-come NN-home NNP-” VBZ-abc NN-news NNS-politics NNS-abcpolitics NNP-november JJ-democratic NN-party NN-couldn NNP-’ NN-t NN-ask RB-well NN-moment NN-film JJ-ryan NNP-’ NN-s NN-chance RB-ever VB-become NN-president VB-go CD-zero JJ-instant NN-wreckage NN-trump VBP-leave IN-behind NN-wake RB-cravenly RB-back NN-campaign NN-recover VBP-ryan NN-’ NNS-s NN-career NNS-manages VBP-limp NN-way JJ-dnc NN-tape NN-lock NN-load NN-use DT-every NN-ad NN-election NN-day VBG-ring NN-endorsement NN-man RB-clearly WP-hat JJ-personal NN-level NNS-speaks RB-volumes JJ-spinelessness JJ-ryan NN-posture NNP-“ VBD-principled RB-” JJ-conservative CD-one JJ-uncomfortable NN-trump NNP-’ VBZ-s JJ-unapologetic NN-bigotry NN-sexism RB-however JJ-push VBP-come NN-shove NN-paul VBP-ryan IN-like JJ-many VBP-colleague VBP-turn JJ-snivel NN-appeaser NN-lofty NN-tak NN-conviction NN-principle NN-house NN-card NN-collapse VBD-slight NN-breeze WP-what VBZ-’ NN-s RB-especially JJ-bizarre RB-close JJ-ryan VBP-come VBP-make JJ-unscathed NN-month NN-speaker NN-house NN-refuse NN-comment NN-trump NN-strategy VBP-seem VBN-keep NN-head NN-pretend NN-trump NN-didn NNP-’ NNS-t VBP-exist NN-hope NN-nobody VB-remember VBN-happened NN-day RB-away NN-election VBD-screw RB-ugly NN-election VBP-do JJ-good PRP-it VBZ-’ JJ-s JJ-expose JJ-utter NN-cowardice JJ-republican NN-feign JJ-moral NN-courage NN-reality NN-television NN-star NNP-spit NN-hijack NN-party VBD-insulted NN-wife NN-get DT-every JJ-last CD-one NN-kneel NN-turn NN-event NN-feature NN-image IN-via NN-twitter",
            "count": 1
           },
           {
            "name": "3 others",
            "count": 3
           }
          ]
         }
        },
        {
         "name": "label",
         "dtype": "object",
         "stats": {
          "unique_count": 2,
          "nan_count": 0,
          "categories": [
           {
            "name": "REAL",
            "count": 3
           },
           {
            "name": "FAKE",
            "count": 2
           }
          ]
         }
        },
        {
         "name": "_deepnote_index_column",
         "dtype": "int64"
        }
       ],
       "rows": [
        {
         "ID": "10498",
         "title": "September New Homes Sales Rise——-Back To 1992 Level!",
         "text": "September New Homes Sales Rise Back To 1992 Level! By David Stockman. Posted On Wednesday, October …",
         "title_and_text": "September New Homes Sales Rise——-Back To 1992 Level! September New Homes Sales Rise Back To 1992 Le…",
         "preprocessed_text": "september new home sale rise——-back level september new home sale rise back level david stockman po…",
         "pos_tagged_text": "VB-september JJ-new NN-home NN-sale JJ-rise——-back NN-level VB-september JJ-new NN-home NN-sale NN-…",
         "clean_and_pos_tagged_text": "september new home sale rise——-back level september new home sale rise back level david stockman po…",
         "label": "FAKE",
         "_deepnote_index_column": 0
        },
        {
         "ID": "2439",
         "title": "Why The Obamacare Doomsday Cult Can't Admit It's Wrong",
         "text": "But when Congress debated and passed the Patient Protection and Affordable Care Act in 2009 and 201…",
         "title_and_text": "Why The Obamacare Doomsday Cult Can't Admit It's Wrong But when Congress debated and passed the Pat…",
         "preprocessed_text": "obamacare doomsday cult can't admit wrong congress debate pass patient protection affordable care a…",
         "pos_tagged_text": "NN-obamacare NN-doomsday NN-cult MD-ca RB-n't VB-admit JJ-wrong JJ-congress NN-debate NN-pass NN-pa…",
         "clean_and_pos_tagged_text": "obamacare doomsday cult can't admit wrong congress debate pass patient protection affordable care a…",
         "label": "FAKE",
         "_deepnote_index_column": 1
        },
        {
         "ID": "864",
         "title": "Sanders, Cruz resist pressure after NY losses, vow to fight to conventions",
         "text": "The Bernie Sanders and Ted Cruz campaigns vowed to fight all the way to their respective party conv…",
         "title_and_text": "Sanders, Cruz resist pressure after NY losses, vow to fight to conventions The Bernie Sanders and T…",
         "preprocessed_text": "sander cruz resist pressure ny loss vow fight convention bernie sander ted cruz campaign vow fight …",
         "pos_tagged_text": "NN-sander NNS-cruz VBP-resist NN-pressure JJ-ny NN-loss NN-vow NN-fight NN-convention NN-bernie NN-…",
         "clean_and_pos_tagged_text": "sander cruz resist pressure ny loss vow fight convention bernie sander ted cruz campaign vow fight …",
         "label": "REAL",
         "_deepnote_index_column": 2
        },
        {
         "ID": "4128",
         "title": "Surviving escaped prisoner likely fatigued and prone to mistakes, police say",
         "text": "Police searching for the second of two escaped prisoners who pulled off an elaborate breakout from …",
         "title_and_text": "Surviving escaped prisoner likely fatigued and prone to mistakes, police say Police searching for t…",
         "preprocessed_text": "survive escape prisoner likely fatigue prone mistake police say police search second two escape pri…",
         "pos_tagged_text": "JJ-survive NN-escape NN-prisoner JJ-likely NN-fatigue NN-prone NN-mistake NNS-police VBP-say NNS-po…",
         "clean_and_pos_tagged_text": "survive escape prisoner likely fatigue prone mistake police say police search second two escape pri…",
         "label": "REAL",
         "_deepnote_index_column": 3
        },
        {
         "ID": "662",
         "title": "Clinton and Sanders neck and neck in California primary",
         "text": "No matter who wins California's 475 delegates on Tuesday, Clinton may have to woo the state's Sande…",
         "title_and_text": "Clinton and Sanders neck and neck in California primary No matter who wins California's 475 delegat…",
         "preprocessed_text": "clinton sander neck neck california primary matter win california's delegate tuesday clinton may wo…",
         "pos_tagged_text": "NN-clinton NN-sander NN-neck NN-neck NN-california JJ-primary NN-matter VBP-win NN-california POS-'…",
         "clean_and_pos_tagged_text": "clinton sander neck neck california primary matter win california's delegate tuesday clinton may wo…",
         "label": "REAL",
         "_deepnote_index_column": 4
        }
       ]
      },
      "text/plain": "      ID                                              title  \\\n0  10498  September New Homes Sales Rise——-Back To 1992 ...   \n1   2439  Why The Obamacare Doomsday Cult Can't Admit It...   \n2    864  Sanders, Cruz resist pressure after NY losses,...   \n3   4128  Surviving escaped prisoner likely fatigued and...   \n4    662  Clinton and Sanders neck and neck in Californi...   \n\n                                                text  \\\n0  September New Homes Sales Rise Back To 1992 Le...   \n1  But when Congress debated and passed the Patie...   \n2  The Bernie Sanders and Ted Cruz campaigns vowe...   \n3  Police searching for the second of two escaped...   \n4  No matter who wins California's 475 delegates ...   \n\n                                      title_and_text  \\\n0  September New Homes Sales Rise——-Back To 1992 ...   \n1  Why The Obamacare Doomsday Cult Can't Admit It...   \n2  Sanders, Cruz resist pressure after NY losses,...   \n3  Surviving escaped prisoner likely fatigued and...   \n4  Clinton and Sanders neck and neck in Californi...   \n\n                                   preprocessed_text  \\\n0  september new home sale rise——-back level sept...   \n1  obamacare doomsday cult can't admit wrong cong...   \n2  sander cruz resist pressure ny loss vow fight ...   \n3  survive escape prisoner likely fatigue prone m...   \n4  clinton sander neck neck california primary ma...   \n\n                                     pos_tagged_text  \\\n0  VB-september JJ-new NN-home NN-sale JJ-rise——-...   \n1  NN-obamacare NN-doomsday NN-cult MD-ca RB-n't ...   \n2  NN-sander NNS-cruz VBP-resist NN-pressure JJ-n...   \n3  JJ-survive NN-escape NN-prisoner JJ-likely NN-...   \n4  NN-clinton NN-sander NN-neck NN-neck NN-califo...   \n\n                           clean_and_pos_tagged_text label  \n0  september new home sale rise——-back level sept...  FAKE  \n1  obamacare doomsday cult can't admit wrong cong...  FAKE  \n2  sander cruz resist pressure ny loss vow fight ...  REAL  \n3  survive escape prisoner likely fatigue prone m...  REAL  \n4  clinton sander neck neck california primary ma...  REAL  ",
      "text/html": "<div>\n<style scoped>\n    .dataframe tbody tr th:only-of-type {\n        vertical-align: middle;\n    }\n\n    .dataframe tbody tr th {\n        vertical-align: top;\n    }\n\n    .dataframe thead th {\n        text-align: right;\n    }\n</style>\n<table border=\"1\" class=\"dataframe\">\n  <thead>\n    <tr style=\"text-align: right;\">\n      <th></th>\n      <th>ID</th>\n      <th>title</th>\n      <th>text</th>\n      <th>title_and_text</th>\n      <th>preprocessed_text</th>\n      <th>pos_tagged_text</th>\n      <th>clean_and_pos_tagged_text</th>\n      <th>label</th>\n    </tr>\n  </thead>\n  <tbody>\n    <tr>\n      <th>0</th>\n      <td>10498</td>\n      <td>September New Homes Sales Rise——-Back To 1992 ...</td>\n      <td>September New Homes Sales Rise Back To 1992 Le...</td>\n      <td>September New Homes Sales Rise——-Back To 1992 ...</td>\n      <td>september new home sale rise——-back level sept...</td>\n      <td>VB-september JJ-new NN-home NN-sale JJ-rise——-...</td>\n      <td>september new home sale rise——-back level sept...</td>\n      <td>FAKE</td>\n    </tr>\n    <tr>\n      <th>1</th>\n      <td>2439</td>\n      <td>Why The Obamacare Doomsday Cult Can't Admit It...</td>\n      <td>But when Congress debated and passed the Patie...</td>\n      <td>Why The Obamacare Doomsday Cult Can't Admit It...</td>\n      <td>obamacare doomsday cult can't admit wrong cong...</td>\n      <td>NN-obamacare NN-doomsday NN-cult MD-ca RB-n't ...</td>\n      <td>obamacare doomsday cult can't admit wrong cong...</td>\n      <td>FAKE</td>\n    </tr>\n    <tr>\n      <th>2</th>\n      <td>864</td>\n      <td>Sanders, Cruz resist pressure after NY losses,...</td>\n      <td>The Bernie Sanders and Ted Cruz campaigns vowe...</td>\n      <td>Sanders, Cruz resist pressure after NY losses,...</td>\n      <td>sander cruz resist pressure ny loss vow fight ...</td>\n      <td>NN-sander NNS-cruz VBP-resist NN-pressure JJ-n...</td>\n      <td>sander cruz resist pressure ny loss vow fight ...</td>\n      <td>REAL</td>\n    </tr>\n    <tr>\n      <th>3</th>\n      <td>4128</td>\n      <td>Surviving escaped prisoner likely fatigued and...</td>\n      <td>Police searching for the second of two escaped...</td>\n      <td>Surviving escaped prisoner likely fatigued and...</td>\n      <td>survive escape prisoner likely fatigue prone m...</td>\n      <td>JJ-survive NN-escape NN-prisoner JJ-likely NN-...</td>\n      <td>survive escape prisoner likely fatigue prone m...</td>\n      <td>REAL</td>\n    </tr>\n    <tr>\n      <th>4</th>\n      <td>662</td>\n      <td>Clinton and Sanders neck and neck in Californi...</td>\n      <td>No matter who wins California's 475 delegates ...</td>\n      <td>Clinton and Sanders neck and neck in Californi...</td>\n      <td>clinton sander neck neck california primary ma...</td>\n      <td>NN-clinton NN-sander NN-neck NN-neck NN-califo...</td>\n      <td>clinton sander neck neck california primary ma...</td>\n      <td>REAL</td>\n    </tr>\n  </tbody>\n</table>\n</div>"
     },
     "metadata": {}
    }
   ]
  },
  {
   "cell_type": "code",
   "metadata": {
    "id": "o0v09zqe3rl2",
    "cell_id": "00138-fc20b813-eddb-4010-b3ca-59574d83f420",
    "deepnote_to_be_reexecuted": false,
    "source_hash": "42330fa1",
    "execution_start": 1643889245682,
    "execution_millis": 2,
    "deepnote_output_heights": [
     1
    ],
    "deepnote_cell_type": "code"
   },
   "source": [
    "predictions.label.describe()"
   ],
   "execution_count": 104,
   "outputs": [
    {
     "output_type": "execute_result",
     "execution_count": 104,
     "data": {
      "text/plain": "count     2321\nunique       2\ntop       REAL\nfreq      1336\nName: label, dtype: object"
     },
     "metadata": {}
    }
   ]
  },
  {
   "cell_type": "code",
   "metadata": {
    "id": "SVAiEJ2b3rl2",
    "cell_id": "00139-189cbaac-933a-4696-9760-23843e52ec92",
    "deepnote_to_be_reexecuted": false,
    "source_hash": "3e536ee0",
    "execution_start": 1643889245696,
    "execution_millis": 225,
    "deepnote_output_heights": [
     280
    ],
    "deepnote_cell_type": "code"
   },
   "source": [
    "import collections\n",
    "ax = sns.countplot(predictions.label,\n",
    "                order=[x for x, count in sorted(collections.Counter(predictions.label).items(),\n",
    "                key=lambda x: -x[1])])\n",
    "\n",
    "\n",
    "for p in ax.patches:\n",
    "    height = p.get_height()\n",
    "    ax.text(p.get_x()+p.get_width()/2.,\n",
    "            height + 3,\n",
    "            '{:1.2f}%'.format(height/len(predictions)*100),\n",
    "            ha=\"center\") \n",
    "ax.set_title('Test dataset target')\n",
    "show()"
   ],
   "execution_count": 105,
   "outputs": [
    {
     "data": {
      "text/plain": "<Figure size 432x288 with 1 Axes>",
      "image/png": "[encoded data removed]"
     },
     "metadata": {
      "needs_background": "light",
      "image/png": {
       "width": 395,
       "height": 278
      }
     },
     "output_type": "display_data"
    }
   ]
  },
  {
   "cell_type": "code",
   "metadata": {
    "id": "iluEmxhh3rl2",
    "cell_id": "00140-f18ec975-3b1a-4fe9-a03f-5ad1f74a2731",
    "deepnote_to_be_reexecuted": false,
    "source_hash": "43ab37a",
    "execution_start": 1643889245932,
    "execution_millis": 35,
    "deepnote_cell_type": "code"
   },
   "source": [
    "predictions.drop(columns=['title','text','title_and_text','preprocessed_text','pos_tagged_text','clean_and_pos_tagged_text']).head()"
   ],
   "execution_count": 106,
   "outputs": [
    {
     "output_type": "execute_result",
     "execution_count": 106,
     "data": {
      "application/vnd.deepnote.dataframe.v3+json": {
       "column_count": 2,
       "row_count": 5,
       "columns": [
        {
         "name": "ID",
         "dtype": "object",
         "stats": {
          "unique_count": 5,
          "nan_count": 0,
          "categories": [
           {
            "name": "10498",
            "count": 1
           },
           {
            "name": "2439",
            "count": 1
           },
           {
            "name": "3 others",
            "count": 3
           }
          ]
         }
        },
        {
         "name": "label",
         "dtype": "object",
         "stats": {
          "unique_count": 2,
          "nan_count": 0,
          "categories": [
           {
            "name": "REAL",
            "count": 3
           },
           {
            "name": "FAKE",
            "count": 2
           }
          ]
         }
        },
        {
         "name": "_deepnote_index_column",
         "dtype": "int64"
        }
       ],
       "rows": [
        {
         "ID": "10498",
         "label": "FAKE",
         "_deepnote_index_column": 0
        },
        {
         "ID": "2439",
         "label": "FAKE",
         "_deepnote_index_column": 1
        },
        {
         "ID": "864",
         "label": "REAL",
         "_deepnote_index_column": 2
        },
        {
         "ID": "4128",
         "label": "REAL",
         "_deepnote_index_column": 3
        },
        {
         "ID": "662",
         "label": "REAL",
         "_deepnote_index_column": 4
        }
       ]
      },
      "text/plain": "      ID label\n0  10498  FAKE\n1   2439  FAKE\n2    864  REAL\n3   4128  REAL\n4    662  REAL",
      "text/html": "<div>\n<style scoped>\n    .dataframe tbody tr th:only-of-type {\n        vertical-align: middle;\n    }\n\n    .dataframe tbody tr th {\n        vertical-align: top;\n    }\n\n    .dataframe thead th {\n        text-align: right;\n    }\n</style>\n<table border=\"1\" class=\"dataframe\">\n  <thead>\n    <tr style=\"text-align: right;\">\n      <th></th>\n      <th>ID</th>\n      <th>label</th>\n    </tr>\n  </thead>\n  <tbody>\n    <tr>\n      <th>0</th>\n      <td>10498</td>\n      <td>FAKE</td>\n    </tr>\n    <tr>\n      <th>1</th>\n      <td>2439</td>\n      <td>FAKE</td>\n    </tr>\n    <tr>\n      <th>2</th>\n      <td>864</td>\n      <td>REAL</td>\n    </tr>\n    <tr>\n      <th>3</th>\n      <td>4128</td>\n      <td>REAL</td>\n    </tr>\n    <tr>\n      <th>4</th>\n      <td>662</td>\n      <td>REAL</td>\n    </tr>\n  </tbody>\n</table>\n</div>"
     },
     "metadata": {}
    }
   ]
  },
  {
   "cell_type": "markdown",
   "source": [
    "<a style='text-decoration:none;line-height:16px;display:flex;color:#5B5B62;padding:10px;justify-content:end;' href='https://deepnote.com?utm_source=created-in-deepnote-cell&projectId=db80ff4b-abff-485f-98d9-6491185a86ac' target=\"_blank\">\n",
    "<img alt='Created in deepnote.com' style='display:inline;max-height:16px;margin:0px;margin-right:7.5px;' src='data:image/svg+xml;base64,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' > </img>\n",
    "Created in <span style='font-weight:600;margin-left:4px;'>Deepnote</span></a>"
   ],
   "metadata": {
    "tags": [],
    "created_in_deepnote_cell": true,
    "deepnote_cell_type": "markdown"
   }
  }
 ],
 "nbformat": 4,
 "nbformat_minor": 0,
 "metadata": {
  "colab": {
   "name": "gcp.dialogflow.chouchanewiem",
   "provenance": [],
   "collapsed_sections": []
  },
  "kernelspec": {
   "display_name": "Python 3",
   "language": "python",
   "name": "python3"
  },
  "language_info": {
   "codemirror_mode": {
    "name": "ipython",
    "version": 3
   },
   "file_extension": ".py",
   "mimetype": "text/x-python",
   "name": "python",
   "nbconvert_exporter": "python",
   "pygments_lexer": "ipython3",
   "version": "3.8.5"
  },
  "deepnote_notebook_id": "841abcac-efa5-4194-a52b-4c7b7296e865",
  "deepnote": {},
  "deepnote_execution_queue": []
 }
}